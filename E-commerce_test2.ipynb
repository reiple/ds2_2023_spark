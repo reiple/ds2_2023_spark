{
 "cells": [
  {
   "cell_type": "markdown",
   "id": "93bc1f75-790d-4212-965b-0f78bb9b01ca",
   "metadata": {},
   "source": [
    "# E-comm Dataset"
   ]
  },
  {
   "cell_type": "code",
   "execution_count": 1,
   "id": "0dd94ac3-4f7c-42c1-b4e7-d8caebbb2e20",
   "metadata": {
    "tags": []
   },
   "outputs": [
    {
     "name": "stdout",
     "output_type": "stream",
     "text": [
      "CPU times: total: 0 ns\n",
      "Wall time: 2 ms\n"
     ]
    }
   ],
   "source": [
    "%%time\n",
    "import findspark\n",
    "findspark.init()"
   ]
  },
  {
   "cell_type": "code",
   "execution_count": 2,
   "id": "f2add707-4097-4f36-83ff-99c8d5cee699",
   "metadata": {
    "tags": []
   },
   "outputs": [
    {
     "name": "stdout",
     "output_type": "stream",
     "text": [
      "CPU times: total: 93.8 ms\n",
      "Wall time: 3.4 s\n"
     ]
    },
    {
     "data": {
      "text/html": [
       "\n",
       "            <div>\n",
       "                <p><b>SparkSession - in-memory</b></p>\n",
       "                \n",
       "        <div>\n",
       "            <p><b>SparkContext</b></p>\n",
       "\n",
       "            <p><a href=\"http://DESKTOP-ONKRPNC:4040\">Spark UI</a></p>\n",
       "\n",
       "            <dl>\n",
       "              <dt>Version</dt>\n",
       "                <dd><code>v3.2.4</code></dd>\n",
       "              <dt>Master</dt>\n",
       "                <dd><code>local[*]</code></dd>\n",
       "              <dt>AppName</dt>\n",
       "                <dd><code>pyspark-shell</code></dd>\n",
       "            </dl>\n",
       "        </div>\n",
       "        \n",
       "            </div>\n",
       "        "
      ],
      "text/plain": [
       "<pyspark.sql.session.SparkSession at 0x1893a334d90>"
      ]
     },
     "execution_count": 2,
     "metadata": {},
     "output_type": "execute_result"
    }
   ],
   "source": [
    "%%time\n",
    "from pyspark.sql import SparkSession\n",
    "from datetime import datetime\n",
    "# user = \"Heekang Park\" # your name\n",
    "# date = datetime.now().strftime(\"%Y-%m-%dT%H:%M:%S\")\n",
    "# spark = SparkSession.builder.master(\"yarn\").appName(f\"{user}-{date}\").getOrCreate()\n",
    "\n",
    "spark = SparkSession.builder.master('local[*]').getOrCreate()\n",
    "spark"
   ]
  },
  {
   "cell_type": "markdown",
   "id": "e3558139-366d-4837-9f38-4ae62e094a14",
   "metadata": {},
   "source": [
    "## Read Dataset"
   ]
  },
  {
   "cell_type": "code",
   "execution_count": 3,
   "id": "ae7ff565-666f-4a56-ac17-8a0ff8b1dbc4",
   "metadata": {
    "tags": []
   },
   "outputs": [
    {
     "name": "stdout",
     "output_type": "stream",
     "text": [
      "(4115346, 9)\n",
      "CPU times: total: 0 ns\n",
      "Wall time: 11.4 s\n"
     ]
    }
   ],
   "source": [
    "%%time\n",
    "df = spark.read.option(\"header\", \"true\") \\\n",
    "                  .option(\"inferSchema\", \"true\") \\\n",
    "                  .csv([\n",
    "                        # \"s3://ssds2-e-comm/2019-Dec.csv.gz\",\n",
    "                        # \"s3://ssds2-e-comm/2019-Nov.csv.gz\",\n",
    "                        # \"s3://ssds2-e-comm/2019-Oct.csv.gz\",\n",
    "                        # \"s3://ssds2-e-comm/2020-Apr.csv.gz\",\n",
    "                        # \"s3://ssds2-e-comm/2020-Feb.csv.gz\",\n",
    "                        # \"s3://ssds2-e-comm/2020-Jan.csv.gz\",\n",
    "                        # \"s3://ssds2-e-comm/2020-Mar.csv.gz\",\n",
    "                        # './data/e-comm-chair.csv.gz'\n",
    "                        './data/e-comm-toys.csv.gz'\n",
    "                    ])\n",
    "\n",
    "print((df.count(), len(df.columns)))"
   ]
  },
  {
   "cell_type": "code",
   "execution_count": 6,
   "id": "747974ed",
   "metadata": {},
   "outputs": [
    {
     "data": {
      "text/plain": [
       "[Row(category_code='kids.toys')]"
      ]
     },
     "execution_count": 6,
     "metadata": {},
     "output_type": "execute_result"
    }
   ],
   "source": [
    "# category_code 확인\n",
    "\n",
    "df.select('category_code').distinct().collect()"
   ]
  },
  {
   "cell_type": "code",
   "execution_count": 4,
   "id": "ad521a16-31b4-4bfa-9846-345b2d8b6d94",
   "metadata": {},
   "outputs": [
    {
     "name": "stdout",
     "output_type": "stream",
     "text": [
      "+-----------+\n",
      "|      brand|\n",
      "+-----------+\n",
      "|       tmnt|\n",
      "|    tuffoni|\n",
      "|    blaster|\n",
      "|    keenway|\n",
      "|     rosato|\n",
      "|       nerf|\n",
      "|   avengers|\n",
      "|     nasbro|\n",
      "|    trikota|\n",
      "|robocarpoli|\n",
      "|     rieker|\n",
      "|   skechers|\n",
      "|         mz|\n",
      "|    sp.lion|\n",
      "|       jana|\n",
      "|      rizmo|\n",
      "| potatohead|\n",
      "|      fleet|\n",
      "|    greyder|\n",
      "| yogasprout|\n",
      "+-----------+\n",
      "only showing top 20 rows\n",
      "\n"
     ]
    }
   ],
   "source": [
    "# brand 확인\n",
    "\n",
    "import pandas as pd\n",
    "\n",
    "df.select('brand').distinct().show()"
   ]
  },
  {
   "cell_type": "code",
   "execution_count": 15,
   "id": "a5c5ac75",
   "metadata": {},
   "outputs": [
    {
     "name": "stdout",
     "output_type": "stream",
     "text": [
      "+----------+\n",
      "|event_type|\n",
      "+----------+\n",
      "|  purchase|\n",
      "|      view|\n",
      "|      cart|\n",
      "+----------+\n",
      "\n"
     ]
    }
   ],
   "source": [
    "# event_type 확인\n",
    "df.select('event_type').distinct().show()"
   ]
  },
  {
   "cell_type": "code",
   "execution_count": 16,
   "id": "c778f9e3",
   "metadata": {},
   "outputs": [
    {
     "name": "stdout",
     "output_type": "stream",
     "text": [
      "+---------+\n",
      "|  user_id|\n",
      "+---------+\n",
      "|517823165|\n",
      "|512552482|\n",
      "|515524175|\n",
      "|527077232|\n",
      "|564368218|\n",
      "|558038401|\n",
      "|512762475|\n",
      "|567202050|\n",
      "|518263163|\n",
      "|563993855|\n",
      "|533338723|\n",
      "|513602662|\n",
      "|567076094|\n",
      "|567475679|\n",
      "|513841404|\n",
      "|556031315|\n",
      "|527055076|\n",
      "|530506848|\n",
      "|518800268|\n",
      "|524481914|\n",
      "+---------+\n",
      "only showing top 20 rows\n",
      "\n"
     ]
    }
   ],
   "source": [
    "# user_id 확인\n",
    "df.select('user_id').distinct().show()"
   ]
  },
  {
   "cell_type": "code",
   "execution_count": 42,
   "id": "0b9e57e2",
   "metadata": {},
   "outputs": [
    {
     "data": {
      "text/html": [
       "<div>\n",
       "<style scoped>\n",
       "    .dataframe tbody tr th:only-of-type {\n",
       "        vertical-align: middle;\n",
       "    }\n",
       "\n",
       "    .dataframe tbody tr th {\n",
       "        vertical-align: top;\n",
       "    }\n",
       "\n",
       "    .dataframe thead th {\n",
       "        text-align: right;\n",
       "    }\n",
       "</style>\n",
       "<table border=\"1\" class=\"dataframe\">\n",
       "  <thead>\n",
       "    <tr style=\"text-align: right;\">\n",
       "      <th></th>\n",
       "      <th>event_type</th>\n",
       "      <th>user_id</th>\n",
       "      <th>brand</th>\n",
       "    </tr>\n",
       "  </thead>\n",
       "  <tbody>\n",
       "    <tr>\n",
       "      <th>2683</th>\n",
       "      <td>purchase</td>\n",
       "      <td>519315823</td>\n",
       "      <td>zlatek</td>\n",
       "    </tr>\n",
       "    <tr>\n",
       "      <th>815</th>\n",
       "      <td>purchase</td>\n",
       "      <td>513217651</td>\n",
       "      <td>zlatek</td>\n",
       "    </tr>\n",
       "    <tr>\n",
       "      <th>3212</th>\n",
       "      <td>purchase</td>\n",
       "      <td>519553346</td>\n",
       "      <td>zlatek</td>\n",
       "    </tr>\n",
       "    <tr>\n",
       "      <th>5997</th>\n",
       "      <td>purchase</td>\n",
       "      <td>585885384</td>\n",
       "      <td>zlatek</td>\n",
       "    </tr>\n",
       "    <tr>\n",
       "      <th>573</th>\n",
       "      <td>purchase</td>\n",
       "      <td>514378046</td>\n",
       "      <td>zlatek</td>\n",
       "    </tr>\n",
       "    <tr>\n",
       "      <th>...</th>\n",
       "      <td>...</td>\n",
       "      <td>...</td>\n",
       "      <td>...</td>\n",
       "    </tr>\n",
       "    <tr>\n",
       "      <th>6070</th>\n",
       "      <td>purchase</td>\n",
       "      <td>518260514</td>\n",
       "      <td>None</td>\n",
       "    </tr>\n",
       "    <tr>\n",
       "      <th>6075</th>\n",
       "      <td>purchase</td>\n",
       "      <td>610205637</td>\n",
       "      <td>None</td>\n",
       "    </tr>\n",
       "    <tr>\n",
       "      <th>6085</th>\n",
       "      <td>purchase</td>\n",
       "      <td>559689903</td>\n",
       "      <td>None</td>\n",
       "    </tr>\n",
       "    <tr>\n",
       "      <th>6088</th>\n",
       "      <td>purchase</td>\n",
       "      <td>531883226</td>\n",
       "      <td>None</td>\n",
       "    </tr>\n",
       "    <tr>\n",
       "      <th>6091</th>\n",
       "      <td>purchase</td>\n",
       "      <td>582047498</td>\n",
       "      <td>None</td>\n",
       "    </tr>\n",
       "  </tbody>\n",
       "</table>\n",
       "<p>6095 rows × 3 columns</p>\n",
       "</div>"
      ],
      "text/plain": [
       "     event_type    user_id   brand\n",
       "2683   purchase  519315823  zlatek\n",
       "815    purchase  513217651  zlatek\n",
       "3212   purchase  519553346  zlatek\n",
       "5997   purchase  585885384  zlatek\n",
       "573    purchase  514378046  zlatek\n",
       "...         ...        ...     ...\n",
       "6070   purchase  518260514    None\n",
       "6075   purchase  610205637    None\n",
       "6085   purchase  559689903    None\n",
       "6088   purchase  531883226    None\n",
       "6091   purchase  582047498    None\n",
       "\n",
       "[6095 rows x 3 columns]"
      ]
     },
     "execution_count": 42,
     "metadata": {},
     "output_type": "execute_result"
    }
   ],
   "source": [
    "# 구매한 사람이 가장 많이 샀던 브랜드\n",
    "\n",
    "df_brand = df.filter(df.event_type == 'purchase')\\\n",
    "    .select('event_type', 'user_id', 'brand')\\\n",
    "    .distinct()\\\n",
    "    .toPandas()\n",
    "\n",
    "df_brand.sort_values(by='brand', ascending=False)"
   ]
  },
  {
   "cell_type": "code",
   "execution_count": null,
   "id": "9c2fd96b",
   "metadata": {},
   "outputs": [],
   "source": [
    "# 가장 많은 돈을 쓴 사람이 가장 선호하는 브랜드\n"
   ]
  },
  {
   "cell_type": "code",
   "execution_count": null,
   "id": "37c35149",
   "metadata": {},
   "outputs": [],
   "source": [
    "# 장바구니에 담았다가 구매하는 사람들이 가장 선호하는 브랜드\n"
   ]
  },
  {
   "cell_type": "code",
   "execution_count": null,
   "id": "cde5bf93",
   "metadata": {},
   "outputs": [],
   "source": []
  },
  {
   "cell_type": "markdown",
   "id": "e62a532d-f596-4c57-87b4-03812e12617a",
   "metadata": {},
   "source": [
    "## Preprocess and Summarize Data"
   ]
  },
  {
   "cell_type": "code",
   "execution_count": 5,
   "id": "05ac15ff-7eeb-4506-a586-14ec06ab2398",
   "metadata": {
    "tags": []
   },
   "outputs": [],
   "source": [
    "# %%time\n",
    "# # df_smartphone = df.filter(df.category_code == 'electronics.smartphone')\n",
    "# df_smartphone = df.filter(df.category_code == 'kids.toys')\n",
    "# df_smartphone.summary().show()\n",
    "\n",
    "df_smartphone = df"
   ]
  },
  {
   "cell_type": "code",
   "execution_count": 6,
   "id": "7539f2a5-9320-4547-983a-99a6a06c807f",
   "metadata": {
    "tags": []
   },
   "outputs": [
    {
     "name": "stdout",
     "output_type": "stream",
     "text": [
      "IntegerType\n",
      "LongType\n",
      "IntegerType\n",
      "+--------------------+----------+----------+-------------------+-------------+-----------+------+---------+--------------------+\n",
      "|          event_time|event_type|product_id|        category_id|category_code|      brand| price|  user_id|        user_session|\n",
      "+--------------------+----------+----------+-------------------+-------------+-----------+------+---------+--------------------+\n",
      "|2019-11-01 00:02:...|      view| 009002778|2053013553140465927|    kids.toys|     disney| 10.35|566281096|b9b7e3e3-17f9-487...|\n",
      "|2019-11-01 00:02:...|      view| 009002778|2053013553140465927|    kids.toys|     disney| 10.35|566281096|b9b7e3e3-17f9-487...|\n",
      "|2019-11-01 00:02:...|      view| 009002778|2053013553140465927|    kids.toys|     disney| 10.35|566281096|b9b7e3e3-17f9-487...|\n",
      "|2019-11-01 00:09:...|      view| 009002778|2053013553140465927|    kids.toys|     disney| 10.35|544828616|73e4e5d7-dc72-4ad...|\n",
      "|2019-11-01 00:10:...|      view| 009002778|2053013553140465927|    kids.toys|     disney| 10.35|544828616|dd25afb4-74d7-487...|\n",
      "|2019-11-01 00:17:...|      view| 009002778|2053013553140465927|    kids.toys|     disney| 10.35|566282734|93ea93b4-372b-452...|\n",
      "|2019-11-01 00:29:...|      view| 009002778|2053013553140465927|    kids.toys|     disney| 10.35|562108724|00a8314b-e294-4be...|\n",
      "|2019-11-01 00:31:...|      view| 009002778|2053013553140465927|    kids.toys|     disney| 10.35|548325466|b1def33f-376b-42e...|\n",
      "|2019-11-01 00:32:...|      view| 009002778|2053013553140465927|    kids.toys|     disney| 10.35|532535634|3f84aeae-899d-492...|\n",
      "|2019-11-01 00:32:...|      view| 010400765|2053013553257906447|    kids.toys|doubleeagle| 64.33|516431680|df074981-e046-49b...|\n",
      "|2019-11-01 00:32:...|      view| 009002145|2053013553140465927|    kids.toys|       null| 19.82|532535634|3f84aeae-899d-492...|\n",
      "|2019-11-01 00:32:...|      view| 009002145|2053013553140465927|    kids.toys|       null| 19.82|532535634|3f84aeae-899d-492...|\n",
      "|2019-11-01 00:32:...|      view| 009002778|2053013553140465927|    kids.toys|     disney| 10.35|532535634|3f84aeae-899d-492...|\n",
      "|2019-11-01 00:33:...|      view| 010400110|2053013553257906447|    kids.toys|       null|215.19|516431680|df074981-e046-49b...|\n",
      "|2019-11-01 00:36:...|      view| 010400597|2053013553257906447|    kids.toys|     rastar|  53.8|546092408|ebd215d9-5a2c-4f4...|\n",
      "|2019-11-01 00:37:...|      view| 010400597|2053013553257906447|    kids.toys|     rastar|  53.8|546092408|ebd215d9-5a2c-4f4...|\n",
      "|2019-11-01 00:42:...|      view| 009002778|2053013553140465927|    kids.toys|     disney| 10.35|538977998|ca727800-37e8-4f8...|\n",
      "|2019-11-01 00:47:...|      view| 009002778|2053013553140465927|    kids.toys|     disney| 10.35|566286077|cea96658-4d45-4d2...|\n",
      "|2019-11-01 00:50:...|      view| 010400600|2053013553257906447|    kids.toys|     rastar| 66.64|520553311|ab791028-1798-468...|\n",
      "|2019-11-01 00:50:...|      view| 010400424|2053013553257906447|    kids.toys|         hb| 23.14|520553311|ab791028-1798-468...|\n",
      "+--------------------+----------+----------+-------------------+-------------+-----------+------+---------+--------------------+\n",
      "only showing top 20 rows\n",
      "\n",
      "CPU times: total: 31.2 ms\n",
      "Wall time: 27.3 s\n"
     ]
    }
   ],
   "source": [
    "%%time\n",
    "from pyspark.sql.functions import length, col, max, lpad\n",
    "\n",
    "print(df_smartphone.schema[\"product_id\"].dataType)\n",
    "print(df_smartphone.schema[\"category_id\"].dataType)\n",
    "print(df_smartphone.schema[\"user_id\"].dataType)\n",
    "\n",
    "df_smartphone = df_smartphone.withColumn(\"product_id\", df_smartphone.product_id.cast('string'))\n",
    "df_smartphone = df_smartphone.withColumn(\"category_id\", df_smartphone.category_id.cast('string'))\n",
    "df_smartphone = df_smartphone.withColumn(\"user_id\", df_smartphone.user_id.cast('string'))\n",
    "\n",
    "max_id_len = df_smartphone.withColumn(\"product_id_len\", length(col(\"product_id\")))\\\n",
    "                          .withColumn(\"category_id_len\",length(col(\"category_id\")))\\\n",
    "                          .withColumn(\"user_id_len\",length(col(\"user_id\")))\\\n",
    "                          .groupBy().agg(max(\"product_id_len\"), max(\"category_id_len\"), max(\"user_id_len\")).collect()\n",
    "\n",
    "len_pid, len_cid, len_uid = max_id_len[0]\n",
    "\n",
    "df_smartphone = df_smartphone.withColumn(\"product_id\", lpad(df_smartphone.product_id, len_pid, '0'))\\\n",
    "                             .withColumn(\"category_id\", lpad(df_smartphone.category_id, len_cid, '0'))\\\n",
    "                             .withColumn(\"user_id\", lpad(df_smartphone.user_id, len_uid, '0'))\n",
    "\n",
    "df_smartphone = df_smartphone.cache()\n",
    "df_smartphone.show()"
   ]
  },
  {
   "cell_type": "code",
   "execution_count": 7,
   "id": "326b17e7-f595-4964-85d0-50d7c252b003",
   "metadata": {
    "tags": []
   },
   "outputs": [
    {
     "name": "stdout",
     "output_type": "stream",
     "text": [
      "+----------+----------+----------+-----------+-------------+------+-----+-------+------------+\n",
      "|event_time|event_type|product_id|category_id|category_code| brand|price|user_id|user_session|\n",
      "+----------+----------+----------+-----------+-------------+------+-----+-------+------------+\n",
      "|         0|         0|         0|          0|            0|910788|    0|      0|           2|\n",
      "+----------+----------+----------+-----------+-------------+------+-----+-------+------------+\n",
      "\n",
      "CPU times: total: 0 ns\n",
      "Wall time: 995 ms\n"
     ]
    }
   ],
   "source": [
    "%%time\n",
    "from pyspark.sql.functions import col, when, count\n",
    "\n",
    "df_smartphone.select(*(count(when(col(c).isNull(), c)).alias(c) for c in df_smartphone.columns)).show()"
   ]
  },
  {
   "cell_type": "markdown",
   "id": "2009a350",
   "metadata": {},
   "source": [
    "# Null이 있는 것들 개수\n",
    "  * brand 컬럼에 910788개는 null이거나 값이 없다.\n",
    "  * 나머지 컬럼들은 모두 값이 있다.\n",
    "  * 컬럼명\n",
    "    * event_time\n",
    "    * event_type\n",
    "    * product_id\n",
    "    * category_id\n",
    "    * category_code\n",
    "    * brand\n",
    "    * price\n",
    "    * user_id\n",
    "    * user_session"
   ]
  },
  {
   "cell_type": "code",
   "execution_count": 8,
   "id": "c45bd262-8f82-4fd4-8cf9-2e63a9f82297",
   "metadata": {
    "tags": []
   },
   "outputs": [
    {
     "name": "stdout",
     "output_type": "stream",
     "text": [
      "(3204556, 9)\n",
      "CPU times: total: 0 ns\n",
      "Wall time: 832 ms\n"
     ]
    }
   ],
   "source": [
    "%%time\n",
    "df_smartphone = df_smartphone.na.drop()\n",
    "print((df_smartphone.count(), len(df_smartphone.columns)))"
   ]
  },
  {
   "cell_type": "markdown",
   "id": "d12ca245",
   "metadata": {},
   "source": [
    "# Null이 있는 row 제거\n",
    "  * Null 있는 것들을 drop\n",
    "  * 총 row 개수: 320,4556\n",
    "  * 컬럼 개수: 9개"
   ]
  },
  {
   "cell_type": "code",
   "execution_count": 11,
   "id": "dc78b912-ff3d-4d93-b9a2-4e4c11f0d399",
   "metadata": {
    "tags": []
   },
   "outputs": [
    {
     "name": "stdout",
     "output_type": "stream",
     "text": [
      "CPU times: total: 0 ns\n",
      "Wall time: 1.26 s\n"
     ]
    },
    {
     "data": {
      "text/plain": [
       "[Row(brand='lucente', pid_count=476570),\n",
       " Row(brand='epson', pid_count=188481),\n",
       " Row(brand='rastar', pid_count=160769),\n",
       " Row(brand='defacto', pid_count=159761),\n",
       " Row(brand='hp', pid_count=139399),\n",
       " Row(brand='escan', pid_count=108290),\n",
       " Row(brand='hasbro', pid_count=104872),\n",
       " Row(brand='hb', pid_count=91190),\n",
       " Row(brand='respect', pid_count=87088),\n",
       " Row(brand='canon', pid_count=84379)]"
      ]
     },
     "execution_count": 11,
     "metadata": {},
     "output_type": "execute_result"
    }
   ],
   "source": [
    "%%time\n",
    "item_by_brand = df_smartphone.groupby(\"brand\").agg(count(\"product_id\").alias('pid_count'))\n",
    "item_by_brand = item_by_brand.sort(item_by_brand.pid_count.desc())\n",
    "item_by_brand.head(10)"
   ]
  },
  {
   "cell_type": "markdown",
   "id": "f6cc5e45",
   "metadata": {},
   "source": [
    "# 브랜드별 Product ID 개수\n",
    "  * [Row(brand='lucente', pid_count=476570)\n",
    "  * Row(brand='epson', pid_count=188481)\n",
    "  * Row(brand='rastar', pid_count=160769)\n",
    "  * Row(brand='defacto', pid_count=159761)\n",
    "  * Row(brand='hp', pid_count=139399)\n",
    "  * Row(brand='escan', pid_count=108290)\n",
    "  * Row(brand='hasbro', pid_count=104872)\n",
    "  * Row(brand='hb', pid_count=91190)\n",
    "  * Row(brand='respect', pid_count=87088)\n",
    "  * Row(brand='canon', pid_count=84379)]"
   ]
  },
  {
   "cell_type": "code",
   "execution_count": 12,
   "id": "fd99ee3f-1537-4716-a1c7-13128889a2e1",
   "metadata": {
    "tags": []
   },
   "outputs": [
    {
     "name": "stdout",
     "output_type": "stream",
     "text": [
      "+-----------------------+\n",
      "|count(DISTINCT user_id)|\n",
      "+-----------------------+\n",
      "|                 771491|\n",
      "+-----------------------+\n",
      "\n",
      "+----------------------------+\n",
      "|count(DISTINCT user_session)|\n",
      "+----------------------------+\n",
      "|                     1252248|\n",
      "+----------------------------+\n",
      "\n",
      "CPU times: total: 0 ns\n",
      "Wall time: 6.5 s\n"
     ]
    }
   ],
   "source": [
    "%%time\n",
    "from pyspark.sql.functions import countDistinct\n",
    "\n",
    "df_smartphone.select(countDistinct(\"user_id\")).show()\n",
    "df_smartphone.select(countDistinct(\"user_session\")).show()"
   ]
  },
  {
   "cell_type": "markdown",
   "id": "435f267b",
   "metadata": {},
   "source": [
    "# 사용자 수\n",
    "  * 771491\n",
    "\n",
    "# 사용자 세션 수\n",
    "  * 1252248\n",
    "  * 한 명의 사용자가 여러 세션을 만들었음을 의미함"
   ]
  },
  {
   "cell_type": "code",
   "execution_count": 18,
   "id": "b5867d28-c349-4a52-a19d-f1b79d4373e6",
   "metadata": {
    "tags": []
   },
   "outputs": [
    {
     "name": "stdout",
     "output_type": "stream",
     "text": [
      "CPU times: total: 0 ns\n",
      "Wall time: 67 ms\n"
     ]
    },
    {
     "data": {
      "text/html": [
       "<div>\n",
       "<style scoped>\n",
       "    .dataframe tbody tr th:only-of-type {\n",
       "        vertical-align: middle;\n",
       "    }\n",
       "\n",
       "    .dataframe tbody tr th {\n",
       "        vertical-align: top;\n",
       "    }\n",
       "\n",
       "    .dataframe thead th {\n",
       "        text-align: right;\n",
       "    }\n",
       "</style>\n",
       "<table border=\"1\" class=\"dataframe\">\n",
       "  <thead>\n",
       "    <tr style=\"text-align: right;\">\n",
       "      <th></th>\n",
       "      <th>event_time</th>\n",
       "      <th>event_type</th>\n",
       "      <th>product_id</th>\n",
       "      <th>category_id</th>\n",
       "      <th>category_code</th>\n",
       "      <th>brand</th>\n",
       "      <th>price</th>\n",
       "      <th>user_id</th>\n",
       "      <th>user_session</th>\n",
       "      <th>dt</th>\n",
       "      <th>date</th>\n",
       "      <th>time</th>\n",
       "    </tr>\n",
       "  </thead>\n",
       "  <tbody>\n",
       "    <tr>\n",
       "      <th>0</th>\n",
       "      <td>2019-11-01 00:02:08 UTC</td>\n",
       "      <td>view</td>\n",
       "      <td>009002778</td>\n",
       "      <td>2053013553140465927</td>\n",
       "      <td>kids.toys</td>\n",
       "      <td>disney</td>\n",
       "      <td>10.35</td>\n",
       "      <td>566281096</td>\n",
       "      <td>b9b7e3e3-17f9-4877-a0f5-70719d1fffaf</td>\n",
       "      <td>2019-11-01 09:02:08</td>\n",
       "      <td>2019-11-01</td>\n",
       "      <td>09:02:08</td>\n",
       "    </tr>\n",
       "  </tbody>\n",
       "</table>\n",
       "</div>"
      ],
      "text/plain": [
       "                event_time event_type product_id          category_id  \\\n",
       "0  2019-11-01 00:02:08 UTC       view  009002778  2053013553140465927   \n",
       "\n",
       "  category_code   brand  price    user_id  \\\n",
       "0     kids.toys  disney  10.35  566281096   \n",
       "\n",
       "                           user_session                   dt        date  \\\n",
       "0  b9b7e3e3-17f9-4877-a0f5-70719d1fffaf  2019-11-01 09:02:08  2019-11-01   \n",
       "\n",
       "       time  \n",
       "0  09:02:08  "
      ]
     },
     "execution_count": 18,
     "metadata": {},
     "output_type": "execute_result"
    }
   ],
   "source": [
    "%%time\n",
    "from pyspark.sql.functions import to_timestamp, date_format\n",
    "\n",
    "df_smartphone = df_smartphone.withColumn(\"dt\", to_timestamp(col(\"event_time\"),\"yyyy-MM-dd HH:mm:ss z\"))\n",
    "df_smartphone = df_smartphone.withColumn(\"date\", date_format('dt', 'yyyy-MM-dd'))\n",
    "df_smartphone = df_smartphone.withColumn(\"time\", date_format('dt', 'HH:mm:ss'))\n",
    "\n",
    "# df_smartphone.head()\n",
    "temp = pd.DataFrame(df_smartphone.head())\n",
    "temp = temp.T\n",
    "temp.columns = df_smartphone.columns\n",
    "temp"
   ]
  },
  {
   "cell_type": "code",
   "execution_count": 22,
   "id": "329b771c-96fd-469c-945f-4b31525e63c3",
   "metadata": {
    "tags": []
   },
   "outputs": [
    {
     "name": "stdout",
     "output_type": "stream",
     "text": [
      "CPU times: total: 0 ns\n",
      "Wall time: 60.1 ms\n"
     ]
    },
    {
     "data": {
      "text/html": [
       "<div>\n",
       "<style scoped>\n",
       "    .dataframe tbody tr th:only-of-type {\n",
       "        vertical-align: middle;\n",
       "    }\n",
       "\n",
       "    .dataframe tbody tr th {\n",
       "        vertical-align: top;\n",
       "    }\n",
       "\n",
       "    .dataframe thead th {\n",
       "        text-align: right;\n",
       "    }\n",
       "</style>\n",
       "<table border=\"1\" class=\"dataframe\">\n",
       "  <thead>\n",
       "    <tr style=\"text-align: right;\">\n",
       "      <th></th>\n",
       "      <th>event_time</th>\n",
       "      <th>event_type</th>\n",
       "      <th>product_id</th>\n",
       "      <th>category_id</th>\n",
       "      <th>category_code</th>\n",
       "      <th>brand</th>\n",
       "      <th>price</th>\n",
       "      <th>user_id</th>\n",
       "      <th>user_session</th>\n",
       "      <th>dt</th>\n",
       "      <th>date</th>\n",
       "      <th>time</th>\n",
       "      <th>weekday</th>\n",
       "    </tr>\n",
       "  </thead>\n",
       "  <tbody>\n",
       "    <tr>\n",
       "      <th>0</th>\n",
       "      <td>2019-11-01 00:02:08 UTC</td>\n",
       "      <td>view</td>\n",
       "      <td>009002778</td>\n",
       "      <td>2053013553140465927</td>\n",
       "      <td>kids.toys</td>\n",
       "      <td>disney</td>\n",
       "      <td>10.35</td>\n",
       "      <td>566281096</td>\n",
       "      <td>b9b7e3e3-17f9-4877-a0f5-70719d1fffaf</td>\n",
       "      <td>2019-11-01 09:02:08</td>\n",
       "      <td>2019-11-01</td>\n",
       "      <td>09:02:08</td>\n",
       "      <td>6</td>\n",
       "    </tr>\n",
       "  </tbody>\n",
       "</table>\n",
       "</div>"
      ],
      "text/plain": [
       "                event_time event_type product_id          category_id  \\\n",
       "0  2019-11-01 00:02:08 UTC       view  009002778  2053013553140465927   \n",
       "\n",
       "  category_code   brand  price    user_id  \\\n",
       "0     kids.toys  disney  10.35  566281096   \n",
       "\n",
       "                           user_session                   dt        date  \\\n",
       "0  b9b7e3e3-17f9-4877-a0f5-70719d1fffaf  2019-11-01 09:02:08  2019-11-01   \n",
       "\n",
       "       time weekday  \n",
       "0  09:02:08       6  "
      ]
     },
     "execution_count": 22,
     "metadata": {},
     "output_type": "execute_result"
    }
   ],
   "source": [
    "%%time\n",
    "from pyspark.sql.functions import dayofweek\n",
    "\n",
    "# 요일 추가\n",
    "# 0: 일요일, 1: 월요일, 2: 화요일, 3: 수요일, 4: 목요일, 5: 금요일: 6: 토요일\n",
    "df_smartphone = df_smartphone.withColumn(\"weekday\", dayofweek('dt'))\n",
    "# df_smartphone.head()\n",
    "temp = pd.DataFrame(df_smartphone.head()).T\n",
    "temp.columns = df_smartphone.columns\n",
    "temp"
   ]
  },
  {
   "cell_type": "code",
   "execution_count": 28,
   "id": "37d9093c-35fa-410d-9957-17022e4bb510",
   "metadata": {
    "tags": []
   },
   "outputs": [
    {
     "name": "stdout",
     "output_type": "stream",
     "text": [
      "CPU times: total: 0 ns\n",
      "Wall time: 565 ms\n"
     ]
    },
    {
     "data": {
      "text/html": [
       "<div>\n",
       "<style scoped>\n",
       "    .dataframe tbody tr th:only-of-type {\n",
       "        vertical-align: middle;\n",
       "    }\n",
       "\n",
       "    .dataframe tbody tr th {\n",
       "        vertical-align: top;\n",
       "    }\n",
       "\n",
       "    .dataframe thead th {\n",
       "        text-align: right;\n",
       "    }\n",
       "</style>\n",
       "<table border=\"1\" class=\"dataframe\">\n",
       "  <thead>\n",
       "    <tr style=\"text-align: right;\">\n",
       "      <th></th>\n",
       "      <th>event_time</th>\n",
       "      <th>event_type</th>\n",
       "      <th>product_id</th>\n",
       "      <th>category_id</th>\n",
       "      <th>category_code</th>\n",
       "      <th>brand</th>\n",
       "      <th>price</th>\n",
       "      <th>user_id</th>\n",
       "      <th>user_session</th>\n",
       "      <th>dt</th>\n",
       "      <th>date</th>\n",
       "      <th>time</th>\n",
       "      <th>weekday</th>\n",
       "      <th>hour</th>\n",
       "      <th>time_session</th>\n",
       "    </tr>\n",
       "  </thead>\n",
       "  <tbody>\n",
       "    <tr>\n",
       "      <th>0</th>\n",
       "      <td>2019-11-01 00:02:08 UTC</td>\n",
       "      <td>view</td>\n",
       "      <td>009002778</td>\n",
       "      <td>2053013553140465927</td>\n",
       "      <td>kids.toys</td>\n",
       "      <td>disney</td>\n",
       "      <td>10.35</td>\n",
       "      <td>566281096</td>\n",
       "      <td>b9b7e3e3-17f9-4877-a0f5-70719d1fffaf</td>\n",
       "      <td>2019-11-01 09:02:08</td>\n",
       "      <td>2019-11-01</td>\n",
       "      <td>09:02:08</td>\n",
       "      <td>6</td>\n",
       "      <td>9</td>\n",
       "      <td>9-12</td>\n",
       "    </tr>\n",
       "    <tr>\n",
       "      <th>1</th>\n",
       "      <td>2019-11-01 00:02:14 UTC</td>\n",
       "      <td>view</td>\n",
       "      <td>009002778</td>\n",
       "      <td>2053013553140465927</td>\n",
       "      <td>kids.toys</td>\n",
       "      <td>disney</td>\n",
       "      <td>10.35</td>\n",
       "      <td>566281096</td>\n",
       "      <td>b9b7e3e3-17f9-4877-a0f5-70719d1fffaf</td>\n",
       "      <td>2019-11-01 09:02:14</td>\n",
       "      <td>2019-11-01</td>\n",
       "      <td>09:02:14</td>\n",
       "      <td>6</td>\n",
       "      <td>9</td>\n",
       "      <td>9-12</td>\n",
       "    </tr>\n",
       "    <tr>\n",
       "      <th>2</th>\n",
       "      <td>2019-11-01 00:02:21 UTC</td>\n",
       "      <td>view</td>\n",
       "      <td>009002778</td>\n",
       "      <td>2053013553140465927</td>\n",
       "      <td>kids.toys</td>\n",
       "      <td>disney</td>\n",
       "      <td>10.35</td>\n",
       "      <td>566281096</td>\n",
       "      <td>b9b7e3e3-17f9-4877-a0f5-70719d1fffaf</td>\n",
       "      <td>2019-11-01 09:02:21</td>\n",
       "      <td>2019-11-01</td>\n",
       "      <td>09:02:21</td>\n",
       "      <td>6</td>\n",
       "      <td>9</td>\n",
       "      <td>9-12</td>\n",
       "    </tr>\n",
       "    <tr>\n",
       "      <th>3</th>\n",
       "      <td>2019-11-01 00:09:13 UTC</td>\n",
       "      <td>view</td>\n",
       "      <td>009002778</td>\n",
       "      <td>2053013553140465927</td>\n",
       "      <td>kids.toys</td>\n",
       "      <td>disney</td>\n",
       "      <td>10.35</td>\n",
       "      <td>544828616</td>\n",
       "      <td>73e4e5d7-dc72-4ad8-bbf7-95096ebce171</td>\n",
       "      <td>2019-11-01 09:09:13</td>\n",
       "      <td>2019-11-01</td>\n",
       "      <td>09:09:13</td>\n",
       "      <td>6</td>\n",
       "      <td>9</td>\n",
       "      <td>9-12</td>\n",
       "    </tr>\n",
       "    <tr>\n",
       "      <th>4</th>\n",
       "      <td>2019-11-01 00:10:10 UTC</td>\n",
       "      <td>view</td>\n",
       "      <td>009002778</td>\n",
       "      <td>2053013553140465927</td>\n",
       "      <td>kids.toys</td>\n",
       "      <td>disney</td>\n",
       "      <td>10.35</td>\n",
       "      <td>544828616</td>\n",
       "      <td>dd25afb4-74d7-4878-80e8-85acb59b5a74</td>\n",
       "      <td>2019-11-01 09:10:10</td>\n",
       "      <td>2019-11-01</td>\n",
       "      <td>09:10:10</td>\n",
       "      <td>6</td>\n",
       "      <td>9</td>\n",
       "      <td>9-12</td>\n",
       "    </tr>\n",
       "  </tbody>\n",
       "</table>\n",
       "</div>"
      ],
      "text/plain": [
       "                event_time event_type product_id          category_id  \\\n",
       "0  2019-11-01 00:02:08 UTC       view  009002778  2053013553140465927   \n",
       "1  2019-11-01 00:02:14 UTC       view  009002778  2053013553140465927   \n",
       "2  2019-11-01 00:02:21 UTC       view  009002778  2053013553140465927   \n",
       "3  2019-11-01 00:09:13 UTC       view  009002778  2053013553140465927   \n",
       "4  2019-11-01 00:10:10 UTC       view  009002778  2053013553140465927   \n",
       "\n",
       "  category_code   brand  price    user_id  \\\n",
       "0     kids.toys  disney  10.35  566281096   \n",
       "1     kids.toys  disney  10.35  566281096   \n",
       "2     kids.toys  disney  10.35  566281096   \n",
       "3     kids.toys  disney  10.35  544828616   \n",
       "4     kids.toys  disney  10.35  544828616   \n",
       "\n",
       "                           user_session                  dt        date  \\\n",
       "0  b9b7e3e3-17f9-4877-a0f5-70719d1fffaf 2019-11-01 09:02:08  2019-11-01   \n",
       "1  b9b7e3e3-17f9-4877-a0f5-70719d1fffaf 2019-11-01 09:02:14  2019-11-01   \n",
       "2  b9b7e3e3-17f9-4877-a0f5-70719d1fffaf 2019-11-01 09:02:21  2019-11-01   \n",
       "3  73e4e5d7-dc72-4ad8-bbf7-95096ebce171 2019-11-01 09:09:13  2019-11-01   \n",
       "4  dd25afb4-74d7-4878-80e8-85acb59b5a74 2019-11-01 09:10:10  2019-11-01   \n",
       "\n",
       "       time  weekday  hour time_session  \n",
       "0  09:02:08        6     9         9-12  \n",
       "1  09:02:14        6     9         9-12  \n",
       "2  09:02:21        6     9         9-12  \n",
       "3  09:09:13        6     9         9-12  \n",
       "4  09:10:10        6     9         9-12  "
      ]
     },
     "execution_count": 28,
     "metadata": {},
     "output_type": "execute_result"
    }
   ],
   "source": [
    "%%time\n",
    "from pyspark.sql.functions import udf\n",
    "\n",
    "# 시간대 추가: time_session\n",
    "# 3시간 단위로 시간대를 만들고, 어느 시간대인지 분류\n",
    "def time_cut(h):\n",
    "    session_labels = ['0-3', '3-6', '6-9', '9-12', '12-15', '15-18', '18-21', '21-24']\n",
    "    return session_labels[h // 3]\n",
    "\n",
    "time_cut_udf = udf(time_cut)\n",
    "\n",
    "df_smartphone = df_smartphone.withColumn(\"hour\", date_format('dt', 'H').cast('int'))\n",
    "df_smartphone = df_smartphone.withColumn(\"time_session\", time_cut_udf(col(\"hour\")).cast('string'))\n",
    "temp = pd.DataFrame(df_smartphone.head(5))\n",
    "temp.columns = df_smartphone.columns\n",
    "temp"
   ]
  },
  {
   "cell_type": "markdown",
   "id": "68d1cd6e-092a-4bb0-a842-1496ea1c0204",
   "metadata": {},
   "source": [
    "## Data Mining"
   ]
  },
  {
   "cell_type": "markdown",
   "id": "2c674953-05bd-4eef-bef8-ccbabf2f9ef0",
   "metadata": {},
   "source": [
    "1. Time distribution analysis\n",
    "\n",
    "Daily distribution of number of events, by hour"
   ]
  },
  {
   "cell_type": "code",
   "execution_count": 30,
   "id": "00b0a8c6-c013-4f8f-9869-fe3fcda607b2",
   "metadata": {
    "tags": []
   },
   "outputs": [
    {
     "name": "stdout",
     "output_type": "stream",
     "text": [
      "CPU times: total: 0 ns\n",
      "Wall time: 5.54 s\n"
     ]
    },
    {
     "data": {
      "text/html": [
       "<div>\n",
       "<style scoped>\n",
       "    .dataframe tbody tr th:only-of-type {\n",
       "        vertical-align: middle;\n",
       "    }\n",
       "\n",
       "    .dataframe tbody tr th {\n",
       "        vertical-align: top;\n",
       "    }\n",
       "\n",
       "    .dataframe thead th {\n",
       "        text-align: right;\n",
       "    }\n",
       "</style>\n",
       "<table border=\"1\" class=\"dataframe\">\n",
       "  <thead>\n",
       "    <tr style=\"text-align: right;\">\n",
       "      <th></th>\n",
       "      <th>hour</th>\n",
       "      <th>view</th>\n",
       "      <th>cart</th>\n",
       "      <th>purchase</th>\n",
       "    </tr>\n",
       "  </thead>\n",
       "  <tbody>\n",
       "    <tr>\n",
       "      <th>22</th>\n",
       "      <td>0</td>\n",
       "      <td>199404</td>\n",
       "      <td>5152</td>\n",
       "      <td>1512</td>\n",
       "    </tr>\n",
       "    <tr>\n",
       "      <th>2</th>\n",
       "      <td>1</td>\n",
       "      <td>206443</td>\n",
       "      <td>5301</td>\n",
       "      <td>1473</td>\n",
       "    </tr>\n",
       "    <tr>\n",
       "      <th>21</th>\n",
       "      <td>2</td>\n",
       "      <td>194066</td>\n",
       "      <td>4312</td>\n",
       "      <td>1378</td>\n",
       "    </tr>\n",
       "    <tr>\n",
       "      <th>6</th>\n",
       "      <td>3</td>\n",
       "      <td>166974</td>\n",
       "      <td>3970</td>\n",
       "      <td>1188</td>\n",
       "    </tr>\n",
       "    <tr>\n",
       "      <th>13</th>\n",
       "      <td>4</td>\n",
       "      <td>112712</td>\n",
       "      <td>2572</td>\n",
       "      <td>881</td>\n",
       "    </tr>\n",
       "    <tr>\n",
       "      <th>8</th>\n",
       "      <td>5</td>\n",
       "      <td>64518</td>\n",
       "      <td>1478</td>\n",
       "      <td>561</td>\n",
       "    </tr>\n",
       "    <tr>\n",
       "      <th>5</th>\n",
       "      <td>6</td>\n",
       "      <td>37710</td>\n",
       "      <td>854</td>\n",
       "      <td>297</td>\n",
       "    </tr>\n",
       "    <tr>\n",
       "      <th>16</th>\n",
       "      <td>7</td>\n",
       "      <td>25392</td>\n",
       "      <td>544</td>\n",
       "      <td>194</td>\n",
       "    </tr>\n",
       "    <tr>\n",
       "      <th>14</th>\n",
       "      <td>8</td>\n",
       "      <td>18561</td>\n",
       "      <td>381</td>\n",
       "      <td>130</td>\n",
       "    </tr>\n",
       "    <tr>\n",
       "      <th>11</th>\n",
       "      <td>9</td>\n",
       "      <td>19319</td>\n",
       "      <td>424</td>\n",
       "      <td>154</td>\n",
       "    </tr>\n",
       "    <tr>\n",
       "      <th>17</th>\n",
       "      <td>10</td>\n",
       "      <td>33129</td>\n",
       "      <td>739</td>\n",
       "      <td>191</td>\n",
       "    </tr>\n",
       "    <tr>\n",
       "      <th>19</th>\n",
       "      <td>11</td>\n",
       "      <td>62577</td>\n",
       "      <td>1682</td>\n",
       "      <td>459</td>\n",
       "    </tr>\n",
       "    <tr>\n",
       "      <th>0</th>\n",
       "      <td>12</td>\n",
       "      <td>97028</td>\n",
       "      <td>3161</td>\n",
       "      <td>980</td>\n",
       "    </tr>\n",
       "    <tr>\n",
       "      <th>3</th>\n",
       "      <td>13</td>\n",
       "      <td>128966</td>\n",
       "      <td>4401</td>\n",
       "      <td>1440</td>\n",
       "    </tr>\n",
       "    <tr>\n",
       "      <th>20</th>\n",
       "      <td>14</td>\n",
       "      <td>151462</td>\n",
       "      <td>5337</td>\n",
       "      <td>1709</td>\n",
       "    </tr>\n",
       "    <tr>\n",
       "      <th>10</th>\n",
       "      <td>15</td>\n",
       "      <td>167070</td>\n",
       "      <td>5911</td>\n",
       "      <td>1882</td>\n",
       "    </tr>\n",
       "    <tr>\n",
       "      <th>4</th>\n",
       "      <td>16</td>\n",
       "      <td>169684</td>\n",
       "      <td>6161</td>\n",
       "      <td>2005</td>\n",
       "    </tr>\n",
       "    <tr>\n",
       "      <th>12</th>\n",
       "      <td>17</td>\n",
       "      <td>180621</td>\n",
       "      <td>6452</td>\n",
       "      <td>2052</td>\n",
       "    </tr>\n",
       "    <tr>\n",
       "      <th>23</th>\n",
       "      <td>18</td>\n",
       "      <td>180391</td>\n",
       "      <td>6335</td>\n",
       "      <td>1965</td>\n",
       "    </tr>\n",
       "    <tr>\n",
       "      <th>9</th>\n",
       "      <td>19</td>\n",
       "      <td>175513</td>\n",
       "      <td>6221</td>\n",
       "      <td>1949</td>\n",
       "    </tr>\n",
       "    <tr>\n",
       "      <th>7</th>\n",
       "      <td>20</td>\n",
       "      <td>167539</td>\n",
       "      <td>5849</td>\n",
       "      <td>1834</td>\n",
       "    </tr>\n",
       "    <tr>\n",
       "      <th>18</th>\n",
       "      <td>21</td>\n",
       "      <td>163147</td>\n",
       "      <td>5338</td>\n",
       "      <td>1635</td>\n",
       "    </tr>\n",
       "    <tr>\n",
       "      <th>1</th>\n",
       "      <td>22</td>\n",
       "      <td>173261</td>\n",
       "      <td>5252</td>\n",
       "      <td>1577</td>\n",
       "    </tr>\n",
       "    <tr>\n",
       "      <th>15</th>\n",
       "      <td>23</td>\n",
       "      <td>187065</td>\n",
       "      <td>5215</td>\n",
       "      <td>1516</td>\n",
       "    </tr>\n",
       "  </tbody>\n",
       "</table>\n",
       "</div>"
      ],
      "text/plain": [
       "    hour    view  cart  purchase\n",
       "22     0  199404  5152      1512\n",
       "2      1  206443  5301      1473\n",
       "21     2  194066  4312      1378\n",
       "6      3  166974  3970      1188\n",
       "13     4  112712  2572       881\n",
       "8      5   64518  1478       561\n",
       "5      6   37710   854       297\n",
       "16     7   25392   544       194\n",
       "14     8   18561   381       130\n",
       "11     9   19319   424       154\n",
       "17    10   33129   739       191\n",
       "19    11   62577  1682       459\n",
       "0     12   97028  3161       980\n",
       "3     13  128966  4401      1440\n",
       "20    14  151462  5337      1709\n",
       "10    15  167070  5911      1882\n",
       "4     16  169684  6161      2005\n",
       "12    17  180621  6452      2052\n",
       "23    18  180391  6335      1965\n",
       "9     19  175513  6221      1949\n",
       "7     20  167539  5849      1834\n",
       "18    21  163147  5338      1635\n",
       "1     22  173261  5252      1577\n",
       "15    23  187065  5215      1516"
      ]
     },
     "execution_count": 30,
     "metadata": {},
     "output_type": "execute_result"
    }
   ],
   "source": [
    "%%time\n",
    "# 시간, 보기, 카트추가, 구매를 컬럼으로 시간별 이벤트를 집계\n",
    "view_by_hour = df_smartphone.filter(df_smartphone.event_type == 'view').groupby(\"hour\").agg(count(\"event_type\").alias('view'))\n",
    "cart_by_hour = df_smartphone.filter(df_smartphone.event_type == 'cart').groupby(\"hour\").agg(count(\"event_type\").alias('cart'))\n",
    "purchase_by_hour = df_smartphone.filter(df_smartphone.event_type == 'purchase').groupby(\"hour\").agg(count(\"event_type\").alias('purchase'))\n",
    "event_by_hour = view_by_hour.join(cart_by_hour, 'hour').join(purchase_by_hour, 'hour')\n",
    "\n",
    "event_by_hour_df = event_by_hour.toPandas()\n",
    "event_by_hour_df.sort_values(by='hour', ascending=True)"
   ]
  },
  {
   "cell_type": "code",
   "execution_count": 31,
   "id": "7430da9b-69b6-4c0a-af41-6194d0a00545",
   "metadata": {
    "tags": []
   },
   "outputs": [
    {
     "name": "stdout",
     "output_type": "stream",
     "text": [
      "CPU times: total: 62.5 ms\n",
      "Wall time: 569 ms\n"
     ]
    },
    {
     "data": {
      "image/png": "[encoded data removed]",
      "text/plain": [
       "<Figure size 1000x400 with 2 Axes>"
      ]
     },
     "metadata": {},
     "output_type": "display_data"
    }
   ],
   "source": [
    "%%time\n",
    "import numpy as np\n",
    "import matplotlib.pyplot as plt\n",
    "\n",
    "# plot\n",
    "fig, (ax1, ax2) = plt.subplots(1,2, figsize=(10, 4))\n",
    "ind = np.arange(event_by_hour_df.index.min(), event_by_hour_df.index.max()+1)\n",
    "width = 0.5\n",
    "view_bar = ax1.bar(ind, event_by_hour_df.view, width=width, color='#A0E4F1')\n",
    "ax1.set_xticks(ind)\n",
    "ax1.set_xticks(ax1.get_xticks()[::2])\n",
    "ax1.set_xlabel(\"Hour in a day\")\n",
    "ax1.set_ylabel(\"Number of views\")\n",
    "ax1.set_title(\"Distribution of Views\")\n",
    "\n",
    "width = 0.4\n",
    "cart_bar = ax2.bar(ind, event_by_hour_df.cart, width=width, color='#7EA6F4')\n",
    "purchase_bar = ax2.bar(ind+width, event_by_hour_df.purchase, width=width, color='#4A4DE7')\n",
    "ax2.set_xticks(ind+width/2)\n",
    "ax2.set_xticks(ax2.get_xticks()[::2])\n",
    "ax2.set_xticklabels(ind[::2])\n",
    "ax2.set_xlabel(\"Hour in a day\")\n",
    "ax2.set_ylabel(\"Number of events\")\n",
    "ax2.set_title(\"Distribution of Add-to-Cart and Purchase\")\n",
    "ax2.legend((cart_bar, purchase_bar), ('Add to cart', 'Purchase'))\n",
    "fig.tight_layout()"
   ]
  },
  {
   "cell_type": "markdown",
   "id": "870e976a",
   "metadata": {},
   "source": [
    "# 알게 된 것\n",
    "  * 시간별 View 개수\n",
    "    * 새벽 2시가 제일 높고, 20시 이후도 꽤 높다.\n",
    "    * 새벽 5시가 낮다. 다들 자는 것일까?\n",
    "    * 점심시간 전/후로 View 개수가 제일 낮다. 점심 시간대에는 다시 높아진다.\n",
    "    * 오후 업무시간대 중 15시를 제외하면 View 개수가 낮다.\n",
    "\n",
    "  * 장바구니 담기와 구매\n",
    "    * 장바구니에 담은 것이 모두 구매로 이어지지 않는다.\n",
    "    * 새벽 시간대가 의외로 구매가 높다.\n",
    "    * 점심시간 전/후로는 구매가 적다.\n",
    "    * 퇴근 시간 전 업무시간도 구매가 적다.\n",
    "    * 20시 이후에 구매가 갑자기 증가한다."
   ]
  },
  {
   "cell_type": "markdown",
   "id": "9818d82f-66c2-4339-9f6e-95f2dd2f5703",
   "metadata": {},
   "source": [
    "Daily distribution of number of events, by time session"
   ]
  },
  {
   "cell_type": "code",
   "execution_count": 32,
   "id": "4e1dee99-259f-405a-af31-dbc77d15dcf4",
   "metadata": {
    "tags": []
   },
   "outputs": [
    {
     "name": "stdout",
     "output_type": "stream",
     "text": [
      "CPU times: total: 15.6 ms\n",
      "Wall time: 9.08 s\n"
     ]
    },
    {
     "data": {
      "text/html": [
       "<div>\n",
       "<style scoped>\n",
       "    .dataframe tbody tr th:only-of-type {\n",
       "        vertical-align: middle;\n",
       "    }\n",
       "\n",
       "    .dataframe tbody tr th {\n",
       "        vertical-align: top;\n",
       "    }\n",
       "\n",
       "    .dataframe thead th {\n",
       "        text-align: right;\n",
       "    }\n",
       "</style>\n",
       "<table border=\"1\" class=\"dataframe\">\n",
       "  <thead>\n",
       "    <tr style=\"text-align: right;\">\n",
       "      <th></th>\n",
       "      <th>time_session</th>\n",
       "      <th>view</th>\n",
       "      <th>cart</th>\n",
       "      <th>purchase</th>\n",
       "    </tr>\n",
       "  </thead>\n",
       "  <tbody>\n",
       "    <tr>\n",
       "      <th>0</th>\n",
       "      <td>12-15</td>\n",
       "      <td>377456</td>\n",
       "      <td>12899</td>\n",
       "      <td>4129</td>\n",
       "    </tr>\n",
       "    <tr>\n",
       "      <th>1</th>\n",
       "      <td>21-24</td>\n",
       "      <td>523473</td>\n",
       "      <td>15805</td>\n",
       "      <td>4728</td>\n",
       "    </tr>\n",
       "    <tr>\n",
       "      <th>2</th>\n",
       "      <td>15-18</td>\n",
       "      <td>517375</td>\n",
       "      <td>18524</td>\n",
       "      <td>5939</td>\n",
       "    </tr>\n",
       "    <tr>\n",
       "      <th>3</th>\n",
       "      <td>18-21</td>\n",
       "      <td>523443</td>\n",
       "      <td>18405</td>\n",
       "      <td>5748</td>\n",
       "    </tr>\n",
       "    <tr>\n",
       "      <th>4</th>\n",
       "      <td>0-3</td>\n",
       "      <td>599913</td>\n",
       "      <td>14765</td>\n",
       "      <td>4363</td>\n",
       "    </tr>\n",
       "    <tr>\n",
       "      <th>5</th>\n",
       "      <td>9-12</td>\n",
       "      <td>115025</td>\n",
       "      <td>2845</td>\n",
       "      <td>804</td>\n",
       "    </tr>\n",
       "    <tr>\n",
       "      <th>6</th>\n",
       "      <td>3-6</td>\n",
       "      <td>344204</td>\n",
       "      <td>8020</td>\n",
       "      <td>2630</td>\n",
       "    </tr>\n",
       "    <tr>\n",
       "      <th>7</th>\n",
       "      <td>6-9</td>\n",
       "      <td>81663</td>\n",
       "      <td>1779</td>\n",
       "      <td>621</td>\n",
       "    </tr>\n",
       "  </tbody>\n",
       "</table>\n",
       "</div>"
      ],
      "text/plain": [
       "  time_session    view   cart  purchase\n",
       "0        12-15  377456  12899      4129\n",
       "1        21-24  523473  15805      4728\n",
       "2        15-18  517375  18524      5939\n",
       "3        18-21  523443  18405      5748\n",
       "4          0-3  599913  14765      4363\n",
       "5         9-12  115025   2845       804\n",
       "6          3-6  344204   8020      2630\n",
       "7          6-9   81663   1779       621"
      ]
     },
     "execution_count": 32,
     "metadata": {},
     "output_type": "execute_result"
    }
   ],
   "source": [
    "%%time\n",
    "view_by_time_session = df_smartphone.filter(df_smartphone.event_type == 'view').groupby(\"time_session\").agg(count(\"event_type\").alias('view'))\n",
    "cart_by_time_session = df_smartphone.filter(df_smartphone.event_type == 'cart').groupby(\"time_session\").agg(count(\"event_type\").alias('cart'))\n",
    "purchase_by_time_session = df_smartphone.filter(df_smartphone.event_type == 'purchase').groupby(\"time_session\").agg(count(\"event_type\").alias('purchase'))\n",
    "event_by_time_session = view_by_time_session.join(cart_by_time_session, 'time_session').join(purchase_by_time_session, 'time_session')\n",
    "\n",
    "event_by_time_session_df = event_by_time_session.toPandas()\n",
    "event_by_time_session_df"
   ]
  },
  {
   "cell_type": "code",
   "execution_count": 33,
   "id": "04574f87-5201-4718-a2cb-da9e3b8bbf58",
   "metadata": {
    "tags": []
   },
   "outputs": [
    {
     "name": "stdout",
     "output_type": "stream",
     "text": [
      "CPU times: total: 15.6 ms\n",
      "Wall time: 101 ms\n"
     ]
    },
    {
     "data": {
      "image/png": "[encoded data removed]",
      "text/plain": [
       "<Figure size 1000x400 with 2 Axes>"
      ]
     },
     "metadata": {},
     "output_type": "display_data"
    }
   ],
   "source": [
    "%%time\n",
    "# plot\n",
    "session_labels = ['0-3', '3-6', '6-9', '9-12', '12-15', '15-18', '18-21', '21-24']\n",
    "\n",
    "fig, (ax1, ax2) = plt.subplots(1, 2, figsize=(10, 4))\n",
    "ind = np.arange(event_by_time_session_df.index.nunique())\n",
    "width = 0.5\n",
    "ax1.bar(ind, event_by_time_session_df.view, width=width, color='#A0E4F1')\n",
    "ax1.set_xticks(ind)\n",
    "ax1.set_xticklabels(session_labels)\n",
    "ax1.set_xlabel(\"Time session in a day\")\n",
    "ax1.set_ylabel(\"Number of views\")\n",
    "ax1.set_title(\"Distribution of Views\")\n",
    "\n",
    "width = 0.4\n",
    "cart_bar = ax2.bar(ind, event_by_time_session_df.cart, width=width, color='#7EA6F4')\n",
    "purchase_bar = ax2.bar(ind+width, event_by_time_session_df.purchase, width=width, color='#4A4DE7')\n",
    "ax2.set_xticks(ind+width/2)\n",
    "ax2.set_xticklabels(session_labels)\n",
    "ax2.set_xlabel(\"Time session in a day\")\n",
    "ax2.set_ylabel(\"Number of events\")\n",
    "ax2.set_title(\"Distribution of Add-to-Cart and Purchase\")\n",
    "ax2.legend((cart_bar, purchase_bar), ('Add to cart', 'Purchase'))\n",
    "fig.tight_layout()"
   ]
  },
  {
   "cell_type": "markdown",
   "id": "4df28ebc",
   "metadata": {},
   "source": [
    "# 알게 된 것\n",
    "  * 시간대별(3시간 단위) View 개수\n",
    "    * 새벽 시간대에 View는 점심 이후 시간대만큼 많이 본다.\n",
    "    * 저녁식사 시간대에 View가 적다.\n",
    "    * 보통 사람들이 자기 전에 View가 적다.\n",
    "* 시간대별 장바구니 담기와 구매 개수\n",
    "  * 새벽시간 대에 구매하는 비율이 압도적이다.\n",
    "  * 오전에도 장바구니에 담는 것이 많다.\n",
    "  * 저녁식사 시간 이후에는 View도 적으며, 구매도 적어진다.\n",
    "  "
   ]
  },
  {
   "cell_type": "code",
   "execution_count": 34,
   "id": "826ea172-ab91-4085-acb5-4a260ac9909b",
   "metadata": {
    "tags": []
   },
   "outputs": [
    {
     "name": "stdout",
     "output_type": "stream",
     "text": [
      "CPU times: total: 15.6 ms\n",
      "Wall time: 37.5 ms\n"
     ]
    },
    {
     "data": {
      "text/plain": [
       "<matplotlib.legend.Legend at 0x189406b64d0>"
      ]
     },
     "execution_count": 34,
     "metadata": {},
     "output_type": "execute_result"
    },
    {
     "data": {
      "image/png": "[encoded data removed]",
      "text/plain": [
       "<Figure size 640x480 with 1 Axes>"
      ]
     },
     "metadata": {},
     "output_type": "display_data"
    }
   ],
   "source": [
    "%%time\n",
    "# combination showing ratio\n",
    "event_by_hour_df['view_pct'] = event_by_hour_df.view / sum(event_by_hour_df.view) * 100\n",
    "event_by_hour_df['cart_pct'] = event_by_hour_df.cart/ sum(event_by_hour_df.cart) * 100\n",
    "event_by_hour_df['purchase_pct'] = event_by_hour_df.purchase / sum(event_by_hour_df.purchase) * 100\n",
    "\n",
    "hours = np.arange(0, 24)\n",
    "view_pct_hr = plt.plot(event_by_hour_df.index, event_by_hour_df.view_pct, marker='.', color='#A0E4F1', label='View')\n",
    "cart_pct_hr = plt.plot(event_by_hour_df.index, event_by_hour_df.cart_pct, marker='.', color='#7EA6F4', label='Add-to-cart')\n",
    "purchase_pct_hr = plt.plot(event_by_hour_df.index, event_by_hour_df.purchase_pct, marker='.', color='#4A4DE7', label='Purchase')\n",
    "plt.xticks(hours)\n",
    "plt.ylim([0, 10])\n",
    "plt.xlabel(\"Hour in a day\")\n",
    "plt.ylabel(\"Percentage of event\")\n",
    "plt.title(\"Daily % Distribution of Events by Hour\")\n",
    "plt.legend()"
   ]
  },
  {
   "cell_type": "markdown",
   "id": "3ddda17c",
   "metadata": {},
   "source": [
    "# 알게 된 것\n",
    "  * 시간별 이벤트\n",
    "    * 일반적으로 자기 전에 구매보다는 View를 많이 하는 듯 하다.\n",
    "    * 새벽시간 ~ 오전에 구매를 많이 한다."
   ]
  },
  {
   "cell_type": "code",
   "execution_count": 35,
   "id": "4dfbc7d5-0f75-4a99-af9e-112300df8e13",
   "metadata": {
    "tags": []
   },
   "outputs": [
    {
     "name": "stdout",
     "output_type": "stream",
     "text": [
      "CPU times: total: 0 ns\n",
      "Wall time: 24 ms\n"
     ]
    },
    {
     "data": {
      "text/plain": [
       "<matplotlib.legend.Legend at 0x18940a9c2b0>"
      ]
     },
     "execution_count": 35,
     "metadata": {},
     "output_type": "execute_result"
    },
    {
     "data": {
      "image/png": "[encoded data removed]",
      "text/plain": [
       "<Figure size 640x480 with 1 Axes>"
      ]
     },
     "metadata": {},
     "output_type": "display_data"
    }
   ],
   "source": [
    "%%time\n",
    "# combination showing ratio\n",
    "event_by_time_session_df['view_pct'] = event_by_time_session_df.view / sum(event_by_time_session_df.view) * 100\n",
    "event_by_time_session_df['cart_pct'] = event_by_time_session_df.cart/ sum(event_by_time_session_df.cart) * 100\n",
    "event_by_time_session_df['purchase_pct'] = event_by_time_session_df.purchase / sum(event_by_time_session_df.purchase) * 100\n",
    "\n",
    "time_sessions = np.arange(0, len(session_labels))\n",
    "view_pct_ss = plt.plot(event_by_time_session_df.index, event_by_time_session_df.view_pct, marker='.', color='#A0E4F1', label='View')\n",
    "cart_pct_ss = plt.plot(event_by_time_session_df.index, event_by_time_session_df.cart_pct, marker='.', color='#7EA6F4', label='Add-to-cart')\n",
    "purchase_pct_ss = plt.plot(event_by_time_session_df.index, event_by_time_session_df.purchase_pct, marker='.', color='#4A4DE7', label='Purchase')\n",
    "plt.xticks(time_sessions, session_labels)\n",
    "plt.ylim([0, 30])\n",
    "plt.xlabel(\"Time session in a day\")\n",
    "plt.ylabel(\"Percentage of event\")\n",
    "plt.title(\"Percent Distribution of Events by Time Session\")\n",
    "plt.legend()"
   ]
  },
  {
   "cell_type": "markdown",
   "id": "f476efd8",
   "metadata": {},
   "source": [
    "# 알게 된 것\n",
    "  * 새벽~ 오전에는 구매를 더 많이 한다.\n",
    "  * 점심시간 ~ 자기 전까지는 View를 많이 한다."
   ]
  },
  {
   "cell_type": "markdown",
   "id": "45f30a0e-0808-44f0-ac8f-1463644373c6",
   "metadata": {},
   "source": [
    "Daily distribution of events, facet by weekday"
   ]
  },
  {
   "cell_type": "code",
   "execution_count": 36,
   "id": "cdc77572-f551-45d1-82d7-8f093bcbd975",
   "metadata": {
    "tags": []
   },
   "outputs": [
    {
     "name": "stdout",
     "output_type": "stream",
     "text": [
      "CPU times: total: 0 ns\n",
      "Wall time: 7.75 s\n"
     ]
    },
    {
     "data": {
      "text/html": [
       "<div>\n",
       "<style scoped>\n",
       "    .dataframe tbody tr th:only-of-type {\n",
       "        vertical-align: middle;\n",
       "    }\n",
       "\n",
       "    .dataframe tbody tr th {\n",
       "        vertical-align: top;\n",
       "    }\n",
       "\n",
       "    .dataframe thead th {\n",
       "        text-align: right;\n",
       "    }\n",
       "</style>\n",
       "<table border=\"1\" class=\"dataframe\">\n",
       "  <thead>\n",
       "    <tr style=\"text-align: right;\">\n",
       "      <th></th>\n",
       "      <th>weekday</th>\n",
       "      <th>time_session</th>\n",
       "      <th>num_purchase</th>\n",
       "    </tr>\n",
       "  </thead>\n",
       "  <tbody>\n",
       "    <tr>\n",
       "      <th>31</th>\n",
       "      <td>Sunday</td>\n",
       "      <td>0-3</td>\n",
       "      <td>566</td>\n",
       "    </tr>\n",
       "    <tr>\n",
       "      <th>26</th>\n",
       "      <td>Sunday</td>\n",
       "      <td>3-6</td>\n",
       "      <td>338</td>\n",
       "    </tr>\n",
       "    <tr>\n",
       "      <th>34</th>\n",
       "      <td>Sunday</td>\n",
       "      <td>6-9</td>\n",
       "      <td>91</td>\n",
       "    </tr>\n",
       "    <tr>\n",
       "      <th>38</th>\n",
       "      <td>Sunday</td>\n",
       "      <td>9-12</td>\n",
       "      <td>97</td>\n",
       "    </tr>\n",
       "    <tr>\n",
       "      <th>21</th>\n",
       "      <td>Sunday</td>\n",
       "      <td>12-15</td>\n",
       "      <td>552</td>\n",
       "    </tr>\n",
       "    <tr>\n",
       "      <th>39</th>\n",
       "      <td>Sunday</td>\n",
       "      <td>15-18</td>\n",
       "      <td>892</td>\n",
       "    </tr>\n",
       "    <tr>\n",
       "      <th>4</th>\n",
       "      <td>Sunday</td>\n",
       "      <td>18-21</td>\n",
       "      <td>827</td>\n",
       "    </tr>\n",
       "    <tr>\n",
       "      <th>27</th>\n",
       "      <td>Sunday</td>\n",
       "      <td>21-24</td>\n",
       "      <td>655</td>\n",
       "    </tr>\n",
       "  </tbody>\n",
       "</table>\n",
       "</div>"
      ],
      "text/plain": [
       "   weekday time_session  num_purchase\n",
       "31  Sunday          0-3           566\n",
       "26  Sunday          3-6           338\n",
       "34  Sunday          6-9            91\n",
       "38  Sunday         9-12            97\n",
       "21  Sunday        12-15           552\n",
       "39  Sunday        15-18           892\n",
       "4   Sunday        18-21           827\n",
       "27  Sunday        21-24           655"
      ]
     },
     "execution_count": 36,
     "metadata": {},
     "output_type": "execute_result"
    }
   ],
   "source": [
    "%%time\n",
    "import pandas as pd\n",
    "\n",
    "weekdays = ['Sunday', 'Monday', 'Tuesday', 'Wednesday', 'Thursday', 'Friday', 'Saturday']\n",
    "weekday_dict = dict(zip(weekdays, list(range(1,8))))\n",
    "\n",
    "view_by_ss_wkdy = df_smartphone.filter(df_smartphone.event_type == 'view').groupby(['weekday', 'time_session']).agg(count(\"event_type\").alias('num_view')).toPandas()\n",
    "view_by_ss_wkdy['weekday'] = view_by_ss_wkdy['weekday'].apply(lambda x: weekdays[x-1])\n",
    "view_by_ss_wkdy['weekday'] = pd.Categorical(view_by_ss_wkdy.weekday, categories=weekdays, ordered=True)\n",
    "view_by_ss_wkdy['time_session'] = pd.Categorical(view_by_ss_wkdy.time_session, categories=session_labels, ordered=True)\n",
    "view_by_ss_wkdy.sort_values(by=['weekday', 'time_session'], inplace=True)\n",
    "\n",
    "cart_by_ss_wkdy = df_smartphone.filter(df_smartphone.event_type == 'cart').groupby(['weekday', 'time_session']).agg(count(\"event_type\").alias('num_cart')).toPandas()\n",
    "cart_by_ss_wkdy['weekday'] = cart_by_ss_wkdy['weekday'].apply(lambda x: weekdays[x-1])\n",
    "cart_by_ss_wkdy['weekday'] = pd.Categorical(cart_by_ss_wkdy.weekday, categories=weekdays, ordered=True)\n",
    "cart_by_ss_wkdy['time_session'] = pd.Categorical(cart_by_ss_wkdy.time_session, categories=session_labels, ordered=True)\n",
    "cart_by_ss_wkdy.sort_values(by=['weekday', 'time_session'], inplace=True)\n",
    "\n",
    "purchase_by_ss_wkdy = df_smartphone.filter(df_smartphone.event_type == 'purchase').groupby(['weekday', 'time_session']).agg(count(\"event_type\").alias('num_purchase')).toPandas()\n",
    "purchase_by_ss_wkdy['weekday'] = purchase_by_ss_wkdy['weekday'].apply(lambda x: weekdays[x-1])\n",
    "purchase_by_ss_wkdy['weekday'] = pd.Categorical(purchase_by_ss_wkdy.weekday, categories=weekdays, ordered=True)\n",
    "purchase_by_ss_wkdy['time_session'] = pd.Categorical(purchase_by_ss_wkdy.time_session, categories=session_labels, ordered=True)\n",
    "purchase_by_ss_wkdy.sort_values(by=['weekday', 'time_session'], inplace=True)\n",
    "\n",
    "purchase_by_ss_wkdy.head(8)"
   ]
  },
  {
   "cell_type": "code",
   "execution_count": 37,
   "id": "790551b6-8ada-4498-8754-bf23e93033b4",
   "metadata": {
    "tags": []
   },
   "outputs": [
    {
     "name": "stdout",
     "output_type": "stream",
     "text": [
      "CPU times: total: 0 ns\n",
      "Wall time: 10 ms\n"
     ]
    },
    {
     "name": "stderr",
     "output_type": "stream",
     "text": [
      "<timed exec>:2: FutureWarning: The default of observed=False is deprecated and will be changed to True in a future version of pandas. Pass observed=False to retain current behavior or observed=True to adopt the future default and silence this warning.\n",
      "<timed exec>:3: FutureWarning: The default of observed=False is deprecated and will be changed to True in a future version of pandas. Pass observed=False to retain current behavior or observed=True to adopt the future default and silence this warning.\n",
      "<timed exec>:4: FutureWarning: The default of observed=False is deprecated and will be changed to True in a future version of pandas. Pass observed=False to retain current behavior or observed=True to adopt the future default and silence this warning.\n"
     ]
    },
    {
     "data": {
      "text/html": [
       "<div>\n",
       "<style scoped>\n",
       "    .dataframe tbody tr th:only-of-type {\n",
       "        vertical-align: middle;\n",
       "    }\n",
       "\n",
       "    .dataframe tbody tr th {\n",
       "        vertical-align: top;\n",
       "    }\n",
       "\n",
       "    .dataframe thead th {\n",
       "        text-align: right;\n",
       "    }\n",
       "</style>\n",
       "<table border=\"1\" class=\"dataframe\">\n",
       "  <thead>\n",
       "    <tr style=\"text-align: right;\">\n",
       "      <th></th>\n",
       "      <th>num_view</th>\n",
       "      <th>num_cart</th>\n",
       "      <th>num_purchase</th>\n",
       "    </tr>\n",
       "    <tr>\n",
       "      <th>weekday</th>\n",
       "      <th></th>\n",
       "      <th></th>\n",
       "      <th></th>\n",
       "    </tr>\n",
       "  </thead>\n",
       "  <tbody>\n",
       "    <tr>\n",
       "      <th>Sunday</th>\n",
       "      <td>445427</td>\n",
       "      <td>13345</td>\n",
       "      <td>4018</td>\n",
       "    </tr>\n",
       "    <tr>\n",
       "      <th>Monday</th>\n",
       "      <td>446655</td>\n",
       "      <td>13932</td>\n",
       "      <td>4326</td>\n",
       "    </tr>\n",
       "    <tr>\n",
       "      <th>Tuesday</th>\n",
       "      <td>450023</td>\n",
       "      <td>13161</td>\n",
       "      <td>4130</td>\n",
       "    </tr>\n",
       "    <tr>\n",
       "      <th>Wednesday</th>\n",
       "      <td>448740</td>\n",
       "      <td>12858</td>\n",
       "      <td>4238</td>\n",
       "    </tr>\n",
       "    <tr>\n",
       "      <th>Thursday</th>\n",
       "      <td>443083</td>\n",
       "      <td>13189</td>\n",
       "      <td>4256</td>\n",
       "    </tr>\n",
       "    <tr>\n",
       "      <th>Friday</th>\n",
       "      <td>428116</td>\n",
       "      <td>13277</td>\n",
       "      <td>4015</td>\n",
       "    </tr>\n",
       "    <tr>\n",
       "      <th>Saturday</th>\n",
       "      <td>420508</td>\n",
       "      <td>13280</td>\n",
       "      <td>3979</td>\n",
       "    </tr>\n",
       "  </tbody>\n",
       "</table>\n",
       "</div>"
      ],
      "text/plain": [
       "           num_view  num_cart  num_purchase\n",
       "weekday                                    \n",
       "Sunday       445427     13345          4018\n",
       "Monday       446655     13932          4326\n",
       "Tuesday      450023     13161          4130\n",
       "Wednesday    448740     12858          4238\n",
       "Thursday     443083     13189          4256\n",
       "Friday       428116     13277          4015\n",
       "Saturday     420508     13280          3979"
      ]
     },
     "execution_count": 37,
     "metadata": {},
     "output_type": "execute_result"
    }
   ],
   "source": [
    "%%time\n",
    "# events per weekday\n",
    "view_per_wkdy = view_by_ss_wkdy.groupby(\"weekday\")['num_view'].sum().to_frame()\n",
    "cart_per_wkdy = cart_by_ss_wkdy.groupby(\"weekday\")['num_cart'].sum().to_frame()\n",
    "purchase_per_wkdy = purchase_by_ss_wkdy.groupby(\"weekday\")['num_purchase'].sum().to_frame()\n",
    "event_by_weekday = pd.concat([view_per_wkdy, cart_per_wkdy, purchase_per_wkdy], axis=1)\n",
    "event_by_weekday"
   ]
  },
  {
   "cell_type": "code",
   "execution_count": 40,
   "id": "99c1fa6a-cd11-4935-9d9b-1097adfb0a65",
   "metadata": {
    "tags": []
   },
   "outputs": [
    {
     "name": "stdout",
     "output_type": "stream",
     "text": [
      "CPU times: total: 15.6 ms\n",
      "Wall time: 50.5 ms\n"
     ]
    },
    {
     "data": {
      "text/plain": [
       "Text(0.5, 1.0, 'Weekly Distribution of Events')"
      ]
     },
     "execution_count": 40,
     "metadata": {},
     "output_type": "execute_result"
    },
    {
     "data": {
      "image/png": "[encoded data removed]",
      "text/plain": [
       "<Figure size 640x480 with 2 Axes>"
      ]
     },
     "metadata": {},
     "output_type": "display_data"
    }
   ],
   "source": [
    "%%time\n",
    "# plot events per weekday\n",
    "fig, ax1 = plt.subplots()\n",
    "\n",
    "width = 0.2\n",
    "xticks = np.arange(0, len(weekdays))\n",
    "\n",
    "view_wkdy_plot = ax1.bar(xticks, event_by_weekday.num_view, width=width, color='#A0E4F1')\n",
    "ax1.set_ylim([0, 500_000])\n",
    "ax1.set_ylabel(\"Number of views\")\n",
    "\n",
    "ax2 = ax1.twinx()\n",
    "cart_wkdy_plot = ax2.bar(xticks+width, event_by_weekday.num_cart, width=width, color='#7EA6F4')\n",
    "purchase_wkdy_plot = ax2.bar(xticks+width*2, event_by_weekday.num_purchase, width=width, color='#4A4DE7')\n",
    "ax2.set_ylim([0, 15_000])\n",
    "ax2.set_ylabel(\"Number of ATC & purchase\")\n",
    "\n",
    "plt.legend((view_wkdy_plot, cart_wkdy_plot, purchase_wkdy_plot), ('View (LHS)', 'Add-to-cart (RHS)', 'Purchase (RHS)'))\n",
    "plt.xticks(xticks+width*2, weekdays)\n",
    "fig.autofmt_xdate(rotation=45)\n",
    "plt.title('Weekly Distribution of Events')"
   ]
  },
  {
   "cell_type": "markdown",
   "id": "deeaa1ba",
   "metadata": {},
   "source": [
    "# 알게된 것\n",
    "  * 장난감은 요일에 상관없이 꾸준히 구매한다."
   ]
  },
  {
   "cell_type": "code",
   "execution_count": 41,
   "id": "530d05c9-a83a-49ce-badc-c7a2dcea4b35",
   "metadata": {
    "tags": []
   },
   "outputs": [
    {
     "name": "stdout",
     "output_type": "stream",
     "text": [
      "CPU times: total: 78.1 ms\n",
      "Wall time: 298 ms\n"
     ]
    },
    {
     "data": {
      "text/plain": [
       "array([[<Axes: title={'center': 'Sunday'}, xlabel='Time session'>,\n",
       "        <Axes: title={'center': 'Monday'}, xlabel='Time session'>,\n",
       "        <Axes: title={'center': 'Tuesday'}, xlabel='Time session'>],\n",
       "       [<Axes: title={'center': 'Wednesday'}, xlabel='Time session'>,\n",
       "        <Axes: title={'center': 'Thursday'}, xlabel='Time session'>,\n",
       "        <Axes: title={'center': 'Friday'}, xlabel='Time session'>],\n",
       "       [<Axes: title={'center': 'Saturday'}, xlabel='Time session'>,\n",
       "        <Axes: xlabel='Time session'>, <Axes: xlabel='Time session'>]],\n",
       "      dtype=object)"
      ]
     },
     "execution_count": 41,
     "metadata": {},
     "output_type": "execute_result"
    },
    {
     "data": {
      "image/png": "[encoded data removed]",
      "text/plain": [
       "<Figure size 1000x1000 with 9 Axes>"
      ]
     },
     "metadata": {},
     "output_type": "display_data"
    }
   ],
   "source": [
    "%%time\n",
    "# Daily split\n",
    "view_by_ss_wkdy_pvt = view_by_ss_wkdy.pivot(index='weekday', columns='time_session', values='num_view')\n",
    "view_by_ss_wkdy_pvt.T.plot.bar(\n",
    "    subplots=True,\n",
    "    layout=(3,3),\n",
    "    figsize=(10, 10),\n",
    "    color='#A0E4F1',\n",
    "    sharex=True,\n",
    "    sharey=True,\n",
    "    legend=False,\n",
    "    xlabel='Time session',\n",
    "    title='Daily Distribution of Views by Time Session in a Week',\n",
    "    grid=True\n",
    ")"
   ]
  },
  {
   "cell_type": "code",
   "execution_count": 42,
   "id": "c91c2d42-ce8b-4398-a600-a888c319dabc",
   "metadata": {
    "tags": []
   },
   "outputs": [
    {
     "name": "stdout",
     "output_type": "stream",
     "text": [
      "CPU times: total: 46.9 ms\n",
      "Wall time: 218 ms\n"
     ]
    },
    {
     "data": {
      "text/plain": [
       "array([[<Axes: title={'center': 'Sunday'}, xlabel='Time session'>,\n",
       "        <Axes: title={'center': 'Monday'}, xlabel='Time session'>,\n",
       "        <Axes: title={'center': 'Tuesday'}, xlabel='Time session'>],\n",
       "       [<Axes: title={'center': 'Wednesday'}, xlabel='Time session'>,\n",
       "        <Axes: title={'center': 'Thursday'}, xlabel='Time session'>,\n",
       "        <Axes: title={'center': 'Friday'}, xlabel='Time session'>],\n",
       "       [<Axes: title={'center': 'Saturday'}, xlabel='Time session'>,\n",
       "        <Axes: xlabel='Time session'>, <Axes: xlabel='Time session'>]],\n",
       "      dtype=object)"
      ]
     },
     "execution_count": 42,
     "metadata": {},
     "output_type": "execute_result"
    },
    {
     "data": {
      "image/png": "[encoded data removed]",
      "text/plain": [
       "<Figure size 1000x1000 with 9 Axes>"
      ]
     },
     "metadata": {},
     "output_type": "display_data"
    }
   ],
   "source": [
    "%%time\n",
    "# Daily split\n",
    "cart_by_ss_wkdy_pvt = cart_by_ss_wkdy.pivot(index='weekday', columns='time_session', values='num_cart')\n",
    "cart_by_ss_wkdy_pvt.T.plot.bar(\n",
    "    subplots=True,\n",
    "    layout=(3,3),\n",
    "    figsize=(10, 10),\n",
    "    color='#7EA6F4',\n",
    "    sharex=True,\n",
    "    sharey=True,\n",
    "    legend=False,\n",
    "    xlabel='Time session',\n",
    "    title='Daily Distribution of Add-to-Cart by Time Session in a Week',\n",
    "    grid=True\n",
    ")"
   ]
  },
  {
   "cell_type": "code",
   "execution_count": 43,
   "id": "691d2839-cae9-44b6-84b5-fab30d939804",
   "metadata": {
    "tags": []
   },
   "outputs": [
    {
     "name": "stdout",
     "output_type": "stream",
     "text": [
      "CPU times: total: 46.9 ms\n",
      "Wall time: 241 ms\n"
     ]
    },
    {
     "data": {
      "text/plain": [
       "array([[<Axes: title={'center': 'Sunday'}, xlabel='Time session'>,\n",
       "        <Axes: title={'center': 'Monday'}, xlabel='Time session'>,\n",
       "        <Axes: title={'center': 'Tuesday'}, xlabel='Time session'>],\n",
       "       [<Axes: title={'center': 'Wednesday'}, xlabel='Time session'>,\n",
       "        <Axes: title={'center': 'Thursday'}, xlabel='Time session'>,\n",
       "        <Axes: title={'center': 'Friday'}, xlabel='Time session'>],\n",
       "       [<Axes: title={'center': 'Saturday'}, xlabel='Time session'>,\n",
       "        <Axes: xlabel='Time session'>, <Axes: xlabel='Time session'>]],\n",
       "      dtype=object)"
      ]
     },
     "execution_count": 43,
     "metadata": {},
     "output_type": "execute_result"
    },
    {
     "data": {
      "image/png": "[encoded data removed]",
      "text/plain": [
       "<Figure size 1000x1000 with 9 Axes>"
      ]
     },
     "metadata": {},
     "output_type": "display_data"
    }
   ],
   "source": [
    "%%time\n",
    "# Daily split\n",
    "purchase_by_ss_wkdy_pvt = purchase_by_ss_wkdy.pivot(index='weekday', columns='time_session', values='num_purchase')\n",
    "purchase_by_ss_wkdy_pvt.T.plot.bar(\n",
    "    subplots=True,\n",
    "    layout=(3,3),\n",
    "    figsize=(10, 10),\n",
    "    color='#4A4DE7',\n",
    "    sharex=True,\n",
    "    sharey=True,\n",
    "    legend=False,\n",
    "    xlabel='Time session',\n",
    "    title='Daily Distribution of Purchase by Time Session in a Week',\n",
    "    grid=True\n",
    ")"
   ]
  },
  {
   "cell_type": "markdown",
   "id": "712c667d",
   "metadata": {},
   "source": [
    "# 알게 된 것\n",
    "  * 장난감은 요일에 상관 없다.\n"
   ]
  },
  {
   "cell_type": "markdown",
   "id": "1bf82d1f-598d-45ec-9eec-f9fd0480a716",
   "metadata": {},
   "source": [
    "Hypo testing with Chi-square test\n",
    "\n",
    "H0 - shoppers have the time tendency for different events in a day\n",
    "\n",
    "$H_0$: 쇼핑하는 사람들은 보기/장바구니 담기/구매에 대한 선호 시간이 있다."
   ]
  },
  {
   "cell_type": "code",
   "execution_count": 44,
   "id": "2221a19f-a3b4-40bc-b889-f1f2a35508be",
   "metadata": {
    "tags": []
   },
   "outputs": [],
   "source": [
    "def chi2_test(obs, exp, main_cat: int = 0, alpha = 0.05):\n",
    "    from scipy.stats import chisquare\n",
    "\n",
    "    chi, pval = chisquare(f_obs=obs, f_exp=exp)\n",
    "    if pval < alpha:\n",
    "        print(f\"Statistically significant under level of sig={alpha} ({pval}). H0 rejected.\")\n",
    "    else:\n",
    "        print(f\"NOT statistically significant under level of sig={alpha} ({pval}). H0 not rejected.\")\n",
    "\n",
    "    return chi, pval"
   ]
  },
  {
   "cell_type": "code",
   "execution_count": 45,
   "id": "c1b1b726-e693-435c-9820-f5ce90b853c8",
   "metadata": {
    "tags": []
   },
   "outputs": [
    {
     "name": "stdout",
     "output_type": "stream",
     "text": [
      "CPU times: total: 0 ns\n",
      "Wall time: 34 ms\n"
     ]
    }
   ],
   "source": [
    "%%time\n",
    "def half_of_day(x):\n",
    "    return 2 if x > 12 else 1\n",
    "\n",
    "half_of_day_udf = udf(half_of_day)\n",
    "\n",
    "df_smartphone = df_smartphone.withColumn(\"half_of_day\", half_of_day_udf(\"hour\"))\n",
    "\n",
    "def event_retype(x):\n",
    "    return 2 if x in ['cart', 'purchase'] else 1\n",
    "\n",
    "event_retype_udf = udf(event_retype)\n",
    "\n",
    "df_smartphone = df_smartphone.withColumn(\"event_retype\", event_retype_udf(\"event_type\"))"
   ]
  },
  {
   "cell_type": "code",
   "execution_count": 46,
   "id": "e1622951-d7aa-4351-a18b-fd3c04984b1b",
   "metadata": {
    "tags": []
   },
   "outputs": [
    {
     "name": "stdout",
     "output_type": "stream",
     "text": [
      "CPU times: total: 3.09 s\n",
      "Wall time: 16 s\n"
     ]
    }
   ],
   "source": [
    "%%time\n",
    "data_test_psdf = df_smartphone[[\"half_of_day\", \"event_retype\"]]\n",
    "data_test_pd = data_test_psdf.toPandas()"
   ]
  },
  {
   "cell_type": "code",
   "execution_count": 47,
   "id": "d2a24c13-9d73-47c3-96cb-20ca084a56eb",
   "metadata": {
    "tags": []
   },
   "outputs": [
    {
     "name": "stdout",
     "output_type": "stream",
     "text": [
      "CPU times: total: 234 ms\n",
      "Wall time: 824 ms\n"
     ]
    },
    {
     "data": {
      "text/html": [
       "<div>\n",
       "<style scoped>\n",
       "    .dataframe tbody tr th:only-of-type {\n",
       "        vertical-align: middle;\n",
       "    }\n",
       "\n",
       "    .dataframe tbody tr th {\n",
       "        vertical-align: top;\n",
       "    }\n",
       "\n",
       "    .dataframe thead th {\n",
       "        text-align: right;\n",
       "    }\n",
       "</style>\n",
       "<table border=\"1\" class=\"dataframe\">\n",
       "  <thead>\n",
       "    <tr style=\"text-align: right;\">\n",
       "      <th>event_retype</th>\n",
       "      <th>1</th>\n",
       "      <th>2</th>\n",
       "      <th>All</th>\n",
       "    </tr>\n",
       "    <tr>\n",
       "      <th>half_of_day</th>\n",
       "      <th></th>\n",
       "      <th></th>\n",
       "      <th></th>\n",
       "    </tr>\n",
       "  </thead>\n",
       "  <tbody>\n",
       "    <tr>\n",
       "      <th>1</th>\n",
       "      <td>1237833</td>\n",
       "      <td>39968</td>\n",
       "      <td>1277801</td>\n",
       "    </tr>\n",
       "    <tr>\n",
       "      <th>2</th>\n",
       "      <td>1844719</td>\n",
       "      <td>82036</td>\n",
       "      <td>1926755</td>\n",
       "    </tr>\n",
       "    <tr>\n",
       "      <th>All</th>\n",
       "      <td>3082552</td>\n",
       "      <td>122004</td>\n",
       "      <td>3204556</td>\n",
       "    </tr>\n",
       "  </tbody>\n",
       "</table>\n",
       "</div>"
      ],
      "text/plain": [
       "event_retype        1       2      All\n",
       "half_of_day                           \n",
       "1             1237833   39968  1277801\n",
       "2             1844719   82036  1926755\n",
       "All           3082552  122004  3204556"
      ]
     },
     "execution_count": 47,
     "metadata": {},
     "output_type": "execute_result"
    }
   ],
   "source": [
    "%%time\n",
    "chi_crosstab = pd.crosstab(data_test_pd.half_of_day, data_test_pd.event_retype, margins=True)\n",
    "chi_crosstab"
   ]
  },
  {
   "cell_type": "code",
   "execution_count": 49,
   "id": "e7439f68-e9d6-4de6-8cd8-0393856f1b9b",
   "metadata": {
    "tags": []
   },
   "outputs": [
    {
     "name": "stdout",
     "output_type": "stream",
     "text": [
      "Statistically significant under level of sig=0.05 (0.0). H0 rejected.\n",
      "CPU times: total: 46.9 ms\n",
      "Wall time: 15.8 s\n"
     ]
    }
   ],
   "source": [
    "%%time\n",
    "obs = chi_crosstab.iloc[0, :]\n",
    "exp = chi_crosstab.iloc[1, :]\n",
    "\n",
    "obs = obs*exp.sum()/obs.sum() # for matching counts\n",
    "\n",
    "pval, chi = chi2_test(obs, exp)"
   ]
  },
  {
   "cell_type": "markdown",
   "id": "0a6f77d9",
   "metadata": {},
   "source": [
    "# $H_0$ 기각\n",
    "  * 쇼핑하는 사람들은 시간과 상관 없이 보기, 장바구니 담기, 구매를 한다."
   ]
  },
  {
   "cell_type": "code",
   "execution_count": 50,
   "id": "23180db7-f942-442e-96ec-0e55e9e56a44",
   "metadata": {
    "tags": []
   },
   "outputs": [
    {
     "name": "stdout",
     "output_type": "stream",
     "text": [
      "CPU times: total: 3.3 s\n",
      "Wall time: 13.1 s\n"
     ]
    }
   ],
   "source": [
    "%%time\n",
    "data_test_psdf = df_smartphone[[\"weekday\", \"event_retype\"]]\n",
    "data_test_pd = data_test_psdf.toPandas()"
   ]
  },
  {
   "cell_type": "code",
   "execution_count": 51,
   "id": "df4d7098-54b8-4113-81fc-68092ea14707",
   "metadata": {
    "tags": []
   },
   "outputs": [
    {
     "name": "stdout",
     "output_type": "stream",
     "text": [
      "CPU times: total: 438 ms\n",
      "Wall time: 756 ms\n"
     ]
    },
    {
     "data": {
      "text/html": [
       "<div>\n",
       "<style scoped>\n",
       "    .dataframe tbody tr th:only-of-type {\n",
       "        vertical-align: middle;\n",
       "    }\n",
       "\n",
       "    .dataframe tbody tr th {\n",
       "        vertical-align: top;\n",
       "    }\n",
       "\n",
       "    .dataframe thead th {\n",
       "        text-align: right;\n",
       "    }\n",
       "</style>\n",
       "<table border=\"1\" class=\"dataframe\">\n",
       "  <thead>\n",
       "    <tr style=\"text-align: right;\">\n",
       "      <th>event_retype</th>\n",
       "      <th>1</th>\n",
       "      <th>2</th>\n",
       "      <th>All</th>\n",
       "    </tr>\n",
       "    <tr>\n",
       "      <th>weekday</th>\n",
       "      <th></th>\n",
       "      <th></th>\n",
       "      <th></th>\n",
       "    </tr>\n",
       "  </thead>\n",
       "  <tbody>\n",
       "    <tr>\n",
       "      <th>1</th>\n",
       "      <td>445427</td>\n",
       "      <td>17363</td>\n",
       "      <td>462790</td>\n",
       "    </tr>\n",
       "    <tr>\n",
       "      <th>2</th>\n",
       "      <td>446655</td>\n",
       "      <td>18258</td>\n",
       "      <td>464913</td>\n",
       "    </tr>\n",
       "    <tr>\n",
       "      <th>3</th>\n",
       "      <td>450023</td>\n",
       "      <td>17291</td>\n",
       "      <td>467314</td>\n",
       "    </tr>\n",
       "    <tr>\n",
       "      <th>4</th>\n",
       "      <td>448740</td>\n",
       "      <td>17096</td>\n",
       "      <td>465836</td>\n",
       "    </tr>\n",
       "    <tr>\n",
       "      <th>5</th>\n",
       "      <td>443083</td>\n",
       "      <td>17445</td>\n",
       "      <td>460528</td>\n",
       "    </tr>\n",
       "    <tr>\n",
       "      <th>6</th>\n",
       "      <td>428116</td>\n",
       "      <td>17292</td>\n",
       "      <td>445408</td>\n",
       "    </tr>\n",
       "    <tr>\n",
       "      <th>7</th>\n",
       "      <td>420508</td>\n",
       "      <td>17259</td>\n",
       "      <td>437767</td>\n",
       "    </tr>\n",
       "    <tr>\n",
       "      <th>All</th>\n",
       "      <td>3082552</td>\n",
       "      <td>122004</td>\n",
       "      <td>3204556</td>\n",
       "    </tr>\n",
       "  </tbody>\n",
       "</table>\n",
       "</div>"
      ],
      "text/plain": [
       "event_retype        1       2      All\n",
       "weekday                               \n",
       "1              445427   17363   462790\n",
       "2              446655   18258   464913\n",
       "3              450023   17291   467314\n",
       "4              448740   17096   465836\n",
       "5              443083   17445   460528\n",
       "6              428116   17292   445408\n",
       "7              420508   17259   437767\n",
       "All           3082552  122004  3204556"
      ]
     },
     "execution_count": 51,
     "metadata": {},
     "output_type": "execute_result"
    }
   ],
   "source": [
    "%%time\n",
    "chi_ctab_wk = pd.crosstab(data_test_pd.weekday, data_test_pd.event_retype, margins=True)\n",
    "chi_ctab_wk"
   ]
  },
  {
   "cell_type": "code",
   "execution_count": 52,
   "id": "78791fab-dd66-4f55-868f-4c96c9ab04c0",
   "metadata": {
    "tags": []
   },
   "outputs": [
    {
     "name": "stdout",
     "output_type": "stream",
     "text": [
      "Statistically significant under level of sig=0.05 (5.81012073751334e-18). H0 rejected.\n",
      "CPU times: total: 0 ns\n",
      "Wall time: 2 ms\n"
     ]
    }
   ],
   "source": [
    "%%time\n",
    "pval, chi = chi2_test(chi_ctab_wk.iloc[:-1, 0] * (chi_ctab_wk.iloc[:-1, 1].sum()/chi_ctab_wk.iloc[:-1, 0].sum()), chi_ctab_wk.iloc[:-1, 1])"
   ]
  },
  {
   "cell_type": "markdown",
   "id": "fd0c7ffd",
   "metadata": {},
   "source": [
    "# $H_0$ 기각\n",
    "  * 요일은 보기/장바구니 담기/구매와 관계 없이 발생한다."
   ]
  },
  {
   "cell_type": "markdown",
   "id": "0577dbca-e49a-493b-93ce-9bee3a66342c",
   "metadata": {},
   "source": [
    "Conclusion: shoppers have different time preference for viewing vs. ATC & check-outs when shopping on e-comm platform."
   ]
  },
  {
   "cell_type": "markdown",
   "id": "cbe5cc5b-d0b3-457c-8fe2-2101b7a86923",
   "metadata": {},
   "source": [
    "## Funnel Analysis"
   ]
  },
  {
   "cell_type": "markdown",
   "id": "3d32e31b-f3e3-4947-9770-8e56514b6d41",
   "metadata": {},
   "source": [
    "Add-to-cart rate (ATCR) and cart abandonment rate\n",
    "\n",
    "now we're utilizing PySpark Pandas API"
   ]
  },
  {
   "cell_type": "code",
   "execution_count": 54,
   "id": "932e5b58-5d4b-4894-9aea-c5ad60a05312",
   "metadata": {
    "tags": []
   },
   "outputs": [
    {
     "name": "stderr",
     "output_type": "stream",
     "text": [
      "G:\\dev\\spark-3.2.4-bin-hadoop3.2\\python\\pyspark\\pandas\\__init__.py:47: UserWarning: 'PYARROW_IGNORE_TIMEZONE' environment variable was not set. It is required to set this environment variable to '1' in both driver and executor sides if you use pyarrow>=2.0.0. pandas-on-Spark will set it for you but it does not work if there is a Spark context already launched.\n",
      "  warnings.warn(\n"
     ]
    },
    {
     "name": "stdout",
     "output_type": "stream",
     "text": [
      "CPU times: total: 109 ms\n",
      "Wall time: 3.74 s\n"
     ]
    },
    {
     "data": {
      "text/html": [
       "<div>\n",
       "<style scoped>\n",
       "    .dataframe tbody tr th:only-of-type {\n",
       "        vertical-align: middle;\n",
       "    }\n",
       "\n",
       "    .dataframe tbody tr th {\n",
       "        vertical-align: top;\n",
       "    }\n",
       "\n",
       "    .dataframe thead th {\n",
       "        text-align: right;\n",
       "    }\n",
       "</style>\n",
       "<table border=\"1\" class=\"dataframe\">\n",
       "  <thead>\n",
       "    <tr style=\"text-align: right;\">\n",
       "      <th></th>\n",
       "      <th>num_user_session</th>\n",
       "    </tr>\n",
       "    <tr>\n",
       "      <th>time_session</th>\n",
       "      <th></th>\n",
       "    </tr>\n",
       "  </thead>\n",
       "  <tbody>\n",
       "    <tr>\n",
       "      <th>12-15</th>\n",
       "      <td>163868</td>\n",
       "    </tr>\n",
       "    <tr>\n",
       "      <th>21-24</th>\n",
       "      <td>210608</td>\n",
       "    </tr>\n",
       "    <tr>\n",
       "      <th>15-18</th>\n",
       "      <td>221649</td>\n",
       "    </tr>\n",
       "    <tr>\n",
       "      <th>18-21</th>\n",
       "      <td>220752</td>\n",
       "    </tr>\n",
       "    <tr>\n",
       "      <th>0-3</th>\n",
       "      <td>223144</td>\n",
       "    </tr>\n",
       "  </tbody>\n",
       "</table>\n",
       "</div>"
      ],
      "text/plain": [
       "              num_user_session\n",
       "time_session                  \n",
       "12-15                   163868\n",
       "21-24                   210608\n",
       "15-18                   221649\n",
       "18-21                   220752\n",
       "0-3                     223144"
      ]
     },
     "execution_count": 54,
     "metadata": {},
     "output_type": "execute_result"
    }
   ],
   "source": [
    "%%time\n",
    "import pyspark.pandas as ps\n",
    "\n",
    "data_test = df_smartphone.to_pandas_on_spark()\n",
    "\n",
    "user_session_by_time_session = data_test.drop_duplicates(subset=['user_session']).groupby(\"time_session\")['user_session'].count()\\\n",
    "    .to_frame().rename(columns={\"user_session\": \"num_user_session\"})\n",
    "user_session_by_time_session.head()"
   ]
  },
  {
   "cell_type": "code",
   "execution_count": 55,
   "id": "97e638cf-638e-491a-9ecf-713b4d720d36",
   "metadata": {
    "tags": []
   },
   "outputs": [
    {
     "name": "stdout",
     "output_type": "stream",
     "text": [
      "CPU times: total: 15.6 ms\n",
      "Wall time: 135 ms\n"
     ]
    },
    {
     "data": {
      "text/html": [
       "<div>\n",
       "<style scoped>\n",
       "    .dataframe tbody tr th:only-of-type {\n",
       "        vertical-align: middle;\n",
       "    }\n",
       "\n",
       "    .dataframe tbody tr th {\n",
       "        vertical-align: top;\n",
       "    }\n",
       "\n",
       "    .dataframe thead th {\n",
       "        text-align: right;\n",
       "    }\n",
       "</style>\n",
       "<table border=\"1\" class=\"dataframe\">\n",
       "  <thead>\n",
       "    <tr style=\"text-align: right;\">\n",
       "      <th></th>\n",
       "      <th>num_user_session_cart</th>\n",
       "    </tr>\n",
       "    <tr>\n",
       "      <th>time_session</th>\n",
       "      <th></th>\n",
       "    </tr>\n",
       "  </thead>\n",
       "  <tbody>\n",
       "    <tr>\n",
       "      <th>12-15</th>\n",
       "      <td>12899</td>\n",
       "    </tr>\n",
       "    <tr>\n",
       "      <th>21-24</th>\n",
       "      <td>15805</td>\n",
       "    </tr>\n",
       "    <tr>\n",
       "      <th>15-18</th>\n",
       "      <td>18524</td>\n",
       "    </tr>\n",
       "    <tr>\n",
       "      <th>18-21</th>\n",
       "      <td>18405</td>\n",
       "    </tr>\n",
       "    <tr>\n",
       "      <th>0-3</th>\n",
       "      <td>14765</td>\n",
       "    </tr>\n",
       "  </tbody>\n",
       "</table>\n",
       "</div>"
      ],
      "text/plain": [
       "              num_user_session_cart\n",
       "time_session                       \n",
       "12-15                         12899\n",
       "21-24                         15805\n",
       "15-18                         18524\n",
       "18-21                         18405\n",
       "0-3                           14765"
      ]
     },
     "execution_count": 55,
     "metadata": {},
     "output_type": "execute_result"
    }
   ],
   "source": [
    "%%time\n",
    "cart_sessions = data_test[data_test.event_type == 'cart']\n",
    "user_session_cart_by_time_session = cart_sessions.groupby(\"time_session\")['user_session'].count()\\\n",
    "    .to_frame().rename(columns={\"user_session\": \"num_user_session_cart\"})\n",
    "user_session_cart_by_time_session.head()"
   ]
  },
  {
   "cell_type": "code",
   "execution_count": 56,
   "id": "2c3b24a2-9aa0-4cc2-a37c-e834b4c3f5e9",
   "metadata": {
    "tags": []
   },
   "outputs": [
    {
     "name": "stdout",
     "output_type": "stream",
     "text": [
      "CPU times: total: 31.2 ms\n",
      "Wall time: 200 ms\n"
     ]
    },
    {
     "data": {
      "text/html": [
       "<div>\n",
       "<style scoped>\n",
       "    .dataframe tbody tr th:only-of-type {\n",
       "        vertical-align: middle;\n",
       "    }\n",
       "\n",
       "    .dataframe tbody tr th {\n",
       "        vertical-align: top;\n",
       "    }\n",
       "\n",
       "    .dataframe thead th {\n",
       "        text-align: right;\n",
       "    }\n",
       "</style>\n",
       "<table border=\"1\" class=\"dataframe\">\n",
       "  <thead>\n",
       "    <tr style=\"text-align: right;\">\n",
       "      <th></th>\n",
       "      <th>num_user_session</th>\n",
       "      <th>num_user_session_cart</th>\n",
       "      <th>atcr</th>\n",
       "    </tr>\n",
       "    <tr>\n",
       "      <th>time_session</th>\n",
       "      <th></th>\n",
       "      <th></th>\n",
       "      <th></th>\n",
       "    </tr>\n",
       "  </thead>\n",
       "  <tbody>\n",
       "    <tr>\n",
       "      <th>0-3</th>\n",
       "      <td>223144</td>\n",
       "      <td>14765</td>\n",
       "      <td>6.616803</td>\n",
       "    </tr>\n",
       "    <tr>\n",
       "      <th>12-15</th>\n",
       "      <td>163868</td>\n",
       "      <td>12899</td>\n",
       "      <td>7.871580</td>\n",
       "    </tr>\n",
       "    <tr>\n",
       "      <th>15-18</th>\n",
       "      <td>221649</td>\n",
       "      <td>18524</td>\n",
       "      <td>8.357358</td>\n",
       "    </tr>\n",
       "    <tr>\n",
       "      <th>18-21</th>\n",
       "      <td>220752</td>\n",
       "      <td>18405</td>\n",
       "      <td>8.337410</td>\n",
       "    </tr>\n",
       "    <tr>\n",
       "      <th>21-24</th>\n",
       "      <td>210608</td>\n",
       "      <td>15805</td>\n",
       "      <td>7.504463</td>\n",
       "    </tr>\n",
       "  </tbody>\n",
       "</table>\n",
       "</div>"
      ],
      "text/plain": [
       "              num_user_session  num_user_session_cart      atcr\n",
       "time_session                                                   \n",
       "0-3                     223144                  14765  6.616803\n",
       "12-15                   163868                  12899  7.871580\n",
       "15-18                   221649                  18524  8.357358\n",
       "18-21                   220752                  18405  8.337410\n",
       "21-24                   210608                  15805  7.504463"
      ]
     },
     "execution_count": 56,
     "metadata": {},
     "output_type": "execute_result"
    }
   ],
   "source": [
    "%%time\n",
    "ps.set_option('compute.ops_on_diff_frames', True) # only needed for pyspark pandas\n",
    "\n",
    "atcr_by_time_session = ps.concat([user_session_by_time_session, user_session_cart_by_time_session], axis=1)\n",
    "atcr_by_time_session['atcr'] = atcr_by_time_session.num_user_session_cart / atcr_by_time_session.num_user_session * 100\n",
    "atcr_by_time_session.head()"
   ]
  },
  {
   "cell_type": "code",
   "execution_count": 57,
   "id": "96928026-eaf3-49c8-ac3e-2dce405cad4d",
   "metadata": {
    "tags": []
   },
   "outputs": [
    {
     "name": "stdout",
     "output_type": "stream",
     "text": [
      "CPU times: total: 0 ns\n",
      "Wall time: 135 ms\n"
     ]
    },
    {
     "data": {
      "text/html": [
       "<div>\n",
       "<style scoped>\n",
       "    .dataframe tbody tr th:only-of-type {\n",
       "        vertical-align: middle;\n",
       "    }\n",
       "\n",
       "    .dataframe tbody tr th {\n",
       "        vertical-align: top;\n",
       "    }\n",
       "\n",
       "    .dataframe thead th {\n",
       "        text-align: right;\n",
       "    }\n",
       "</style>\n",
       "<table border=\"1\" class=\"dataframe\">\n",
       "  <thead>\n",
       "    <tr style=\"text-align: right;\">\n",
       "      <th></th>\n",
       "      <th>num_user_session_purchase</th>\n",
       "    </tr>\n",
       "    <tr>\n",
       "      <th>time_session</th>\n",
       "      <th></th>\n",
       "    </tr>\n",
       "  </thead>\n",
       "  <tbody>\n",
       "    <tr>\n",
       "      <th>12-15</th>\n",
       "      <td>4129</td>\n",
       "    </tr>\n",
       "    <tr>\n",
       "      <th>21-24</th>\n",
       "      <td>4728</td>\n",
       "    </tr>\n",
       "    <tr>\n",
       "      <th>15-18</th>\n",
       "      <td>5939</td>\n",
       "    </tr>\n",
       "    <tr>\n",
       "      <th>18-21</th>\n",
       "      <td>5748</td>\n",
       "    </tr>\n",
       "    <tr>\n",
       "      <th>0-3</th>\n",
       "      <td>4363</td>\n",
       "    </tr>\n",
       "  </tbody>\n",
       "</table>\n",
       "</div>"
      ],
      "text/plain": [
       "              num_user_session_purchase\n",
       "time_session                           \n",
       "12-15                              4129\n",
       "21-24                              4728\n",
       "15-18                              5939\n",
       "18-21                              5748\n",
       "0-3                                4363"
      ]
     },
     "execution_count": 57,
     "metadata": {},
     "output_type": "execute_result"
    }
   ],
   "source": [
    "%%time\n",
    "purchase_sessions = data_test[data_test.event_type == 'purchase']\n",
    "user_session_purchase_by_time_session = purchase_sessions.groupby(\"time_session\")['user_session'].count()\\\n",
    "    .to_frame().rename(columns={\"user_session\": \"num_user_session_purchase\"})\n",
    "user_session_purchase_by_time_session.head()"
   ]
  },
  {
   "cell_type": "code",
   "execution_count": 58,
   "id": "f478f2eb-edc0-49fb-9e3f-3343e613576a",
   "metadata": {
    "tags": []
   },
   "outputs": [
    {
     "name": "stdout",
     "output_type": "stream",
     "text": [
      "CPU times: total: 15.6 ms\n",
      "Wall time: 171 ms\n"
     ]
    },
    {
     "data": {
      "text/html": [
       "<div>\n",
       "<style scoped>\n",
       "    .dataframe tbody tr th:only-of-type {\n",
       "        vertical-align: middle;\n",
       "    }\n",
       "\n",
       "    .dataframe tbody tr th {\n",
       "        vertical-align: top;\n",
       "    }\n",
       "\n",
       "    .dataframe thead th {\n",
       "        text-align: right;\n",
       "    }\n",
       "</style>\n",
       "<table border=\"1\" class=\"dataframe\">\n",
       "  <thead>\n",
       "    <tr style=\"text-align: right;\">\n",
       "      <th></th>\n",
       "      <th>num_user_session_cart</th>\n",
       "      <th>num_user_session_purchase</th>\n",
       "      <th>ctcr</th>\n",
       "    </tr>\n",
       "    <tr>\n",
       "      <th>time_session</th>\n",
       "      <th></th>\n",
       "      <th></th>\n",
       "      <th></th>\n",
       "    </tr>\n",
       "  </thead>\n",
       "  <tbody>\n",
       "    <tr>\n",
       "      <th>0-3</th>\n",
       "      <td>14765</td>\n",
       "      <td>4363</td>\n",
       "      <td>29.549611</td>\n",
       "    </tr>\n",
       "    <tr>\n",
       "      <th>12-15</th>\n",
       "      <td>12899</td>\n",
       "      <td>4129</td>\n",
       "      <td>32.010233</td>\n",
       "    </tr>\n",
       "    <tr>\n",
       "      <th>15-18</th>\n",
       "      <td>18524</td>\n",
       "      <td>5939</td>\n",
       "      <td>32.061110</td>\n",
       "    </tr>\n",
       "    <tr>\n",
       "      <th>18-21</th>\n",
       "      <td>18405</td>\n",
       "      <td>5748</td>\n",
       "      <td>31.230644</td>\n",
       "    </tr>\n",
       "    <tr>\n",
       "      <th>21-24</th>\n",
       "      <td>15805</td>\n",
       "      <td>4728</td>\n",
       "      <td>29.914584</td>\n",
       "    </tr>\n",
       "  </tbody>\n",
       "</table>\n",
       "</div>"
      ],
      "text/plain": [
       "              num_user_session_cart  num_user_session_purchase       ctcr\n",
       "time_session                                                             \n",
       "0-3                           14765                       4363  29.549611\n",
       "12-15                         12899                       4129  32.010233\n",
       "15-18                         18524                       5939  32.061110\n",
       "18-21                         18405                       5748  31.230644\n",
       "21-24                         15805                       4728  29.914584"
      ]
     },
     "execution_count": 58,
     "metadata": {},
     "output_type": "execute_result"
    }
   ],
   "source": [
    "%%time\n",
    "ctcr_by_time_session = ps.concat([user_session_cart_by_time_session, user_session_purchase_by_time_session], axis=1)\n",
    "ctcr_by_time_session['ctcr'] = ctcr_by_time_session.num_user_session_purchase / ctcr_by_time_session.num_user_session_cart * 100\n",
    "ctcr_by_time_session.head()"
   ]
  },
  {
   "cell_type": "code",
   "execution_count": 59,
   "id": "dfde9756-7754-4064-adbb-55fae0b5bc6f",
   "metadata": {
    "tags": []
   },
   "outputs": [
    {
     "name": "stdout",
     "output_type": "stream",
     "text": [
      "CPU times: total: 0 ns\n",
      "Wall time: 43 ms\n"
     ]
    },
    {
     "data": {
      "text/html": [
       "<div>\n",
       "<style scoped>\n",
       "    .dataframe tbody tr th:only-of-type {\n",
       "        vertical-align: middle;\n",
       "    }\n",
       "\n",
       "    .dataframe tbody tr th {\n",
       "        vertical-align: top;\n",
       "    }\n",
       "\n",
       "    .dataframe thead th {\n",
       "        text-align: right;\n",
       "    }\n",
       "</style>\n",
       "<table border=\"1\" class=\"dataframe\">\n",
       "  <thead>\n",
       "    <tr style=\"text-align: right;\">\n",
       "      <th></th>\n",
       "      <th>num_user_session_cart</th>\n",
       "      <th>num_user_session_purchase</th>\n",
       "      <th>ctcr</th>\n",
       "      <th>car</th>\n",
       "    </tr>\n",
       "    <tr>\n",
       "      <th>time_session</th>\n",
       "      <th></th>\n",
       "      <th></th>\n",
       "      <th></th>\n",
       "      <th></th>\n",
       "    </tr>\n",
       "  </thead>\n",
       "  <tbody>\n",
       "    <tr>\n",
       "      <th>0-3</th>\n",
       "      <td>14765</td>\n",
       "      <td>4363</td>\n",
       "      <td>29.549611</td>\n",
       "      <td>70.450389</td>\n",
       "    </tr>\n",
       "    <tr>\n",
       "      <th>12-15</th>\n",
       "      <td>12899</td>\n",
       "      <td>4129</td>\n",
       "      <td>32.010233</td>\n",
       "      <td>67.989767</td>\n",
       "    </tr>\n",
       "    <tr>\n",
       "      <th>15-18</th>\n",
       "      <td>18524</td>\n",
       "      <td>5939</td>\n",
       "      <td>32.061110</td>\n",
       "      <td>67.938890</td>\n",
       "    </tr>\n",
       "    <tr>\n",
       "      <th>18-21</th>\n",
       "      <td>18405</td>\n",
       "      <td>5748</td>\n",
       "      <td>31.230644</td>\n",
       "      <td>68.769356</td>\n",
       "    </tr>\n",
       "    <tr>\n",
       "      <th>21-24</th>\n",
       "      <td>15805</td>\n",
       "      <td>4728</td>\n",
       "      <td>29.914584</td>\n",
       "      <td>70.085416</td>\n",
       "    </tr>\n",
       "    <tr>\n",
       "      <th>3-6</th>\n",
       "      <td>8020</td>\n",
       "      <td>2630</td>\n",
       "      <td>32.793017</td>\n",
       "      <td>67.206983</td>\n",
       "    </tr>\n",
       "    <tr>\n",
       "      <th>6-9</th>\n",
       "      <td>1779</td>\n",
       "      <td>621</td>\n",
       "      <td>34.907251</td>\n",
       "      <td>65.092749</td>\n",
       "    </tr>\n",
       "    <tr>\n",
       "      <th>9-12</th>\n",
       "      <td>2845</td>\n",
       "      <td>804</td>\n",
       "      <td>28.260105</td>\n",
       "      <td>71.739895</td>\n",
       "    </tr>\n",
       "  </tbody>\n",
       "</table>\n",
       "</div>"
      ],
      "text/plain": [
       "              num_user_session_cart  num_user_session_purchase       ctcr        car\n",
       "time_session                                                                        \n",
       "0-3                           14765                       4363  29.549611  70.450389\n",
       "12-15                         12899                       4129  32.010233  67.989767\n",
       "15-18                         18524                       5939  32.061110  67.938890\n",
       "18-21                         18405                       5748  31.230644  68.769356\n",
       "21-24                         15805                       4728  29.914584  70.085416\n",
       "3-6                            8020                       2630  32.793017  67.206983\n",
       "6-9                            1779                        621  34.907251  65.092749\n",
       "9-12                           2845                        804  28.260105  71.739895"
      ]
     },
     "execution_count": 59,
     "metadata": {},
     "output_type": "execute_result"
    }
   ],
   "source": [
    "%%time\n",
    "ctcr_by_time_session['car'] = 100 - ctcr_by_time_session.ctcr\n",
    "ctcr_by_time_session"
   ]
  },
  {
   "cell_type": "code",
   "execution_count": 62,
   "id": "51c39f23-3fdf-43c0-a45e-7a12bc30aa63",
   "metadata": {
    "tags": []
   },
   "outputs": [
    {
     "name": "stdout",
     "output_type": "stream",
     "text": [
      "CPU times: total: 0 ns\n",
      "Wall time: 87.2 ms\n"
     ]
    },
    {
     "data": {
      "text/plain": [
       "([<matplotlib.axis.XTick at 0x1894d364f70>,\n",
       "  <matplotlib.axis.XTick at 0x1894d364f40>,\n",
       "  <matplotlib.axis.XTick at 0x1894a7e1060>,\n",
       "  <matplotlib.axis.XTick at 0x1894d39e7a0>,\n",
       "  <matplotlib.axis.XTick at 0x1894d39f250>,\n",
       "  <matplotlib.axis.XTick at 0x1894d39fd00>,\n",
       "  <matplotlib.axis.XTick at 0x1894d39e350>,\n",
       "  <matplotlib.axis.XTick at 0x1894d3bc9a0>],\n",
       " [Text(0, 0, '0-3'),\n",
       "  Text(1, 0, '3-6'),\n",
       "  Text(2, 0, '6-9'),\n",
       "  Text(3, 0, '9-12'),\n",
       "  Text(4, 0, '12-15'),\n",
       "  Text(5, 0, '15-18'),\n",
       "  Text(6, 0, '18-21'),\n",
       "  Text(7, 0, '21-24')])"
      ]
     },
     "execution_count": 62,
     "metadata": {},
     "output_type": "execute_result"
    },
    {
     "data": {
      "image/png": "[encoded data removed]",
      "text/plain": [
       "<Figure size 640x480 with 2 Axes>"
      ]
     },
     "metadata": {},
     "output_type": "display_data"
    }
   ],
   "source": [
    "%%time\n",
    "# visualization\n",
    "fig, ax1 = plt.subplots()\n",
    "\n",
    "avg_atcr = 4.5\n",
    "ax1.plot(atcr_by_time_session.index, atcr_by_time_session.atcr, marker='.', color='#A0E4F1', label='Add-to-cart rate (LHS)')\n",
    "ax1.axhline(y=avg_atcr, linestyle='--', color='#A0E4F1', linewidth=1.5, label=f'Baseline: {avg_atcr}%')\n",
    "# ax1.set_ylim([0, 8])\n",
    "ax1.set_ylim([0, 10])\n",
    "ax1.set_xlabel(\"Time session in a day\")\n",
    "ax1.set_ylabel(\"ATCR\")\n",
    "ax1.legend(loc=\"upper right\")\n",
    "\n",
    "ax2 = ax1.twinx()\n",
    "ax2.plot(ctcr_by_time_session.index, ctcr_by_time_session.car, marker='.', color='#7EA6F4', label='Cart abandonment rate (RHS)')\n",
    "ax2.axhline(y=70, linestyle='--', color='#7EA6F4', linewidth=1.5, label='Baseline: 70%')\n",
    "ax2.set_ylim([0, 100])\n",
    "ax2.set_ylabel(\"CAR\")\n",
    "ax2.legend(loc=\"lower right\")\n",
    "\n",
    "plt.title(\"ATCR and Cart Abandonment Rate\")\n",
    "plt.xticks(time_sessions, session_labels)"
   ]
  },
  {
   "cell_type": "markdown",
   "id": "f4d9b5e9",
   "metadata": {},
   "source": [
    "# 그래프로 알게 된 것\n",
    "  * 장바구니에 담은 것은 시간대에 상관 없이 사지 않는다.\n",
    "  * 장바구니에 담는 것은 새벽~오후 시간대에 많다."
   ]
  },
  {
   "cell_type": "markdown",
   "id": "04c63441-3553-48d0-9173-edfd4c48f6da",
   "metadata": {},
   "source": [
    "Time interval between each decision to act"
   ]
  },
  {
   "cell_type": "code",
   "execution_count": 75,
   "id": "8f0fd9ed-96dc-447e-8360-8afa3e59c6f4",
   "metadata": {
    "tags": []
   },
   "outputs": [
    {
     "ename": "TypeError",
     "evalue": "'str' object is not callable",
     "output_type": "error",
     "traceback": [
      "\u001b[1;31m---------------------------------------------------------------------------\u001b[0m",
      "\u001b[1;31mTypeError\u001b[0m                                 Traceback (most recent call last)",
      "File \u001b[1;32m<timed exec>:9\u001b[0m\n",
      "\u001b[1;31mTypeError\u001b[0m: 'str' object is not callable"
     ]
    }
   ],
   "source": [
    "%%time\n",
    "from pyspark.sql.functions import concat\n",
    "\n",
    "df_test = df_smartphone.limit(20000).cache()\n",
    "\n",
    "df_test = df_test.withColumn(\"product_id\", df_test.product_id.cast('string'))\n",
    "df_test = df_test.withColumn(\"category_id\", df_test.category_id.cast('string'))\n",
    "df_test = df_test.withColumn(\"user_id\", df_test.user_id.cast('string'))\n",
    "\n",
    "max_id_len = df_test.withColumn(\"product_id_len\", length(col(\"product_id\")))\\\n",
    "                    .withColumn(\"category_id_len\", length(col(\"category_id\")))\\\n",
    "                    .withColumn(\"user_id_len\", length(col(\"user_id\")))\\\n",
    "                    .groupBy().agg(max(\"product_id_len\"), max(\"category_id_len\"), max(\"user_id_len\")).collect()\n",
    "\n",
    "len_pid, len_cid, len_uid = max_id_len[0]\n",
    "\n",
    "df_test = df_test.withColumn(\"product_id\", lpad(df_test.product_id, len_pid, '0'))\\\n",
    "                 .withColumn(\"category_id\", lpad(df_test.category_id, len_cid, '0'))\\\n",
    "                 .withColumn(\"user_id\", lpad(df_test.user_id, len_uid, '0'))\n",
    "\n",
    "df_test = df_test.withColumn(\"uid\", concat(col(\"user_id\"), col(\"brand\"), col(\"product_id\")))\n",
    "uid_view = df_test.filter(df_test.event_type == 'view').select(\"uid\").distinct()\n",
    "uid_cart = df_test.filter(df_test.event_type == 'cart').select(\"uid\").distinct()\n",
    "uid_purchase = df_test.filter(df_test.event_type == 'purchase').select(\"uid\").distinct()\n",
    "\n",
    "uid_common = uid_view.intersect(uid_cart).intersect(uid_purchase).collect()\n",
    "uid_common = [ u.uid for u in uid_common ]\n",
    "len(uid_common)"
   ]
  },
  {
   "cell_type": "markdown",
   "id": "e171a48c",
   "metadata": {},
   "source": [
    "# 알게 된 것: 상품 보는 사람과 구매하는 사람은 다르다.\n",
    "  * 상품을 본 사람과 장바구니에 담아 구매하는 사람은 다른 사람이다?"
   ]
  },
  {
   "cell_type": "markdown",
   "id": "7f380b7c-5bb1-4263-9eb9-2c684d2a4c3c",
   "metadata": {},
   "source": [
    "Filter userid+productid+brand with all three events (view-cart-purchase, with purchase being the end)\n",
    "\n",
    "Calculate number of sessions between first view to end purchase. What’s the average user session numbers before a customer place an order?\n",
    "\n",
    "Calculate the time gap between decisions: a) First view – ATC b) ATC – purchase What’s the average time interval between each decision? May use box plot\n",
    "\n",
    "Calculate the price change from first view, ATC and final payment. Is there any price changes that possibly affect consumer’s decision to buy?\n",
    "\n",
    "Brand analysis (simply)"
   ]
  },
  {
   "cell_type": "code",
   "execution_count": 65,
   "id": "6db88e19-6f39-439d-961d-8974a0517b07",
   "metadata": {
    "tags": []
   },
   "outputs": [
    {
     "name": "stdout",
     "output_type": "stream",
     "text": [
      "(0, 18)\n",
      "CPU times: total: 15.6 ms\n",
      "Wall time: 36 ms\n"
     ]
    }
   ],
   "source": [
    "%%time\n",
    "data_filtered = df_test.filter(df_test.uid.isin(uid_common))\n",
    "print((data_filtered.count(), len(data_filtered.columns)))"
   ]
  },
  {
   "cell_type": "markdown",
   "id": "fc903e07",
   "metadata": {},
   "source": [
    "# 알게 된 것: 상품 조회부터 구매까지 모두 다 한 사람은 없다."
   ]
  },
  {
   "cell_type": "code",
   "execution_count": 68,
   "id": "419e2246-9dab-4719-a63e-725c48bf15c4",
   "metadata": {
    "tags": []
   },
   "outputs": [
    {
     "name": "stdout",
     "output_type": "stream",
     "text": [
      "CPU times: total: 0 ns\n",
      "Wall time: 3.01 ms\n"
     ]
    },
    {
     "data": {
      "text/html": [
       "<div>\n",
       "<style scoped>\n",
       "    .dataframe tbody tr th:only-of-type {\n",
       "        vertical-align: middle;\n",
       "    }\n",
       "\n",
       "    .dataframe tbody tr th {\n",
       "        vertical-align: top;\n",
       "    }\n",
       "\n",
       "    .dataframe thead th {\n",
       "        text-align: right;\n",
       "    }\n",
       "</style>\n",
       "<table border=\"1\" class=\"dataframe\">\n",
       "  <thead>\n",
       "    <tr style=\"text-align: right;\">\n",
       "      <th></th>\n",
       "      <th>uid</th>\n",
       "      <th>time_view_to_cart</th>\n",
       "      <th>cart_duration</th>\n",
       "      <th>time_cart_to_purchase</th>\n",
       "      <th>time_view_to_purchase</th>\n",
       "      <th>num_user_sessions</th>\n",
       "      <th>price_change_view_to_cart</th>\n",
       "      <th>price_change_cart_to_purchase</th>\n",
       "    </tr>\n",
       "  </thead>\n",
       "  <tbody>\n",
       "  </tbody>\n",
       "</table>\n",
       "</div>"
      ],
      "text/plain": [
       "Empty DataFrame\n",
       "Columns: [uid, time_view_to_cart, cart_duration, time_cart_to_purchase, time_view_to_purchase, num_user_sessions, price_change_view_to_cart, price_change_cart_to_purchase]\n",
       "Index: []"
      ]
     },
     "execution_count": 68,
     "metadata": {},
     "output_type": "execute_result"
    }
   ],
   "source": [
    "%%time\n",
    "from datetime import datetime\n",
    "import timedelta\n",
    "\n",
    "def dt64_to_dt(datetime64):\n",
    "    return datetime.utcfromtimestamp(datetime64.tolist()/1e9)\n",
    "\n",
    "header = [\n",
    "            'uid',\n",
    "            'time_view_to_cart',\n",
    "            'cart_duration',\n",
    "            'time_cart_to_purchase',\n",
    "            'time_view_to_purchase',\n",
    "            'num_user_sessions',\n",
    "            'price_change_view_to_cart',\n",
    "            'price_change_cart_to_purchase'\n",
    "            ]\n",
    "\n",
    "interval_df = pd.DataFrame(columns=header)\n",
    "\n",
    "for i in uid_common:\n",
    "    data_selected = data_filtered.filter(data_filtered.uid == i).sort(\"event_time\").toPandas()\n",
    "    purchase_index = data_selected[data_selected.event_type == 'purchase'].index[-1]\n",
    "    data_selected = data_selected.loc[:purchase_index, :]\n",
    "\n",
    "    # time gap\n",
    "    try:\n",
    "        time_view = dt64_to_dt(data_selected[data_selected.event_type == 'view'].drop_duplicates(subset=['event_type'], keep='first')\\\n",
    "            .event_time.astype(np.datetime64).values[0])\n",
    "    except IndexError:\n",
    "        time_view = np.nan\n",
    "\n",
    "    try:\n",
    "        time_cart_first = dt64_to_dt(data_selected[data_selected.event_type == 'cart'].drop_duplicates(subset=['event_type'], keep='first')\\\n",
    "            .event_time.astype(np.datetime64).values[0])\n",
    "    except IndexError:\n",
    "        time_cart_first = np.nan\n",
    "\n",
    "    try:\n",
    "        time_cart_final = dt64_to_dt(data_selected[data_selected.event_type == 'cart'].drop_duplicates(subset=['event_type'], keep='last')\\\n",
    "            .event_time.astype(np.datetime64).values[0])\n",
    "    except IndexError:\n",
    "        time_cart_final = np.nan\n",
    "\n",
    "    try:\n",
    "        time_purchase = dt64_to_dt(data_selected[data_selected.event_type == 'purchase'].drop_duplicates(subset=['event_type'], keep='first')\\\n",
    "            .event_time.astype(np.datetime64).values[0])\n",
    "    except IndexError:\n",
    "        time_purchase = np.nan\n",
    "\n",
    "    try:\n",
    "        cart_duration = timedelta.Timedelta(time_cart_final - time_cart_first).total.seconds\n",
    "    except (AttributeError, TypeError):\n",
    "        cart_duration = np.nan\n",
    "\n",
    "    try:\n",
    "        view_to_cart = timedelta.Timedelta(time_cart_first - time_view).total.seconds\n",
    "    except (AttributeError, TypeError):\n",
    "        view_to_cart = np.nan\n",
    "\n",
    "    try:\n",
    "        cart_to_purchase = timedelta.Timedelta(time_purchase - time_cart_final).total.seconds\n",
    "    except (AttributeError, TypeError):\n",
    "        cart_to_purchase = np.nan\n",
    "\n",
    "    try:\n",
    "        view_to_purchase = timedelta.Timedelta(time_purchase - time_view).total.seconds\n",
    "    except (AttributeError, TypeError):\n",
    "        view_to_purchase = np.nan\n",
    "\n",
    "    # user session gap\n",
    "    user_session_gap = data_selected.user_session.nunique()\n",
    "\n",
    "    # price change\n",
    "    try:\n",
    "        price_view = data_selected[data_selected.event_type == 'view'].drop_duplicates(subset=['event_type'], keep='first').price.values[0]\n",
    "    except IndexError:\n",
    "        price_view = np.nan\n",
    "\n",
    "    try:\n",
    "        price_cart = data_selected[data_selected.event_type == 'cart'].drop_duplicates(subset=['event_type'], keep='first').price.values[0]\n",
    "    except IndexError:\n",
    "        price_cart = np.nan\n",
    "\n",
    "    try:\n",
    "        price_purchase = data_selected[data_selected.event_type == 'purchase'].drop_duplicates(subset=['event_type'], keep='first').price.values[0]\n",
    "    except IndexError:\n",
    "        price_purchase = np.nan\n",
    "\n",
    "    price_change_view_to_cart = price_cart / price_view - 1\n",
    "    price_change_cart_to_purchase = price_purchase / price_cart - 1\n",
    "\n",
    "    # combine and append\n",
    "    record = [\n",
    "                i,\n",
    "                view_to_cart,\n",
    "                cart_duration,\n",
    "                cart_to_purchase,\n",
    "                view_to_purchase,\n",
    "                user_session_gap,\n",
    "                price_change_view_to_cart,\n",
    "                price_change_cart_to_purchase\n",
    "                ]\n",
    "\n",
    "    interval_df.loc[interval_df.shape[0]] = record\n",
    "\n",
    "interval_df.head(10)"
   ]
  },
  {
   "cell_type": "code",
   "execution_count": 69,
   "id": "883b1988-489a-4993-9cc2-e0ddf221a990",
   "metadata": {
    "tags": []
   },
   "outputs": [
    {
     "name": "stdout",
     "output_type": "stream",
     "text": [
      "CPU times: total: 0 ns\n",
      "Wall time: 8 ms\n"
     ]
    },
    {
     "data": {
      "text/html": [
       "<div>\n",
       "<style scoped>\n",
       "    .dataframe tbody tr th:only-of-type {\n",
       "        vertical-align: middle;\n",
       "    }\n",
       "\n",
       "    .dataframe tbody tr th {\n",
       "        vertical-align: top;\n",
       "    }\n",
       "\n",
       "    .dataframe thead th {\n",
       "        text-align: right;\n",
       "    }\n",
       "</style>\n",
       "<table border=\"1\" class=\"dataframe\">\n",
       "  <thead>\n",
       "    <tr style=\"text-align: right;\">\n",
       "      <th></th>\n",
       "      <th>index</th>\n",
       "      <th>time_view_to_cart</th>\n",
       "      <th>cart_duration</th>\n",
       "      <th>time_cart_to_purchase</th>\n",
       "      <th>time_view_to_purchase</th>\n",
       "      <th>num_user_sessions</th>\n",
       "      <th>price_change_view_to_cart</th>\n",
       "      <th>price_change_cart_to_purchase</th>\n",
       "    </tr>\n",
       "  </thead>\n",
       "  <tbody>\n",
       "    <tr>\n",
       "      <th>count</th>\n",
       "      <td>0.0</td>\n",
       "      <td>0.0</td>\n",
       "      <td>0.0</td>\n",
       "      <td>0.0</td>\n",
       "      <td>0.0</td>\n",
       "      <td>0.0</td>\n",
       "      <td>0.0</td>\n",
       "      <td>0.0</td>\n",
       "    </tr>\n",
       "    <tr>\n",
       "      <th>mean</th>\n",
       "      <td>NaN</td>\n",
       "      <td>NaN</td>\n",
       "      <td>NaN</td>\n",
       "      <td>NaN</td>\n",
       "      <td>NaN</td>\n",
       "      <td>NaN</td>\n",
       "      <td>NaN</td>\n",
       "      <td>NaN</td>\n",
       "    </tr>\n",
       "    <tr>\n",
       "      <th>std</th>\n",
       "      <td>NaN</td>\n",
       "      <td>NaN</td>\n",
       "      <td>NaN</td>\n",
       "      <td>NaN</td>\n",
       "      <td>NaN</td>\n",
       "      <td>NaN</td>\n",
       "      <td>NaN</td>\n",
       "      <td>NaN</td>\n",
       "    </tr>\n",
       "    <tr>\n",
       "      <th>min</th>\n",
       "      <td>NaN</td>\n",
       "      <td>NaN</td>\n",
       "      <td>NaN</td>\n",
       "      <td>NaN</td>\n",
       "      <td>NaN</td>\n",
       "      <td>NaN</td>\n",
       "      <td>NaN</td>\n",
       "      <td>NaN</td>\n",
       "    </tr>\n",
       "    <tr>\n",
       "      <th>25%</th>\n",
       "      <td>NaN</td>\n",
       "      <td>NaN</td>\n",
       "      <td>NaN</td>\n",
       "      <td>NaN</td>\n",
       "      <td>NaN</td>\n",
       "      <td>NaN</td>\n",
       "      <td>NaN</td>\n",
       "      <td>NaN</td>\n",
       "    </tr>\n",
       "    <tr>\n",
       "      <th>50%</th>\n",
       "      <td>NaN</td>\n",
       "      <td>NaN</td>\n",
       "      <td>NaN</td>\n",
       "      <td>NaN</td>\n",
       "      <td>NaN</td>\n",
       "      <td>NaN</td>\n",
       "      <td>NaN</td>\n",
       "      <td>NaN</td>\n",
       "    </tr>\n",
       "    <tr>\n",
       "      <th>75%</th>\n",
       "      <td>NaN</td>\n",
       "      <td>NaN</td>\n",
       "      <td>NaN</td>\n",
       "      <td>NaN</td>\n",
       "      <td>NaN</td>\n",
       "      <td>NaN</td>\n",
       "      <td>NaN</td>\n",
       "      <td>NaN</td>\n",
       "    </tr>\n",
       "    <tr>\n",
       "      <th>max</th>\n",
       "      <td>NaN</td>\n",
       "      <td>NaN</td>\n",
       "      <td>NaN</td>\n",
       "      <td>NaN</td>\n",
       "      <td>NaN</td>\n",
       "      <td>NaN</td>\n",
       "      <td>NaN</td>\n",
       "      <td>NaN</td>\n",
       "    </tr>\n",
       "  </tbody>\n",
       "</table>\n",
       "</div>"
      ],
      "text/plain": [
       "       index  time_view_to_cart  cart_duration  time_cart_to_purchase  \\\n",
       "count    0.0                0.0            0.0                    0.0   \n",
       "mean     NaN                NaN            NaN                    NaN   \n",
       "std      NaN                NaN            NaN                    NaN   \n",
       "min      NaN                NaN            NaN                    NaN   \n",
       "25%      NaN                NaN            NaN                    NaN   \n",
       "50%      NaN                NaN            NaN                    NaN   \n",
       "75%      NaN                NaN            NaN                    NaN   \n",
       "max      NaN                NaN            NaN                    NaN   \n",
       "\n",
       "       time_view_to_purchase  num_user_sessions  price_change_view_to_cart  \\\n",
       "count                    0.0                0.0                        0.0   \n",
       "mean                     NaN                NaN                        NaN   \n",
       "std                      NaN                NaN                        NaN   \n",
       "min                      NaN                NaN                        NaN   \n",
       "25%                      NaN                NaN                        NaN   \n",
       "50%                      NaN                NaN                        NaN   \n",
       "75%                      NaN                NaN                        NaN   \n",
       "max                      NaN                NaN                        NaN   \n",
       "\n",
       "       price_change_cart_to_purchase  \n",
       "count                            0.0  \n",
       "mean                             NaN  \n",
       "std                              NaN  \n",
       "min                              NaN  \n",
       "25%                              NaN  \n",
       "50%                              NaN  \n",
       "75%                              NaN  \n",
       "max                              NaN  "
      ]
     },
     "execution_count": 69,
     "metadata": {},
     "output_type": "execute_result"
    }
   ],
   "source": [
    "%%time\n",
    "interval_df = interval_df.reset_index()\n",
    "interval_df.set_index('uid', inplace=True)\n",
    "interval_df = interval_df.astype(float).dropna(how='any')\n",
    "interval_df.describe()"
   ]
  },
  {
   "cell_type": "code",
   "execution_count": 70,
   "id": "0a363bb4-0aa9-47b5-9d9a-cd8a14970301",
   "metadata": {
    "tags": []
   },
   "outputs": [
    {
     "name": "stdout",
     "output_type": "stream",
     "text": [
      "CPU times: total: 0 ns\n",
      "Wall time: 8 ms\n"
     ]
    },
    {
     "data": {
      "text/html": [
       "<div>\n",
       "<style scoped>\n",
       "    .dataframe tbody tr th:only-of-type {\n",
       "        vertical-align: middle;\n",
       "    }\n",
       "\n",
       "    .dataframe tbody tr th {\n",
       "        vertical-align: top;\n",
       "    }\n",
       "\n",
       "    .dataframe thead th {\n",
       "        text-align: right;\n",
       "    }\n",
       "</style>\n",
       "<table border=\"1\" class=\"dataframe\">\n",
       "  <thead>\n",
       "    <tr style=\"text-align: right;\">\n",
       "      <th></th>\n",
       "      <th>index</th>\n",
       "      <th>time_view_to_cart</th>\n",
       "      <th>cart_duration</th>\n",
       "      <th>time_cart_to_purchase</th>\n",
       "      <th>time_view_to_purchase</th>\n",
       "      <th>num_user_sessions</th>\n",
       "      <th>price_change_view_to_cart</th>\n",
       "      <th>price_change_cart_to_purchase</th>\n",
       "    </tr>\n",
       "  </thead>\n",
       "  <tbody>\n",
       "    <tr>\n",
       "      <th>count</th>\n",
       "      <td>0.0</td>\n",
       "      <td>0.0</td>\n",
       "      <td>0.0</td>\n",
       "      <td>0.0</td>\n",
       "      <td>0.0</td>\n",
       "      <td>0.0</td>\n",
       "      <td>0.0</td>\n",
       "      <td>0.0</td>\n",
       "    </tr>\n",
       "    <tr>\n",
       "      <th>mean</th>\n",
       "      <td>NaN</td>\n",
       "      <td>NaN</td>\n",
       "      <td>NaN</td>\n",
       "      <td>NaN</td>\n",
       "      <td>NaN</td>\n",
       "      <td>NaN</td>\n",
       "      <td>NaN</td>\n",
       "      <td>NaN</td>\n",
       "    </tr>\n",
       "    <tr>\n",
       "      <th>std</th>\n",
       "      <td>NaN</td>\n",
       "      <td>NaN</td>\n",
       "      <td>NaN</td>\n",
       "      <td>NaN</td>\n",
       "      <td>NaN</td>\n",
       "      <td>NaN</td>\n",
       "      <td>NaN</td>\n",
       "      <td>NaN</td>\n",
       "    </tr>\n",
       "    <tr>\n",
       "      <th>min</th>\n",
       "      <td>NaN</td>\n",
       "      <td>NaN</td>\n",
       "      <td>NaN</td>\n",
       "      <td>NaN</td>\n",
       "      <td>NaN</td>\n",
       "      <td>NaN</td>\n",
       "      <td>NaN</td>\n",
       "      <td>NaN</td>\n",
       "    </tr>\n",
       "    <tr>\n",
       "      <th>25%</th>\n",
       "      <td>NaN</td>\n",
       "      <td>NaN</td>\n",
       "      <td>NaN</td>\n",
       "      <td>NaN</td>\n",
       "      <td>NaN</td>\n",
       "      <td>NaN</td>\n",
       "      <td>NaN</td>\n",
       "      <td>NaN</td>\n",
       "    </tr>\n",
       "    <tr>\n",
       "      <th>50%</th>\n",
       "      <td>NaN</td>\n",
       "      <td>NaN</td>\n",
       "      <td>NaN</td>\n",
       "      <td>NaN</td>\n",
       "      <td>NaN</td>\n",
       "      <td>NaN</td>\n",
       "      <td>NaN</td>\n",
       "      <td>NaN</td>\n",
       "    </tr>\n",
       "    <tr>\n",
       "      <th>75%</th>\n",
       "      <td>NaN</td>\n",
       "      <td>NaN</td>\n",
       "      <td>NaN</td>\n",
       "      <td>NaN</td>\n",
       "      <td>NaN</td>\n",
       "      <td>NaN</td>\n",
       "      <td>NaN</td>\n",
       "      <td>NaN</td>\n",
       "    </tr>\n",
       "    <tr>\n",
       "      <th>max</th>\n",
       "      <td>NaN</td>\n",
       "      <td>NaN</td>\n",
       "      <td>NaN</td>\n",
       "      <td>NaN</td>\n",
       "      <td>NaN</td>\n",
       "      <td>NaN</td>\n",
       "      <td>NaN</td>\n",
       "      <td>NaN</td>\n",
       "    </tr>\n",
       "  </tbody>\n",
       "</table>\n",
       "</div>"
      ],
      "text/plain": [
       "       index  time_view_to_cart  cart_duration  time_cart_to_purchase  \\\n",
       "count    0.0                0.0            0.0                    0.0   \n",
       "mean     NaN                NaN            NaN                    NaN   \n",
       "std      NaN                NaN            NaN                    NaN   \n",
       "min      NaN                NaN            NaN                    NaN   \n",
       "25%      NaN                NaN            NaN                    NaN   \n",
       "50%      NaN                NaN            NaN                    NaN   \n",
       "75%      NaN                NaN            NaN                    NaN   \n",
       "max      NaN                NaN            NaN                    NaN   \n",
       "\n",
       "       time_view_to_purchase  num_user_sessions  price_change_view_to_cart  \\\n",
       "count                    0.0                0.0                        0.0   \n",
       "mean                     NaN                NaN                        NaN   \n",
       "std                      NaN                NaN                        NaN   \n",
       "min                      NaN                NaN                        NaN   \n",
       "25%                      NaN                NaN                        NaN   \n",
       "50%                      NaN                NaN                        NaN   \n",
       "75%                      NaN                NaN                        NaN   \n",
       "max                      NaN                NaN                        NaN   \n",
       "\n",
       "       price_change_cart_to_purchase  \n",
       "count                            0.0  \n",
       "mean                             NaN  \n",
       "std                              NaN  \n",
       "min                              NaN  \n",
       "25%                              NaN  \n",
       "50%                              NaN  \n",
       "75%                              NaN  \n",
       "max                              NaN  "
      ]
     },
     "execution_count": 70,
     "metadata": {},
     "output_type": "execute_result"
    }
   ],
   "source": [
    "%%time\n",
    "interval_df_new = interval_df.copy()\n",
    "\n",
    "cols_to_winsor = ['time_view_to_cart', 'cart_duration', 'time_cart_to_purchase', 'time_view_to_purchase']\n",
    "time_bound = [300, 120, 300, 900]\n",
    "for i in range(len(cols_to_winsor)):\n",
    "    # interval_df_new[col] = mstats.winsorize(interval_df_new[col], limits=[0, 0.15])\n",
    "    col = cols_to_winsor[i]\n",
    "    timelim = time_bound[i]\n",
    "    interval_df_new.loc[interval_df_new[col] > timelim, col] = timelim\n",
    "    interval_df_new.loc[interval_df_new[col] < 0, col] = 0\n",
    "interval_df_new.describe()"
   ]
  },
  {
   "cell_type": "code",
   "execution_count": 71,
   "id": "9d6c4540-5380-4a55-a68c-4e103d2151a7",
   "metadata": {
    "tags": []
   },
   "outputs": [
    {
     "name": "stdout",
     "output_type": "stream",
     "text": [
      "CPU times: total: 0 ns\n",
      "Wall time: 112 ms\n"
     ]
    },
    {
     "data": {
      "image/png": "[encoded data removed]",
      "text/plain": [
       "<Figure size 800x600 with 4 Axes>"
      ]
     },
     "metadata": {},
     "output_type": "display_data"
    }
   ],
   "source": [
    "%%time\n",
    "flierprops = dict(marker='+', markerfacecolor='g', markersize=15, linestyle='none', markeredgecolor='r')\n",
    "fig = plt.figure(figsize=(8, 6))\n",
    "\n",
    "ax1 = fig.add_subplot(221)\n",
    "ax1.boxplot(interval_df_new.time_view_to_cart, flierprops=flierprops)\n",
    "ax1.set_title('Time from view to add-to-cart')\n",
    "\n",
    "ax2 = fig.add_subplot(222)\n",
    "ax2.boxplot(interval_df_new.cart_duration, flierprops=flierprops)\n",
    "ax2.set_title('Time between first to last add-to-cart')\n",
    "\n",
    "ax3 = fig.add_subplot(223)\n",
    "ax3.boxplot(interval_df_new.time_cart_to_purchase, flierprops=flierprops)\n",
    "ax3.set_title('Time from add-to-cart to purchase')\n",
    "\n",
    "ax4 = fig.add_subplot(224)\n",
    "ax4.boxplot(interval_df_new.time_view_to_purchase, flierprops=flierprops)\n",
    "ax4.set_title('Time from view to purchase')\n",
    "\n",
    "fig.tight_layout()"
   ]
  },
  {
   "cell_type": "markdown",
   "id": "baaf70c7-3349-4706-aed4-b5676f23a946",
   "metadata": {},
   "source": [
    "Done!"
   ]
  },
  {
   "cell_type": "code",
   "execution_count": 76,
   "id": "965ef5d6-fa60-498e-be54-d5e26a5b9670",
   "metadata": {},
   "outputs": [
    {
     "data": {
      "text/plain": [
       "3204556"
      ]
     },
     "execution_count": 76,
     "metadata": {},
     "output_type": "execute_result"
    }
   ],
   "source": [
    "df_smartphone.count()"
   ]
  },
  {
   "cell_type": "markdown",
   "id": "863eb92d",
   "metadata": {},
   "source": [
    "# 요일별로 가장 많이 구매하는 브랜드"
   ]
  },
  {
   "cell_type": "code",
   "execution_count": 82,
   "id": "bb416e13",
   "metadata": {},
   "outputs": [
    {
     "name": "stdout",
     "output_type": "stream",
     "text": [
      "+-----------+-----+\n",
      "|      brand|count|\n",
      "+-----------+-----+\n",
      "|       tmnt| 2523|\n",
      "|    tuffoni| 5339|\n",
      "|    blaster| 1389|\n",
      "|    keenway| 9030|\n",
      "|     rosato|  211|\n",
      "|       nerf|10218|\n",
      "|   avengers|  720|\n",
      "|     nasbro|  287|\n",
      "|    trikota|   17|\n",
      "|robocarpoli|35126|\n",
      "|     rieker|13137|\n",
      "|   skechers| 5409|\n",
      "|         mz|22578|\n",
      "|    sp.lion| 3089|\n",
      "|       jana|  174|\n",
      "|      rizmo|  156|\n",
      "| potatohead|   16|\n",
      "|      fleet|  107|\n",
      "|    greyder| 5026|\n",
      "| yogasprout|  330|\n",
      "+-----------+-----+\n",
      "only showing top 20 rows\n",
      "\n"
     ]
    }
   ],
   "source": [
    "temp = df_smartphone.select(\"brand\").groupBy(\"brand\").count().show()"
   ]
  },
  {
   "cell_type": "code",
   "execution_count": 100,
   "id": "9a71979b",
   "metadata": {},
   "outputs": [
    {
     "data": {
      "text/plain": [
       "['event_time',\n",
       " 'event_type',\n",
       " 'product_id',\n",
       " 'category_id',\n",
       " 'category_code',\n",
       " 'brand',\n",
       " 'price',\n",
       " 'user_id',\n",
       " 'user_session',\n",
       " 'dt',\n",
       " 'date',\n",
       " 'time',\n",
       " 'weekday',\n",
       " 'hour',\n",
       " 'time_session',\n",
       " 'half_of_day',\n",
       " 'event_retype']"
      ]
     },
     "execution_count": 100,
     "metadata": {},
     "output_type": "execute_result"
    }
   ],
   "source": [
    "df_smartphone.columns"
   ]
  },
  {
   "cell_type": "code",
   "execution_count": 103,
   "id": "1fd41860",
   "metadata": {},
   "outputs": [
    {
     "name": "stdout",
     "output_type": "stream",
     "text": [
      "+----------+\n",
      "|event_type|\n",
      "+----------+\n",
      "|  purchase|\n",
      "|      view|\n",
      "|      cart|\n",
      "+----------+\n",
      "\n"
     ]
    }
   ],
   "source": [
    "df_smartphone.select('event_type').distinct().show()"
   ]
  },
  {
   "cell_type": "code",
   "execution_count": 119,
   "id": "15ad3fc3",
   "metadata": {},
   "outputs": [],
   "source": [
    "df_purchase = df_smartphone.filter(df_smartphone.event_type == 'purchase').groupBy(\"brand\").count().toPandas()\n",
    "df_view = df_smartphone.filter(df_smartphone.event_type == 'view').groupBy(\"brand\").count().toPandas()\n",
    "df_cart = df_smartphone.filter(df_smartphone.event_type == 'cart').groupBy(\"brand\").count().toPandas()"
   ]
  },
  {
   "cell_type": "code",
   "execution_count": 124,
   "id": "b02c4db9",
   "metadata": {},
   "outputs": [
    {
     "data": {
      "text/html": [
       "<div>\n",
       "<style scoped>\n",
       "    .dataframe tbody tr th:only-of-type {\n",
       "        vertical-align: middle;\n",
       "    }\n",
       "\n",
       "    .dataframe tbody tr th {\n",
       "        vertical-align: top;\n",
       "    }\n",
       "\n",
       "    .dataframe thead th {\n",
       "        text-align: right;\n",
       "    }\n",
       "</style>\n",
       "<table border=\"1\" class=\"dataframe\">\n",
       "  <thead>\n",
       "    <tr style=\"text-align: right;\">\n",
       "      <th></th>\n",
       "      <th>brand</th>\n",
       "      <th>purchase</th>\n",
       "    </tr>\n",
       "  </thead>\n",
       "  <tbody>\n",
       "    <tr>\n",
       "      <th>0</th>\n",
       "      <td>lucente</td>\n",
       "      <td>9199</td>\n",
       "    </tr>\n",
       "    <tr>\n",
       "      <th>1</th>\n",
       "      <td>epson</td>\n",
       "      <td>3592</td>\n",
       "    </tr>\n",
       "    <tr>\n",
       "      <th>2</th>\n",
       "      <td>hp</td>\n",
       "      <td>1557</td>\n",
       "    </tr>\n",
       "    <tr>\n",
       "      <th>3</th>\n",
       "      <td>rastar</td>\n",
       "      <td>1095</td>\n",
       "    </tr>\n",
       "    <tr>\n",
       "      <th>4</th>\n",
       "      <td>escan</td>\n",
       "      <td>986</td>\n",
       "    </tr>\n",
       "    <tr>\n",
       "      <th>5</th>\n",
       "      <td>canon</td>\n",
       "      <td>817</td>\n",
       "    </tr>\n",
       "    <tr>\n",
       "      <th>6</th>\n",
       "      <td>respect</td>\n",
       "      <td>813</td>\n",
       "    </tr>\n",
       "    <tr>\n",
       "      <th>7</th>\n",
       "      <td>hb</td>\n",
       "      <td>753</td>\n",
       "    </tr>\n",
       "    <tr>\n",
       "      <th>8</th>\n",
       "      <td>edufun</td>\n",
       "      <td>710</td>\n",
       "    </tr>\n",
       "    <tr>\n",
       "      <th>9</th>\n",
       "      <td>adidas</td>\n",
       "      <td>498</td>\n",
       "    </tr>\n",
       "  </tbody>\n",
       "</table>\n",
       "</div>"
      ],
      "text/plain": [
       "     brand  purchase\n",
       "0  lucente      9199\n",
       "1    epson      3592\n",
       "2       hp      1557\n",
       "3   rastar      1095\n",
       "4    escan       986\n",
       "5    canon       817\n",
       "6  respect       813\n",
       "7       hb       753\n",
       "8   edufun       710\n",
       "9   adidas       498"
      ]
     },
     "execution_count": 124,
     "metadata": {},
     "output_type": "execute_result"
    }
   ],
   "source": [
    "df_top10_purchase_brand = df_purchase.sort_values(by='count', ascending=False)\n",
    "df_top10_purchase_brand = df_top10_purchase_brand.rename(columns={\"count\": \"purchase\"})\n",
    "df_top10_purchase_brand = df_top10_purchase_brand.reset_index(drop=True)\n",
    "df_top10_purchase_brand = df_top10_purchase_brand.head(10)\n",
    "df_top10_purchase_brand = pd.DataFrame(df_top10_purchase_brand)\n",
    "df_top10_purchase_brand"
   ]
  },
  {
   "cell_type": "code",
   "execution_count": 145,
   "id": "b7eeeed8",
   "metadata": {},
   "outputs": [
    {
     "data": {
      "text/html": [
       "<div>\n",
       "<style scoped>\n",
       "    .dataframe tbody tr th:only-of-type {\n",
       "        vertical-align: middle;\n",
       "    }\n",
       "\n",
       "    .dataframe tbody tr th {\n",
       "        vertical-align: top;\n",
       "    }\n",
       "\n",
       "    .dataframe thead th {\n",
       "        text-align: right;\n",
       "    }\n",
       "</style>\n",
       "<table border=\"1\" class=\"dataframe\">\n",
       "  <thead>\n",
       "    <tr style=\"text-align: right;\">\n",
       "      <th></th>\n",
       "      <th>brand</th>\n",
       "      <th>view</th>\n",
       "    </tr>\n",
       "  </thead>\n",
       "  <tbody>\n",
       "    <tr>\n",
       "      <th>0</th>\n",
       "      <td>lucente</td>\n",
       "      <td>447552</td>\n",
       "    </tr>\n",
       "    <tr>\n",
       "      <th>1</th>\n",
       "      <td>epson</td>\n",
       "      <td>173715</td>\n",
       "    </tr>\n",
       "    <tr>\n",
       "      <th>2</th>\n",
       "      <td>defacto</td>\n",
       "      <td>158534</td>\n",
       "    </tr>\n",
       "    <tr>\n",
       "      <th>3</th>\n",
       "      <td>rastar</td>\n",
       "      <td>153905</td>\n",
       "    </tr>\n",
       "    <tr>\n",
       "      <th>4</th>\n",
       "      <td>hp</td>\n",
       "      <td>132730</td>\n",
       "    </tr>\n",
       "    <tr>\n",
       "      <th>5</th>\n",
       "      <td>escan</td>\n",
       "      <td>104616</td>\n",
       "    </tr>\n",
       "    <tr>\n",
       "      <th>6</th>\n",
       "      <td>hasbro</td>\n",
       "      <td>100972</td>\n",
       "    </tr>\n",
       "    <tr>\n",
       "      <th>7</th>\n",
       "      <td>hb</td>\n",
       "      <td>87905</td>\n",
       "    </tr>\n",
       "    <tr>\n",
       "      <th>8</th>\n",
       "      <td>respect</td>\n",
       "      <td>83968</td>\n",
       "    </tr>\n",
       "    <tr>\n",
       "      <th>9</th>\n",
       "      <td>adidas</td>\n",
       "      <td>81546</td>\n",
       "    </tr>\n",
       "  </tbody>\n",
       "</table>\n",
       "</div>"
      ],
      "text/plain": [
       "     brand    view\n",
       "0  lucente  447552\n",
       "1    epson  173715\n",
       "2  defacto  158534\n",
       "3   rastar  153905\n",
       "4       hp  132730\n",
       "5    escan  104616\n",
       "6   hasbro  100972\n",
       "7       hb   87905\n",
       "8  respect   83968\n",
       "9   adidas   81546"
      ]
     },
     "execution_count": 145,
     "metadata": {},
     "output_type": "execute_result"
    }
   ],
   "source": [
    "df_top10_view = df_view.sort_values(by='count', ascending=False)\n",
    "df_top10_view = df_top10_view.rename(columns={\"count\": \"view\"})\n",
    "df_top10_view = df_top10_view.reset_index(drop=True)\n",
    "df_top10_view = df_top10_view.head(10)\n",
    "df_top10_view"
   ]
  },
  {
   "cell_type": "code",
   "execution_count": 146,
   "id": "fbab6701",
   "metadata": {},
   "outputs": [
    {
     "data": {
      "text/html": [
       "<div>\n",
       "<style scoped>\n",
       "    .dataframe tbody tr th:only-of-type {\n",
       "        vertical-align: middle;\n",
       "    }\n",
       "\n",
       "    .dataframe tbody tr th {\n",
       "        vertical-align: top;\n",
       "    }\n",
       "\n",
       "    .dataframe thead th {\n",
       "        text-align: right;\n",
       "    }\n",
       "</style>\n",
       "<table border=\"1\" class=\"dataframe\">\n",
       "  <thead>\n",
       "    <tr style=\"text-align: right;\">\n",
       "      <th></th>\n",
       "      <th>brand</th>\n",
       "      <th>cart</th>\n",
       "    </tr>\n",
       "  </thead>\n",
       "  <tbody>\n",
       "    <tr>\n",
       "      <th>0</th>\n",
       "      <td>lucente</td>\n",
       "      <td>19819</td>\n",
       "    </tr>\n",
       "    <tr>\n",
       "      <th>1</th>\n",
       "      <td>epson</td>\n",
       "      <td>11174</td>\n",
       "    </tr>\n",
       "    <tr>\n",
       "      <th>2</th>\n",
       "      <td>rastar</td>\n",
       "      <td>5769</td>\n",
       "    </tr>\n",
       "    <tr>\n",
       "      <th>3</th>\n",
       "      <td>hp</td>\n",
       "      <td>5112</td>\n",
       "    </tr>\n",
       "    <tr>\n",
       "      <th>4</th>\n",
       "      <td>hasbro</td>\n",
       "      <td>3436</td>\n",
       "    </tr>\n",
       "    <tr>\n",
       "      <th>5</th>\n",
       "      <td>canon</td>\n",
       "      <td>2716</td>\n",
       "    </tr>\n",
       "    <tr>\n",
       "      <th>6</th>\n",
       "      <td>escan</td>\n",
       "      <td>2688</td>\n",
       "    </tr>\n",
       "    <tr>\n",
       "      <th>7</th>\n",
       "      <td>hb</td>\n",
       "      <td>2532</td>\n",
       "    </tr>\n",
       "    <tr>\n",
       "      <th>8</th>\n",
       "      <td>respect</td>\n",
       "      <td>2307</td>\n",
       "    </tr>\n",
       "    <tr>\n",
       "      <th>9</th>\n",
       "      <td>edufun</td>\n",
       "      <td>2179</td>\n",
       "    </tr>\n",
       "  </tbody>\n",
       "</table>\n",
       "</div>"
      ],
      "text/plain": [
       "     brand   cart\n",
       "0  lucente  19819\n",
       "1    epson  11174\n",
       "2   rastar   5769\n",
       "3       hp   5112\n",
       "4   hasbro   3436\n",
       "5    canon   2716\n",
       "6    escan   2688\n",
       "7       hb   2532\n",
       "8  respect   2307\n",
       "9   edufun   2179"
      ]
     },
     "execution_count": 146,
     "metadata": {},
     "output_type": "execute_result"
    }
   ],
   "source": [
    "df_top10_cart = df_cart.sort_values(by='count', ascending=False)\n",
    "df_top10_cart = df_top10_cart.rename(columns={\"count\": \"cart\"})\n",
    "df_top10_cart = df_top10_cart.reset_index(drop=True)\n",
    "df_top10_cart = df_top10_cart.head(10)\n",
    "df_top10_cart"
   ]
  },
  {
   "cell_type": "code",
   "execution_count": null,
   "id": "3a5b351c",
   "metadata": {},
   "outputs": [],
   "source": []
  },
  {
   "cell_type": "markdown",
   "id": "0b08753d",
   "metadata": {},
   "source": [
    "# 가장 많이 구매하는 브랜드는 압도적으로 lucente"
   ]
  },
  {
   "cell_type": "code",
   "execution_count": 149,
   "id": "8380e44e",
   "metadata": {},
   "outputs": [
    {
     "data": {
      "image/png": "[encoded data removed]",
      "text/plain": [
       "<Figure size 2000x500 with 3 Axes>"
      ]
     },
     "metadata": {},
     "output_type": "display_data"
    }
   ],
   "source": [
    "import matplotlib.pyplot as plt\n",
    "\n",
    "fig = plt.figure(figsize=(20, 5))\n",
    "ax1 = fig.add_subplot(131)\n",
    "ax1.set_title('Top 10 Purchase Brands')\n",
    "ax1.set_xlabel('Brand')\n",
    "ax1.set_ylabel('Count')\n",
    "ax1.bar(df_top10_purchase_brand.brand, df_top10_purchase_brand['purchase'], color='#A0E4F1')\n",
    "plt.xticks(rotation=90)\n",
    "\n",
    "ax2 = fig.add_subplot(132)\n",
    "ax2.set_title('Top 10 View Brands')\n",
    "ax2.set_xlabel('Brand')\n",
    "ax2.set_ylabel('Count')\n",
    "ax2.bar(df_top10_view.brand, df_top10_view['view'], color='#7EA6F4')\n",
    "plt.xticks(rotation=90)\n",
    "\n",
    "ax3 = fig.add_subplot(133)\n",
    "ax3.set_title('Top 10 Cart Brands')\n",
    "ax3.set_xlabel('Brand')\n",
    "ax3.set_ylabel('Count')\n",
    "ax3.bar(df_top10_cart.brand, df_top10_cart['cart'], color='#4A4DE7')\n",
    "plt.xticks(rotation=90)\n",
    "\n",
    "plt.show()"
   ]
  },
  {
   "cell_type": "markdown",
   "id": "95bcaa6c",
   "metadata": {},
   "source": [
    "# 가장 많이 구매한 브랜드는 무슨 요일에 가장 많이 조회했고, 무슨 요일에 샀을까?"
   ]
  },
  {
   "cell_type": "markdown",
   "id": "281af063",
   "metadata": {},
   "source": []
  }
 ],
 "metadata": {
  "kernelspec": {
   "display_name": "Python 3 (ipykernel)",
   "language": "python",
   "name": "python3"
  },
  "language_info": {
   "codemirror_mode": {
    "name": "ipython",
    "version": 3
   },
   "file_extension": ".py",
   "mimetype": "text/x-python",
   "name": "python",
   "nbconvert_exporter": "python",
   "pygments_lexer": "ipython3",
   "version": "3.10.0"
  }
 },
 "nbformat": 4,
 "nbformat_minor": 5
}
