{
 "cells": [
  {
   "cell_type": "markdown",
   "id": "93bc1f75-790d-4212-965b-0f78bb9b01ca",
   "metadata": {},
   "source": [
    "# E-comm Dataset"
   ]
  },
  {
   "cell_type": "code",
   "execution_count": 1,
   "id": "0dd94ac3-4f7c-42c1-b4e7-d8caebbb2e20",
   "metadata": {
    "tags": []
   },
   "outputs": [
    {
     "name": "stdout",
     "output_type": "stream",
     "text": [
      "CPU times: total: 0 ns\n",
      "Wall time: 1.99 ms\n"
     ]
    }
   ],
   "source": [
    "%%time\n",
    "import findspark\n",
    "findspark.init()"
   ]
  },
  {
   "cell_type": "code",
   "execution_count": 2,
   "id": "f2add707-4097-4f36-83ff-99c8d5cee699",
   "metadata": {
    "tags": []
   },
   "outputs": [
    {
     "name": "stdout",
     "output_type": "stream",
     "text": [
      "CPU times: total: 172 ms\n",
      "Wall time: 4.67 s\n"
     ]
    },
    {
     "data": {
      "text/html": [
       "\n",
       "            <div>\n",
       "                <p><b>SparkSession - in-memory</b></p>\n",
       "                \n",
       "        <div>\n",
       "            <p><b>SparkContext</b></p>\n",
       "\n",
       "            <p><a href=\"http://LAPTOP-MSNV12JA:4040\">Spark UI</a></p>\n",
       "\n",
       "            <dl>\n",
       "              <dt>Version</dt>\n",
       "                <dd><code>v3.2.4</code></dd>\n",
       "              <dt>Master</dt>\n",
       "                <dd><code>local[*]</code></dd>\n",
       "              <dt>AppName</dt>\n",
       "                <dd><code>pyspark-shell</code></dd>\n",
       "            </dl>\n",
       "        </div>\n",
       "        \n",
       "            </div>\n",
       "        "
      ],
      "text/plain": [
       "<pyspark.sql.session.SparkSession at 0x1b47fb676a0>"
      ]
     },
     "execution_count": 2,
     "metadata": {},
     "output_type": "execute_result"
    }
   ],
   "source": [
    "%%time\n",
    "from pyspark.sql import SparkSession\n",
    "from datetime import datetime\n",
    "\n",
    "spark = SparkSession.builder.master('local[*]').getOrCreate()\n",
    "spark"
   ]
  },
  {
   "cell_type": "markdown",
   "id": "e3558139-366d-4837-9f38-4ae62e094a14",
   "metadata": {},
   "source": [
    "## Read Dataset"
   ]
  },
  {
   "cell_type": "code",
   "execution_count": 3,
   "id": "ae7ff565-666f-4a56-ac17-8a0ff8b1dbc4",
   "metadata": {
    "tags": []
   },
   "outputs": [
    {
     "name": "stdout",
     "output_type": "stream",
     "text": [
      "(4115346, 9)\n",
      "CPU times: total: 0 ns\n",
      "Wall time: 15.5 s\n"
     ]
    }
   ],
   "source": [
    "%%time\n",
    "df = spark.read.option(\"header\", \"true\") \\\n",
    "                  .option(\"inferSchema\", \"true\") \\\n",
    "                  .csv([\n",
    "                        './data/e-comm-toys.csv.gz'\n",
    "                    ])\n",
    "\n",
    "print((df.count(), len(df.columns)))"
   ]
  },
  {
   "cell_type": "code",
   "execution_count": 7,
   "id": "adc1cc7c",
   "metadata": {},
   "outputs": [],
   "source": [
    "import numpy as np\n",
    "import pandas as pd\n",
    "import plotly.express as px"
   ]
  },
  {
   "cell_type": "code",
   "execution_count": null,
   "id": "119837cf",
   "metadata": {},
   "outputs": [],
   "source": [
    "df.show(5)"
   ]
  },
  {
   "cell_type": "code",
   "execution_count": null,
   "id": "747974ed",
   "metadata": {},
   "outputs": [],
   "source": [
    "# category_code 확인\n",
    "\n",
    "df.select('category_code').distinct().collect()"
   ]
  },
  {
   "cell_type": "code",
   "execution_count": null,
   "id": "ad521a16-31b4-4bfa-9846-345b2d8b6d94",
   "metadata": {},
   "outputs": [],
   "source": [
    "# brand 확인\n",
    "\n",
    "import pandas as pd\n",
    "\n",
    "df.select('brand').distinct().show()"
   ]
  },
  {
   "cell_type": "code",
   "execution_count": null,
   "id": "a5c5ac75",
   "metadata": {},
   "outputs": [],
   "source": [
    "# event_type 확인\n",
    "df.select('event_type').distinct().show()"
   ]
  },
  {
   "cell_type": "code",
   "execution_count": null,
   "id": "0b9e57e2",
   "metadata": {},
   "outputs": [],
   "source": [
    "from pyspark.sql.functions import count\n",
    "# 구매한 사람이 가장 많이 샀던 브랜드\n",
    "\n",
    "df_brand = df.filter(df.event_type == 'purchase').groupBy('brand').agg(count(\"event_type\").alias('purchase')).toPandas()\n",
    "df_brand.sort_values(by='purchase', ascending=False)"
   ]
  },
  {
   "cell_type": "code",
   "execution_count": 4,
   "id": "40ab82c0",
   "metadata": {},
   "outputs": [
    {
     "name": "stdout",
     "output_type": "stream",
     "text": [
      "(3204556, 9)\n",
      "CPU times: total: 0 ns\n",
      "Wall time: 10.4 s\n"
     ]
    }
   ],
   "source": [
    "%%time\n",
    "df = df.na.drop()\n",
    "print((df.count(), len(df.columns)))"
   ]
  },
  {
   "cell_type": "code",
   "execution_count": 5,
   "id": "cde5bf93",
   "metadata": {},
   "outputs": [],
   "source": [
    "df_purchase = df.filter(df.event_type == 'purchase').groupBy(\"brand\").count().toPandas()\n",
    "df_view = df.filter(df.event_type == 'view').groupBy(\"brand\").count().toPandas()\n",
    "df_cart = df.filter(df.event_type == 'cart').groupBy(\"brand\").count().toPandas()"
   ]
  },
  {
   "cell_type": "code",
   "execution_count": 8,
   "id": "d49e8c49",
   "metadata": {},
   "outputs": [
    {
     "data": {
      "text/html": [
       "<div>\n",
       "<style scoped>\n",
       "    .dataframe tbody tr th:only-of-type {\n",
       "        vertical-align: middle;\n",
       "    }\n",
       "\n",
       "    .dataframe tbody tr th {\n",
       "        vertical-align: top;\n",
       "    }\n",
       "\n",
       "    .dataframe thead th {\n",
       "        text-align: right;\n",
       "    }\n",
       "</style>\n",
       "<table border=\"1\" class=\"dataframe\">\n",
       "  <thead>\n",
       "    <tr style=\"text-align: right;\">\n",
       "      <th></th>\n",
       "      <th>brand</th>\n",
       "      <th>purchase</th>\n",
       "    </tr>\n",
       "  </thead>\n",
       "  <tbody>\n",
       "    <tr>\n",
       "      <th>0</th>\n",
       "      <td>lucente</td>\n",
       "      <td>9199</td>\n",
       "    </tr>\n",
       "    <tr>\n",
       "      <th>1</th>\n",
       "      <td>epson</td>\n",
       "      <td>3592</td>\n",
       "    </tr>\n",
       "    <tr>\n",
       "      <th>2</th>\n",
       "      <td>hp</td>\n",
       "      <td>1557</td>\n",
       "    </tr>\n",
       "    <tr>\n",
       "      <th>3</th>\n",
       "      <td>rastar</td>\n",
       "      <td>1095</td>\n",
       "    </tr>\n",
       "    <tr>\n",
       "      <th>4</th>\n",
       "      <td>escan</td>\n",
       "      <td>986</td>\n",
       "    </tr>\n",
       "    <tr>\n",
       "      <th>5</th>\n",
       "      <td>canon</td>\n",
       "      <td>817</td>\n",
       "    </tr>\n",
       "    <tr>\n",
       "      <th>6</th>\n",
       "      <td>respect</td>\n",
       "      <td>813</td>\n",
       "    </tr>\n",
       "    <tr>\n",
       "      <th>7</th>\n",
       "      <td>hb</td>\n",
       "      <td>753</td>\n",
       "    </tr>\n",
       "    <tr>\n",
       "      <th>8</th>\n",
       "      <td>edufun</td>\n",
       "      <td>710</td>\n",
       "    </tr>\n",
       "    <tr>\n",
       "      <th>9</th>\n",
       "      <td>adidas</td>\n",
       "      <td>498</td>\n",
       "    </tr>\n",
       "  </tbody>\n",
       "</table>\n",
       "</div>"
      ],
      "text/plain": [
       "     brand  purchase\n",
       "0  lucente      9199\n",
       "1    epson      3592\n",
       "2       hp      1557\n",
       "3   rastar      1095\n",
       "4    escan       986\n",
       "5    canon       817\n",
       "6  respect       813\n",
       "7       hb       753\n",
       "8   edufun       710\n",
       "9   adidas       498"
      ]
     },
     "execution_count": 8,
     "metadata": {},
     "output_type": "execute_result"
    }
   ],
   "source": [
    "df_top10_purchase_brand = df_purchase.sort_values(by='count', ascending=False)\n",
    "df_top10_purchase_brand = df_top10_purchase_brand.rename(columns={\"count\": \"purchase\"})\n",
    "df_top10_purchase_brand = df_top10_purchase_brand.reset_index(drop=True)\n",
    "df_top10_purchase_brand = df_top10_purchase_brand.head(10)\n",
    "df_top10_purchase_brand = pd.DataFrame(df_top10_purchase_brand)\n",
    "df_top10_purchase_brand"
   ]
  },
  {
   "cell_type": "code",
   "execution_count": 9,
   "id": "23fb72b0",
   "metadata": {},
   "outputs": [
    {
     "data": {
      "text/html": [
       "<div>\n",
       "<style scoped>\n",
       "    .dataframe tbody tr th:only-of-type {\n",
       "        vertical-align: middle;\n",
       "    }\n",
       "\n",
       "    .dataframe tbody tr th {\n",
       "        vertical-align: top;\n",
       "    }\n",
       "\n",
       "    .dataframe thead th {\n",
       "        text-align: right;\n",
       "    }\n",
       "</style>\n",
       "<table border=\"1\" class=\"dataframe\">\n",
       "  <thead>\n",
       "    <tr style=\"text-align: right;\">\n",
       "      <th></th>\n",
       "      <th>brand</th>\n",
       "      <th>cart</th>\n",
       "    </tr>\n",
       "  </thead>\n",
       "  <tbody>\n",
       "    <tr>\n",
       "      <th>0</th>\n",
       "      <td>lucente</td>\n",
       "      <td>19819</td>\n",
       "    </tr>\n",
       "    <tr>\n",
       "      <th>1</th>\n",
       "      <td>epson</td>\n",
       "      <td>11174</td>\n",
       "    </tr>\n",
       "    <tr>\n",
       "      <th>2</th>\n",
       "      <td>rastar</td>\n",
       "      <td>5769</td>\n",
       "    </tr>\n",
       "    <tr>\n",
       "      <th>3</th>\n",
       "      <td>hp</td>\n",
       "      <td>5112</td>\n",
       "    </tr>\n",
       "    <tr>\n",
       "      <th>4</th>\n",
       "      <td>hasbro</td>\n",
       "      <td>3436</td>\n",
       "    </tr>\n",
       "    <tr>\n",
       "      <th>5</th>\n",
       "      <td>canon</td>\n",
       "      <td>2716</td>\n",
       "    </tr>\n",
       "    <tr>\n",
       "      <th>6</th>\n",
       "      <td>escan</td>\n",
       "      <td>2688</td>\n",
       "    </tr>\n",
       "    <tr>\n",
       "      <th>7</th>\n",
       "      <td>hb</td>\n",
       "      <td>2532</td>\n",
       "    </tr>\n",
       "    <tr>\n",
       "      <th>8</th>\n",
       "      <td>respect</td>\n",
       "      <td>2307</td>\n",
       "    </tr>\n",
       "    <tr>\n",
       "      <th>9</th>\n",
       "      <td>edufun</td>\n",
       "      <td>2179</td>\n",
       "    </tr>\n",
       "  </tbody>\n",
       "</table>\n",
       "</div>"
      ],
      "text/plain": [
       "     brand   cart\n",
       "0  lucente  19819\n",
       "1    epson  11174\n",
       "2   rastar   5769\n",
       "3       hp   5112\n",
       "4   hasbro   3436\n",
       "5    canon   2716\n",
       "6    escan   2688\n",
       "7       hb   2532\n",
       "8  respect   2307\n",
       "9   edufun   2179"
      ]
     },
     "execution_count": 9,
     "metadata": {},
     "output_type": "execute_result"
    }
   ],
   "source": [
    "df_top10_cart = df_cart.sort_values(by='count', ascending=False)\n",
    "df_top10_cart = df_top10_cart.rename(columns={\"count\": \"cart\"})\n",
    "df_top10_cart = df_top10_cart.reset_index(drop=True)\n",
    "df_top10_cart = df_top10_cart.head(10)\n",
    "df_top10_cart"
   ]
  },
  {
   "cell_type": "code",
   "execution_count": 10,
   "id": "59f3f91b",
   "metadata": {},
   "outputs": [
    {
     "data": {
      "text/html": [
       "<div>\n",
       "<style scoped>\n",
       "    .dataframe tbody tr th:only-of-type {\n",
       "        vertical-align: middle;\n",
       "    }\n",
       "\n",
       "    .dataframe tbody tr th {\n",
       "        vertical-align: top;\n",
       "    }\n",
       "\n",
       "    .dataframe thead th {\n",
       "        text-align: right;\n",
       "    }\n",
       "</style>\n",
       "<table border=\"1\" class=\"dataframe\">\n",
       "  <thead>\n",
       "    <tr style=\"text-align: right;\">\n",
       "      <th></th>\n",
       "      <th>brand</th>\n",
       "      <th>view</th>\n",
       "    </tr>\n",
       "  </thead>\n",
       "  <tbody>\n",
       "    <tr>\n",
       "      <th>0</th>\n",
       "      <td>lucente</td>\n",
       "      <td>447552</td>\n",
       "    </tr>\n",
       "    <tr>\n",
       "      <th>1</th>\n",
       "      <td>epson</td>\n",
       "      <td>173715</td>\n",
       "    </tr>\n",
       "    <tr>\n",
       "      <th>2</th>\n",
       "      <td>defacto</td>\n",
       "      <td>158534</td>\n",
       "    </tr>\n",
       "    <tr>\n",
       "      <th>3</th>\n",
       "      <td>rastar</td>\n",
       "      <td>153905</td>\n",
       "    </tr>\n",
       "    <tr>\n",
       "      <th>4</th>\n",
       "      <td>hp</td>\n",
       "      <td>132730</td>\n",
       "    </tr>\n",
       "    <tr>\n",
       "      <th>5</th>\n",
       "      <td>escan</td>\n",
       "      <td>104616</td>\n",
       "    </tr>\n",
       "    <tr>\n",
       "      <th>6</th>\n",
       "      <td>hasbro</td>\n",
       "      <td>100972</td>\n",
       "    </tr>\n",
       "    <tr>\n",
       "      <th>7</th>\n",
       "      <td>hb</td>\n",
       "      <td>87905</td>\n",
       "    </tr>\n",
       "    <tr>\n",
       "      <th>8</th>\n",
       "      <td>respect</td>\n",
       "      <td>83968</td>\n",
       "    </tr>\n",
       "    <tr>\n",
       "      <th>9</th>\n",
       "      <td>adidas</td>\n",
       "      <td>81546</td>\n",
       "    </tr>\n",
       "  </tbody>\n",
       "</table>\n",
       "</div>"
      ],
      "text/plain": [
       "     brand    view\n",
       "0  lucente  447552\n",
       "1    epson  173715\n",
       "2  defacto  158534\n",
       "3   rastar  153905\n",
       "4       hp  132730\n",
       "5    escan  104616\n",
       "6   hasbro  100972\n",
       "7       hb   87905\n",
       "8  respect   83968\n",
       "9   adidas   81546"
      ]
     },
     "execution_count": 10,
     "metadata": {},
     "output_type": "execute_result"
    }
   ],
   "source": [
    "df_top10_view = df_view.sort_values(by='count', ascending=False)\n",
    "df_top10_view = df_top10_view.rename(columns={\"count\": \"view\"})\n",
    "df_top10_view = df_top10_view.reset_index(drop=True)\n",
    "df_top10_view = df_top10_view.head(10)\n",
    "df_top10_view"
   ]
  },
  {
   "cell_type": "code",
   "execution_count": 11,
   "id": "44e2dedc",
   "metadata": {},
   "outputs": [
    {
     "data": {
      "image/png": "[encoded data removed]",
      "text/plain": [
       "<Figure size 2000x500 with 3 Axes>"
      ]
     },
     "metadata": {},
     "output_type": "display_data"
    }
   ],
   "source": [
    "import matplotlib.pyplot as plt\n",
    "\n",
    "fig = plt.figure(figsize=(20, 5))\n",
    "ax1 = fig.add_subplot(131)\n",
    "ax1.set_title('Top 10 Purchase Brands')\n",
    "ax1.set_xlabel('Brand')\n",
    "ax1.set_ylabel('Count')\n",
    "ax1.bar(df_top10_purchase_brand.brand, df_top10_purchase_brand['purchase'], color='#4A4DE7')\n",
    "plt.xticks(rotation=90)\n",
    "\n",
    "ax2 = fig.add_subplot(132)\n",
    "ax2.set_title('Top 10 Cart Brands')\n",
    "ax2.set_xlabel('Brand')\n",
    "ax2.set_ylabel('Count')\n",
    "ax2.bar(df_top10_cart.brand, df_top10_cart['cart'], color='#7EA6F4')\n",
    "plt.xticks(rotation=90)\n",
    "\n",
    "ax3 = fig.add_subplot(133)\n",
    "ax3.set_title('Top 10 View Brands')\n",
    "ax3.set_xlabel('Brand')\n",
    "ax3.set_ylabel('Count')\n",
    "ax3.bar(df_top10_view.brand, df_top10_view['view'], color='#A0E4F1')\n",
    "plt.xticks(rotation=90)\n",
    "\n",
    "plt.show()"
   ]
  },
  {
   "cell_type": "code",
   "execution_count": 85,
   "id": "1428cb82",
   "metadata": {},
   "outputs": [
    {
     "data": {
      "text/html": [
       "<div>\n",
       "<style scoped>\n",
       "    .dataframe tbody tr th:only-of-type {\n",
       "        vertical-align: middle;\n",
       "    }\n",
       "\n",
       "    .dataframe tbody tr th {\n",
       "        vertical-align: top;\n",
       "    }\n",
       "\n",
       "    .dataframe thead th {\n",
       "        text-align: right;\n",
       "    }\n",
       "</style>\n",
       "<table border=\"1\" class=\"dataframe\">\n",
       "  <thead>\n",
       "    <tr style=\"text-align: right;\">\n",
       "      <th></th>\n",
       "      <th>brand</th>\n",
       "      <th>sum</th>\n",
       "      <th>variable</th>\n",
       "      <th>value</th>\n",
       "    </tr>\n",
       "  </thead>\n",
       "  <tbody>\n",
       "    <tr>\n",
       "      <th>0</th>\n",
       "      <td>lucente</td>\n",
       "      <td>476570</td>\n",
       "      <td>view</td>\n",
       "      <td>447552</td>\n",
       "    </tr>\n",
       "    <tr>\n",
       "      <th>1</th>\n",
       "      <td>epson</td>\n",
       "      <td>188481</td>\n",
       "      <td>view</td>\n",
       "      <td>173715</td>\n",
       "    </tr>\n",
       "    <tr>\n",
       "      <th>2</th>\n",
       "      <td>hp</td>\n",
       "      <td>139399</td>\n",
       "      <td>view</td>\n",
       "      <td>132730</td>\n",
       "    </tr>\n",
       "    <tr>\n",
       "      <th>3</th>\n",
       "      <td>rastar</td>\n",
       "      <td>160769</td>\n",
       "      <td>view</td>\n",
       "      <td>153905</td>\n",
       "    </tr>\n",
       "    <tr>\n",
       "      <th>4</th>\n",
       "      <td>escan</td>\n",
       "      <td>108290</td>\n",
       "      <td>view</td>\n",
       "      <td>104616</td>\n",
       "    </tr>\n",
       "    <tr>\n",
       "      <th>5</th>\n",
       "      <td>lucente</td>\n",
       "      <td>476570</td>\n",
       "      <td>cart</td>\n",
       "      <td>19819</td>\n",
       "    </tr>\n",
       "    <tr>\n",
       "      <th>6</th>\n",
       "      <td>epson</td>\n",
       "      <td>188481</td>\n",
       "      <td>cart</td>\n",
       "      <td>11174</td>\n",
       "    </tr>\n",
       "    <tr>\n",
       "      <th>7</th>\n",
       "      <td>hp</td>\n",
       "      <td>139399</td>\n",
       "      <td>cart</td>\n",
       "      <td>5112</td>\n",
       "    </tr>\n",
       "    <tr>\n",
       "      <th>8</th>\n",
       "      <td>rastar</td>\n",
       "      <td>160769</td>\n",
       "      <td>cart</td>\n",
       "      <td>5769</td>\n",
       "    </tr>\n",
       "    <tr>\n",
       "      <th>9</th>\n",
       "      <td>escan</td>\n",
       "      <td>108290</td>\n",
       "      <td>cart</td>\n",
       "      <td>2688</td>\n",
       "    </tr>\n",
       "    <tr>\n",
       "      <th>10</th>\n",
       "      <td>lucente</td>\n",
       "      <td>476570</td>\n",
       "      <td>purchase</td>\n",
       "      <td>9199</td>\n",
       "    </tr>\n",
       "    <tr>\n",
       "      <th>11</th>\n",
       "      <td>epson</td>\n",
       "      <td>188481</td>\n",
       "      <td>purchase</td>\n",
       "      <td>3592</td>\n",
       "    </tr>\n",
       "    <tr>\n",
       "      <th>12</th>\n",
       "      <td>hp</td>\n",
       "      <td>139399</td>\n",
       "      <td>purchase</td>\n",
       "      <td>1557</td>\n",
       "    </tr>\n",
       "    <tr>\n",
       "      <th>13</th>\n",
       "      <td>rastar</td>\n",
       "      <td>160769</td>\n",
       "      <td>purchase</td>\n",
       "      <td>1095</td>\n",
       "    </tr>\n",
       "    <tr>\n",
       "      <th>14</th>\n",
       "      <td>escan</td>\n",
       "      <td>108290</td>\n",
       "      <td>purchase</td>\n",
       "      <td>986</td>\n",
       "    </tr>\n",
       "  </tbody>\n",
       "</table>\n",
       "</div>"
      ],
      "text/plain": [
       "      brand     sum  variable   value\n",
       "0   lucente  476570      view  447552\n",
       "1     epson  188481      view  173715\n",
       "2        hp  139399      view  132730\n",
       "3    rastar  160769      view  153905\n",
       "4     escan  108290      view  104616\n",
       "5   lucente  476570      cart   19819\n",
       "6     epson  188481      cart   11174\n",
       "7        hp  139399      cart    5112\n",
       "8    rastar  160769      cart    5769\n",
       "9     escan  108290      cart    2688\n",
       "10  lucente  476570  purchase    9199\n",
       "11    epson  188481  purchase    3592\n",
       "12       hp  139399  purchase    1557\n",
       "13   rastar  160769  purchase    1095\n",
       "14    escan  108290  purchase     986"
      ]
     },
     "execution_count": 85,
     "metadata": {},
     "output_type": "execute_result"
    }
   ],
   "source": [
    "import plotly.express as px\n",
    "\n",
    "stage = ['view', 'cart', 'purchase']\n",
    "df_funnel = pd.merge(pd.merge(df_top10_view, df_top10_cart, on='brand'), df_top10_purchase_brand, on='brand')\n",
    "df_funnel = df_funnel.sort_values('purchase', ascending=False).head(5)\n",
    "df_funnel['sum'] = df_funnel[stage].sum(axis=1)\n",
    "\n",
    "df_long = pd.melt(df_funnel, id_vars=['brand', 'sum'], value_vars=stage)\n",
    "df_long"
   ]
  },
  {
   "cell_type": "code",
   "execution_count": 86,
   "metadata": {},
   "outputs": [
    {
     "data": {
      "application/vnd.plotly.v1+json": {
       "config": {
        "plotlyServerURL": "https://plot.ly"
       },
       "data": [
        {
         "name": "lucente",
         "textfont": {
          "size": 20
         },
         "textinfo": "value+percent initial",
         "textposition": "inside",
         "type": "funnel",
         "x": [
          447552,
          19819,
          9199
         ],
         "y": [
          "view",
          "cart",
          "purchase"
         ]
        },
        {
         "name": "epson",
         "textfont": {
          "size": 20
         },
         "textinfo": "value+percent initial",
         "textposition": "inside",
         "type": "funnel",
         "x": [
          173715,
          11174,
          3592
         ],
         "y": [
          "view",
          "cart",
          "purchase"
         ]
        },
        {
         "name": "hp",
         "textfont": {
          "size": 20
         },
         "textinfo": "value+percent initial",
         "textposition": "inside",
         "type": "funnel",
         "x": [
          132730,
          5112,
          1557
         ],
         "y": [
          "view",
          "cart",
          "purchase"
         ]
        },
        {
         "name": "rastar",
         "textfont": {
          "size": 20
         },
         "textinfo": "value+percent initial",
         "textposition": "inside",
         "type": "funnel",
         "x": [
          153905,
          5769,
          1095
         ],
         "y": [
          "view",
          "cart",
          "purchase"
         ]
        },
        {
         "name": "escan",
         "textfont": {
          "size": 20
         },
         "textinfo": "value+percent initial",
         "textposition": "inside",
         "type": "funnel",
         "x": [
          104616,
          2688,
          986
         ],
         "y": [
          "view",
          "cart",
          "purchase"
         ]
        }
       ],
       "layout": {
        "template": {
         "data": {
          "bar": [
           {
            "error_x": {
             "color": "#2a3f5f"
            },
            "error_y": {
             "color": "#2a3f5f"
            },
            "marker": {
             "line": {
              "color": "#E5ECF6",
              "width": 0.5
             },
             "pattern": {
              "fillmode": "overlay",
              "size": 10,
              "solidity": 0.2
             }
            },
            "type": "bar"
           }
          ],
          "barpolar": [
           {
            "marker": {
             "line": {
              "color": "#E5ECF6",
              "width": 0.5
             },
             "pattern": {
              "fillmode": "overlay",
              "size": 10,
              "solidity": 0.2
             }
            },
            "type": "barpolar"
           }
          ],
          "carpet": [
           {
            "aaxis": {
             "endlinecolor": "#2a3f5f",
             "gridcolor": "white",
             "linecolor": "white",
             "minorgridcolor": "white",
             "startlinecolor": "#2a3f5f"
            },
            "baxis": {
             "endlinecolor": "#2a3f5f",
             "gridcolor": "white",
             "linecolor": "white",
             "minorgridcolor": "white",
             "startlinecolor": "#2a3f5f"
            },
            "type": "carpet"
           }
          ],
          "choropleth": [
           {
            "colorbar": {
             "outlinewidth": 0,
             "ticks": ""
            },
            "type": "choropleth"
           }
          ],
          "contour": [
           {
            "colorbar": {
             "outlinewidth": 0,
             "ticks": ""
            },
            "colorscale": [
             [
              0,
              "#0d0887"
             ],
             [
              0.1111111111111111,
              "#46039f"
             ],
             [
              0.2222222222222222,
              "#7201a8"
             ],
             [
              0.3333333333333333,
              "#9c179e"
             ],
             [
              0.4444444444444444,
              "#bd3786"
             ],
             [
              0.5555555555555556,
              "#d8576b"
             ],
             [
              0.6666666666666666,
              "#ed7953"
             ],
             [
              0.7777777777777778,
              "#fb9f3a"
             ],
             [
              0.8888888888888888,
              "#fdca26"
             ],
             [
              1,
              "#f0f921"
             ]
            ],
            "type": "contour"
           }
          ],
          "contourcarpet": [
           {
            "colorbar": {
             "outlinewidth": 0,
             "ticks": ""
            },
            "type": "contourcarpet"
           }
          ],
          "heatmap": [
           {
            "colorbar": {
             "outlinewidth": 0,
             "ticks": ""
            },
            "colorscale": [
             [
              0,
              "#0d0887"
             ],
             [
              0.1111111111111111,
              "#46039f"
             ],
             [
              0.2222222222222222,
              "#7201a8"
             ],
             [
              0.3333333333333333,
              "#9c179e"
             ],
             [
              0.4444444444444444,
              "#bd3786"
             ],
             [
              0.5555555555555556,
              "#d8576b"
             ],
             [
              0.6666666666666666,
              "#ed7953"
             ],
             [
              0.7777777777777778,
              "#fb9f3a"
             ],
             [
              0.8888888888888888,
              "#fdca26"
             ],
             [
              1,
              "#f0f921"
             ]
            ],
            "type": "heatmap"
           }
          ],
          "heatmapgl": [
           {
            "colorbar": {
             "outlinewidth": 0,
             "ticks": ""
            },
            "colorscale": [
             [
              0,
              "#0d0887"
             ],
             [
              0.1111111111111111,
              "#46039f"
             ],
             [
              0.2222222222222222,
              "#7201a8"
             ],
             [
              0.3333333333333333,
              "#9c179e"
             ],
             [
              0.4444444444444444,
              "#bd3786"
             ],
             [
              0.5555555555555556,
              "#d8576b"
             ],
             [
              0.6666666666666666,
              "#ed7953"
             ],
             [
              0.7777777777777778,
              "#fb9f3a"
             ],
             [
              0.8888888888888888,
              "#fdca26"
             ],
             [
              1,
              "#f0f921"
             ]
            ],
            "type": "heatmapgl"
           }
          ],
          "histogram": [
           {
            "marker": {
             "pattern": {
              "fillmode": "overlay",
              "size": 10,
              "solidity": 0.2
             }
            },
            "type": "histogram"
           }
          ],
          "histogram2d": [
           {
            "colorbar": {
             "outlinewidth": 0,
             "ticks": ""
            },
            "colorscale": [
             [
              0,
              "#0d0887"
             ],
             [
              0.1111111111111111,
              "#46039f"
             ],
             [
              0.2222222222222222,
              "#7201a8"
             ],
             [
              0.3333333333333333,
              "#9c179e"
             ],
             [
              0.4444444444444444,
              "#bd3786"
             ],
             [
              0.5555555555555556,
              "#d8576b"
             ],
             [
              0.6666666666666666,
              "#ed7953"
             ],
             [
              0.7777777777777778,
              "#fb9f3a"
             ],
             [
              0.8888888888888888,
              "#fdca26"
             ],
             [
              1,
              "#f0f921"
             ]
            ],
            "type": "histogram2d"
           }
          ],
          "histogram2dcontour": [
           {
            "colorbar": {
             "outlinewidth": 0,
             "ticks": ""
            },
            "colorscale": [
             [
              0,
              "#0d0887"
             ],
             [
              0.1111111111111111,
              "#46039f"
             ],
             [
              0.2222222222222222,
              "#7201a8"
             ],
             [
              0.3333333333333333,
              "#9c179e"
             ],
             [
              0.4444444444444444,
              "#bd3786"
             ],
             [
              0.5555555555555556,
              "#d8576b"
             ],
             [
              0.6666666666666666,
              "#ed7953"
             ],
             [
              0.7777777777777778,
              "#fb9f3a"
             ],
             [
              0.8888888888888888,
              "#fdca26"
             ],
             [
              1,
              "#f0f921"
             ]
            ],
            "type": "histogram2dcontour"
           }
          ],
          "mesh3d": [
           {
            "colorbar": {
             "outlinewidth": 0,
             "ticks": ""
            },
            "type": "mesh3d"
           }
          ],
          "parcoords": [
           {
            "line": {
             "colorbar": {
              "outlinewidth": 0,
              "ticks": ""
             }
            },
            "type": "parcoords"
           }
          ],
          "pie": [
           {
            "automargin": true,
            "type": "pie"
           }
          ],
          "scatter": [
           {
            "fillpattern": {
             "fillmode": "overlay",
             "size": 10,
             "solidity": 0.2
            },
            "type": "scatter"
           }
          ],
          "scatter3d": [
           {
            "line": {
             "colorbar": {
              "outlinewidth": 0,
              "ticks": ""
             }
            },
            "marker": {
             "colorbar": {
              "outlinewidth": 0,
              "ticks": ""
             }
            },
            "type": "scatter3d"
           }
          ],
          "scattercarpet": [
           {
            "marker": {
             "colorbar": {
              "outlinewidth": 0,
              "ticks": ""
             }
            },
            "type": "scattercarpet"
           }
          ],
          "scattergeo": [
           {
            "marker": {
             "colorbar": {
              "outlinewidth": 0,
              "ticks": ""
             }
            },
            "type": "scattergeo"
           }
          ],
          "scattergl": [
           {
            "marker": {
             "colorbar": {
              "outlinewidth": 0,
              "ticks": ""
             }
            },
            "type": "scattergl"
           }
          ],
          "scattermapbox": [
           {
            "marker": {
             "colorbar": {
              "outlinewidth": 0,
              "ticks": ""
             }
            },
            "type": "scattermapbox"
           }
          ],
          "scatterpolar": [
           {
            "marker": {
             "colorbar": {
              "outlinewidth": 0,
              "ticks": ""
             }
            },
            "type": "scatterpolar"
           }
          ],
          "scatterpolargl": [
           {
            "marker": {
             "colorbar": {
              "outlinewidth": 0,
              "ticks": ""
             }
            },
            "type": "scatterpolargl"
           }
          ],
          "scatterternary": [
           {
            "marker": {
             "colorbar": {
              "outlinewidth": 0,
              "ticks": ""
             }
            },
            "type": "scatterternary"
           }
          ],
          "surface": [
           {
            "colorbar": {
             "outlinewidth": 0,
             "ticks": ""
            },
            "colorscale": [
             [
              0,
              "#0d0887"
             ],
             [
              0.1111111111111111,
              "#46039f"
             ],
             [
              0.2222222222222222,
              "#7201a8"
             ],
             [
              0.3333333333333333,
              "#9c179e"
             ],
             [
              0.4444444444444444,
              "#bd3786"
             ],
             [
              0.5555555555555556,
              "#d8576b"
             ],
             [
              0.6666666666666666,
              "#ed7953"
             ],
             [
              0.7777777777777778,
              "#fb9f3a"
             ],
             [
              0.8888888888888888,
              "#fdca26"
             ],
             [
              1,
              "#f0f921"
             ]
            ],
            "type": "surface"
           }
          ],
          "table": [
           {
            "cells": {
             "fill": {
              "color": "#EBF0F8"
             },
             "line": {
              "color": "white"
             }
            },
            "header": {
             "fill": {
              "color": "#C8D4E3"
             },
             "line": {
              "color": "white"
             }
            },
            "type": "table"
           }
          ]
         },
         "layout": {
          "annotationdefaults": {
           "arrowcolor": "#2a3f5f",
           "arrowhead": 0,
           "arrowwidth": 1
          },
          "autotypenumbers": "strict",
          "coloraxis": {
           "colorbar": {
            "outlinewidth": 0,
            "ticks": ""
           }
          },
          "colorscale": {
           "diverging": [
            [
             0,
             "#8e0152"
            ],
            [
             0.1,
             "#c51b7d"
            ],
            [
             0.2,
             "#de77ae"
            ],
            [
             0.3,
             "#f1b6da"
            ],
            [
             0.4,
             "#fde0ef"
            ],
            [
             0.5,
             "#f7f7f7"
            ],
            [
             0.6,
             "#e6f5d0"
            ],
            [
             0.7,
             "#b8e186"
            ],
            [
             0.8,
             "#7fbc41"
            ],
            [
             0.9,
             "#4d9221"
            ],
            [
             1,
             "#276419"
            ]
           ],
           "sequential": [
            [
             0,
             "#0d0887"
            ],
            [
             0.1111111111111111,
             "#46039f"
            ],
            [
             0.2222222222222222,
             "#7201a8"
            ],
            [
             0.3333333333333333,
             "#9c179e"
            ],
            [
             0.4444444444444444,
             "#bd3786"
            ],
            [
             0.5555555555555556,
             "#d8576b"
            ],
            [
             0.6666666666666666,
             "#ed7953"
            ],
            [
             0.7777777777777778,
             "#fb9f3a"
            ],
            [
             0.8888888888888888,
             "#fdca26"
            ],
            [
             1,
             "#f0f921"
            ]
           ],
           "sequentialminus": [
            [
             0,
             "#0d0887"
            ],
            [
             0.1111111111111111,
             "#46039f"
            ],
            [
             0.2222222222222222,
             "#7201a8"
            ],
            [
             0.3333333333333333,
             "#9c179e"
            ],
            [
             0.4444444444444444,
             "#bd3786"
            ],
            [
             0.5555555555555556,
             "#d8576b"
            ],
            [
             0.6666666666666666,
             "#ed7953"
            ],
            [
             0.7777777777777778,
             "#fb9f3a"
            ],
            [
             0.8888888888888888,
             "#fdca26"
            ],
            [
             1,
             "#f0f921"
            ]
           ]
          },
          "colorway": [
           "#636efa",
           "#EF553B",
           "#00cc96",
           "#ab63fa",
           "#FFA15A",
           "#19d3f3",
           "#FF6692",
           "#B6E880",
           "#FF97FF",
           "#FECB52"
          ],
          "font": {
           "color": "#2a3f5f"
          },
          "geo": {
           "bgcolor": "white",
           "lakecolor": "white",
           "landcolor": "#E5ECF6",
           "showlakes": true,
           "showland": true,
           "subunitcolor": "white"
          },
          "hoverlabel": {
           "align": "left"
          },
          "hovermode": "closest",
          "mapbox": {
           "style": "light"
          },
          "paper_bgcolor": "white",
          "plot_bgcolor": "#E5ECF6",
          "polar": {
           "angularaxis": {
            "gridcolor": "white",
            "linecolor": "white",
            "ticks": ""
           },
           "bgcolor": "#E5ECF6",
           "radialaxis": {
            "gridcolor": "white",
            "linecolor": "white",
            "ticks": ""
           }
          },
          "scene": {
           "xaxis": {
            "backgroundcolor": "#E5ECF6",
            "gridcolor": "white",
            "gridwidth": 2,
            "linecolor": "white",
            "showbackground": true,
            "ticks": "",
            "zerolinecolor": "white"
           },
           "yaxis": {
            "backgroundcolor": "#E5ECF6",
            "gridcolor": "white",
            "gridwidth": 2,
            "linecolor": "white",
            "showbackground": true,
            "ticks": "",
            "zerolinecolor": "white"
           },
           "zaxis": {
            "backgroundcolor": "#E5ECF6",
            "gridcolor": "white",
            "gridwidth": 2,
            "linecolor": "white",
            "showbackground": true,
            "ticks": "",
            "zerolinecolor": "white"
           }
          },
          "shapedefaults": {
           "line": {
            "color": "#2a3f5f"
           }
          },
          "ternary": {
           "aaxis": {
            "gridcolor": "white",
            "linecolor": "white",
            "ticks": ""
           },
           "baxis": {
            "gridcolor": "white",
            "linecolor": "white",
            "ticks": ""
           },
           "bgcolor": "#E5ECF6",
           "caxis": {
            "gridcolor": "white",
            "linecolor": "white",
            "ticks": ""
           }
          },
          "title": {
           "x": 0.05
          },
          "xaxis": {
           "automargin": true,
           "gridcolor": "white",
           "linecolor": "white",
           "ticks": "",
           "title": {
            "standoff": 15
           },
           "zerolinecolor": "white",
           "zerolinewidth": 2
          },
          "yaxis": {
           "automargin": true,
           "gridcolor": "white",
           "linecolor": "white",
           "ticks": "",
           "title": {
            "standoff": 15
           },
           "zerolinecolor": "white",
           "zerolinewidth": 2
          }
         }
        }
       }
      }
     },
     "metadata": {},
     "output_type": "display_data"
    }
   ],
   "source": [
    "from plotly import graph_objects as go\n",
    "\n",
    "fig = go.Figure()\n",
    "\n",
    "for name in df_funnel['brand']:\n",
    "     fig.add_trace(go.Funnel(\n",
    "        name = name,\n",
    "        y = df_long[df_long['brand'] == name].variable,\n",
    "        x = (df_long[df_long['brand'] == name].value),\n",
    "        # / (df_long[df_long['brand'] == name]['sum']) * 100,\n",
    "        textposition = \"inside\",\n",
    "        textinfo = \"value+percent initial\",\n",
    "        textfont_size=20\n",
    "        ))\n",
    "\n",
    "fig.show()"
   ]
  },
  {
   "cell_type": "code",
   "execution_count": 87,
   "id": "2223ede8",
   "metadata": {},
   "outputs": [
    {
     "name": "stderr",
     "output_type": "stream",
     "text": [
      "C:\\Users\\ds48\\AppData\\Local\\Temp\\ipykernel_19348\\2846133060.py:9: UserWarning:\n",
      "\n",
      "Boolean Series key will be reindexed to match DataFrame index.\n",
      "\n",
      "C:\\Users\\ds48\\AppData\\Local\\Temp\\ipykernel_19348\\2846133060.py:10: UserWarning:\n",
      "\n",
      "Boolean Series key will be reindexed to match DataFrame index.\n",
      "\n"
     ]
    },
    {
     "data": {
      "application/vnd.plotly.v1+json": {
       "config": {
        "plotlyServerURL": "https://plot.ly"
       },
       "data": [
        {
         "name": "lucente",
         "textfont": {
          "size": 20
         },
         "textinfo": "value+percent initial",
         "textposition": "inside",
         "type": "funnel",
         "x": [
          19819,
          9199
         ],
         "y": [
          "cart",
          "purchase"
         ]
        },
        {
         "name": "epson",
         "textfont": {
          "size": 20
         },
         "textinfo": "value+percent initial",
         "textposition": "inside",
         "type": "funnel",
         "x": [
          11174,
          3592
         ],
         "y": [
          "cart",
          "purchase"
         ]
        },
        {
         "name": "hp",
         "textfont": {
          "size": 20
         },
         "textinfo": "value+percent initial",
         "textposition": "inside",
         "type": "funnel",
         "x": [
          5112,
          1557
         ],
         "y": [
          "cart",
          "purchase"
         ]
        },
        {
         "name": "rastar",
         "textfont": {
          "size": 20
         },
         "textinfo": "value+percent initial",
         "textposition": "inside",
         "type": "funnel",
         "x": [
          5769,
          1095
         ],
         "y": [
          "cart",
          "purchase"
         ]
        },
        {
         "name": "escan",
         "textfont": {
          "size": 20
         },
         "textinfo": "value+percent initial",
         "textposition": "inside",
         "type": "funnel",
         "x": [
          2688,
          986
         ],
         "y": [
          "cart",
          "purchase"
         ]
        }
       ],
       "layout": {
        "template": {
         "data": {
          "bar": [
           {
            "error_x": {
             "color": "#2a3f5f"
            },
            "error_y": {
             "color": "#2a3f5f"
            },
            "marker": {
             "line": {
              "color": "#E5ECF6",
              "width": 0.5
             },
             "pattern": {
              "fillmode": "overlay",
              "size": 10,
              "solidity": 0.2
             }
            },
            "type": "bar"
           }
          ],
          "barpolar": [
           {
            "marker": {
             "line": {
              "color": "#E5ECF6",
              "width": 0.5
             },
             "pattern": {
              "fillmode": "overlay",
              "size": 10,
              "solidity": 0.2
             }
            },
            "type": "barpolar"
           }
          ],
          "carpet": [
           {
            "aaxis": {
             "endlinecolor": "#2a3f5f",
             "gridcolor": "white",
             "linecolor": "white",
             "minorgridcolor": "white",
             "startlinecolor": "#2a3f5f"
            },
            "baxis": {
             "endlinecolor": "#2a3f5f",
             "gridcolor": "white",
             "linecolor": "white",
             "minorgridcolor": "white",
             "startlinecolor": "#2a3f5f"
            },
            "type": "carpet"
           }
          ],
          "choropleth": [
           {
            "colorbar": {
             "outlinewidth": 0,
             "ticks": ""
            },
            "type": "choropleth"
           }
          ],
          "contour": [
           {
            "colorbar": {
             "outlinewidth": 0,
             "ticks": ""
            },
            "colorscale": [
             [
              0,
              "#0d0887"
             ],
             [
              0.1111111111111111,
              "#46039f"
             ],
             [
              0.2222222222222222,
              "#7201a8"
             ],
             [
              0.3333333333333333,
              "#9c179e"
             ],
             [
              0.4444444444444444,
              "#bd3786"
             ],
             [
              0.5555555555555556,
              "#d8576b"
             ],
             [
              0.6666666666666666,
              "#ed7953"
             ],
             [
              0.7777777777777778,
              "#fb9f3a"
             ],
             [
              0.8888888888888888,
              "#fdca26"
             ],
             [
              1,
              "#f0f921"
             ]
            ],
            "type": "contour"
           }
          ],
          "contourcarpet": [
           {
            "colorbar": {
             "outlinewidth": 0,
             "ticks": ""
            },
            "type": "contourcarpet"
           }
          ],
          "heatmap": [
           {
            "colorbar": {
             "outlinewidth": 0,
             "ticks": ""
            },
            "colorscale": [
             [
              0,
              "#0d0887"
             ],
             [
              0.1111111111111111,
              "#46039f"
             ],
             [
              0.2222222222222222,
              "#7201a8"
             ],
             [
              0.3333333333333333,
              "#9c179e"
             ],
             [
              0.4444444444444444,
              "#bd3786"
             ],
             [
              0.5555555555555556,
              "#d8576b"
             ],
             [
              0.6666666666666666,
              "#ed7953"
             ],
             [
              0.7777777777777778,
              "#fb9f3a"
             ],
             [
              0.8888888888888888,
              "#fdca26"
             ],
             [
              1,
              "#f0f921"
             ]
            ],
            "type": "heatmap"
           }
          ],
          "heatmapgl": [
           {
            "colorbar": {
             "outlinewidth": 0,
             "ticks": ""
            },
            "colorscale": [
             [
              0,
              "#0d0887"
             ],
             [
              0.1111111111111111,
              "#46039f"
             ],
             [
              0.2222222222222222,
              "#7201a8"
             ],
             [
              0.3333333333333333,
              "#9c179e"
             ],
             [
              0.4444444444444444,
              "#bd3786"
             ],
             [
              0.5555555555555556,
              "#d8576b"
             ],
             [
              0.6666666666666666,
              "#ed7953"
             ],
             [
              0.7777777777777778,
              "#fb9f3a"
             ],
             [
              0.8888888888888888,
              "#fdca26"
             ],
             [
              1,
              "#f0f921"
             ]
            ],
            "type": "heatmapgl"
           }
          ],
          "histogram": [
           {
            "marker": {
             "pattern": {
              "fillmode": "overlay",
              "size": 10,
              "solidity": 0.2
             }
            },
            "type": "histogram"
           }
          ],
          "histogram2d": [
           {
            "colorbar": {
             "outlinewidth": 0,
             "ticks": ""
            },
            "colorscale": [
             [
              0,
              "#0d0887"
             ],
             [
              0.1111111111111111,
              "#46039f"
             ],
             [
              0.2222222222222222,
              "#7201a8"
             ],
             [
              0.3333333333333333,
              "#9c179e"
             ],
             [
              0.4444444444444444,
              "#bd3786"
             ],
             [
              0.5555555555555556,
              "#d8576b"
             ],
             [
              0.6666666666666666,
              "#ed7953"
             ],
             [
              0.7777777777777778,
              "#fb9f3a"
             ],
             [
              0.8888888888888888,
              "#fdca26"
             ],
             [
              1,
              "#f0f921"
             ]
            ],
            "type": "histogram2d"
           }
          ],
          "histogram2dcontour": [
           {
            "colorbar": {
             "outlinewidth": 0,
             "ticks": ""
            },
            "colorscale": [
             [
              0,
              "#0d0887"
             ],
             [
              0.1111111111111111,
              "#46039f"
             ],
             [
              0.2222222222222222,
              "#7201a8"
             ],
             [
              0.3333333333333333,
              "#9c179e"
             ],
             [
              0.4444444444444444,
              "#bd3786"
             ],
             [
              0.5555555555555556,
              "#d8576b"
             ],
             [
              0.6666666666666666,
              "#ed7953"
             ],
             [
              0.7777777777777778,
              "#fb9f3a"
             ],
             [
              0.8888888888888888,
              "#fdca26"
             ],
             [
              1,
              "#f0f921"
             ]
            ],
            "type": "histogram2dcontour"
           }
          ],
          "mesh3d": [
           {
            "colorbar": {
             "outlinewidth": 0,
             "ticks": ""
            },
            "type": "mesh3d"
           }
          ],
          "parcoords": [
           {
            "line": {
             "colorbar": {
              "outlinewidth": 0,
              "ticks": ""
             }
            },
            "type": "parcoords"
           }
          ],
          "pie": [
           {
            "automargin": true,
            "type": "pie"
           }
          ],
          "scatter": [
           {
            "fillpattern": {
             "fillmode": "overlay",
             "size": 10,
             "solidity": 0.2
            },
            "type": "scatter"
           }
          ],
          "scatter3d": [
           {
            "line": {
             "colorbar": {
              "outlinewidth": 0,
              "ticks": ""
             }
            },
            "marker": {
             "colorbar": {
              "outlinewidth": 0,
              "ticks": ""
             }
            },
            "type": "scatter3d"
           }
          ],
          "scattercarpet": [
           {
            "marker": {
             "colorbar": {
              "outlinewidth": 0,
              "ticks": ""
             }
            },
            "type": "scattercarpet"
           }
          ],
          "scattergeo": [
           {
            "marker": {
             "colorbar": {
              "outlinewidth": 0,
              "ticks": ""
             }
            },
            "type": "scattergeo"
           }
          ],
          "scattergl": [
           {
            "marker": {
             "colorbar": {
              "outlinewidth": 0,
              "ticks": ""
             }
            },
            "type": "scattergl"
           }
          ],
          "scattermapbox": [
           {
            "marker": {
             "colorbar": {
              "outlinewidth": 0,
              "ticks": ""
             }
            },
            "type": "scattermapbox"
           }
          ],
          "scatterpolar": [
           {
            "marker": {
             "colorbar": {
              "outlinewidth": 0,
              "ticks": ""
             }
            },
            "type": "scatterpolar"
           }
          ],
          "scatterpolargl": [
           {
            "marker": {
             "colorbar": {
              "outlinewidth": 0,
              "ticks": ""
             }
            },
            "type": "scatterpolargl"
           }
          ],
          "scatterternary": [
           {
            "marker": {
             "colorbar": {
              "outlinewidth": 0,
              "ticks": ""
             }
            },
            "type": "scatterternary"
           }
          ],
          "surface": [
           {
            "colorbar": {
             "outlinewidth": 0,
             "ticks": ""
            },
            "colorscale": [
             [
              0,
              "#0d0887"
             ],
             [
              0.1111111111111111,
              "#46039f"
             ],
             [
              0.2222222222222222,
              "#7201a8"
             ],
             [
              0.3333333333333333,
              "#9c179e"
             ],
             [
              0.4444444444444444,
              "#bd3786"
             ],
             [
              0.5555555555555556,
              "#d8576b"
             ],
             [
              0.6666666666666666,
              "#ed7953"
             ],
             [
              0.7777777777777778,
              "#fb9f3a"
             ],
             [
              0.8888888888888888,
              "#fdca26"
             ],
             [
              1,
              "#f0f921"
             ]
            ],
            "type": "surface"
           }
          ],
          "table": [
           {
            "cells": {
             "fill": {
              "color": "#EBF0F8"
             },
             "line": {
              "color": "white"
             }
            },
            "header": {
             "fill": {
              "color": "#C8D4E3"
             },
             "line": {
              "color": "white"
             }
            },
            "type": "table"
           }
          ]
         },
         "layout": {
          "annotationdefaults": {
           "arrowcolor": "#2a3f5f",
           "arrowhead": 0,
           "arrowwidth": 1
          },
          "autotypenumbers": "strict",
          "coloraxis": {
           "colorbar": {
            "outlinewidth": 0,
            "ticks": ""
           }
          },
          "colorscale": {
           "diverging": [
            [
             0,
             "#8e0152"
            ],
            [
             0.1,
             "#c51b7d"
            ],
            [
             0.2,
             "#de77ae"
            ],
            [
             0.3,
             "#f1b6da"
            ],
            [
             0.4,
             "#fde0ef"
            ],
            [
             0.5,
             "#f7f7f7"
            ],
            [
             0.6,
             "#e6f5d0"
            ],
            [
             0.7,
             "#b8e186"
            ],
            [
             0.8,
             "#7fbc41"
            ],
            [
             0.9,
             "#4d9221"
            ],
            [
             1,
             "#276419"
            ]
           ],
           "sequential": [
            [
             0,
             "#0d0887"
            ],
            [
             0.1111111111111111,
             "#46039f"
            ],
            [
             0.2222222222222222,
             "#7201a8"
            ],
            [
             0.3333333333333333,
             "#9c179e"
            ],
            [
             0.4444444444444444,
             "#bd3786"
            ],
            [
             0.5555555555555556,
             "#d8576b"
            ],
            [
             0.6666666666666666,
             "#ed7953"
            ],
            [
             0.7777777777777778,
             "#fb9f3a"
            ],
            [
             0.8888888888888888,
             "#fdca26"
            ],
            [
             1,
             "#f0f921"
            ]
           ],
           "sequentialminus": [
            [
             0,
             "#0d0887"
            ],
            [
             0.1111111111111111,
             "#46039f"
            ],
            [
             0.2222222222222222,
             "#7201a8"
            ],
            [
             0.3333333333333333,
             "#9c179e"
            ],
            [
             0.4444444444444444,
             "#bd3786"
            ],
            [
             0.5555555555555556,
             "#d8576b"
            ],
            [
             0.6666666666666666,
             "#ed7953"
            ],
            [
             0.7777777777777778,
             "#fb9f3a"
            ],
            [
             0.8888888888888888,
             "#fdca26"
            ],
            [
             1,
             "#f0f921"
            ]
           ]
          },
          "colorway": [
           "#636efa",
           "#EF553B",
           "#00cc96",
           "#ab63fa",
           "#FFA15A",
           "#19d3f3",
           "#FF6692",
           "#B6E880",
           "#FF97FF",
           "#FECB52"
          ],
          "font": {
           "color": "#2a3f5f"
          },
          "geo": {
           "bgcolor": "white",
           "lakecolor": "white",
           "landcolor": "#E5ECF6",
           "showlakes": true,
           "showland": true,
           "subunitcolor": "white"
          },
          "hoverlabel": {
           "align": "left"
          },
          "hovermode": "closest",
          "mapbox": {
           "style": "light"
          },
          "paper_bgcolor": "white",
          "plot_bgcolor": "#E5ECF6",
          "polar": {
           "angularaxis": {
            "gridcolor": "white",
            "linecolor": "white",
            "ticks": ""
           },
           "bgcolor": "#E5ECF6",
           "radialaxis": {
            "gridcolor": "white",
            "linecolor": "white",
            "ticks": ""
           }
          },
          "scene": {
           "xaxis": {
            "backgroundcolor": "#E5ECF6",
            "gridcolor": "white",
            "gridwidth": 2,
            "linecolor": "white",
            "showbackground": true,
            "ticks": "",
            "zerolinecolor": "white"
           },
           "yaxis": {
            "backgroundcolor": "#E5ECF6",
            "gridcolor": "white",
            "gridwidth": 2,
            "linecolor": "white",
            "showbackground": true,
            "ticks": "",
            "zerolinecolor": "white"
           },
           "zaxis": {
            "backgroundcolor": "#E5ECF6",
            "gridcolor": "white",
            "gridwidth": 2,
            "linecolor": "white",
            "showbackground": true,
            "ticks": "",
            "zerolinecolor": "white"
           }
          },
          "shapedefaults": {
           "line": {
            "color": "#2a3f5f"
           }
          },
          "ternary": {
           "aaxis": {
            "gridcolor": "white",
            "linecolor": "white",
            "ticks": ""
           },
           "baxis": {
            "gridcolor": "white",
            "linecolor": "white",
            "ticks": ""
           },
           "bgcolor": "#E5ECF6",
           "caxis": {
            "gridcolor": "white",
            "linecolor": "white",
            "ticks": ""
           }
          },
          "title": {
           "x": 0.05
          },
          "xaxis": {
           "automargin": true,
           "gridcolor": "white",
           "linecolor": "white",
           "ticks": "",
           "title": {
            "standoff": 15
           },
           "zerolinecolor": "white",
           "zerolinewidth": 2
          },
          "yaxis": {
           "automargin": true,
           "gridcolor": "white",
           "linecolor": "white",
           "ticks": "",
           "title": {
            "standoff": 15
           },
           "zerolinecolor": "white",
           "zerolinewidth": 2
          }
         }
        }
       }
      }
     },
     "metadata": {},
     "output_type": "display_data"
    }
   ],
   "source": [
    "from plotly import graph_objects as go\n",
    "\n",
    "fig = go.Figure()\n",
    "df_long_cp = df_long.query('variable.str.contains(\"cart|purchase\")')\n",
    "\n",
    "for name in df_funnel['brand']:\n",
    "     fig.add_trace(go.Funnel(\n",
    "        name = name,\n",
    "        y = df_long_cp[df_long['brand'] == name].variable,\n",
    "        x = df_long_cp[df_long['brand'] == name].value,\n",
    "        textposition = \"inside\",\n",
    "        textinfo = \"value+percent initial\",\n",
    "        textfont_size=20\n",
    "        ))\n",
    "\n",
    "fig.show()"
   ]
  },
  {
   "cell_type": "markdown",
   "id": "e62a532d-f596-4c57-87b4-03812e12617a",
   "metadata": {},
   "source": [
    "## Preprocess and Summarize Data"
   ]
  },
  {
   "cell_type": "code",
   "execution_count": null,
   "id": "05ac15ff-7eeb-4506-a586-14ec06ab2398",
   "metadata": {
    "tags": []
   },
   "outputs": [],
   "source": [
    "# %%time\n",
    "# # df_smartphone = df.filter(df.category_code == 'electronics.smartphone')\n",
    "# df_smartphone = df.filter(df.category_code == 'kids.toys')\n",
    "# df_smartphone.summary().show()\n",
    "\n",
    "df_smartphone = df"
   ]
  },
  {
   "cell_type": "code",
   "execution_count": null,
   "id": "7539f2a5-9320-4547-983a-99a6a06c807f",
   "metadata": {
    "tags": []
   },
   "outputs": [],
   "source": [
    "%%time\n",
    "from pyspark.sql.functions import length, col, max, lpad\n",
    "\n",
    "print(df_smartphone.schema[\"product_id\"].dataType)\n",
    "print(df_smartphone.schema[\"category_id\"].dataType)\n",
    "print(df_smartphone.schema[\"user_id\"].dataType)\n",
    "\n",
    "df_smartphone = df_smartphone.withColumn(\"product_id\", df_smartphone.product_id.cast('string'))\n",
    "df_smartphone = df_smartphone.withColumn(\"category_id\", df_smartphone.category_id.cast('string'))\n",
    "df_smartphone = df_smartphone.withColumn(\"user_id\", df_smartphone.user_id.cast('string'))\n",
    "\n",
    "max_id_len = df_smartphone.withColumn(\"product_id_len\", length(col(\"product_id\")))\\\n",
    "                          .withColumn(\"category_id_len\",length(col(\"category_id\")))\\\n",
    "                          .withColumn(\"user_id_len\",length(col(\"user_id\")))\\\n",
    "                          .groupBy().agg(max(\"product_id_len\"), max(\"category_id_len\"), max(\"user_id_len\")).collect()\n",
    "\n",
    "len_pid, len_cid, len_uid = max_id_len[0]\n",
    "\n",
    "df_smartphone = df_smartphone.withColumn(\"product_id\", lpad(df_smartphone.product_id, len_pid, '0'))\\\n",
    "                             .withColumn(\"category_id\", lpad(df_smartphone.category_id, len_cid, '0'))\\\n",
    "                             .withColumn(\"user_id\", lpad(df_smartphone.user_id, len_uid, '0'))\n",
    "\n",
    "df_smartphone = df_smartphone.cache()\n",
    "df_smartphone.show()"
   ]
  },
  {
   "cell_type": "code",
   "execution_count": null,
   "id": "326b17e7-f595-4964-85d0-50d7c252b003",
   "metadata": {
    "tags": []
   },
   "outputs": [],
   "source": [
    "%%time\n",
    "from pyspark.sql.functions import col, when, count\n",
    "\n",
    "df_smartphone.select(*(count(when(col(c).isNull(), c)).alias(c) for c in df_smartphone.columns)).show()"
   ]
  },
  {
   "cell_type": "markdown",
   "id": "2009a350",
   "metadata": {},
   "source": [
    "# Null이 있는 것들 개수\n",
    "  * brand 컬럼에 910788개는 null이거나 값이 없다.\n",
    "  * 나머지 컬럼들은 모두 값이 있다.\n",
    "  * 컬럼명\n",
    "    * event_time\n",
    "    * event_type\n",
    "    * product_id\n",
    "    * category_id\n",
    "    * category_code\n",
    "    * brand\n",
    "    * price\n",
    "    * user_id\n",
    "    * user_session"
   ]
  },
  {
   "cell_type": "code",
   "execution_count": null,
   "id": "c45bd262-8f82-4fd4-8cf9-2e63a9f82297",
   "metadata": {
    "tags": []
   },
   "outputs": [],
   "source": [
    "%%time\n",
    "df_smartphone = df_smartphone.na.drop()\n",
    "print((df_smartphone.count(), len(df_smartphone.columns)))"
   ]
  },
  {
   "cell_type": "markdown",
   "id": "d12ca245",
   "metadata": {},
   "source": [
    "# Null이 있는 row 제거\n",
    "  * Null 있는 것들을 drop\n",
    "  * 총 row 개수: 320,4556\n",
    "  * 컬럼 개수: 9개"
   ]
  },
  {
   "cell_type": "code",
   "execution_count": null,
   "id": "dc78b912-ff3d-4d93-b9a2-4e4c11f0d399",
   "metadata": {
    "tags": []
   },
   "outputs": [],
   "source": [
    "%%time\n",
    "item_by_brand = df_smartphone.groupby(\"brand\").agg(count(\"product_id\").alias('pid_count'))\n",
    "item_by_brand = item_by_brand.sort(item_by_brand.pid_count.desc())\n",
    "item_by_brand.head(10)"
   ]
  },
  {
   "cell_type": "markdown",
   "id": "f6cc5e45",
   "metadata": {},
   "source": [
    "# 브랜드별 Product ID 개수\n",
    "  * [Row(brand='lucente', pid_count=476570)\n",
    "  * Row(brand='epson', pid_count=188481)\n",
    "  * Row(brand='rastar', pid_count=160769)\n",
    "  * Row(brand='defacto', pid_count=159761)\n",
    "  * Row(brand='hp', pid_count=139399)\n",
    "  * Row(brand='escan', pid_count=108290)\n",
    "  * Row(brand='hasbro', pid_count=104872)\n",
    "  * Row(brand='hb', pid_count=91190)\n",
    "  * Row(brand='respect', pid_count=87088)\n",
    "  * Row(brand='canon', pid_count=84379)]"
   ]
  },
  {
   "cell_type": "code",
   "execution_count": null,
   "id": "fd99ee3f-1537-4716-a1c7-13128889a2e1",
   "metadata": {
    "tags": []
   },
   "outputs": [],
   "source": [
    "%%time\n",
    "from pyspark.sql.functions import countDistinct\n",
    "\n",
    "df_smartphone.select(countDistinct(\"user_id\")).show()\n",
    "df_smartphone.select(countDistinct(\"user_session\")).show()"
   ]
  },
  {
   "cell_type": "markdown",
   "id": "435f267b",
   "metadata": {},
   "source": [
    "# 사용자 수\n",
    "  * 771491\n",
    "\n",
    "# 사용자 세션 수\n",
    "  * 1252248\n",
    "  * 한 명의 사용자가 여러 세션을 만들었음을 의미함"
   ]
  },
  {
   "cell_type": "code",
   "execution_count": null,
   "id": "b5867d28-c349-4a52-a19d-f1b79d4373e6",
   "metadata": {
    "tags": []
   },
   "outputs": [],
   "source": [
    "%%time\n",
    "from pyspark.sql.functions import to_timestamp, date_format\n",
    "\n",
    "df_smartphone = df_smartphone.withColumn(\"dt\", to_timestamp(col(\"event_time\"),\"yyyy-MM-dd HH:mm:ss z\"))\n",
    "df_smartphone = df_smartphone.withColumn(\"date\", date_format('dt', 'yyyy-MM-dd'))\n",
    "df_smartphone = df_smartphone.withColumn(\"time\", date_format('dt', 'HH:mm:ss'))\n",
    "\n",
    "# df_smartphone.head()\n",
    "temp = pd.DataFrame(df_smartphone.head())\n",
    "temp = temp.T\n",
    "temp.columns = df_smartphone.columns\n",
    "temp"
   ]
  },
  {
   "cell_type": "code",
   "execution_count": null,
   "id": "329b771c-96fd-469c-945f-4b31525e63c3",
   "metadata": {
    "tags": []
   },
   "outputs": [],
   "source": [
    "%%time\n",
    "from pyspark.sql.functions import dayofweek\n",
    "\n",
    "# 요일 추가\n",
    "# 0: 일요일, 1: 월요일, 2: 화요일, 3: 수요일, 4: 목요일, 5: 금요일: 6: 토요일\n",
    "df_smartphone = df_smartphone.withColumn(\"weekday\", dayofweek('dt'))\n",
    "# df_smartphone.head()\n",
    "temp = pd.DataFrame(df_smartphone.head()).T\n",
    "temp.columns = df_smartphone.columns\n",
    "temp"
   ]
  },
  {
   "cell_type": "code",
   "execution_count": null,
   "id": "37d9093c-35fa-410d-9957-17022e4bb510",
   "metadata": {
    "tags": []
   },
   "outputs": [],
   "source": [
    "%%time\n",
    "from pyspark.sql.functions import udf\n",
    "\n",
    "# 시간대 추가: time_session\n",
    "# 3시간 단위로 시간대를 만들고, 어느 시간대인지 분류\n",
    "def time_cut(h):\n",
    "    session_labels = ['0-3', '3-6', '6-9', '9-12', '12-15', '15-18', '18-21', '21-24']\n",
    "    return session_labels[h // 3]\n",
    "\n",
    "time_cut_udf = udf(time_cut)\n",
    "\n",
    "df_smartphone = df_smartphone.withColumn(\"hour\", date_format('dt', 'H').cast('int'))\n",
    "df_smartphone = df_smartphone.withColumn(\"time_session\", time_cut_udf(col(\"hour\")).cast('string'))\n",
    "temp = pd.DataFrame(df_smartphone.head(5))\n",
    "temp.columns = df_smartphone.columns\n",
    "temp"
   ]
  },
  {
   "cell_type": "markdown",
   "id": "68d1cd6e-092a-4bb0-a842-1496ea1c0204",
   "metadata": {},
   "source": [
    "## Data Mining"
   ]
  },
  {
   "cell_type": "markdown",
   "id": "2c674953-05bd-4eef-bef8-ccbabf2f9ef0",
   "metadata": {},
   "source": [
    "1. Time distribution analysis\n",
    "\n",
    "Daily distribution of number of events, by hour"
   ]
  },
  {
   "cell_type": "code",
   "execution_count": null,
   "id": "00b0a8c6-c013-4f8f-9869-fe3fcda607b2",
   "metadata": {
    "tags": []
   },
   "outputs": [],
   "source": [
    "%%time\n",
    "# 시간, 보기, 카트추가, 구매를 컬럼으로 시간별 이벤트를 집계\n",
    "view_by_hour = df_smartphone.filter(df_smartphone.event_type == 'view').groupby(\"hour\").agg(count(\"event_type\").alias('view'))\n",
    "cart_by_hour = df_smartphone.filter(df_smartphone.event_type == 'cart').groupby(\"hour\").agg(count(\"event_type\").alias('cart'))\n",
    "purchase_by_hour = df_smartphone.filter(df_smartphone.event_type == 'purchase').groupby(\"hour\").agg(count(\"event_type\").alias('purchase'))\n",
    "event_by_hour = view_by_hour.join(cart_by_hour, 'hour').join(purchase_by_hour, 'hour')\n",
    "\n",
    "event_by_hour_df = event_by_hour.toPandas()\n",
    "event_by_hour_df.sort_values(by='hour', ascending=True)"
   ]
  },
  {
   "cell_type": "code",
   "execution_count": null,
   "id": "7430da9b-69b6-4c0a-af41-6194d0a00545",
   "metadata": {
    "tags": []
   },
   "outputs": [],
   "source": [
    "%%time\n",
    "import numpy as np\n",
    "import matplotlib.pyplot as plt\n",
    "\n",
    "# plot\n",
    "fig, (ax1, ax2) = plt.subplots(1,2, figsize=(10, 4))\n",
    "ind = np.arange(event_by_hour_df.index.min(), event_by_hour_df.index.max()+1)\n",
    "width = 0.5\n",
    "view_bar = ax1.bar(ind, event_by_hour_df.view, width=width, color='#A0E4F1')\n",
    "ax1.set_xticks(ind)\n",
    "ax1.set_xticks(ax1.get_xticks()[::2])\n",
    "ax1.set_xlabel(\"Hour in a day\")\n",
    "ax1.set_ylabel(\"Number of views\")\n",
    "ax1.set_title(\"Distribution of Views\")\n",
    "\n",
    "width = 0.4\n",
    "cart_bar = ax2.bar(ind, event_by_hour_df.cart, width=width, color='#7EA6F4')\n",
    "purchase_bar = ax2.bar(ind+width, event_by_hour_df.purchase, width=width, color='#4A4DE7')\n",
    "ax2.set_xticks(ind+width/2)\n",
    "ax2.set_xticks(ax2.get_xticks()[::2])\n",
    "ax2.set_xticklabels(ind[::2])\n",
    "ax2.set_xlabel(\"Hour in a day\")\n",
    "ax2.set_ylabel(\"Number of events\")\n",
    "ax2.set_title(\"Distribution of Add-to-Cart and Purchase\")\n",
    "ax2.legend((cart_bar, purchase_bar), ('Add to cart', 'Purchase'))\n",
    "fig.tight_layout()"
   ]
  },
  {
   "cell_type": "markdown",
   "id": "870e976a",
   "metadata": {},
   "source": [
    "# 알게 된 것\n",
    "  * 시간별 View 개수\n",
    "    * 새벽 2시가 제일 높고, 20시 이후도 꽤 높다.\n",
    "    * 새벽 5시가 낮다. 다들 자는 것일까?\n",
    "    * 점심시간 전/후로 View 개수가 제일 낮다. 점심 시간대에는 다시 높아진다.\n",
    "    * 오후 업무시간대 중 15시를 제외하면 View 개수가 낮다.\n",
    "\n",
    "  * 장바구니 담기와 구매\n",
    "    * 장바구니에 담은 것이 모두 구매로 이어지지 않는다.\n",
    "    * 새벽 시간대가 의외로 구매가 높다.\n",
    "    * 점심시간 전/후로는 구매가 적다.\n",
    "    * 퇴근 시간 전 업무시간도 구매가 적다.\n",
    "    * 20시 이후에 구매가 갑자기 증가한다."
   ]
  },
  {
   "cell_type": "markdown",
   "id": "9818d82f-66c2-4339-9f6e-95f2dd2f5703",
   "metadata": {},
   "source": [
    "Daily distribution of number of events, by time session"
   ]
  },
  {
   "cell_type": "code",
   "execution_count": null,
   "id": "4e1dee99-259f-405a-af31-dbc77d15dcf4",
   "metadata": {
    "tags": []
   },
   "outputs": [],
   "source": [
    "%%time\n",
    "view_by_time_session = df_smartphone.filter(df_smartphone.event_type == 'view').groupby(\"time_session\").agg(count(\"event_type\").alias('view'))\n",
    "cart_by_time_session = df_smartphone.filter(df_smartphone.event_type == 'cart').groupby(\"time_session\").agg(count(\"event_type\").alias('cart'))\n",
    "purchase_by_time_session = df_smartphone.filter(df_smartphone.event_type == 'purchase').groupby(\"time_session\").agg(count(\"event_type\").alias('purchase'))\n",
    "event_by_time_session = view_by_time_session.join(cart_by_time_session, 'time_session').join(purchase_by_time_session, 'time_session')\n",
    "\n",
    "event_by_time_session_df = event_by_time_session.toPandas()\n",
    "event_by_time_session_df"
   ]
  },
  {
   "cell_type": "code",
   "execution_count": null,
   "id": "04574f87-5201-4718-a2cb-da9e3b8bbf58",
   "metadata": {
    "tags": []
   },
   "outputs": [],
   "source": [
    "%%time\n",
    "# plot\n",
    "session_labels = ['0-3', '3-6', '6-9', '9-12', '12-15', '15-18', '18-21', '21-24']\n",
    "\n",
    "fig, (ax1, ax2) = plt.subplots(1, 2, figsize=(10, 4))\n",
    "ind = np.arange(event_by_time_session_df.index.nunique())\n",
    "width = 0.5\n",
    "ax1.bar(ind, event_by_time_session_df.view, width=width, color='#A0E4F1')\n",
    "ax1.set_xticks(ind)\n",
    "ax1.set_xticklabels(session_labels)\n",
    "ax1.set_xlabel(\"Time session in a day\")\n",
    "ax1.set_ylabel(\"Number of views\")\n",
    "ax1.set_title(\"Distribution of Views\")\n",
    "\n",
    "width = 0.4\n",
    "cart_bar = ax2.bar(ind, event_by_time_session_df.cart, width=width, color='#7EA6F4')\n",
    "purchase_bar = ax2.bar(ind+width, event_by_time_session_df.purchase, width=width, color='#4A4DE7')\n",
    "ax2.set_xticks(ind+width/2)\n",
    "ax2.set_xticklabels(session_labels)\n",
    "ax2.set_xlabel(\"Time session in a day\")\n",
    "ax2.set_ylabel(\"Number of events\")\n",
    "ax2.set_title(\"Distribution of Add-to-Cart and Purchase\")\n",
    "ax2.legend((cart_bar, purchase_bar), ('Add to cart', 'Purchase'))\n",
    "fig.tight_layout()"
   ]
  },
  {
   "cell_type": "markdown",
   "id": "4df28ebc",
   "metadata": {},
   "source": [
    "# 알게 된 것\n",
    "  * 시간대별(3시간 단위) View 개수\n",
    "    * 새벽 시간대에 View는 점심 이후 시간대만큼 많이 본다.\n",
    "    * 저녁식사 시간대에 View가 적다.\n",
    "    * 보통 사람들이 자기 전에 View가 적다.\n",
    "* 시간대별 장바구니 담기와 구매 개수\n",
    "  * 새벽시간 대에 구매하는 비율이 압도적이다.\n",
    "  * 오전에도 장바구니에 담는 것이 많다.\n",
    "  * 저녁식사 시간 이후에는 View도 적으며, 구매도 적어진다.\n",
    "  "
   ]
  },
  {
   "cell_type": "code",
   "execution_count": null,
   "id": "826ea172-ab91-4085-acb5-4a260ac9909b",
   "metadata": {
    "tags": []
   },
   "outputs": [],
   "source": [
    "%%time\n",
    "# combination showing ratio\n",
    "event_by_hour_df['view_pct'] = event_by_hour_df.view / sum(event_by_hour_df.view) * 100\n",
    "event_by_hour_df['cart_pct'] = event_by_hour_df.cart/ sum(event_by_hour_df.cart) * 100\n",
    "event_by_hour_df['purchase_pct'] = event_by_hour_df.purchase / sum(event_by_hour_df.purchase) * 100\n",
    "\n",
    "hours = np.arange(0, 24)\n",
    "view_pct_hr = plt.plot(event_by_hour_df.index, event_by_hour_df.view_pct, marker='.', color='#A0E4F1', label='View')\n",
    "cart_pct_hr = plt.plot(event_by_hour_df.index, event_by_hour_df.cart_pct, marker='.', color='#7EA6F4', label='Add-to-cart')\n",
    "purchase_pct_hr = plt.plot(event_by_hour_df.index, event_by_hour_df.purchase_pct, marker='.', color='#4A4DE7', label='Purchase')\n",
    "plt.xticks(hours)\n",
    "plt.ylim([0, 10])\n",
    "plt.xlabel(\"Hour in a day\")\n",
    "plt.ylabel(\"Percentage of event\")\n",
    "plt.title(\"Daily % Distribution of Events by Hour\")\n",
    "plt.legend()"
   ]
  },
  {
   "cell_type": "markdown",
   "id": "3ddda17c",
   "metadata": {},
   "source": [
    "# 알게 된 것\n",
    "  * 시간별 이벤트\n",
    "    * 일반적으로 자기 전에 구매보다는 View를 많이 하는 듯 하다.\n",
    "    * 새벽시간 ~ 오전에 구매를 많이 한다."
   ]
  },
  {
   "cell_type": "code",
   "execution_count": null,
   "id": "4dfbc7d5-0f75-4a99-af9e-112300df8e13",
   "metadata": {
    "tags": []
   },
   "outputs": [],
   "source": [
    "%%time\n",
    "# combination showing ratio\n",
    "event_by_time_session_df['view_pct'] = event_by_time_session_df.view / sum(event_by_time_session_df.view) * 100\n",
    "event_by_time_session_df['cart_pct'] = event_by_time_session_df.cart/ sum(event_by_time_session_df.cart) * 100\n",
    "event_by_time_session_df['purchase_pct'] = event_by_time_session_df.purchase / sum(event_by_time_session_df.purchase) * 100\n",
    "\n",
    "time_sessions = np.arange(0, len(session_labels))\n",
    "view_pct_ss = plt.plot(event_by_time_session_df.index, event_by_time_session_df.view_pct, marker='.', color='#A0E4F1', label='View')\n",
    "cart_pct_ss = plt.plot(event_by_time_session_df.index, event_by_time_session_df.cart_pct, marker='.', color='#7EA6F4', label='Add-to-cart')\n",
    "purchase_pct_ss = plt.plot(event_by_time_session_df.index, event_by_time_session_df.purchase_pct, marker='.', color='#4A4DE7', label='Purchase')\n",
    "plt.xticks(time_sessions, session_labels)\n",
    "plt.ylim([0, 30])\n",
    "plt.xlabel(\"Time session in a day\")\n",
    "plt.ylabel(\"Percentage of event\")\n",
    "plt.title(\"Percent Distribution of Events by Time Session\")\n",
    "plt.legend()"
   ]
  },
  {
   "cell_type": "markdown",
   "id": "f476efd8",
   "metadata": {},
   "source": [
    "# 알게 된 것\n",
    "  * 새벽~ 오전에는 구매를 더 많이 한다.\n",
    "  * 점심시간 ~ 자기 전까지는 View를 많이 한다."
   ]
  },
  {
   "cell_type": "markdown",
   "id": "45f30a0e-0808-44f0-ac8f-1463644373c6",
   "metadata": {},
   "source": [
    "Daily distribution of events, facet by weekday"
   ]
  },
  {
   "cell_type": "code",
   "execution_count": null,
   "id": "cdc77572-f551-45d1-82d7-8f093bcbd975",
   "metadata": {
    "tags": []
   },
   "outputs": [],
   "source": [
    "%%time\n",
    "import pandas as pd\n",
    "\n",
    "weekdays = ['Sunday', 'Monday', 'Tuesday', 'Wednesday', 'Thursday', 'Friday', 'Saturday']\n",
    "weekday_dict = dict(zip(weekdays, list(range(1,8))))\n",
    "\n",
    "view_by_ss_wkdy = df_smartphone.filter(df_smartphone.event_type == 'view').groupby(['weekday', 'time_session']).agg(count(\"event_type\").alias('num_view')).toPandas()\n",
    "view_by_ss_wkdy['weekday'] = view_by_ss_wkdy['weekday'].apply(lambda x: weekdays[x-1])\n",
    "view_by_ss_wkdy['weekday'] = pd.Categorical(view_by_ss_wkdy.weekday, categories=weekdays, ordered=True)\n",
    "view_by_ss_wkdy['time_session'] = pd.Categorical(view_by_ss_wkdy.time_session, categories=session_labels, ordered=True)\n",
    "view_by_ss_wkdy.sort_values(by=['weekday', 'time_session'], inplace=True)\n",
    "\n",
    "cart_by_ss_wkdy = df_smartphone.filter(df_smartphone.event_type == 'cart').groupby(['weekday', 'time_session']).agg(count(\"event_type\").alias('num_cart')).toPandas()\n",
    "cart_by_ss_wkdy['weekday'] = cart_by_ss_wkdy['weekday'].apply(lambda x: weekdays[x-1])\n",
    "cart_by_ss_wkdy['weekday'] = pd.Categorical(cart_by_ss_wkdy.weekday, categories=weekdays, ordered=True)\n",
    "cart_by_ss_wkdy['time_session'] = pd.Categorical(cart_by_ss_wkdy.time_session, categories=session_labels, ordered=True)\n",
    "cart_by_ss_wkdy.sort_values(by=['weekday', 'time_session'], inplace=True)\n",
    "\n",
    "purchase_by_ss_wkdy = df_smartphone.filter(df_smartphone.event_type == 'purchase').groupby(['weekday', 'time_session']).agg(count(\"event_type\").alias('num_purchase')).toPandas()\n",
    "purchase_by_ss_wkdy['weekday'] = purchase_by_ss_wkdy['weekday'].apply(lambda x: weekdays[x-1])\n",
    "purchase_by_ss_wkdy['weekday'] = pd.Categorical(purchase_by_ss_wkdy.weekday, categories=weekdays, ordered=True)\n",
    "purchase_by_ss_wkdy['time_session'] = pd.Categorical(purchase_by_ss_wkdy.time_session, categories=session_labels, ordered=True)\n",
    "purchase_by_ss_wkdy.sort_values(by=['weekday', 'time_session'], inplace=True)\n",
    "\n",
    "purchase_by_ss_wkdy.head(8)"
   ]
  },
  {
   "cell_type": "code",
   "execution_count": null,
   "id": "790551b6-8ada-4498-8754-bf23e93033b4",
   "metadata": {
    "tags": []
   },
   "outputs": [],
   "source": [
    "%%time\n",
    "# events per weekday\n",
    "view_per_wkdy = view_by_ss_wkdy.groupby(\"weekday\")['num_view'].sum().to_frame()\n",
    "cart_per_wkdy = cart_by_ss_wkdy.groupby(\"weekday\")['num_cart'].sum().to_frame()\n",
    "purchase_per_wkdy = purchase_by_ss_wkdy.groupby(\"weekday\")['num_purchase'].sum().to_frame()\n",
    "event_by_weekday = pd.concat([view_per_wkdy, cart_per_wkdy, purchase_per_wkdy], axis=1)\n",
    "event_by_weekday"
   ]
  },
  {
   "cell_type": "code",
   "execution_count": null,
   "id": "99c1fa6a-cd11-4935-9d9b-1097adfb0a65",
   "metadata": {
    "tags": []
   },
   "outputs": [],
   "source": [
    "%%time\n",
    "# plot events per weekday\n",
    "fig, ax1 = plt.subplots()\n",
    "\n",
    "width = 0.2\n",
    "xticks = np.arange(0, len(weekdays))\n",
    "\n",
    "view_wkdy_plot = ax1.bar(xticks, event_by_weekday.num_view, width=width, color='#A0E4F1')\n",
    "ax1.set_ylim([0, 500_000])\n",
    "ax1.set_ylabel(\"Number of views\")\n",
    "\n",
    "ax2 = ax1.twinx()\n",
    "cart_wkdy_plot = ax2.bar(xticks+width, event_by_weekday.num_cart, width=width, color='#7EA6F4')\n",
    "purchase_wkdy_plot = ax2.bar(xticks+width*2, event_by_weekday.num_purchase, width=width, color='#4A4DE7')\n",
    "ax2.set_ylim([0, 15_000])\n",
    "ax2.set_ylabel(\"Number of ATC & purchase\")\n",
    "\n",
    "plt.legend((view_wkdy_plot, cart_wkdy_plot, purchase_wkdy_plot), ('View (LHS)', 'Add-to-cart (RHS)', 'Purchase (RHS)'))\n",
    "plt.xticks(xticks+width*2, weekdays)\n",
    "fig.autofmt_xdate(rotation=45)\n",
    "plt.title('Weekly Distribution of Events')"
   ]
  },
  {
   "cell_type": "markdown",
   "id": "deeaa1ba",
   "metadata": {},
   "source": [
    "# 알게된 것\n",
    "  * 장난감은 요일에 상관없이 꾸준히 구매한다."
   ]
  },
  {
   "cell_type": "code",
   "execution_count": null,
   "id": "530d05c9-a83a-49ce-badc-c7a2dcea4b35",
   "metadata": {
    "tags": []
   },
   "outputs": [],
   "source": [
    "%%time\n",
    "# Daily split\n",
    "view_by_ss_wkdy_pvt = view_by_ss_wkdy.pivot(index='weekday', columns='time_session', values='num_view')\n",
    "view_by_ss_wkdy_pvt.T.plot.bar(\n",
    "    subplots=True,\n",
    "    layout=(3,3),\n",
    "    figsize=(10, 10),\n",
    "    color='#A0E4F1',\n",
    "    sharex=True,\n",
    "    sharey=True,\n",
    "    legend=False,\n",
    "    xlabel='Time session',\n",
    "    title='Daily Distribution of Views by Time Session in a Week',\n",
    "    grid=True\n",
    ")"
   ]
  },
  {
   "cell_type": "code",
   "execution_count": null,
   "id": "c91c2d42-ce8b-4398-a600-a888c319dabc",
   "metadata": {
    "tags": []
   },
   "outputs": [],
   "source": [
    "%%time\n",
    "# Daily split\n",
    "cart_by_ss_wkdy_pvt = cart_by_ss_wkdy.pivot(index='weekday', columns='time_session', values='num_cart')\n",
    "cart_by_ss_wkdy_pvt.T.plot.bar(\n",
    "    subplots=True,\n",
    "    layout=(3,3),\n",
    "    figsize=(10, 10),\n",
    "    color='#7EA6F4',\n",
    "    sharex=True,\n",
    "    sharey=True,\n",
    "    legend=False,\n",
    "    xlabel='Time session',\n",
    "    title='Daily Distribution of Add-to-Cart by Time Session in a Week',\n",
    "    grid=True\n",
    ")"
   ]
  },
  {
   "cell_type": "code",
   "execution_count": null,
   "id": "691d2839-cae9-44b6-84b5-fab30d939804",
   "metadata": {
    "tags": []
   },
   "outputs": [],
   "source": [
    "%%time\n",
    "# Daily split\n",
    "purchase_by_ss_wkdy_pvt = purchase_by_ss_wkdy.pivot(index='weekday', columns='time_session', values='num_purchase')\n",
    "purchase_by_ss_wkdy_pvt.T.plot.bar(\n",
    "    subplots=True,\n",
    "    layout=(3,3),\n",
    "    figsize=(10, 10),\n",
    "    color='#4A4DE7',\n",
    "    sharex=True,\n",
    "    sharey=True,\n",
    "    legend=False,\n",
    "    xlabel='Time session',\n",
    "    title='Daily Distribution of Purchase by Time Session in a Week',\n",
    "    grid=True\n",
    ")"
   ]
  },
  {
   "cell_type": "markdown",
   "id": "712c667d",
   "metadata": {},
   "source": [
    "# 알게 된 것\n",
    "  * 장난감은 요일에 상관 없다.\n"
   ]
  },
  {
   "cell_type": "markdown",
   "id": "1bf82d1f-598d-45ec-9eec-f9fd0480a716",
   "metadata": {},
   "source": [
    "Hypo testing with Chi-square test\n",
    "\n",
    "H0 - shoppers have the time tendency for different events in a day\n",
    "\n",
    "$H_0$: 쇼핑하는 사람들은 보기/장바구니 담기/구매에 대한 선호 시간이 있다."
   ]
  },
  {
   "cell_type": "code",
   "execution_count": null,
   "id": "2221a19f-a3b4-40bc-b889-f1f2a35508be",
   "metadata": {
    "tags": []
   },
   "outputs": [],
   "source": [
    "def chi2_test(obs, exp, main_cat: int = 0, alpha = 0.05):\n",
    "    from scipy.stats import chisquare\n",
    "\n",
    "    chi, pval = chisquare(f_obs=obs, f_exp=exp)\n",
    "    if pval < alpha:\n",
    "        print(f\"Statistically significant under level of sig={alpha} ({pval}). H0 rejected.\")\n",
    "    else:\n",
    "        print(f\"NOT statistically significant under level of sig={alpha} ({pval}). H0 not rejected.\")\n",
    "\n",
    "    return chi, pval"
   ]
  },
  {
   "cell_type": "code",
   "execution_count": null,
   "id": "c1b1b726-e693-435c-9820-f5ce90b853c8",
   "metadata": {
    "tags": []
   },
   "outputs": [],
   "source": [
    "%%time\n",
    "def half_of_day(x):\n",
    "    return 2 if x > 12 else 1\n",
    "\n",
    "half_of_day_udf = udf(half_of_day)\n",
    "\n",
    "df_smartphone = df_smartphone.withColumn(\"half_of_day\", half_of_day_udf(\"hour\"))\n",
    "\n",
    "def event_retype(x):\n",
    "    return 2 if x in ['cart', 'purchase'] else 1\n",
    "\n",
    "event_retype_udf = udf(event_retype)\n",
    "\n",
    "df_smartphone = df_smartphone.withColumn(\"event_retype\", event_retype_udf(\"event_type\"))"
   ]
  },
  {
   "cell_type": "code",
   "execution_count": null,
   "id": "e1622951-d7aa-4351-a18b-fd3c04984b1b",
   "metadata": {
    "tags": []
   },
   "outputs": [],
   "source": [
    "%%time\n",
    "data_test_psdf = df_smartphone[[\"half_of_day\", \"event_retype\"]]\n",
    "data_test_pd = data_test_psdf.toPandas()"
   ]
  },
  {
   "cell_type": "code",
   "execution_count": null,
   "id": "d2a24c13-9d73-47c3-96cb-20ca084a56eb",
   "metadata": {
    "tags": []
   },
   "outputs": [],
   "source": [
    "%%time\n",
    "chi_crosstab = pd.crosstab(data_test_pd.half_of_day, data_test_pd.event_retype, margins=True)\n",
    "chi_crosstab"
   ]
  },
  {
   "cell_type": "code",
   "execution_count": null,
   "id": "e7439f68-e9d6-4de6-8cd8-0393856f1b9b",
   "metadata": {
    "tags": []
   },
   "outputs": [],
   "source": [
    "%%time\n",
    "obs = chi_crosstab.iloc[0, :]\n",
    "exp = chi_crosstab.iloc[1, :]\n",
    "\n",
    "obs = obs*exp.sum()/obs.sum() # for matching counts\n",
    "\n",
    "pval, chi = chi2_test(obs, exp)"
   ]
  },
  {
   "cell_type": "markdown",
   "id": "0a6f77d9",
   "metadata": {},
   "source": [
    "# $H_0$ 기각\n",
    "  * 쇼핑하는 사람들은 시간과 상관 없이 보기, 장바구니 담기, 구매를 한다."
   ]
  },
  {
   "cell_type": "code",
   "execution_count": null,
   "id": "23180db7-f942-442e-96ec-0e55e9e56a44",
   "metadata": {
    "tags": []
   },
   "outputs": [],
   "source": [
    "%%time\n",
    "data_test_psdf = df_smartphone[[\"weekday\", \"event_retype\"]]\n",
    "data_test_pd = data_test_psdf.toPandas()"
   ]
  },
  {
   "cell_type": "code",
   "execution_count": null,
   "id": "df4d7098-54b8-4113-81fc-68092ea14707",
   "metadata": {
    "tags": []
   },
   "outputs": [],
   "source": [
    "%%time\n",
    "chi_ctab_wk = pd.crosstab(data_test_pd.weekday, data_test_pd.event_retype, margins=True)\n",
    "chi_ctab_wk"
   ]
  },
  {
   "cell_type": "code",
   "execution_count": null,
   "id": "78791fab-dd66-4f55-868f-4c96c9ab04c0",
   "metadata": {
    "tags": []
   },
   "outputs": [],
   "source": [
    "%%time\n",
    "pval, chi = chi2_test(chi_ctab_wk.iloc[:-1, 0] * (chi_ctab_wk.iloc[:-1, 1].sum()/chi_ctab_wk.iloc[:-1, 0].sum()), chi_ctab_wk.iloc[:-1, 1])"
   ]
  },
  {
   "cell_type": "markdown",
   "id": "fd0c7ffd",
   "metadata": {},
   "source": [
    "# $H_0$ 기각\n",
    "  * 요일은 보기/장바구니 담기/구매와 관계 없이 발생한다."
   ]
  },
  {
   "cell_type": "markdown",
   "id": "0577dbca-e49a-493b-93ce-9bee3a66342c",
   "metadata": {},
   "source": [
    "Conclusion: shoppers have different time preference for viewing vs. ATC & check-outs when shopping on e-comm platform."
   ]
  },
  {
   "cell_type": "markdown",
   "id": "cbe5cc5b-d0b3-457c-8fe2-2101b7a86923",
   "metadata": {},
   "source": [
    "## Funnel Analysis"
   ]
  },
  {
   "cell_type": "markdown",
   "id": "3d32e31b-f3e3-4947-9770-8e56514b6d41",
   "metadata": {},
   "source": [
    "Add-to-cart rate (ATCR) and cart abandonment rate\n",
    "\n",
    "now we're utilizing PySpark Pandas API"
   ]
  },
  {
   "cell_type": "code",
   "execution_count": null,
   "id": "932e5b58-5d4b-4894-9aea-c5ad60a05312",
   "metadata": {
    "tags": []
   },
   "outputs": [],
   "source": [
    "%%time\n",
    "import pyspark.pandas as ps\n",
    "\n",
    "data_test = df_smartphone.to_pandas_on_spark()\n",
    "\n",
    "user_session_by_time_session = data_test.drop_duplicates(subset=['user_session']).groupby(\"time_session\")['user_session'].count()\\\n",
    "    .to_frame().rename(columns={\"user_session\": \"num_user_session\"})\n",
    "user_session_by_time_session.head()"
   ]
  },
  {
   "cell_type": "code",
   "execution_count": null,
   "id": "97e638cf-638e-491a-9ecf-713b4d720d36",
   "metadata": {
    "tags": []
   },
   "outputs": [],
   "source": [
    "%%time\n",
    "cart_sessions = data_test[data_test.event_type == 'cart']\n",
    "user_session_cart_by_time_session = cart_sessions.groupby(\"time_session\")['user_session'].count()\\\n",
    "    .to_frame().rename(columns={\"user_session\": \"num_user_session_cart\"})\n",
    "user_session_cart_by_time_session.head()"
   ]
  },
  {
   "cell_type": "code",
   "execution_count": null,
   "id": "2c3b24a2-9aa0-4cc2-a37c-e834b4c3f5e9",
   "metadata": {
    "tags": []
   },
   "outputs": [],
   "source": [
    "%%time\n",
    "ps.set_option('compute.ops_on_diff_frames', True) # only needed for pyspark pandas\n",
    "\n",
    "atcr_by_time_session = ps.concat([user_session_by_time_session, user_session_cart_by_time_session], axis=1)\n",
    "atcr_by_time_session['atcr'] = atcr_by_time_session.num_user_session_cart / atcr_by_time_session.num_user_session * 100\n",
    "atcr_by_time_session.head()"
   ]
  },
  {
   "cell_type": "code",
   "execution_count": null,
   "id": "96928026-eaf3-49c8-ac3e-2dce405cad4d",
   "metadata": {
    "tags": []
   },
   "outputs": [],
   "source": [
    "%%time\n",
    "purchase_sessions = data_test[data_test.event_type == 'purchase']\n",
    "user_session_purchase_by_time_session = purchase_sessions.groupby(\"time_session\")['user_session'].count()\\\n",
    "    .to_frame().rename(columns={\"user_session\": \"num_user_session_purchase\"})\n",
    "user_session_purchase_by_time_session.head()"
   ]
  },
  {
   "cell_type": "code",
   "execution_count": null,
   "id": "f478f2eb-edc0-49fb-9e3f-3343e613576a",
   "metadata": {
    "tags": []
   },
   "outputs": [],
   "source": [
    "%%time\n",
    "ctcr_by_time_session = ps.concat([user_session_cart_by_time_session, user_session_purchase_by_time_session], axis=1)\n",
    "ctcr_by_time_session['ctcr'] = ctcr_by_time_session.num_user_session_purchase / ctcr_by_time_session.num_user_session_cart * 100\n",
    "ctcr_by_time_session.head()"
   ]
  },
  {
   "cell_type": "code",
   "execution_count": null,
   "id": "dfde9756-7754-4064-adbb-55fae0b5bc6f",
   "metadata": {
    "tags": []
   },
   "outputs": [],
   "source": [
    "%%time\n",
    "ctcr_by_time_session['car'] = 100 - ctcr_by_time_session.ctcr\n",
    "ctcr_by_time_session"
   ]
  },
  {
   "cell_type": "code",
   "execution_count": null,
   "id": "51c39f23-3fdf-43c0-a45e-7a12bc30aa63",
   "metadata": {
    "tags": []
   },
   "outputs": [],
   "source": [
    "%%time\n",
    "# visualization\n",
    "fig, ax1 = plt.subplots()\n",
    "\n",
    "avg_atcr = 4.5\n",
    "ax1.plot(atcr_by_time_session.index, atcr_by_time_session.atcr, marker='.', color='#A0E4F1', label='Add-to-cart rate (LHS)')\n",
    "ax1.axhline(y=avg_atcr, linestyle='--', color='#A0E4F1', linewidth=1.5, label=f'Baseline: {avg_atcr}%')\n",
    "# ax1.set_ylim([0, 8])\n",
    "ax1.set_ylim([0, 10])\n",
    "ax1.set_xlabel(\"Time session in a day\")\n",
    "ax1.set_ylabel(\"ATCR\")\n",
    "ax1.legend(loc=\"upper right\")\n",
    "\n",
    "ax2 = ax1.twinx()\n",
    "ax2.plot(ctcr_by_time_session.index, ctcr_by_time_session.car, marker='.', color='#7EA6F4', label='Cart abandonment rate (RHS)')\n",
    "ax2.axhline(y=70, linestyle='--', color='#7EA6F4', linewidth=1.5, label='Baseline: 70%')\n",
    "ax2.set_ylim([0, 100])\n",
    "ax2.set_ylabel(\"CAR\")\n",
    "ax2.legend(loc=\"lower right\")\n",
    "\n",
    "plt.title(\"ATCR and Cart Abandonment Rate\")\n",
    "plt.xticks(time_sessions, session_labels)"
   ]
  },
  {
   "cell_type": "markdown",
   "id": "f4d9b5e9",
   "metadata": {},
   "source": [
    "# 그래프로 알게 된 것\n",
    "  * 장바구니에 담은 것은 시간대에 상관 없이 사지 않는다.\n",
    "  * 장바구니에 담는 것은 새벽~오후 시간대에 많다."
   ]
  },
  {
   "cell_type": "markdown",
   "id": "04c63441-3553-48d0-9173-edfd4c48f6da",
   "metadata": {},
   "source": [
    "Time interval between each decision to act"
   ]
  },
  {
   "cell_type": "code",
   "execution_count": null,
   "id": "8f0fd9ed-96dc-447e-8360-8afa3e59c6f4",
   "metadata": {
    "tags": []
   },
   "outputs": [],
   "source": [
    "%%time\n",
    "from pyspark.sql.functions import concat\n",
    "\n",
    "df_test = df_smartphone.limit(20000).cache()\n",
    "\n",
    "df_test = df_test.withColumn(\"product_id\", df_test.product_id.cast('string'))\n",
    "df_test = df_test.withColumn(\"category_id\", df_test.category_id.cast('string'))\n",
    "df_test = df_test.withColumn(\"user_id\", df_test.user_id.cast('string'))\n",
    "\n",
    "max_id_len = df_test.withColumn(\"product_id_len\", length(col(\"product_id\")))\\\n",
    "                    .withColumn(\"category_id_len\", length(col(\"category_id\")))\\\n",
    "                    .withColumn(\"user_id_len\", length(col(\"user_id\")))\\\n",
    "                    .groupBy().agg(max(\"product_id_len\"), max(\"category_id_len\"), max(\"user_id_len\")).collect()\n",
    "\n",
    "len_pid, len_cid, len_uid = max_id_len[0]\n",
    "\n",
    "df_test = df_test.withColumn(\"product_id\", lpad(df_test.product_id, len_pid, '0'))\\\n",
    "                 .withColumn(\"category_id\", lpad(df_test.category_id, len_cid, '0'))\\\n",
    "                 .withColumn(\"user_id\", lpad(df_test.user_id, len_uid, '0'))\n",
    "\n",
    "df_test = df_test.withColumn(\"uid\", concat(col(\"user_id\"), col(\"brand\"), col(\"product_id\")))\n",
    "uid_view = df_test.filter(df_test.event_type == 'view').select(\"uid\").distinct()\n",
    "uid_cart = df_test.filter(df_test.event_type == 'cart').select(\"uid\").distinct()\n",
    "uid_purchase = df_test.filter(df_test.event_type == 'purchase').select(\"uid\").distinct()\n",
    "\n",
    "uid_common = uid_view.intersect(uid_cart).intersect(uid_purchase).collect()\n",
    "uid_common = [ u.uid for u in uid_common ]\n",
    "len(uid_common)"
   ]
  },
  {
   "cell_type": "markdown",
   "id": "e171a48c",
   "metadata": {},
   "source": [
    "# 알게 된 것: 상품 보는 사람과 구매하는 사람은 다르다.\n",
    "  * 상품을 본 사람과 장바구니에 담아 구매하는 사람은 다른 사람이다?"
   ]
  },
  {
   "cell_type": "markdown",
   "id": "7f380b7c-5bb1-4263-9eb9-2c684d2a4c3c",
   "metadata": {},
   "source": [
    "Filter userid+productid+brand with all three events (view-cart-purchase, with purchase being the end)\n",
    "\n",
    "Calculate number of sessions between first view to end purchase. What’s the average user session numbers before a customer place an order?\n",
    "\n",
    "Calculate the time gap between decisions: a) First view – ATC b) ATC – purchase What’s the average time interval between each decision? May use box plot\n",
    "\n",
    "Calculate the price change from first view, ATC and final payment. Is there any price changes that possibly affect consumer’s decision to buy?\n",
    "\n",
    "Brand analysis (simply)"
   ]
  },
  {
   "cell_type": "code",
   "execution_count": null,
   "id": "6db88e19-6f39-439d-961d-8974a0517b07",
   "metadata": {
    "tags": []
   },
   "outputs": [],
   "source": [
    "%%time\n",
    "data_filtered = df_test.filter(df_test.uid.isin(uid_common))\n",
    "print((data_filtered.count(), len(data_filtered.columns)))"
   ]
  },
  {
   "cell_type": "markdown",
   "id": "fc903e07",
   "metadata": {},
   "source": [
    "# 알게 된 것: 상품 조회부터 구매까지 모두 다 한 사람은 없다."
   ]
  },
  {
   "cell_type": "code",
   "execution_count": null,
   "id": "419e2246-9dab-4719-a63e-725c48bf15c4",
   "metadata": {
    "tags": []
   },
   "outputs": [],
   "source": [
    "%%time\n",
    "from datetime import datetime\n",
    "import timedelta\n",
    "\n",
    "def dt64_to_dt(datetime64):\n",
    "    return datetime.utcfromtimestamp(datetime64.tolist()/1e9)\n",
    "\n",
    "header = [\n",
    "            'uid',\n",
    "            'time_view_to_cart',\n",
    "            'cart_duration',\n",
    "            'time_cart_to_purchase',\n",
    "            'time_view_to_purchase',\n",
    "            'num_user_sessions',\n",
    "            'price_change_view_to_cart',\n",
    "            'price_change_cart_to_purchase'\n",
    "            ]\n",
    "\n",
    "interval_df = pd.DataFrame(columns=header)\n",
    "\n",
    "for i in uid_common:\n",
    "    data_selected = data_filtered.filter(data_filtered.uid == i).sort(\"event_time\").toPandas()\n",
    "    purchase_index = data_selected[data_selected.event_type == 'purchase'].index[-1]\n",
    "    data_selected = data_selected.loc[:purchase_index, :]\n",
    "\n",
    "    # time gap\n",
    "    try:\n",
    "        time_view = dt64_to_dt(data_selected[data_selected.event_type == 'view'].drop_duplicates(subset=['event_type'], keep='first')\\\n",
    "            .event_time.astype(np.datetime64).values[0])\n",
    "    except IndexError:\n",
    "        time_view = np.nan\n",
    "\n",
    "    try:\n",
    "        time_cart_first = dt64_to_dt(data_selected[data_selected.event_type == 'cart'].drop_duplicates(subset=['event_type'], keep='first')\\\n",
    "            .event_time.astype(np.datetime64).values[0])\n",
    "    except IndexError:\n",
    "        time_cart_first = np.nan\n",
    "\n",
    "    try:\n",
    "        time_cart_final = dt64_to_dt(data_selected[data_selected.event_type == 'cart'].drop_duplicates(subset=['event_type'], keep='last')\\\n",
    "            .event_time.astype(np.datetime64).values[0])\n",
    "    except IndexError:\n",
    "        time_cart_final = np.nan\n",
    "\n",
    "    try:\n",
    "        time_purchase = dt64_to_dt(data_selected[data_selected.event_type == 'purchase'].drop_duplicates(subset=['event_type'], keep='first')\\\n",
    "            .event_time.astype(np.datetime64).values[0])\n",
    "    except IndexError:\n",
    "        time_purchase = np.nan\n",
    "\n",
    "    try:\n",
    "        cart_duration = timedelta.Timedelta(time_cart_final - time_cart_first).total.seconds\n",
    "    except (AttributeError, TypeError):\n",
    "        cart_duration = np.nan\n",
    "\n",
    "    try:\n",
    "        view_to_cart = timedelta.Timedelta(time_cart_first - time_view).total.seconds\n",
    "    except (AttributeError, TypeError):\n",
    "        view_to_cart = np.nan\n",
    "\n",
    "    try:\n",
    "        cart_to_purchase = timedelta.Timedelta(time_purchase - time_cart_final).total.seconds\n",
    "    except (AttributeError, TypeError):\n",
    "        cart_to_purchase = np.nan\n",
    "\n",
    "    try:\n",
    "        view_to_purchase = timedelta.Timedelta(time_purchase - time_view).total.seconds\n",
    "    except (AttributeError, TypeError):\n",
    "        view_to_purchase = np.nan\n",
    "\n",
    "    # user session gap\n",
    "    user_session_gap = data_selected.user_session.nunique()\n",
    "\n",
    "    # price change\n",
    "    try:\n",
    "        price_view = data_selected[data_selected.event_type == 'view'].drop_duplicates(subset=['event_type'], keep='first').price.values[0]\n",
    "    except IndexError:\n",
    "        price_view = np.nan\n",
    "\n",
    "    try:\n",
    "        price_cart = data_selected[data_selected.event_type == 'cart'].drop_duplicates(subset=['event_type'], keep='first').price.values[0]\n",
    "    except IndexError:\n",
    "        price_cart = np.nan\n",
    "\n",
    "    try:\n",
    "        price_purchase = data_selected[data_selected.event_type == 'purchase'].drop_duplicates(subset=['event_type'], keep='first').price.values[0]\n",
    "    except IndexError:\n",
    "        price_purchase = np.nan\n",
    "\n",
    "    price_change_view_to_cart = price_cart / price_view - 1\n",
    "    price_change_cart_to_purchase = price_purchase / price_cart - 1\n",
    "\n",
    "    # combine and append\n",
    "    record = [\n",
    "                i,\n",
    "                view_to_cart,\n",
    "                cart_duration,\n",
    "                cart_to_purchase,\n",
    "                view_to_purchase,\n",
    "                user_session_gap,\n",
    "                price_change_view_to_cart,\n",
    "                price_change_cart_to_purchase\n",
    "                ]\n",
    "\n",
    "    interval_df.loc[interval_df.shape[0]] = record\n",
    "\n",
    "interval_df.head(10)"
   ]
  },
  {
   "cell_type": "code",
   "execution_count": null,
   "id": "883b1988-489a-4993-9cc2-e0ddf221a990",
   "metadata": {
    "tags": []
   },
   "outputs": [],
   "source": [
    "%%time\n",
    "interval_df = interval_df.reset_index()\n",
    "interval_df.set_index('uid', inplace=True)\n",
    "interval_df = interval_df.astype(float).dropna(how='any')\n",
    "interval_df.describe()"
   ]
  },
  {
   "cell_type": "code",
   "execution_count": null,
   "id": "0a363bb4-0aa9-47b5-9d9a-cd8a14970301",
   "metadata": {
    "tags": []
   },
   "outputs": [],
   "source": [
    "%%time\n",
    "interval_df_new = interval_df.copy()\n",
    "\n",
    "cols_to_winsor = ['time_view_to_cart', 'cart_duration', 'time_cart_to_purchase', 'time_view_to_purchase']\n",
    "time_bound = [300, 120, 300, 900]\n",
    "for i in range(len(cols_to_winsor)):\n",
    "    # interval_df_new[col] = mstats.winsorize(interval_df_new[col], limits=[0, 0.15])\n",
    "    col = cols_to_winsor[i]\n",
    "    timelim = time_bound[i]\n",
    "    interval_df_new.loc[interval_df_new[col] > timelim, col] = timelim\n",
    "    interval_df_new.loc[interval_df_new[col] < 0, col] = 0\n",
    "interval_df_new.describe()"
   ]
  },
  {
   "cell_type": "code",
   "execution_count": null,
   "id": "9d6c4540-5380-4a55-a68c-4e103d2151a7",
   "metadata": {
    "tags": []
   },
   "outputs": [],
   "source": [
    "%%time\n",
    "flierprops = dict(marker='+', markerfacecolor='g', markersize=15, linestyle='none', markeredgecolor='r')\n",
    "fig = plt.figure(figsize=(8, 6))\n",
    "\n",
    "ax1 = fig.add_subplot(221)\n",
    "ax1.boxplot(interval_df_new.time_view_to_cart, flierprops=flierprops)\n",
    "ax1.set_title('Time from view to add-to-cart')\n",
    "\n",
    "ax2 = fig.add_subplot(222)\n",
    "ax2.boxplot(interval_df_new.cart_duration, flierprops=flierprops)\n",
    "ax2.set_title('Time between first to last add-to-cart')\n",
    "\n",
    "ax3 = fig.add_subplot(223)\n",
    "ax3.boxplot(interval_df_new.time_cart_to_purchase, flierprops=flierprops)\n",
    "ax3.set_title('Time from add-to-cart to purchase')\n",
    "\n",
    "ax4 = fig.add_subplot(224)\n",
    "ax4.boxplot(interval_df_new.time_view_to_purchase, flierprops=flierprops)\n",
    "ax4.set_title('Time from view to purchase')\n",
    "\n",
    "fig.tight_layout()"
   ]
  },
  {
   "cell_type": "markdown",
   "id": "baaf70c7-3349-4706-aed4-b5676f23a946",
   "metadata": {},
   "source": [
    "Done!"
   ]
  },
  {
   "cell_type": "code",
   "execution_count": null,
   "id": "965ef5d6-fa60-498e-be54-d5e26a5b9670",
   "metadata": {},
   "outputs": [],
   "source": [
    "df_smartphone.count()"
   ]
  },
  {
   "cell_type": "markdown",
   "id": "863eb92d",
   "metadata": {},
   "source": [
    "# 요일별로 가장 많이 구매하는 브랜드"
   ]
  },
  {
   "cell_type": "code",
   "execution_count": null,
   "id": "bb416e13",
   "metadata": {},
   "outputs": [],
   "source": [
    "temp = df_smartphone.select(\"brand\").groupBy(\"brand\").count().show()"
   ]
  },
  {
   "cell_type": "code",
   "execution_count": null,
   "id": "9a71979b",
   "metadata": {},
   "outputs": [],
   "source": [
    "df_smartphone.columns"
   ]
  },
  {
   "cell_type": "code",
   "execution_count": null,
   "id": "1fd41860",
   "metadata": {},
   "outputs": [],
   "source": [
    "df_smartphone.select('event_type').distinct().show()"
   ]
  },
  {
   "cell_type": "code",
   "execution_count": null,
   "id": "15ad3fc3",
   "metadata": {},
   "outputs": [],
   "source": [
    "df_purchase = df_smartphone.filter(df_smartphone.event_type == 'purchase').groupBy(\"brand\").count().toPandas()\n",
    "df_view = df_smartphone.filter(df_smartphone.event_type == 'view').groupBy(\"brand\").count().toPandas()\n",
    "df_cart = df_smartphone.filter(df_smartphone.event_type == 'cart').groupBy(\"brand\").count().toPandas()"
   ]
  },
  {
   "cell_type": "code",
   "execution_count": null,
   "id": "b02c4db9",
   "metadata": {},
   "outputs": [],
   "source": [
    "df_top10_purchase_brand = df_purchase.sort_values(by='count', ascending=False)\n",
    "df_top10_purchase_brand = df_top10_purchase_brand.rename(columns={\"count\": \"purchase\"})\n",
    "df_top10_purchase_brand = df_top10_purchase_brand.reset_index(drop=True)\n",
    "df_top10_purchase_brand = df_top10_purchase_brand.head(10)\n",
    "df_top10_purchase_brand = pd.DataFrame(df_top10_purchase_brand)\n",
    "df_top10_purchase_brand"
   ]
  },
  {
   "cell_type": "code",
   "execution_count": null,
   "id": "b7eeeed8",
   "metadata": {},
   "outputs": [],
   "source": [
    "df_top10_view = df_view.sort_values(by='count', ascending=False)\n",
    "df_top10_view = df_top10_view.rename(columns={\"count\": \"view\"})\n",
    "df_top10_view = df_top10_view.reset_index(drop=True)\n",
    "df_top10_view = df_top10_view.head(10)\n",
    "df_top10_view"
   ]
  },
  {
   "cell_type": "code",
   "execution_count": null,
   "id": "fbab6701",
   "metadata": {},
   "outputs": [],
   "source": [
    "df_top10_cart = df_cart.sort_values(by='count', ascending=False)\n",
    "df_top10_cart = df_top10_cart.rename(columns={\"count\": \"cart\"})\n",
    "df_top10_cart = df_top10_cart.reset_index(drop=True)\n",
    "df_top10_cart = df_top10_cart.head(10)\n",
    "df_top10_cart"
   ]
  },
  {
   "cell_type": "code",
   "execution_count": null,
   "id": "3a5b351c",
   "metadata": {},
   "outputs": [],
   "source": []
  },
  {
   "cell_type": "markdown",
   "id": "0b08753d",
   "metadata": {},
   "source": [
    "# 가장 많이 구매하는 브랜드는 압도적으로 lucente"
   ]
  },
  {
   "cell_type": "code",
   "execution_count": null,
   "id": "8380e44e",
   "metadata": {},
   "outputs": [],
   "source": [
    "import matplotlib.pyplot as plt\n",
    "\n",
    "fig = plt.figure(figsize=(20, 5))\n",
    "ax1 = fig.add_subplot(131)\n",
    "ax1.set_title('Top 10 Purchase Brands')\n",
    "ax1.set_xlabel('Brand')\n",
    "ax1.set_ylabel('Count')\n",
    "ax1.bar(df_top10_purchase_brand.brand, df_top10_purchase_brand['purchase'], color='#A0E4F1')\n",
    "plt.xticks(rotation=90)\n",
    "\n",
    "ax2 = fig.add_subplot(132)\n",
    "ax2.set_title('Top 10 View Brands')\n",
    "ax2.set_xlabel('Brand')\n",
    "ax2.set_ylabel('Count')\n",
    "ax2.bar(df_top10_view.brand, df_top10_view['view'], color='#7EA6F4')\n",
    "plt.xticks(rotation=90)\n",
    "\n",
    "ax3 = fig.add_subplot(133)\n",
    "ax3.set_title('Top 10 Cart Brands')\n",
    "ax3.set_xlabel('Brand')\n",
    "ax3.set_ylabel('Count')\n",
    "ax3.bar(df_top10_cart.brand, df_top10_cart['cart'], color='#4A4DE7')\n",
    "plt.xticks(rotation=90)\n",
    "\n",
    "plt.show()"
   ]
  },
  {
   "cell_type": "markdown",
   "id": "95bcaa6c",
   "metadata": {},
   "source": [
    "# 가장 많이 구매한 브랜드는 무슨 요일에 가장 많이 조회했고, 무슨 요일에 샀을까?"
   ]
  },
  {
   "cell_type": "markdown",
   "id": "281af063",
   "metadata": {},
   "source": []
  }
 ],
 "metadata": {
  "kernelspec": {
   "display_name": "Python 3 (ipykernel)",
   "language": "python",
   "name": "python3"
  },
  "language_info": {
   "codemirror_mode": {
    "name": "ipython",
    "version": 3
   },
   "file_extension": ".py",
   "mimetype": "text/x-python",
   "name": "python",
   "nbconvert_exporter": "python",
   "pygments_lexer": "ipython3",
   "version": "3.10.2"
  }
 },
 "nbformat": 4,
 "nbformat_minor": 5
}
