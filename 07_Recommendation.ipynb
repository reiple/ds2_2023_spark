{
  "cells": [
    {
      "cell_type": "code",
      "execution_count": null,
      "metadata": {
        "id": "kNaSjs04U2T4"
      },
      "outputs": [],
      "source": [
        "#!sudo apt-get install -y openjdk-8-jdk-headless -qq > /dev/null\n",
        "!wget -q https://archive.apache.org/dist/spark/spark-3.2.4/spark-3.2.4-bin-hadoop3.2.tgz\n",
        "!tar xf spark-3.2.4-bin-hadoop3.2.tgz\n",
        "!pip install -q findspark"
      ]
    },
    {
      "cell_type": "code",
      "source": [
        "import findspark\n",
        "findspark.init(\"/content/spark-3.2.4-bin-hadoop3.2\")"
      ],
      "metadata": {
        "id": "RBcGFKHjXWFh"
      },
      "execution_count": null,
      "outputs": []
    },
    {
      "cell_type": "code",
      "source": [
        "from pyspark.sql import SparkSession\n",
        "spark = SparkSession.builder.getOrCreate()\n",
        "sc = spark.sparkContext"
      ],
      "metadata": {
        "id": "KKbAYSFbXXTr"
      },
      "execution_count": null,
      "outputs": []
    },
    {
      "cell_type": "code",
      "source": [
        "from google.colab import drive\n",
        "drive.mount('/gdrive')\n",
        "gpath = '/gdrive/MyDrive/data/'"
      ],
      "metadata": {
        "id": "amDyAFG04MOV",
        "colab": {
          "base_uri": "https://localhost:8080/"
        },
        "outputId": "11f70c41-4684-409f-8075-34c2d3e49430"
      },
      "execution_count": null,
      "outputs": [
        {
          "output_type": "stream",
          "name": "stdout",
          "text": [
            "Mounted at /gdrive\n"
          ]
        }
      ]
    },
    {
      "cell_type": "code",
      "execution_count": null,
      "metadata": {
        "id": "OIl5nce-U2T8",
        "colab": {
          "base_uri": "https://localhost:8080/"
        },
        "outputId": "bf907ebd-cff5-489d-db97-32034e2de197"
      },
      "outputs": [
        {
          "output_type": "execute_result",
          "data": {
            "text/plain": [
              "[Row(movieId=1, title='Toy Story (1995)', genres='Adventure|Animation|Children|Comedy|Fantasy')]"
            ]
          },
          "metadata": {},
          "execution_count": 7
        }
      ],
      "source": [
        "from pyspark.sql.types import StructType, StructField, IntegerType, StringType\n",
        "\n",
        "colNames = [\"movieId\", \"title\", \"genres\"]\n",
        "\n",
        "movies_schema = StructType()\n",
        "for name in colNames:\n",
        "    if name == \"movieId\":\n",
        "        movies_schema.add(StructField(name, IntegerType(), True))\n",
        "    else:\n",
        "        movies_schema.add(StructField(name, StringType(), True))\n",
        "\n",
        "movies = spark.read.csv(gpath+\"movies.csv\", header=True, schema=movies_schema)\n",
        "movies.take(1)"
      ]
    },
    {
      "cell_type": "code",
      "execution_count": null,
      "metadata": {
        "id": "oiHqRjm2U2T8",
        "colab": {
          "base_uri": "https://localhost:8080/"
        },
        "outputId": "e9b8dabd-9176-48c4-859e-3a96b2fed70c"
      },
      "outputs": [
        {
          "output_type": "stream",
          "name": "stdout",
          "text": [
            "root\n",
            " |-- movieId: integer (nullable = true)\n",
            " |-- title: string (nullable = true)\n",
            " |-- genres: string (nullable = true)\n",
            "\n"
          ]
        }
      ],
      "source": [
        "movies.printSchema()"
      ]
    },
    {
      "cell_type": "code",
      "execution_count": null,
      "metadata": {
        "scrolled": true,
        "id": "3ySVm6yMU2T9"
      },
      "outputs": [],
      "source": [
        "movies_pd = movies.toPandas().set_index(\"movieId\")"
      ]
    },
    {
      "cell_type": "code",
      "source": [
        "movies_pd[movies_pd['title'].str.contains(\"Iron Man\")]"
      ],
      "metadata": {
        "id": "g36CCcm0jQZm",
        "colab": {
          "base_uri": "https://localhost:8080/",
          "height": 269
        },
        "outputId": "7e02c26f-aa6b-4893-c222-1b92776a6299"
      },
      "execution_count": null,
      "outputs": [
        {
          "output_type": "execute_result",
          "data": {
            "text/plain": [
              "                                         title  \\\n",
              "movieId                                          \n",
              "59315                          Iron Man (2008)   \n",
              "77561                        Iron Man 2 (2010)   \n",
              "102007         Invincible Iron Man, The (2007)   \n",
              "102125                       Iron Man 3 (2013)   \n",
              "142056   Iron Man & Hulk: Heroes United (2013)   \n",
              "167296                         Iron Man (1931)   \n",
              "\n",
              "                                        genres  \n",
              "movieId                                         \n",
              "59315                  Action|Adventure|Sci-Fi  \n",
              "77561    Action|Adventure|Sci-Fi|Thriller|IMAX  \n",
              "102007                               Animation  \n",
              "102125             Action|Sci-Fi|Thriller|IMAX  \n",
              "142056              Action|Adventure|Animation  \n",
              "167296                                   Drama  "
            ],
            "text/html": [
              "\n",
              "  <div id=\"df-e9941e1c-0776-4c7a-8b84-f0ec547b2467\">\n",
              "    <div class=\"colab-df-container\">\n",
              "      <div>\n",
              "<style scoped>\n",
              "    .dataframe tbody tr th:only-of-type {\n",
              "        vertical-align: middle;\n",
              "    }\n",
              "\n",
              "    .dataframe tbody tr th {\n",
              "        vertical-align: top;\n",
              "    }\n",
              "\n",
              "    .dataframe thead th {\n",
              "        text-align: right;\n",
              "    }\n",
              "</style>\n",
              "<table border=\"1\" class=\"dataframe\">\n",
              "  <thead>\n",
              "    <tr style=\"text-align: right;\">\n",
              "      <th></th>\n",
              "      <th>title</th>\n",
              "      <th>genres</th>\n",
              "    </tr>\n",
              "    <tr>\n",
              "      <th>movieId</th>\n",
              "      <th></th>\n",
              "      <th></th>\n",
              "    </tr>\n",
              "  </thead>\n",
              "  <tbody>\n",
              "    <tr>\n",
              "      <th>59315</th>\n",
              "      <td>Iron Man (2008)</td>\n",
              "      <td>Action|Adventure|Sci-Fi</td>\n",
              "    </tr>\n",
              "    <tr>\n",
              "      <th>77561</th>\n",
              "      <td>Iron Man 2 (2010)</td>\n",
              "      <td>Action|Adventure|Sci-Fi|Thriller|IMAX</td>\n",
              "    </tr>\n",
              "    <tr>\n",
              "      <th>102007</th>\n",
              "      <td>Invincible Iron Man, The (2007)</td>\n",
              "      <td>Animation</td>\n",
              "    </tr>\n",
              "    <tr>\n",
              "      <th>102125</th>\n",
              "      <td>Iron Man 3 (2013)</td>\n",
              "      <td>Action|Sci-Fi|Thriller|IMAX</td>\n",
              "    </tr>\n",
              "    <tr>\n",
              "      <th>142056</th>\n",
              "      <td>Iron Man &amp; Hulk: Heroes United (2013)</td>\n",
              "      <td>Action|Adventure|Animation</td>\n",
              "    </tr>\n",
              "    <tr>\n",
              "      <th>167296</th>\n",
              "      <td>Iron Man (1931)</td>\n",
              "      <td>Drama</td>\n",
              "    </tr>\n",
              "  </tbody>\n",
              "</table>\n",
              "</div>\n",
              "      <button class=\"colab-df-convert\" onclick=\"convertToInteractive('df-e9941e1c-0776-4c7a-8b84-f0ec547b2467')\"\n",
              "              title=\"Convert this dataframe to an interactive table.\"\n",
              "              style=\"display:none;\">\n",
              "        \n",
              "  <svg xmlns=\"http://www.w3.org/2000/svg\" height=\"24px\"viewBox=\"0 0 24 24\"\n",
              "       width=\"24px\">\n",
              "    <path d=\"M0 0h24v24H0V0z\" fill=\"none\"/>\n",
              "    <path d=\"M18.56 5.44l.94 2.06.94-2.06 2.06-.94-2.06-.94-.94-2.06-.94 2.06-2.06.94zm-11 1L8.5 8.5l.94-2.06 2.06-.94-2.06-.94L8.5 2.5l-.94 2.06-2.06.94zm10 10l.94 2.06.94-2.06 2.06-.94-2.06-.94-.94-2.06-.94 2.06-2.06.94z\"/><path d=\"M17.41 7.96l-1.37-1.37c-.4-.4-.92-.59-1.43-.59-.52 0-1.04.2-1.43.59L10.3 9.45l-7.72 7.72c-.78.78-.78 2.05 0 2.83L4 21.41c.39.39.9.59 1.41.59.51 0 1.02-.2 1.41-.59l7.78-7.78 2.81-2.81c.8-.78.8-2.07 0-2.86zM5.41 20L4 18.59l7.72-7.72 1.47 1.35L5.41 20z\"/>\n",
              "  </svg>\n",
              "      </button>\n",
              "      \n",
              "  <style>\n",
              "    .colab-df-container {\n",
              "      display:flex;\n",
              "      flex-wrap:wrap;\n",
              "      gap: 12px;\n",
              "    }\n",
              "\n",
              "    .colab-df-convert {\n",
              "      background-color: #E8F0FE;\n",
              "      border: none;\n",
              "      border-radius: 50%;\n",
              "      cursor: pointer;\n",
              "      display: none;\n",
              "      fill: #1967D2;\n",
              "      height: 32px;\n",
              "      padding: 0 0 0 0;\n",
              "      width: 32px;\n",
              "    }\n",
              "\n",
              "    .colab-df-convert:hover {\n",
              "      background-color: #E2EBFA;\n",
              "      box-shadow: 0px 1px 2px rgba(60, 64, 67, 0.3), 0px 1px 3px 1px rgba(60, 64, 67, 0.15);\n",
              "      fill: #174EA6;\n",
              "    }\n",
              "\n",
              "    [theme=dark] .colab-df-convert {\n",
              "      background-color: #3B4455;\n",
              "      fill: #D2E3FC;\n",
              "    }\n",
              "\n",
              "    [theme=dark] .colab-df-convert:hover {\n",
              "      background-color: #434B5C;\n",
              "      box-shadow: 0px 1px 3px 1px rgba(0, 0, 0, 0.15);\n",
              "      filter: drop-shadow(0px 1px 2px rgba(0, 0, 0, 0.3));\n",
              "      fill: #FFFFFF;\n",
              "    }\n",
              "  </style>\n",
              "\n",
              "      <script>\n",
              "        const buttonEl =\n",
              "          document.querySelector('#df-e9941e1c-0776-4c7a-8b84-f0ec547b2467 button.colab-df-convert');\n",
              "        buttonEl.style.display =\n",
              "          google.colab.kernel.accessAllowed ? 'block' : 'none';\n",
              "\n",
              "        async function convertToInteractive(key) {\n",
              "          const element = document.querySelector('#df-e9941e1c-0776-4c7a-8b84-f0ec547b2467');\n",
              "          const dataTable =\n",
              "            await google.colab.kernel.invokeFunction('convertToInteractive',\n",
              "                                                     [key], {});\n",
              "          if (!dataTable) return;\n",
              "\n",
              "          const docLinkHtml = 'Like what you see? Visit the ' +\n",
              "            '<a target=\"_blank\" href=https://colab.research.google.com/notebooks/data_table.ipynb>data table notebook</a>'\n",
              "            + ' to learn more about interactive tables.';\n",
              "          element.innerHTML = '';\n",
              "          dataTable['output_type'] = 'display_data';\n",
              "          await google.colab.output.renderOutput(dataTable, element);\n",
              "          const docLink = document.createElement('div');\n",
              "          docLink.innerHTML = docLinkHtml;\n",
              "          element.appendChild(docLink);\n",
              "        }\n",
              "      </script>\n",
              "    </div>\n",
              "  </div>\n",
              "  "
            ]
          },
          "metadata": {},
          "execution_count": 10
        }
      ]
    },
    {
      "cell_type": "code",
      "execution_count": null,
      "metadata": {
        "id": "45-sQ2hNU2T9",
        "colab": {
          "base_uri": "https://localhost:8080/"
        },
        "outputId": "8eebeb6a-283c-4ac6-d2f2-777767b604c9"
      },
      "outputs": [
        {
          "output_type": "execute_result",
          "data": {
            "text/plain": [
              "[Row(userId=1, movieId=1, rating=4.0, timestamp=964982703)]"
            ]
          },
          "metadata": {},
          "execution_count": 11
        }
      ],
      "source": [
        "from pyspark.sql.types import StructType, StructField, IntegerType, DoubleType\n",
        "\n",
        "colNames = [\"userId\", \"movieId\", \"rating\", \"timestamp\"]\n",
        "\n",
        "ratings_schema = StructType()\n",
        "for name in colNames:\n",
        "    if name == \"rating\":\n",
        "        ratings_schema.add(StructField(name, DoubleType(), True))\n",
        "    else:\n",
        "        ratings_schema.add(StructField(name, IntegerType(), True))\n",
        "\n",
        "ratings = spark.read.csv(gpath+\"ratings.csv\", header=True, schema=ratings_schema)\n",
        "\n",
        "ratings.take(1)"
      ]
    },
    {
      "cell_type": "code",
      "execution_count": null,
      "metadata": {
        "id": "0_rhaCUDU2T-"
      },
      "outputs": [],
      "source": [
        "(trainData, testData) = ratings.randomSplit([0.8, 0.2])"
      ]
    },
    {
      "cell_type": "markdown",
      "source": [
        "### ALS(Alternate Least Squares) 모델\n",
        "\n",
        "- `userCol`\n",
        "- `itemCol`\n",
        "- `ratingCol`\n",
        "- `coldStartStrategy` = \"drop\" : 아직 평가되지 않은, 즉 결측치 값을 갖는 데이터를 제외하고 모델의 성능을 평가하는 것"
      ],
      "metadata": {
        "id": "1ywQyCPMqIXd"
      }
    },
    {
      "cell_type": "code",
      "execution_count": null,
      "metadata": {
        "id": "XKOYmUHwU2T-"
      },
      "outputs": [],
      "source": [
        "from pyspark.ml.recommendation import ALS\n",
        "# 01. ALS 모델 초기화\n",
        "als = ALS(\n",
        "    userCol=\"userId\",      # 사용자 ID가 있는 컬럼의 이름. 사용자 정보를 나타내는 열을 지정합니다.\n",
        "    itemCol=\"movieId\",     # 영화 ID가 있는 컬럼의 이름. 아이템(영화) 정보를 나타내는 열을 지정합니다.\n",
        "    ratingCol=\"rating\",    # 평점이 있는 컬럼의 이름. 사용자가 아이템에 대한 평점을 나타내는 열을 지정합니다. Prediction 시 무시됩니다.\n",
        "    coldStartStrategy=\"drop\"  # \"drop\"으로 설정하면 추천 시스템이 평가 데이터에 존재하지 않는 새로운 사용자 또는 아이템을 무시합니다.\n",
        ")\n",
        "\n",
        "# 02. 모델 훈련\n",
        "model = als.fit(trainData)"
      ]
    },
    {
      "cell_type": "code",
      "execution_count": null,
      "metadata": {
        "id": "wDRSIcnpU2T_",
        "colab": {
          "base_uri": "https://localhost:8080/"
        },
        "outputId": "c6f46a22-842f-4683-8a50-3f46d08585b0"
      },
      "outputs": [
        {
          "output_type": "stream",
          "name": "stdout",
          "text": [
            "Root-mean-square error = 0.8758175907959856\n"
          ]
        }
      ],
      "source": [
        "from pyspark.ml.evaluation import RegressionEvaluator\n",
        "\n",
        "# 03. 모델의 성능 평가\n",
        "predictions = model.transform(testData)\n",
        "evaluator = RegressionEvaluator(metricName=\"rmse\", labelCol=\"rating\", predictionCol=\"prediction\")\n",
        "rmse = evaluator.evaluate(predictions)\n",
        "print(\"Root-mean-square error = \" + str(rmse))"
      ]
    },
    {
      "cell_type": "code",
      "execution_count": null,
      "metadata": {
        "id": "xt3ceFyRU2UA",
        "colab": {
          "base_uri": "https://localhost:8080/"
        },
        "outputId": "d9117b73-a665-4658-d7f9-e16b4e0ab92f"
      },
      "outputs": [
        {
          "output_type": "stream",
          "name": "stderr",
          "text": [
            "/content/spark-3.2.4-bin-hadoop3.2/python/pyspark/sql/context.py:125: FutureWarning: Deprecated in 3.0.0. Use SparkSession.builder.getOrCreate() instead.\n",
            "  warnings.warn(\n"
          ]
        },
        {
          "output_type": "stream",
          "name": "stdout",
          "text": [
            "+---+----------------------------------------------------------------------------------------------------------------------------+\n",
            "|id |features                                                                                                                    |\n",
            "+---+----------------------------------------------------------------------------------------------------------------------------+\n",
            "|1  |[-1.1248379, 0.54584867, 0.9606724, 0.47710204, -0.5774898, -0.5032624, 1.1317714, -0.28293285, -0.22718443, -0.62583226]   |\n",
            "|2  |[-0.8566326, -0.41705447, 0.47114533, 0.96188194, 0.11470162, -0.34528956, 1.2581453, -0.39371917, 0.08109456, -0.51343125] |\n",
            "|3  |[-0.04039247, -0.008030852, -0.65790707, 0.5550941, -1.5706716, 0.98675764, 0.9225341, -0.39208722, 0.3255331, -0.4515712]  |\n",
            "|4  |[-1.2664526, -0.7700593, 0.7200424, 0.8954235, -0.25302544, -0.97437733, 0.3907305, -0.020199522, -0.32961154, 0.46209392]  |\n",
            "|5  |[-1.0496464, 0.027840717, 0.72774065, 0.7010844, -0.9985403, -0.7464322, 0.34679735, -0.071210146, -0.4178466, 0.3720479]   |\n",
            "|6  |[-0.82841, 0.44425908, 0.68025684, 0.7554162, -0.41856432, -0.6715255, 0.4393939, -0.621347, -0.012318296, -1.1668329]      |\n",
            "|7  |[-1.0900801, -0.86583614, 0.39268774, 1.4200939, -0.3727043, -0.3311086, 0.5771484, -0.107065186, -0.040772595, 0.12052787] |\n",
            "|8  |[-0.59867835, 0.035661787, 1.3604431, 0.75984955, -0.6735325, -0.35029578, 0.48335204, -0.4358992, 0.6327587, -0.12491099]  |\n",
            "|9  |[-1.2783592, -0.1076749, 0.8897506, 0.54755884, -0.64969975, -0.19866678, 0.6484517, 0.49812898, -0.68377596, -0.22208227]  |\n",
            "|10 |[-0.48037645, 0.25394514, 0.99389637, 0.3434742, -0.0437815, -0.7690373, 0.01722728, -0.24676389, -0.8901737, -1.516965]    |\n",
            "|11 |[-1.0243608, -0.3722891, 1.3138504, 0.64610577, -0.30133724, -0.3736963, 0.419322, -0.34101903, 0.05567377, -0.6905303]     |\n",
            "|12 |[-1.2038726, -0.1185517, 0.89979184, 0.90379846, 0.124460086, -0.7715539, 0.6417146, -0.41108727, 0.27945015, -1.1464393]   |\n",
            "|13 |[-0.8653328, -0.40703, 0.7953197, 0.727756, -0.8067879, 0.27121097, 0.9041629, 0.13876022, -0.094392546, -0.93724495]       |\n",
            "|14 |[-0.968097, 0.0028151236, 1.2012057, 0.3896622, -0.54483163, 0.44175678, 0.4783462, -0.48501137, 0.7500349, -0.74194795]    |\n",
            "|15 |[-0.45434594, 0.2748086, 1.6035347, 0.8763853, -0.3213892, -0.0972649, 0.08688734, -0.33672217, -0.7919807, -0.6291756]     |\n",
            "|16 |[-0.5756806, -0.19387323, 0.63419086, 0.49322662, -0.8982534, -0.1317979, 0.86042565, -0.4747855, -0.103163615, -0.32599515]|\n",
            "|17 |[-0.8731456, -0.15926513, 0.87275827, 0.9211777, -0.6455306, -0.08913321, 0.791899, 0.03848556, -0.0064757485, -0.38029844] |\n",
            "|18 |[-0.7843518, -0.051369004, 0.9887966, 0.6130246, -0.67668617, -0.2200693, 0.7137985, -0.2376554, 0.1644149, -0.47626585]    |\n",
            "|19 |[-1.1434406, 0.22873639, 0.33011937, 0.49208823, -0.5431969, -0.20117559, 0.5476901, -0.24313185, -0.28943872, -0.30312926] |\n",
            "|20 |[-1.3899014, -0.1787316, 0.8366519, -0.1448536, -0.89778364, -0.89739436, 0.6495473, -0.12226729, -0.20691496, -0.4205726]  |\n",
            "+---+----------------------------------------------------------------------------------------------------------------------------+\n",
            "only showing top 20 rows\n",
            "\n"
          ]
        }
      ],
      "source": [
        "# ALS 모델에서 학습한 사용자 잠재 요인(user latent factors)을 검색하고 ID에 따라 정렬하여 표시합니다.\n",
        "model.userFactors.orderBy(\"id\").show(truncate=False)"
      ]
    },
    {
      "cell_type": "code",
      "execution_count": null,
      "metadata": {
        "id": "-EaKBbxwU2UA",
        "colab": {
          "base_uri": "https://localhost:8080/"
        },
        "outputId": "69ef1fc9-7a19-4cf5-8e00-12011886fc54"
      },
      "outputs": [
        {
          "output_type": "stream",
          "name": "stdout",
          "text": [
            "+---+----------------------------------------------------------------------------------------------------------------------------+\n",
            "|id |features                                                                                                                    |\n",
            "+---+----------------------------------------------------------------------------------------------------------------------------+\n",
            "|1  |[-1.0494039, 0.17547913, 0.8934499, 1.1032925, -0.9191482, -0.6195514, 0.7959617, -0.2877912, 0.15922393, -0.34671858]      |\n",
            "|2  |[-0.85618657, 0.14650868, 0.8222707, 0.66359514, -0.59942496, -0.65007925, 0.69193494, -0.44325742, 0.28117636, -0.676525]  |\n",
            "|3  |[-0.3015907, 0.0981968, 0.9181901, 0.6325812, -0.23113918, -0.76179945, 1.1464102, -0.82921475, 0.03859286, -0.48202437]    |\n",
            "|4  |[-0.7009465, -0.044833373, 0.88383365, 0.017065119, -0.28327438, -0.301322, 0.4178733, -0.074868225, 0.23491703, -0.8827924]|\n",
            "|5  |[-0.75879776, 0.47123194, 0.6627624, 0.5240069, -0.08934613, -0.66024154, 0.7114084, -0.5360551, -0.1502241, -0.7698339]    |\n",
            "|6  |[-0.8869734, -0.19085468, 1.3967773, 0.92129785, -0.52514195, 0.23022117, 0.9314519, -0.42855588, -0.01779601, -0.45818663] |\n",
            "|7  |[-0.70189166, 0.38154614, 0.775682, 0.7709126, -0.82817775, -0.48109236, 0.29392686, -0.60458374, 0.01901968, -0.7800649]   |\n",
            "|8  |[-0.7752663, 0.10807559, 0.5492561, 0.54133415, -0.50136685, -0.6797776, 0.77719, -0.33206782, 0.09538726, -0.30511236]     |\n",
            "|9  |[-0.8408041, 0.27317083, 0.46917978, 1.0040783, 0.07831046, -0.8970081, 0.69933134, -0.74982464, 0.15644506, 0.15714394]    |\n",
            "|10 |[-0.9029298, -0.07100919, 0.77345425, 0.8331144, -0.3074174, -0.14662899, 1.0348454, -0.2250087, -0.028430901, -0.810282]   |\n",
            "|11 |[-0.91621524, 0.6468015, 1.4491901, 0.91935384, -0.24406575, -0.27265078, 0.26660547, -0.5077135, -0.18739039, -0.70327556] |\n",
            "|12 |[-0.0729554, -0.883323, 0.597101, 0.7561779, -0.68532985, 0.034772217, 0.75154424, -0.2604792, 1.1096154, -0.9725073]       |\n",
            "|13 |[-1.3860773, 0.101977974, 0.4483696, 0.4068493, -0.59276986, -0.48415262, 0.33659467, 0.19334738, -0.25414455, -0.59884197] |\n",
            "|14 |[-0.92787063, -0.24941199, 1.5548506, 0.443671, -1.0106498, -0.686299, 0.39411327, 0.24867557, -0.26286566, -0.6532263]     |\n",
            "|15 |[-0.78417605, 0.25207123, 0.43543634, 0.89893645, -0.22814076, -0.5022173, 0.14489207, -0.1289607, 0.3975888, -1.092003]    |\n",
            "|16 |[-0.88615024, 0.02527472, 1.3967742, 0.53685206, -0.41695017, -0.049001608, 1.4178942, -0.051022947, 0.5635232, -0.3789853] |\n",
            "|17 |[-0.5416515, -0.4740517, 1.3518956, 0.34231004, -1.2545724, -0.6337956, 0.3835036, -1.1806699, 0.027530704, -0.471907]      |\n",
            "|18 |[-0.2567528, 0.4746535, 1.1513114, 1.2117741, -0.31378347, -0.615545, 1.3200067, -0.4647226, 0.25355396, -0.17043985]       |\n",
            "|19 |[-0.60337096, 0.06253678, 0.27360013, 0.80700815, -0.11342997, -0.59209734, 1.425305, 0.30461437, 0.09111994, -0.17907593]  |\n",
            "|20 |[-0.8867112, 0.081392966, 0.7640427, 0.15979326, -0.6095681, -0.22461542, 0.9063656, 0.47687325, -0.08795588, -0.6989043]   |\n",
            "+---+----------------------------------------------------------------------------------------------------------------------------+\n",
            "only showing top 20 rows\n",
            "\n"
          ]
        }
      ],
      "source": [
        "# ALS 모델에서 학습한 아이템 잠재 요인(item latent factors)을 검색하고 ID에 따라 정렬하여 표시합니다.\n",
        "model.itemFactors.orderBy(\"id\").show(truncate=False)"
      ]
    },
    {
      "cell_type": "code",
      "execution_count": null,
      "metadata": {
        "id": "aWmiOGhRU2UA",
        "colab": {
          "base_uri": "https://localhost:8080/"
        },
        "outputId": "80c130e7-0a8c-435d-d030-8c61c207e0af"
      },
      "outputs": [
        {
          "output_type": "stream",
          "name": "stdout",
          "text": [
            "[(414, 2698), (599, 2478), (474, 2108), (448, 1864), (274, 1346)]\n"
          ]
        }
      ],
      "source": [
        "# 각각의 user가 영화를 얼마나 봤는지 추출\n",
        "from collections import Counter\n",
        "user_list = [int(row['userId']) for row in ratings.collect()]\n",
        "c = Counter(user_list)\n",
        "print(c.most_common(5))"
      ]
    },
    {
      "cell_type": "code",
      "execution_count": null,
      "metadata": {
        "id": "gixchIBjU2UA",
        "colab": {
          "base_uri": "https://localhost:8080/",
          "height": 424
        },
        "outputId": "d9d93cec-7c18-4767-95fe-2c29ef2b9989"
      },
      "outputs": [
        {
          "output_type": "execute_result",
          "data": {
            "text/plain": [
              "      userId  movieId  rating   timestamp  \\\n",
              "0        414        1     4.0   961438127   \n",
              "1        414        2     3.0   961594981   \n",
              "2        414        3     4.0   961439278   \n",
              "3        414        5     2.0   961437647   \n",
              "4        414        6     3.0   961515642   \n",
              "...      ...      ...     ...         ...   \n",
              "2693     414   180045     4.0  1515207301   \n",
              "2694     414   180497     4.0  1525548614   \n",
              "2695     414   180985     3.5  1527978072   \n",
              "2696     414   184791     2.5  1519592410   \n",
              "2697     414   187595     3.5  1527977920   \n",
              "\n",
              "                                          title  \n",
              "0                              Toy Story (1995)  \n",
              "1                                Jumanji (1995)  \n",
              "2                       Grumpier Old Men (1995)  \n",
              "3            Father of the Bride Part II (1995)  \n",
              "4                                   Heat (1995)  \n",
              "...                                         ...  \n",
              "2693                        Molly's Game (2017)  \n",
              "2694                            The Post (2017)  \n",
              "2695                The Greatest Showman (2017)  \n",
              "2696  Fred Armisen: Standup for Drummers (2018)  \n",
              "2697             Solo: A Star Wars Story (2018)  \n",
              "\n",
              "[2698 rows x 5 columns]"
            ],
            "text/html": [
              "\n",
              "  <div id=\"df-bc56c1c2-265c-419e-a19b-7b4db0e5b8a8\">\n",
              "    <div class=\"colab-df-container\">\n",
              "      <div>\n",
              "<style scoped>\n",
              "    .dataframe tbody tr th:only-of-type {\n",
              "        vertical-align: middle;\n",
              "    }\n",
              "\n",
              "    .dataframe tbody tr th {\n",
              "        vertical-align: top;\n",
              "    }\n",
              "\n",
              "    .dataframe thead th {\n",
              "        text-align: right;\n",
              "    }\n",
              "</style>\n",
              "<table border=\"1\" class=\"dataframe\">\n",
              "  <thead>\n",
              "    <tr style=\"text-align: right;\">\n",
              "      <th></th>\n",
              "      <th>userId</th>\n",
              "      <th>movieId</th>\n",
              "      <th>rating</th>\n",
              "      <th>timestamp</th>\n",
              "      <th>title</th>\n",
              "    </tr>\n",
              "  </thead>\n",
              "  <tbody>\n",
              "    <tr>\n",
              "      <th>0</th>\n",
              "      <td>414</td>\n",
              "      <td>1</td>\n",
              "      <td>4.0</td>\n",
              "      <td>961438127</td>\n",
              "      <td>Toy Story (1995)</td>\n",
              "    </tr>\n",
              "    <tr>\n",
              "      <th>1</th>\n",
              "      <td>414</td>\n",
              "      <td>2</td>\n",
              "      <td>3.0</td>\n",
              "      <td>961594981</td>\n",
              "      <td>Jumanji (1995)</td>\n",
              "    </tr>\n",
              "    <tr>\n",
              "      <th>2</th>\n",
              "      <td>414</td>\n",
              "      <td>3</td>\n",
              "      <td>4.0</td>\n",
              "      <td>961439278</td>\n",
              "      <td>Grumpier Old Men (1995)</td>\n",
              "    </tr>\n",
              "    <tr>\n",
              "      <th>3</th>\n",
              "      <td>414</td>\n",
              "      <td>5</td>\n",
              "      <td>2.0</td>\n",
              "      <td>961437647</td>\n",
              "      <td>Father of the Bride Part II (1995)</td>\n",
              "    </tr>\n",
              "    <tr>\n",
              "      <th>4</th>\n",
              "      <td>414</td>\n",
              "      <td>6</td>\n",
              "      <td>3.0</td>\n",
              "      <td>961515642</td>\n",
              "      <td>Heat (1995)</td>\n",
              "    </tr>\n",
              "    <tr>\n",
              "      <th>...</th>\n",
              "      <td>...</td>\n",
              "      <td>...</td>\n",
              "      <td>...</td>\n",
              "      <td>...</td>\n",
              "      <td>...</td>\n",
              "    </tr>\n",
              "    <tr>\n",
              "      <th>2693</th>\n",
              "      <td>414</td>\n",
              "      <td>180045</td>\n",
              "      <td>4.0</td>\n",
              "      <td>1515207301</td>\n",
              "      <td>Molly's Game (2017)</td>\n",
              "    </tr>\n",
              "    <tr>\n",
              "      <th>2694</th>\n",
              "      <td>414</td>\n",
              "      <td>180497</td>\n",
              "      <td>4.0</td>\n",
              "      <td>1525548614</td>\n",
              "      <td>The Post (2017)</td>\n",
              "    </tr>\n",
              "    <tr>\n",
              "      <th>2695</th>\n",
              "      <td>414</td>\n",
              "      <td>180985</td>\n",
              "      <td>3.5</td>\n",
              "      <td>1527978072</td>\n",
              "      <td>The Greatest Showman (2017)</td>\n",
              "    </tr>\n",
              "    <tr>\n",
              "      <th>2696</th>\n",
              "      <td>414</td>\n",
              "      <td>184791</td>\n",
              "      <td>2.5</td>\n",
              "      <td>1519592410</td>\n",
              "      <td>Fred Armisen: Standup for Drummers (2018)</td>\n",
              "    </tr>\n",
              "    <tr>\n",
              "      <th>2697</th>\n",
              "      <td>414</td>\n",
              "      <td>187595</td>\n",
              "      <td>3.5</td>\n",
              "      <td>1527977920</td>\n",
              "      <td>Solo: A Star Wars Story (2018)</td>\n",
              "    </tr>\n",
              "  </tbody>\n",
              "</table>\n",
              "<p>2698 rows × 5 columns</p>\n",
              "</div>\n",
              "      <button class=\"colab-df-convert\" onclick=\"convertToInteractive('df-bc56c1c2-265c-419e-a19b-7b4db0e5b8a8')\"\n",
              "              title=\"Convert this dataframe to an interactive table.\"\n",
              "              style=\"display:none;\">\n",
              "        \n",
              "  <svg xmlns=\"http://www.w3.org/2000/svg\" height=\"24px\"viewBox=\"0 0 24 24\"\n",
              "       width=\"24px\">\n",
              "    <path d=\"M0 0h24v24H0V0z\" fill=\"none\"/>\n",
              "    <path d=\"M18.56 5.44l.94 2.06.94-2.06 2.06-.94-2.06-.94-.94-2.06-.94 2.06-2.06.94zm-11 1L8.5 8.5l.94-2.06 2.06-.94-2.06-.94L8.5 2.5l-.94 2.06-2.06.94zm10 10l.94 2.06.94-2.06 2.06-.94-2.06-.94-.94-2.06-.94 2.06-2.06.94z\"/><path d=\"M17.41 7.96l-1.37-1.37c-.4-.4-.92-.59-1.43-.59-.52 0-1.04.2-1.43.59L10.3 9.45l-7.72 7.72c-.78.78-.78 2.05 0 2.83L4 21.41c.39.39.9.59 1.41.59.51 0 1.02-.2 1.41-.59l7.78-7.78 2.81-2.81c.8-.78.8-2.07 0-2.86zM5.41 20L4 18.59l7.72-7.72 1.47 1.35L5.41 20z\"/>\n",
              "  </svg>\n",
              "      </button>\n",
              "      \n",
              "  <style>\n",
              "    .colab-df-container {\n",
              "      display:flex;\n",
              "      flex-wrap:wrap;\n",
              "      gap: 12px;\n",
              "    }\n",
              "\n",
              "    .colab-df-convert {\n",
              "      background-color: #E8F0FE;\n",
              "      border: none;\n",
              "      border-radius: 50%;\n",
              "      cursor: pointer;\n",
              "      display: none;\n",
              "      fill: #1967D2;\n",
              "      height: 32px;\n",
              "      padding: 0 0 0 0;\n",
              "      width: 32px;\n",
              "    }\n",
              "\n",
              "    .colab-df-convert:hover {\n",
              "      background-color: #E2EBFA;\n",
              "      box-shadow: 0px 1px 2px rgba(60, 64, 67, 0.3), 0px 1px 3px 1px rgba(60, 64, 67, 0.15);\n",
              "      fill: #174EA6;\n",
              "    }\n",
              "\n",
              "    [theme=dark] .colab-df-convert {\n",
              "      background-color: #3B4455;\n",
              "      fill: #D2E3FC;\n",
              "    }\n",
              "\n",
              "    [theme=dark] .colab-df-convert:hover {\n",
              "      background-color: #434B5C;\n",
              "      box-shadow: 0px 1px 3px 1px rgba(0, 0, 0, 0.15);\n",
              "      filter: drop-shadow(0px 1px 2px rgba(0, 0, 0, 0.3));\n",
              "      fill: #FFFFFF;\n",
              "    }\n",
              "  </style>\n",
              "\n",
              "      <script>\n",
              "        const buttonEl =\n",
              "          document.querySelector('#df-bc56c1c2-265c-419e-a19b-7b4db0e5b8a8 button.colab-df-convert');\n",
              "        buttonEl.style.display =\n",
              "          google.colab.kernel.accessAllowed ? 'block' : 'none';\n",
              "\n",
              "        async function convertToInteractive(key) {\n",
              "          const element = document.querySelector('#df-bc56c1c2-265c-419e-a19b-7b4db0e5b8a8');\n",
              "          const dataTable =\n",
              "            await google.colab.kernel.invokeFunction('convertToInteractive',\n",
              "                                                     [key], {});\n",
              "          if (!dataTable) return;\n",
              "\n",
              "          const docLinkHtml = 'Like what you see? Visit the ' +\n",
              "            '<a target=\"_blank\" href=https://colab.research.google.com/notebooks/data_table.ipynb>data table notebook</a>'\n",
              "            + ' to learn more about interactive tables.';\n",
              "          element.innerHTML = '';\n",
              "          dataTable['output_type'] = 'display_data';\n",
              "          await google.colab.output.renderOutput(dataTable, element);\n",
              "          const docLink = document.createElement('div');\n",
              "          docLink.innerHTML = docLinkHtml;\n",
              "          element.appendChild(docLink);\n",
              "        }\n",
              "      </script>\n",
              "    </div>\n",
              "  </div>\n",
              "  "
            ]
          },
          "metadata": {},
          "execution_count": 18
        }
      ],
      "source": [
        "# targetUserID를 설정: 가장 많이 본 영화를 기반으로 추천할 사용자를 선택합니다.\n",
        "# c.most_common()은 사용자별 영화 시청 횟수를 기반으로 사용자를 정렬하고, 가장 많이 본 사용자를 선택합니다.\n",
        "targetUserID = c.most_common()[0][0]\n",
        "\n",
        "# targetUserID가 시청한 영화를 추출합니다.\n",
        "# ratings 데이터프레임에서 해당 사용자의 평점 정보를 가져옵니다.\n",
        "userWatched = ratings.where(ratings.userId == targetUserID)\n",
        "\n",
        "# userWatched 데이터프레임을 Pandas 데이터프레임으로 변환합니다.\n",
        "userWatchedPD = userWatched.toPandas()\n",
        "\n",
        "# 각 영화 ID를 영화 제목으로 변환하여 'title' 열을 추가합니다.\n",
        "userWatchedPD['title'] = userWatchedPD['movieId'].apply(lambda x: movies_pd.loc[x].title)\n",
        "\n",
        "userWatchedPD"
      ]
    },
    {
      "cell_type": "code",
      "execution_count": null,
      "metadata": {
        "id": "E5Li5bB5U2UB",
        "colab": {
          "base_uri": "https://localhost:8080/"
        },
        "outputId": "c6695422-4daf-446b-e4d7-dd4472900460"
      },
      "outputs": [
        {
          "output_type": "stream",
          "name": "stdout",
          "text": [
            "+------+-------+------+----------+\n",
            "|userId|movieId|rating| timestamp|\n",
            "+------+-------+------+----------+\n",
            "|   414|      1|   4.0| 961438127|\n",
            "|   414|      2|   3.0| 961594981|\n",
            "|   414|      3|   4.0| 961439278|\n",
            "|   414|      5|   2.0| 961437647|\n",
            "|   414|      6|   3.0| 961515642|\n",
            "|   414|      7|   3.0| 961439170|\n",
            "|   414|      8|   3.0| 961594849|\n",
            "|   414|     10|   3.0| 961515863|\n",
            "|   414|     11|   5.0|1052148205|\n",
            "|   414|     15|   2.0| 961514611|\n",
            "|   414|     16|   3.0| 961517557|\n",
            "|   414|     17|   4.0| 961513829|\n",
            "|   414|     18|   3.0| 961682128|\n",
            "|   414|     21|   4.0| 961438199|\n",
            "|   414|     22|   3.0| 961518227|\n",
            "|   414|     23|   2.0| 961682276|\n",
            "|   414|     24|   3.0| 961436964|\n",
            "|   414|     25|   3.0| 961517140|\n",
            "|   414|     27|   2.0| 961518812|\n",
            "|   414|     31|   3.0| 961518520|\n",
            "+------+-------+------+----------+\n",
            "only showing top 20 rows\n",
            "\n"
          ]
        }
      ],
      "source": [
        "userWatched.show()"
      ]
    },
    {
      "cell_type": "code",
      "execution_count": null,
      "metadata": {
        "id": "pSakii1EU2UB",
        "colab": {
          "base_uri": "https://localhost:8080/"
        },
        "outputId": "c4682e15-9042-4bee-cb41-450fe5948787"
      },
      "outputs": [
        {
          "output_type": "stream",
          "name": "stderr",
          "text": [
            "/content/spark-3.2.4-bin-hadoop3.2/python/pyspark/sql/context.py:125: FutureWarning: Deprecated in 3.0.0. Use SparkSession.builder.getOrCreate() instead.\n",
            "  warnings.warn(\n"
          ]
        },
        {
          "output_type": "stream",
          "name": "stdout",
          "text": [
            "['Bad Boy Bubby (1993)', 'Autumn Sonata (Höstsonaten) (1978)', 'Saving Face (2004)', 'On the Beach (1959)', 'Discreet Charm of the Bourgeoisie, The (Charme discret de la bourgeoisie, Le) (1972)', 'Cherish (2002)', 'Belle époque (1992)', 'Rain (2001)', 'Last Tango in Paris (Ultimo tango a Parigi) (1972)', 'Yojimbo (1961)']\n"
          ]
        }
      ],
      "source": [
        "# 중복 사용자를 고려하여 'user' 데이터프레임을 생성합니다.\n",
        "user = userWatched.distinct()\n",
        "\n",
        "# 모델을 사용하여 사용자에게 영화를 추천합니다.\n",
        "# 'userSubsetRecs'는 추천 결과를 포함하는 Pandas 데이터프레임입니다.\n",
        "userSubsetRecs = model.recommendForUserSubset(user, 10).toPandas()\n",
        "\n",
        "# 추천 결과에 영화 제목을 추가합니다.\n",
        "userSubsetRecs['title'] = userSubsetRecs['recommendations'].apply(lambda x: [movies_pd.loc[i[0]].title for i in x])\n",
        "\n",
        "# 각 사용자에게 추천된 영화 제목을 출력합니다.\n",
        "for item in userSubsetRecs.title:\n",
        "    print(item)"
      ]
    },
    {
      "cell_type": "code",
      "execution_count": null,
      "metadata": {
        "id": "bWSVYeymU2UB",
        "colab": {
          "base_uri": "https://localhost:8080/"
        },
        "outputId": "56f65557-04c5-4165-ae2c-810e0c380cea"
      },
      "outputs": [
        {
          "output_type": "stream",
          "name": "stdout",
          "text": [
            "+------+\n",
            "|userId|\n",
            "+------+\n",
            "|   148|\n",
            "|   463|\n",
            "|   471|\n",
            "+------+\n",
            "\n"
          ]
        }
      ],
      "source": [
        "users = ratings.select(als.getUserCol()).distinct().limit(3)\n",
        "users.show()"
      ]
    },
    {
      "cell_type": "code",
      "execution_count": null,
      "metadata": {
        "id": "NCEHsJ0BU2UC",
        "colab": {
          "base_uri": "https://localhost:8080/"
        },
        "outputId": "3cc15fe3-4c22-41a1-cee6-3e5bd799dbf6"
      },
      "outputs": [
        {
          "output_type": "stream",
          "name": "stderr",
          "text": [
            "/content/spark-3.2.4-bin-hadoop3.2/python/pyspark/sql/context.py:125: FutureWarning: Deprecated in 3.0.0. Use SparkSession.builder.getOrCreate() instead.\n",
            "  warnings.warn(\n"
          ]
        },
        {
          "output_type": "stream",
          "name": "stdout",
          "text": [
            "+------+----------------------------------------------------------------------------------------------------+\n",
            "|userId|recommendations                                                                                     |\n",
            "+------+----------------------------------------------------------------------------------------------------+\n",
            "|471   |[{26810, 5.0079393}, {3379, 5.0060716}, {33649, 4.872698}, {2324, 4.757104}, {117531, 4.7542944}]   |\n",
            "|463   |[{51931, 4.83825}, {78836, 4.7497525}, {3030, 4.7482405}, {80906, 4.707691}, {6086, 4.699011}]      |\n",
            "|148   |[{33649, 4.7066727}, {98491, 4.653718}, {183897, 4.5992017}, {7669, 4.4332714}, {160718, 4.3958735}]|\n",
            "+------+----------------------------------------------------------------------------------------------------+\n",
            "\n"
          ]
        }
      ],
      "source": [
        "# 각각의 user가 볼만한 영화 상위 5개 추천하기\n",
        "users = ratings.select(als.getUserCol()).distinct().limit(3)\n",
        "userSubsetRecs = model.recommendForUserSubset(users, 5)\n",
        "userSubsetRecs.show(truncate=False)"
      ]
    },
    {
      "cell_type": "code",
      "execution_count": null,
      "metadata": {
        "id": "1miIDiKlU2UC",
        "colab": {
          "base_uri": "https://localhost:8080/"
        },
        "outputId": "b4761e36-a364-4528-ae94-e711333668f3"
      },
      "outputs": [
        {
          "output_type": "stream",
          "name": "stdout",
          "text": [
            "+-------+---------------------------------------------------------------------------------------+\n",
            "|movieId|recommendations                                                                        |\n",
            "+-------+---------------------------------------------------------------------------------------+\n",
            "|1580   |[{53, 5.034507}, {543, 4.7012224}, {584, 4.5791097}, {93, 4.578053}, {452, 4.546686}]  |\n",
            "|3175   |[{53, 4.784447}, {236, 4.6418185}, {93, 4.6397085}, {543, 4.62903}, {452, 4.5821843}]  |\n",
            "|2366   |[{90, 4.7034163}, {236, 4.6722536}, {319, 4.619934}, {597, 4.537985}, {250, 4.5343695}]|\n",
            "+-------+---------------------------------------------------------------------------------------+\n",
            "\n"
          ]
        }
      ],
      "source": [
        "# 각각의 영화를 볼만한 user 5명 씩 추천하기\n",
        "movies = ratings.select(als.getItemCol()).distinct().limit(3)\n",
        "movieSubSetRecs = model.recommendForItemSubset(movies, 5)\n",
        "movieSubSetRecs.show(truncate=False)"
      ]
    },
    {
      "cell_type": "code",
      "execution_count": null,
      "metadata": {
        "id": "2uTSXXbiU2UC",
        "colab": {
          "base_uri": "https://localhost:8080/"
        },
        "outputId": "8fc4ea15-ab77-4106-d1b5-a78baf621ff6"
      },
      "outputs": [
        {
          "output_type": "stream",
          "name": "stdout",
          "text": [
            "+------+--------------------+\n",
            "|userId|     recommendations|\n",
            "+------+--------------------+\n",
            "|     1|[{5490, 5.697898}...|\n",
            "|     3|[{74754, 6.382153...|\n",
            "|     5|[{25825, 5.179233...|\n",
            "|     6|[{32892, 5.291233...|\n",
            "|     9|[{174053, 5.19038...|\n",
            "|    12|[{32892, 6.026744...|\n",
            "|    13|[{7842, 5.3404}, ...|\n",
            "|    15|[{92259, 5.01236}...|\n",
            "|    16|[{3379, 4.6498923...|\n",
            "|    17|[{3030, 4.9018674...|\n",
            "|    19|[{3379, 4.0316625...|\n",
            "|    20|[{3022, 5.3883724...|\n",
            "|    22|[{26171, 5.524589...|\n",
            "|    26|[{26171, 4.381305...|\n",
            "|    27|[{102903, 5.18258...|\n",
            "|    28|[{7842, 4.550928}...|\n",
            "|    31|[{51931, 5.481102...|\n",
            "|    34|[{5034, 5.406087}...|\n",
            "|    35|[{2843, 5.7377973...|\n",
            "|    37|[{26171, 6.183514...|\n",
            "+------+--------------------+\n",
            "only showing top 20 rows\n",
            "\n",
            "CPU times: user 39.6 ms, sys: 6.63 ms, total: 46.2 ms\n",
            "Wall time: 6.63 s\n"
          ]
        }
      ],
      "source": [
        "%%time\n",
        "# 각각의 user가 볼만한 영화 상위 10개를 추천하기\n",
        "userRecs = model.recommendForAllUsers(10)\n",
        "userRecs.show()"
      ]
    },
    {
      "cell_type": "code",
      "execution_count": null,
      "metadata": {
        "scrolled": false,
        "id": "625cbg7UU2UC",
        "colab": {
          "base_uri": "https://localhost:8080/"
        },
        "outputId": "4e3c0d73-7606-41ee-8afa-838b48c0fa15"
      },
      "outputs": [
        {
          "output_type": "stream",
          "name": "stdout",
          "text": [
            "+-------+--------------------+\n",
            "|movieId|     recommendations|\n",
            "+-------+--------------------+\n",
            "|      1|[{53, 5.566167}, ...|\n",
            "|      3|[{43, 4.699165}, ...|\n",
            "|      5|[{43, 4.5287957},...|\n",
            "|      6|[{53, 5.175746}, ...|\n",
            "|      9|[{43, 4.6390963},...|\n",
            "|     12|[{554, 4.723083},...|\n",
            "|     13|[{543, 4.1858363}...|\n",
            "|     15|[{543, 4.7105474}...|\n",
            "|     16|[{371, 5.374192},...|\n",
            "|     17|[{138, 5.4572945}...|\n",
            "|     19|[{243, 4.119828},...|\n",
            "|     20|[{154, 4.022012},...|\n",
            "|     22|[{53, 4.5834928},...|\n",
            "|     26|[{43, 4.9227858},...|\n",
            "|     27|[{594, 5.2572956}...|\n",
            "|     28|[{236, 5.7998238}...|\n",
            "|     31|[{43, 4.5819845},...|\n",
            "|     34|[{360, 5.358178},...|\n",
            "|     40|[{413, 5.3194833}...|\n",
            "|     41|[{53, 4.806}, {55...|\n",
            "+-------+--------------------+\n",
            "only showing top 20 rows\n",
            "\n",
            "CPU times: user 62.4 ms, sys: 5.43 ms, total: 67.8 ms\n",
            "Wall time: 11.2 s\n"
          ]
        }
      ],
      "source": [
        "%%time\n",
        "# Generate top 10 user recommendations for each movie\n",
        "movieRecs = model.recommendForAllItems(10)\n",
        "movieRecs.show()"
      ]
    },
    {
      "cell_type": "markdown",
      "source": [
        "### **도전**"
      ],
      "metadata": {
        "id": "OBhudefScmkN"
      }
    },
    {
      "cell_type": "code",
      "execution_count": null,
      "metadata": {
        "id": "lur0pq7lU2UD"
      },
      "outputs": [],
      "source": [
        "from pyspark.sql import Row\n",
        "\n",
        "# 사용자 지정 사용자 데이터를 생성합니다.\n",
        "# Row를 사용하여 사용자 ID, 영화 ID, 평점 및 타임스탬프를 나타내는 행을 생성합니다.\n",
        "customUserData = sc.parallelize(\n",
        "    [Row(99999999, 59315, 5, 123456789),\n",
        "     Row(99999999, 77561, 4, 123456789),\n",
        "     Row(99999999, 102125, 4, 123456789),\n",
        "     Row(99999999, 190297, 1, 123456789),\n",
        "     Row(99999999, 155384, 2, 123456789),\n",
        "     Row(99999999, 170763, 1, 123456789),\n",
        "]\n",
        ").toDF([\"userId\", \"movieId\", \"rating\", \"timestamp\"])\n",
        "\n",
        "# ratings_with_userData 변수에 원래의 평점 데이터와 사용자 지정 데이터를 합칩니다.\n",
        "ratings_with_userData = ratings.union(customUserData)\n",
        "\n",
        "# PySpark의 ALS 모델을 임포트합니다.\n",
        "from pyspark.ml.recommendation import ALS\n",
        "\n",
        "# ALS 모델을 설정합니다.\n",
        "als = ALS(\n",
        "    rank=50,               # 잠재 요인(latent factor)의 개수. 모델의 복잡성을 결정합니다.\n",
        "    regParam=0.05,         # 정규화(regularization) 파라미터. 과적합을 줄이기 위해 사용됩니다.\n",
        "    maxIter=10,            # ALS 알고리즘의 반복 횟수. 모델 학습 과정의 반복 횟수를 설정합니다.\n",
        "    userCol=\"userId\",      # 사용자 ID가 있는 컬럼의 이름. 사용자 정보를 나타내는 열을 지정합니다.\n",
        "    itemCol=\"movieId\",     # 영화 ID가 있는 컬럼의 이름. 아이템(영화) 정보를 나타내는 열을 지정합니다.\n",
        "    ratingCol=\"rating\",    # 평점이 있는 컬럼의 이름. 사용자가 아이템에 대한 평점을 나타내는 열을 지정합니다.\n",
        "    coldStartStrategy=\"drop\"  # \"drop\"으로 설정하면 추천 시스템이 평가 데이터에 존재하지 않는 새로운 사용자 또는 아이템을 무시합니다.\n",
        ")\n"
      ]
    },
    {
      "cell_type": "code",
      "execution_count": null,
      "metadata": {
        "id": "z30ypRO3U2UD",
        "colab": {
          "base_uri": "https://localhost:8080/",
          "height": 177
        },
        "outputId": "9bde55f2-8fa0-493e-84f0-8f9d78db6c5e"
      },
      "outputs": [
        {
          "output_type": "execute_result",
          "data": {
            "text/plain": [
              "     userId  \\\n",
              "0  99999999   \n",
              "\n",
              "                                                                                                                                                                                                                                                                    recommendations  \\\n",
              "0  [(59315, 4.878994941711426), (58559, 4.526727676391602), (1210, 4.474745273590088), (89745, 4.472021102905273), (2571, 4.42887544631958), (1196, 4.375718116760254), (60069, 4.357156753540039), (1198, 4.35041618347168), (57669, 4.320343971252441), (318, 4.303648471832275)]   \n",
              "\n",
              "                                                                                                                                                                                                                                                                                                                                               title  \n",
              "0  [Iron Man (2008), Dark Knight, The (2008), Star Wars: Episode VI - Return of the Jedi (1983), Avengers, The (2012), Matrix, The (1999), Star Wars: Episode V - The Empire Strikes Back (1980), WALL·E (2008), Raiders of the Lost Ark (Indiana Jones and the Raiders of the Lost Ark) (1981), In Bruges (2008), Shawshank Redemption, The (1994)]  "
            ],
            "text/html": [
              "\n",
              "  <div id=\"df-ce6e0c2b-6e6a-4fae-b979-bc860f9969ce\">\n",
              "    <div class=\"colab-df-container\">\n",
              "      <div>\n",
              "<style scoped>\n",
              "    .dataframe tbody tr th:only-of-type {\n",
              "        vertical-align: middle;\n",
              "    }\n",
              "\n",
              "    .dataframe tbody tr th {\n",
              "        vertical-align: top;\n",
              "    }\n",
              "\n",
              "    .dataframe thead th {\n",
              "        text-align: right;\n",
              "    }\n",
              "</style>\n",
              "<table border=\"1\" class=\"dataframe\">\n",
              "  <thead>\n",
              "    <tr style=\"text-align: right;\">\n",
              "      <th></th>\n",
              "      <th>userId</th>\n",
              "      <th>recommendations</th>\n",
              "      <th>title</th>\n",
              "    </tr>\n",
              "  </thead>\n",
              "  <tbody>\n",
              "    <tr>\n",
              "      <th>0</th>\n",
              "      <td>99999999</td>\n",
              "      <td>[(59315, 4.878994941711426), (58559, 4.526727676391602), (1210, 4.474745273590088), (89745, 4.472021102905273), (2571, 4.42887544631958), (1196, 4.375718116760254), (60069, 4.357156753540039), (1198, 4.35041618347168), (57669, 4.320343971252441), (318, 4.303648471832275)]</td>\n",
              "      <td>[Iron Man (2008), Dark Knight, The (2008), Star Wars: Episode VI - Return of the Jedi (1983), Avengers, The (2012), Matrix, The (1999), Star Wars: Episode V - The Empire Strikes Back (1980), WALL·E (2008), Raiders of the Lost Ark (Indiana Jones and the Raiders of the Lost Ark) (1981), In Bruges (2008), Shawshank Redemption, The (1994)]</td>\n",
              "    </tr>\n",
              "  </tbody>\n",
              "</table>\n",
              "</div>\n",
              "      <button class=\"colab-df-convert\" onclick=\"convertToInteractive('df-ce6e0c2b-6e6a-4fae-b979-bc860f9969ce')\"\n",
              "              title=\"Convert this dataframe to an interactive table.\"\n",
              "              style=\"display:none;\">\n",
              "        \n",
              "  <svg xmlns=\"http://www.w3.org/2000/svg\" height=\"24px\"viewBox=\"0 0 24 24\"\n",
              "       width=\"24px\">\n",
              "    <path d=\"M0 0h24v24H0V0z\" fill=\"none\"/>\n",
              "    <path d=\"M18.56 5.44l.94 2.06.94-2.06 2.06-.94-2.06-.94-.94-2.06-.94 2.06-2.06.94zm-11 1L8.5 8.5l.94-2.06 2.06-.94-2.06-.94L8.5 2.5l-.94 2.06-2.06.94zm10 10l.94 2.06.94-2.06 2.06-.94-2.06-.94-.94-2.06-.94 2.06-2.06.94z\"/><path d=\"M17.41 7.96l-1.37-1.37c-.4-.4-.92-.59-1.43-.59-.52 0-1.04.2-1.43.59L10.3 9.45l-7.72 7.72c-.78.78-.78 2.05 0 2.83L4 21.41c.39.39.9.59 1.41.59.51 0 1.02-.2 1.41-.59l7.78-7.78 2.81-2.81c.8-.78.8-2.07 0-2.86zM5.41 20L4 18.59l7.72-7.72 1.47 1.35L5.41 20z\"/>\n",
              "  </svg>\n",
              "      </button>\n",
              "      \n",
              "  <style>\n",
              "    .colab-df-container {\n",
              "      display:flex;\n",
              "      flex-wrap:wrap;\n",
              "      gap: 12px;\n",
              "    }\n",
              "\n",
              "    .colab-df-convert {\n",
              "      background-color: #E8F0FE;\n",
              "      border: none;\n",
              "      border-radius: 50%;\n",
              "      cursor: pointer;\n",
              "      display: none;\n",
              "      fill: #1967D2;\n",
              "      height: 32px;\n",
              "      padding: 0 0 0 0;\n",
              "      width: 32px;\n",
              "    }\n",
              "\n",
              "    .colab-df-convert:hover {\n",
              "      background-color: #E2EBFA;\n",
              "      box-shadow: 0px 1px 2px rgba(60, 64, 67, 0.3), 0px 1px 3px 1px rgba(60, 64, 67, 0.15);\n",
              "      fill: #174EA6;\n",
              "    }\n",
              "\n",
              "    [theme=dark] .colab-df-convert {\n",
              "      background-color: #3B4455;\n",
              "      fill: #D2E3FC;\n",
              "    }\n",
              "\n",
              "    [theme=dark] .colab-df-convert:hover {\n",
              "      background-color: #434B5C;\n",
              "      box-shadow: 0px 1px 3px 1px rgba(0, 0, 0, 0.15);\n",
              "      filter: drop-shadow(0px 1px 2px rgba(0, 0, 0, 0.3));\n",
              "      fill: #FFFFFF;\n",
              "    }\n",
              "  </style>\n",
              "\n",
              "      <script>\n",
              "        const buttonEl =\n",
              "          document.querySelector('#df-ce6e0c2b-6e6a-4fae-b979-bc860f9969ce button.colab-df-convert');\n",
              "        buttonEl.style.display =\n",
              "          google.colab.kernel.accessAllowed ? 'block' : 'none';\n",
              "\n",
              "        async function convertToInteractive(key) {\n",
              "          const element = document.querySelector('#df-ce6e0c2b-6e6a-4fae-b979-bc860f9969ce');\n",
              "          const dataTable =\n",
              "            await google.colab.kernel.invokeFunction('convertToInteractive',\n",
              "                                                     [key], {});\n",
              "          if (!dataTable) return;\n",
              "\n",
              "          const docLinkHtml = 'Like what you see? Visit the ' +\n",
              "            '<a target=\"_blank\" href=https://colab.research.google.com/notebooks/data_table.ipynb>data table notebook</a>'\n",
              "            + ' to learn more about interactive tables.';\n",
              "          element.innerHTML = '';\n",
              "          dataTable['output_type'] = 'display_data';\n",
              "          await google.colab.output.renderOutput(dataTable, element);\n",
              "          const docLink = document.createElement('div');\n",
              "          docLink.innerHTML = docLinkHtml;\n",
              "          element.appendChild(docLink);\n",
              "        }\n",
              "      </script>\n",
              "    </div>\n",
              "  </div>\n",
              "  "
            ]
          },
          "metadata": {},
          "execution_count": 27
        }
      ],
      "source": [
        "import pandas as pd\n",
        "pd.set_option('display.max_colwidth', None)\n",
        "\n",
        "# 특정 사용자에 대한 영화 추천을 생성합니다.\n",
        "# 사용자 ID를 선택하고 해당 사용자에게 10개의 영화를 추천합니다.\n",
        "userSubsetRecs = model.recommendForUserSubset(customUserData.select(\"userId\").distinct(), 10).toPandas()\n",
        "\n",
        "# 추천 결과에 영화 제목을 추가합니다.\n",
        "# movies_pd는 영화 데이터가 포함된 Pandas DataFrame으로 가정합니다.\n",
        "userSubsetRecs['title'] = userSubsetRecs['recommendations'].apply(lambda x: [movies_pd.loc[i[0]].title for i in x])\n",
        "\n",
        "# 결과를 출력합니다.\n",
        "userSubsetRecs"
      ]
    }
  ],
  "metadata": {
    "kernelspec": {
      "display_name": "Python 3",
      "language": "python",
      "name": "python3"
    },
    "language_info": {
      "codemirror_mode": {
        "name": "ipython",
        "version": 3
      },
      "file_extension": ".py",
      "mimetype": "text/x-python",
      "name": "python",
      "nbconvert_exporter": "python",
      "pygments_lexer": "ipython3",
      "version": "3.8.8"
    },
    "colab": {
      "provenance": []
    }
  },
  "nbformat": 4,
  "nbformat_minor": 0
}