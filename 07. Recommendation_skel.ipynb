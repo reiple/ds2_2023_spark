{
  "cells": [
    {
      "cell_type": "markdown",
      "metadata": {
        "id": "view-in-github",
        "colab_type": "text"
      },
      "source": [
        "<a href=\"https://colab.research.google.com/github/reiple/ds2_2023_spark/blob/main/07.%20Recommendation_skel.ipynb\" target=\"_parent\"><img src=\"https://colab.research.google.com/assets/colab-badge.svg\" alt=\"Open In Colab\"/></a>"
      ]
    },
    {
      "cell_type": "code",
      "execution_count": 1,
      "metadata": {
        "id": "kNaSjs04U2T4"
      },
      "outputs": [],
      "source": [
        "#!sudo apt-get install -y openjdk-8-jdk-headless -qq > /dev/null\n",
        "!wget -q https://archive.apache.org/dist/spark/spark-3.2.4/spark-3.2.4-bin-hadoop3.2.tgz\n",
        "!tar xf spark-3.2.4-bin-hadoop3.2.tgz\n",
        "!pip install -q findspark"
      ]
    },
    {
      "cell_type": "code",
      "source": [
        "import findspark\n",
        "findspark.init(\"/content/spark-3.2.4-bin-hadoop3.2\")"
      ],
      "metadata": {
        "id": "RBcGFKHjXWFh"
      },
      "execution_count": 2,
      "outputs": []
    },
    {
      "cell_type": "code",
      "source": [
        "from pyspark.sql import SparkSession\n",
        "spark = SparkSession.builder.getOrCreate()\n",
        "sc = spark.sparkContext"
      ],
      "metadata": {
        "id": "KKbAYSFbXXTr"
      },
      "execution_count": 3,
      "outputs": []
    },
    {
      "cell_type": "code",
      "source": [
        "from google.colab import drive\n",
        "drive.mount('/content/drive')\n",
        "gpath = '/content/drive/MyDrive/dataset/spark/data07/'"
      ],
      "metadata": {
        "id": "38I2aa2dlhtk",
        "outputId": "005432be-4b65-4f86-ac35-326218864471",
        "colab": {
          "base_uri": "https://localhost:8080/"
        }
      },
      "execution_count": 6,
      "outputs": [
        {
          "output_type": "stream",
          "name": "stdout",
          "text": [
            "Mounted at /content/drive\n"
          ]
        }
      ]
    },
    {
      "cell_type": "code",
      "execution_count": 7,
      "metadata": {
        "colab": {
          "base_uri": "https://localhost:8080/"
        },
        "id": "OIl5nce-U2T8",
        "outputId": "699dc0cc-c623-45a6-c81c-df5d93f16f40"
      },
      "outputs": [
        {
          "output_type": "execute_result",
          "data": {
            "text/plain": [
              "[Row(movieId=1, title='Toy Story (1995)', genres='Adventure|Animation|Children|Comedy|Fantasy')]"
            ]
          },
          "metadata": {},
          "execution_count": 7
        }
      ],
      "source": [
        "from pyspark.sql.types import StructType, StructField, IntegerType, StringType\n",
        "\n",
        "colNames = [\"movieId\", \"title\", \"genres\"]\n",
        "\n",
        "movies_schema = StructType()\n",
        "for name in colNames:\n",
        "    if name == \"movieId\":\n",
        "        movies_schema.add(StructField(name, IntegerType(), True))\n",
        "    else:\n",
        "        movies_schema.add(StructField(name, StringType(), True))\n",
        "\n",
        "movies = spark.read.csv(gpath+\"movies.csv\", header=True, schema=movies_schema)\n",
        "movies.take(1)"
      ]
    },
    {
      "cell_type": "code",
      "execution_count": null,
      "metadata": {
        "colab": {
          "base_uri": "https://localhost:8080/"
        },
        "id": "oiHqRjm2U2T8",
        "outputId": "37b350b1-3973-4324-e083-4766bf61aac6"
      },
      "outputs": [
        {
          "output_type": "stream",
          "name": "stdout",
          "text": [
            "root\n",
            " |-- movieId: integer (nullable = true)\n",
            " |-- title: string (nullable = true)\n",
            " |-- genres: string (nullable = true)\n",
            "\n"
          ]
        }
      ],
      "source": [
        "movies.printSchema()"
      ]
    },
    {
      "cell_type": "code",
      "execution_count": 8,
      "metadata": {
        "scrolled": true,
        "id": "3ySVm6yMU2T9"
      },
      "outputs": [],
      "source": [
        "movies_pd = movies.toPandas().set_index(\"movieId\")"
      ]
    },
    {
      "cell_type": "code",
      "source": [
        "movies_pd[movies_pd['title'].str.contains(\"Iron Man\")]"
      ],
      "metadata": {
        "colab": {
          "base_uri": "https://localhost:8080/",
          "height": 269
        },
        "id": "arW2w-BciUeo",
        "outputId": "e23a8b31-bb8b-4db5-d3c0-c3d3454fde47"
      },
      "execution_count": 9,
      "outputs": [
        {
          "output_type": "execute_result",
          "data": {
            "text/plain": [
              "                                         title  \\\n",
              "movieId                                          \n",
              "59315                          Iron Man (2008)   \n",
              "77561                        Iron Man 2 (2010)   \n",
              "102007         Invincible Iron Man, The (2007)   \n",
              "102125                       Iron Man 3 (2013)   \n",
              "142056   Iron Man & Hulk: Heroes United (2013)   \n",
              "167296                         Iron Man (1931)   \n",
              "\n",
              "                                        genres  \n",
              "movieId                                         \n",
              "59315                  Action|Adventure|Sci-Fi  \n",
              "77561    Action|Adventure|Sci-Fi|Thriller|IMAX  \n",
              "102007                               Animation  \n",
              "102125             Action|Sci-Fi|Thriller|IMAX  \n",
              "142056              Action|Adventure|Animation  \n",
              "167296                                   Drama  "
            ],
            "text/html": [
              "\n",
              "  <div id=\"df-05bb3a25-726b-4c73-9a5b-faf828d1b772\" class=\"colab-df-container\">\n",
              "    <div>\n",
              "<style scoped>\n",
              "    .dataframe tbody tr th:only-of-type {\n",
              "        vertical-align: middle;\n",
              "    }\n",
              "\n",
              "    .dataframe tbody tr th {\n",
              "        vertical-align: top;\n",
              "    }\n",
              "\n",
              "    .dataframe thead th {\n",
              "        text-align: right;\n",
              "    }\n",
              "</style>\n",
              "<table border=\"1\" class=\"dataframe\">\n",
              "  <thead>\n",
              "    <tr style=\"text-align: right;\">\n",
              "      <th></th>\n",
              "      <th>title</th>\n",
              "      <th>genres</th>\n",
              "    </tr>\n",
              "    <tr>\n",
              "      <th>movieId</th>\n",
              "      <th></th>\n",
              "      <th></th>\n",
              "    </tr>\n",
              "  </thead>\n",
              "  <tbody>\n",
              "    <tr>\n",
              "      <th>59315</th>\n",
              "      <td>Iron Man (2008)</td>\n",
              "      <td>Action|Adventure|Sci-Fi</td>\n",
              "    </tr>\n",
              "    <tr>\n",
              "      <th>77561</th>\n",
              "      <td>Iron Man 2 (2010)</td>\n",
              "      <td>Action|Adventure|Sci-Fi|Thriller|IMAX</td>\n",
              "    </tr>\n",
              "    <tr>\n",
              "      <th>102007</th>\n",
              "      <td>Invincible Iron Man, The (2007)</td>\n",
              "      <td>Animation</td>\n",
              "    </tr>\n",
              "    <tr>\n",
              "      <th>102125</th>\n",
              "      <td>Iron Man 3 (2013)</td>\n",
              "      <td>Action|Sci-Fi|Thriller|IMAX</td>\n",
              "    </tr>\n",
              "    <tr>\n",
              "      <th>142056</th>\n",
              "      <td>Iron Man &amp; Hulk: Heroes United (2013)</td>\n",
              "      <td>Action|Adventure|Animation</td>\n",
              "    </tr>\n",
              "    <tr>\n",
              "      <th>167296</th>\n",
              "      <td>Iron Man (1931)</td>\n",
              "      <td>Drama</td>\n",
              "    </tr>\n",
              "  </tbody>\n",
              "</table>\n",
              "</div>\n",
              "    <div class=\"colab-df-buttons\">\n",
              "\n",
              "  <div class=\"colab-df-container\">\n",
              "    <button class=\"colab-df-convert\" onclick=\"convertToInteractive('df-05bb3a25-726b-4c73-9a5b-faf828d1b772')\"\n",
              "            title=\"Convert this dataframe to an interactive table.\"\n",
              "            style=\"display:none;\">\n",
              "\n",
              "  <svg xmlns=\"http://www.w3.org/2000/svg\" height=\"24px\" viewBox=\"0 -960 960 960\">\n",
              "    <path d=\"M120-120v-720h720v720H120Zm60-500h600v-160H180v160Zm220 220h160v-160H400v160Zm0 220h160v-160H400v160ZM180-400h160v-160H180v160Zm440 0h160v-160H620v160ZM180-180h160v-160H180v160Zm440 0h160v-160H620v160Z\"/>\n",
              "  </svg>\n",
              "    </button>\n",
              "\n",
              "  <style>\n",
              "    .colab-df-container {\n",
              "      display:flex;\n",
              "      gap: 12px;\n",
              "    }\n",
              "\n",
              "    .colab-df-convert {\n",
              "      background-color: #E8F0FE;\n",
              "      border: none;\n",
              "      border-radius: 50%;\n",
              "      cursor: pointer;\n",
              "      display: none;\n",
              "      fill: #1967D2;\n",
              "      height: 32px;\n",
              "      padding: 0 0 0 0;\n",
              "      width: 32px;\n",
              "    }\n",
              "\n",
              "    .colab-df-convert:hover {\n",
              "      background-color: #E2EBFA;\n",
              "      box-shadow: 0px 1px 2px rgba(60, 64, 67, 0.3), 0px 1px 3px 1px rgba(60, 64, 67, 0.15);\n",
              "      fill: #174EA6;\n",
              "    }\n",
              "\n",
              "    .colab-df-buttons div {\n",
              "      margin-bottom: 4px;\n",
              "    }\n",
              "\n",
              "    [theme=dark] .colab-df-convert {\n",
              "      background-color: #3B4455;\n",
              "      fill: #D2E3FC;\n",
              "    }\n",
              "\n",
              "    [theme=dark] .colab-df-convert:hover {\n",
              "      background-color: #434B5C;\n",
              "      box-shadow: 0px 1px 3px 1px rgba(0, 0, 0, 0.15);\n",
              "      filter: drop-shadow(0px 1px 2px rgba(0, 0, 0, 0.3));\n",
              "      fill: #FFFFFF;\n",
              "    }\n",
              "  </style>\n",
              "\n",
              "    <script>\n",
              "      const buttonEl =\n",
              "        document.querySelector('#df-05bb3a25-726b-4c73-9a5b-faf828d1b772 button.colab-df-convert');\n",
              "      buttonEl.style.display =\n",
              "        google.colab.kernel.accessAllowed ? 'block' : 'none';\n",
              "\n",
              "      async function convertToInteractive(key) {\n",
              "        const element = document.querySelector('#df-05bb3a25-726b-4c73-9a5b-faf828d1b772');\n",
              "        const dataTable =\n",
              "          await google.colab.kernel.invokeFunction('convertToInteractive',\n",
              "                                                    [key], {});\n",
              "        if (!dataTable) return;\n",
              "\n",
              "        const docLinkHtml = 'Like what you see? Visit the ' +\n",
              "          '<a target=\"_blank\" href=https://colab.research.google.com/notebooks/data_table.ipynb>data table notebook</a>'\n",
              "          + ' to learn more about interactive tables.';\n",
              "        element.innerHTML = '';\n",
              "        dataTable['output_type'] = 'display_data';\n",
              "        await google.colab.output.renderOutput(dataTable, element);\n",
              "        const docLink = document.createElement('div');\n",
              "        docLink.innerHTML = docLinkHtml;\n",
              "        element.appendChild(docLink);\n",
              "      }\n",
              "    </script>\n",
              "  </div>\n",
              "\n",
              "\n",
              "<div id=\"df-d8b1a437-73c5-4da0-b324-3f14da30806c\">\n",
              "  <button class=\"colab-df-quickchart\" onclick=\"quickchart('df-d8b1a437-73c5-4da0-b324-3f14da30806c')\"\n",
              "            title=\"Suggest charts.\"\n",
              "            style=\"display:none;\">\n",
              "\n",
              "<svg xmlns=\"http://www.w3.org/2000/svg\" height=\"24px\"viewBox=\"0 0 24 24\"\n",
              "     width=\"24px\">\n",
              "    <g>\n",
              "        <path d=\"M19 3H5c-1.1 0-2 .9-2 2v14c0 1.1.9 2 2 2h14c1.1 0 2-.9 2-2V5c0-1.1-.9-2-2-2zM9 17H7v-7h2v7zm4 0h-2V7h2v10zm4 0h-2v-4h2v4z\"/>\n",
              "    </g>\n",
              "</svg>\n",
              "  </button>\n",
              "\n",
              "<style>\n",
              "  .colab-df-quickchart {\n",
              "      --bg-color: #E8F0FE;\n",
              "      --fill-color: #1967D2;\n",
              "      --hover-bg-color: #E2EBFA;\n",
              "      --hover-fill-color: #174EA6;\n",
              "      --disabled-fill-color: #AAA;\n",
              "      --disabled-bg-color: #DDD;\n",
              "  }\n",
              "\n",
              "  [theme=dark] .colab-df-quickchart {\n",
              "      --bg-color: #3B4455;\n",
              "      --fill-color: #D2E3FC;\n",
              "      --hover-bg-color: #434B5C;\n",
              "      --hover-fill-color: #FFFFFF;\n",
              "      --disabled-bg-color: #3B4455;\n",
              "      --disabled-fill-color: #666;\n",
              "  }\n",
              "\n",
              "  .colab-df-quickchart {\n",
              "    background-color: var(--bg-color);\n",
              "    border: none;\n",
              "    border-radius: 50%;\n",
              "    cursor: pointer;\n",
              "    display: none;\n",
              "    fill: var(--fill-color);\n",
              "    height: 32px;\n",
              "    padding: 0;\n",
              "    width: 32px;\n",
              "  }\n",
              "\n",
              "  .colab-df-quickchart:hover {\n",
              "    background-color: var(--hover-bg-color);\n",
              "    box-shadow: 0 1px 2px rgba(60, 64, 67, 0.3), 0 1px 3px 1px rgba(60, 64, 67, 0.15);\n",
              "    fill: var(--button-hover-fill-color);\n",
              "  }\n",
              "\n",
              "  .colab-df-quickchart-complete:disabled,\n",
              "  .colab-df-quickchart-complete:disabled:hover {\n",
              "    background-color: var(--disabled-bg-color);\n",
              "    fill: var(--disabled-fill-color);\n",
              "    box-shadow: none;\n",
              "  }\n",
              "\n",
              "  .colab-df-spinner {\n",
              "    border: 2px solid var(--fill-color);\n",
              "    border-color: transparent;\n",
              "    border-bottom-color: var(--fill-color);\n",
              "    animation:\n",
              "      spin 1s steps(1) infinite;\n",
              "  }\n",
              "\n",
              "  @keyframes spin {\n",
              "    0% {\n",
              "      border-color: transparent;\n",
              "      border-bottom-color: var(--fill-color);\n",
              "      border-left-color: var(--fill-color);\n",
              "    }\n",
              "    20% {\n",
              "      border-color: transparent;\n",
              "      border-left-color: var(--fill-color);\n",
              "      border-top-color: var(--fill-color);\n",
              "    }\n",
              "    30% {\n",
              "      border-color: transparent;\n",
              "      border-left-color: var(--fill-color);\n",
              "      border-top-color: var(--fill-color);\n",
              "      border-right-color: var(--fill-color);\n",
              "    }\n",
              "    40% {\n",
              "      border-color: transparent;\n",
              "      border-right-color: var(--fill-color);\n",
              "      border-top-color: var(--fill-color);\n",
              "    }\n",
              "    60% {\n",
              "      border-color: transparent;\n",
              "      border-right-color: var(--fill-color);\n",
              "    }\n",
              "    80% {\n",
              "      border-color: transparent;\n",
              "      border-right-color: var(--fill-color);\n",
              "      border-bottom-color: var(--fill-color);\n",
              "    }\n",
              "    90% {\n",
              "      border-color: transparent;\n",
              "      border-bottom-color: var(--fill-color);\n",
              "    }\n",
              "  }\n",
              "</style>\n",
              "\n",
              "  <script>\n",
              "    async function quickchart(key) {\n",
              "      const quickchartButtonEl =\n",
              "        document.querySelector('#' + key + ' button');\n",
              "      quickchartButtonEl.disabled = true;  // To prevent multiple clicks.\n",
              "      quickchartButtonEl.classList.add('colab-df-spinner');\n",
              "      try {\n",
              "        const charts = await google.colab.kernel.invokeFunction(\n",
              "            'suggestCharts', [key], {});\n",
              "      } catch (error) {\n",
              "        console.error('Error during call to suggestCharts:', error);\n",
              "      }\n",
              "      quickchartButtonEl.classList.remove('colab-df-spinner');\n",
              "      quickchartButtonEl.classList.add('colab-df-quickchart-complete');\n",
              "    }\n",
              "    (() => {\n",
              "      let quickchartButtonEl =\n",
              "        document.querySelector('#df-d8b1a437-73c5-4da0-b324-3f14da30806c button');\n",
              "      quickchartButtonEl.style.display =\n",
              "        google.colab.kernel.accessAllowed ? 'block' : 'none';\n",
              "    })();\n",
              "  </script>\n",
              "</div>\n",
              "    </div>\n",
              "  </div>\n"
            ]
          },
          "metadata": {},
          "execution_count": 9
        }
      ]
    },
    {
      "cell_type": "code",
      "execution_count": 10,
      "metadata": {
        "colab": {
          "base_uri": "https://localhost:8080/"
        },
        "id": "45-sQ2hNU2T9",
        "outputId": "a9fc10ca-75ff-4eda-f4c7-635497647177"
      },
      "outputs": [
        {
          "output_type": "execute_result",
          "data": {
            "text/plain": [
              "[Row(userId=1, movieId=1, rating=4.0, timestamp=964982703)]"
            ]
          },
          "metadata": {},
          "execution_count": 10
        }
      ],
      "source": [
        "from pyspark.sql.types import StructType, StructField, IntegerType, DoubleType\n",
        "\n",
        "colNames = [\"userId\", \"movieId\", \"rating\", \"timestamp\"]\n",
        "\n",
        "ratings_schema = StructType()\n",
        "for name in colNames:\n",
        "    if name == \"rating\":\n",
        "        ratings_schema.add(StructField(name, DoubleType(), True))\n",
        "    else:\n",
        "        ratings_schema.add(StructField(name, IntegerType(), True))\n",
        "\n",
        "ratings = spark.read.csv(gpath+\"ratings.csv\", header=True, schema=ratings_schema)\n",
        "\n",
        "ratings.take(1)"
      ]
    },
    {
      "cell_type": "code",
      "execution_count": 11,
      "metadata": {
        "id": "0_rhaCUDU2T-"
      },
      "outputs": [],
      "source": [
        "(trainData, testData) = ratings.randomSplit([0.8, 0.2])"
      ]
    },
    {
      "cell_type": "code",
      "execution_count": 12,
      "metadata": {
        "id": "XKOYmUHwU2T-"
      },
      "outputs": [],
      "source": [
        "from pyspark.ml.recommendation import ALS\n",
        "als = ALS(userCol=\"userId\", itemCol=\"movieId\", ratingCol=\"rating\", coldStartStrategy=\"drop\")\n",
        "model = als.fit(trainData)"
      ]
    },
    {
      "cell_type": "code",
      "execution_count": 13,
      "metadata": {
        "colab": {
          "base_uri": "https://localhost:8080/"
        },
        "id": "wDRSIcnpU2T_",
        "outputId": "86c53d80-d25a-4c76-ac4d-8b2e80af2e6e"
      },
      "outputs": [
        {
          "output_type": "stream",
          "name": "stdout",
          "text": [
            "Root-mean-square error = 0.8840754763887899\n"
          ]
        }
      ],
      "source": [
        "from pyspark.ml.evaluation import RegressionEvaluator\n",
        "predictions = model.transform(testData)\n",
        "evaluator = RegressionEvaluator(metricName=\"rmse\", labelCol=\"rating\", predictionCol=\"prediction\")\n",
        "rmse = evaluator.evaluate(predictions)\n",
        "print(\"Root-mean-square error = \" + str(rmse))"
      ]
    },
    {
      "cell_type": "code",
      "execution_count": 14,
      "metadata": {
        "colab": {
          "base_uri": "https://localhost:8080/"
        },
        "id": "xt3ceFyRU2UA",
        "outputId": "7e3f5d5a-6cea-4b57-ceaa-4f8df2adbda5"
      },
      "outputs": [
        {
          "output_type": "stream",
          "name": "stderr",
          "text": [
            "/content/spark-3.2.4-bin-hadoop3.2/python/pyspark/sql/context.py:125: FutureWarning: Deprecated in 3.0.0. Use SparkSession.builder.getOrCreate() instead.\n",
            "  warnings.warn(\n"
          ]
        },
        {
          "output_type": "stream",
          "name": "stdout",
          "text": [
            "+---+--------------------------------------------------------------------------------------------------------------------------------+\n",
            "|id |features                                                                                                                        |\n",
            "+---+--------------------------------------------------------------------------------------------------------------------------------+\n",
            "|1  |[-0.29205742, 0.34915766, -0.6036778, -0.06583757, 0.40565205, -1.2432356, -0.24978857, -1.1309153, -1.0844849, -0.539725]      |\n",
            "|2  |[-0.24197358, 0.62042075, -0.22086847, 0.2201505, 0.9026202, -0.941432, -0.27370158, -0.36725584, -0.98535264, -0.6967393]      |\n",
            "|3  |[-0.66076666, -0.49755394, -1.0001291, -0.15619631, -1.3842918, 0.023976957, -0.56651264, -0.13730843, -0.7969261, -0.37650508] |\n",
            "|4  |[-0.46495432, -0.014777346, -0.27764076, 0.7400582, -0.3336163, -0.983748, 0.9495335, -1.1785202, -0.9520781, -0.357894]        |\n",
            "|5  |[-0.3616469, 0.43126366, -0.60394454, 0.19393268, 0.691118, -0.5613147, 0.77498543, -0.96518964, -0.832053, 0.20308518]         |\n",
            "|6  |[-0.17149062, 0.6665232, -0.08028798, -0.5131741, 0.15539569, -0.41930288, -0.017012227, -0.53265285, -1.6104999, -0.7286515]   |\n",
            "|7  |[0.016430095, 0.82794815, -0.9088364, 0.7507567, 0.8268677, -0.48279887, 0.64387214, -0.6741036, -0.81672215, -0.4118918]       |\n",
            "|8  |[-0.7042525, 0.30667773, -0.43523526, -0.053009905, 0.64781314, -0.55535054, 0.019856244, -0.62544763, -1.2868539, -0.002908711]|\n",
            "|9  |[0.07332254, 0.52529395, -0.5824359, 0.39415947, 0.091741756, -0.8224529, -0.64098006, -1.397045, -0.66666627, -0.09508169]     |\n",
            "|10 |[-0.050810456, 0.8378025, -0.4018734, -0.44443735, 0.73471475, 0.7129449, -0.19200335, -1.3042, -0.5027756, -1.0543023]         |\n",
            "|11 |[-0.7389052, 0.46744204, -0.19913347, -0.15059586, 0.26268026, -0.4783028, -0.47706285, -0.86788875, -1.468036, -0.0068955915]  |\n",
            "|12 |[-0.39206675, 1.2697524, -0.5739728, -0.49159905, 1.2031054, -0.30461636, -6.3636695E-4, -1.004279, -1.0087217, -0.6657554]     |\n",
            "|13 |[-0.17994711, 0.37297365, -0.9352002, -0.35224783, 0.07674465, -0.32270885, -0.74651057, -1.3364134, -0.99272776, 0.10718088]   |\n",
            "|14 |[0.046350237, 0.32434225, -0.2972834, 0.08598435, 0.47870904, 0.46753076, -0.009085822, -0.62955654, -1.7579756, -0.30956864]   |\n",
            "|15 |[-0.25459316, 0.43047127, -0.19400886, -0.59457695, -0.21902272, -0.49516016, -0.49384394, -1.1076494, -1.1193457, 0.46697223]  |\n",
            "|16 |[-0.15606746, 0.28971773, -0.4718477, 0.0069108834, 0.3319346, -0.5837801, -0.09711958, -0.7451585, -1.1699566, 0.007924192]    |\n",
            "|17 |[0.020328775, 0.5064168, -0.46377537, -0.06763912, 0.3630554, -0.53326106, -0.33358145, -1.0869443, -1.181398, -0.22740214]     |\n",
            "|18 |[-0.14407176, 0.477212, -0.35295033, -0.048185054, 0.4399205, -0.4986707, -0.26710844, -0.9274402, -1.227259, -0.06623562]      |\n",
            "|19 |[-0.405308, 0.5576654, -0.24059153, 0.47557938, -0.24914688, -0.5609332, 0.0010520841, -0.8512452, -0.90837955, -0.10740773]    |\n",
            "|20 |[-0.2590487, 0.8921905, -0.017879104, -0.28645274, 0.38898903, -0.8134292, 0.482699, -1.2558826, -0.98115057, 0.096035704]      |\n",
            "+---+--------------------------------------------------------------------------------------------------------------------------------+\n",
            "only showing top 20 rows\n",
            "\n"
          ]
        }
      ],
      "source": [
        "model.userFactors.orderBy(\"id\").show(truncate=False)"
      ]
    },
    {
      "cell_type": "code",
      "execution_count": 16,
      "metadata": {
        "colab": {
          "base_uri": "https://localhost:8080/"
        },
        "id": "-EaKBbxwU2UA",
        "outputId": "672e7700-e4b3-42c0-8870-3596fab6c810"
      },
      "outputs": [
        {
          "output_type": "stream",
          "name": "stdout",
          "text": [
            "+---+-------------------------------------------------------------------------------------------------------------------------------+\n",
            "|id |features                                                                                                                       |\n",
            "+---+-------------------------------------------------------------------------------------------------------------------------------+\n",
            "|1  |[-0.21842325, 0.7451113, -0.5239817, -0.33095688, 0.64533126, -0.79889935, 0.3627885, -0.92462224, -1.4766064, -0.31170443]    |\n",
            "|2  |[-0.37627935, 0.72043234, -0.26333985, -0.5165242, 0.23764294, -0.76305556, -0.18568738, -0.76264614, -1.2970676, -0.40425706] |\n",
            "|3  |[-0.46214336, 0.3618713, -0.22174233, -0.061978243, 0.53842604, -0.1355299, -0.4121083, -0.9656642, -1.300933, -0.6196537]     |\n",
            "|4  |[-0.19115472, 0.16835125, 0.0345286, -0.20277996, 0.01844377, 0.11560086, 0.036021303, -0.6700257, -1.2839785, -0.24854153]    |\n",
            "|5  |[-0.28780246, 0.784582, -0.28475603, -0.4524013, 0.08934036, -0.74942446, 0.0332176, -0.6746488, -0.9561984, -0.6233158]       |\n",
            "|6  |[-0.3565536, 0.3038814, -0.40092587, 0.27311525, 0.41882992, -0.7097007, -0.38786173, -1.0275406, -1.7109854, 0.08870718]      |\n",
            "|7  |[-0.5767434, 0.9651202, 0.06615724, -0.35513493, 0.47988963, -0.3961496, 0.29877788, -0.77609664, -1.2115299, -0.071584746]    |\n",
            "|8  |[0.059730627, 0.57924783, -1.1724612, 0.08175006, 0.3544069, -0.0719431, 0.0056135748, -0.25375873, -0.986996, -1.2222188]     |\n",
            "|9  |[0.16109864, 0.6043158, -0.7057666, 0.17725107, -0.14200307, -0.39467657, -0.042974632, -0.4932081, -1.2204119, -0.78886247]   |\n",
            "|10 |[0.09701991, 0.5635176, -0.72722065, 0.34202075, 0.38080782, -0.010195906, -0.3423363, -0.79457533, -1.5032156, -0.5616558]    |\n",
            "|11 |[-0.50158525, 0.5943818, -0.5223492, -0.042058535, 0.48467866, -0.5101881, 0.4082662, -0.44894415, -1.6536269, -0.6864825]     |\n",
            "|12 |[0.11650084, -0.17150228, -0.41535342, 0.09871895, 0.97590494, 0.21295704, -0.4495042, -0.014977967, -1.720395, -0.46821585]   |\n",
            "|13 |[-0.060954183, 0.788551, -0.2973392, 0.15704112, 0.19940831, -0.59921086, 0.28754702, -1.0426021, -1.0184338, -0.011833877]    |\n",
            "|14 |[-0.3043434, 0.56128055, -0.20234483, -0.057999354, 1.1569254, -0.73017484, 0.5657758, -0.99373716, -1.3311656, -0.097145505]  |\n",
            "|15 |[0.33702996, -0.15763377, 0.057097625, -0.5070307, -0.11075243, -0.38879967, -0.255048, -0.67232037, -1.8367001, -0.30793393]  |\n",
            "|16 |[-0.16423312, 0.5319256, -0.52968585, 0.020016383, 1.0484354, -0.44057068, -0.3360746, -0.85046864, -1.5772488, 0.05405503]    |\n",
            "|17 |[-0.41807905, 0.77085495, 0.44588977, 0.21426922, 0.4702402, 0.08021052, 0.29844132, -1.4897195, -1.5782307, 0.43394974]       |\n",
            "|18 |[-0.34896624, 0.12010791, -0.4172019, 0.05459271, 0.61453825, -0.7539255, -0.31071088, -0.7566982, -1.6134945, -0.12464968]    |\n",
            "|19 |[-0.13685243, -0.18026881, -0.6664812, -0.051593654, 0.26821092, -0.82994175, -0.72666216, -0.9028528, -0.75491434, -0.5736123]|\n",
            "|20 |[-0.1603235, 0.40429392, -0.7610303, -0.6005784, 0.9616037, 0.11294515, 0.05946565, -0.8344504, -0.83793014, 0.10019354]       |\n",
            "+---+-------------------------------------------------------------------------------------------------------------------------------+\n",
            "only showing top 20 rows\n",
            "\n"
          ]
        }
      ],
      "source": [
        "model.itemFactors.orderBy(\"id\").show(truncate=False)"
      ]
    },
    {
      "cell_type": "code",
      "execution_count": 17,
      "metadata": {
        "colab": {
          "base_uri": "https://localhost:8080/"
        },
        "id": "aWmiOGhRU2UA",
        "outputId": "e77c1ef9-460c-4346-d6c5-e14e996efae9"
      },
      "outputs": [
        {
          "output_type": "stream",
          "name": "stdout",
          "text": [
            "[(414, 2698), (599, 2478), (474, 2108), (448, 1864), (274, 1346)]\n"
          ]
        }
      ],
      "source": [
        "# who is the most movie lover\n",
        "from collections import Counter\n",
        "user_list = [int(row['userId']) for row in ratings.collect()]\n",
        "c = Counter(user_list)\n",
        "print(c.most_common(5))"
      ]
    },
    {
      "cell_type": "code",
      "execution_count": 18,
      "metadata": {
        "colab": {
          "base_uri": "https://localhost:8080/",
          "height": 424
        },
        "id": "gixchIBjU2UA",
        "outputId": "421da6e5-5ff9-429e-9fab-1b64f685b8f2"
      },
      "outputs": [
        {
          "output_type": "execute_result",
          "data": {
            "text/plain": [
              "      userId  movieId  rating   timestamp  \\\n",
              "0        414        1     4.0   961438127   \n",
              "1        414        2     3.0   961594981   \n",
              "2        414        3     4.0   961439278   \n",
              "3        414        5     2.0   961437647   \n",
              "4        414        6     3.0   961515642   \n",
              "...      ...      ...     ...         ...   \n",
              "2693     414   180045     4.0  1515207301   \n",
              "2694     414   180497     4.0  1525548614   \n",
              "2695     414   180985     3.5  1527978072   \n",
              "2696     414   184791     2.5  1519592410   \n",
              "2697     414   187595     3.5  1527977920   \n",
              "\n",
              "                                          title  \n",
              "0                              Toy Story (1995)  \n",
              "1                                Jumanji (1995)  \n",
              "2                       Grumpier Old Men (1995)  \n",
              "3            Father of the Bride Part II (1995)  \n",
              "4                                   Heat (1995)  \n",
              "...                                         ...  \n",
              "2693                        Molly's Game (2017)  \n",
              "2694                            The Post (2017)  \n",
              "2695                The Greatest Showman (2017)  \n",
              "2696  Fred Armisen: Standup for Drummers (2018)  \n",
              "2697             Solo: A Star Wars Story (2018)  \n",
              "\n",
              "[2698 rows x 5 columns]"
            ],
            "text/html": [
              "\n",
              "  <div id=\"df-ccb8d873-e7d3-41ca-a1af-c3cdc15e4043\" class=\"colab-df-container\">\n",
              "    <div>\n",
              "<style scoped>\n",
              "    .dataframe tbody tr th:only-of-type {\n",
              "        vertical-align: middle;\n",
              "    }\n",
              "\n",
              "    .dataframe tbody tr th {\n",
              "        vertical-align: top;\n",
              "    }\n",
              "\n",
              "    .dataframe thead th {\n",
              "        text-align: right;\n",
              "    }\n",
              "</style>\n",
              "<table border=\"1\" class=\"dataframe\">\n",
              "  <thead>\n",
              "    <tr style=\"text-align: right;\">\n",
              "      <th></th>\n",
              "      <th>userId</th>\n",
              "      <th>movieId</th>\n",
              "      <th>rating</th>\n",
              "      <th>timestamp</th>\n",
              "      <th>title</th>\n",
              "    </tr>\n",
              "  </thead>\n",
              "  <tbody>\n",
              "    <tr>\n",
              "      <th>0</th>\n",
              "      <td>414</td>\n",
              "      <td>1</td>\n",
              "      <td>4.0</td>\n",
              "      <td>961438127</td>\n",
              "      <td>Toy Story (1995)</td>\n",
              "    </tr>\n",
              "    <tr>\n",
              "      <th>1</th>\n",
              "      <td>414</td>\n",
              "      <td>2</td>\n",
              "      <td>3.0</td>\n",
              "      <td>961594981</td>\n",
              "      <td>Jumanji (1995)</td>\n",
              "    </tr>\n",
              "    <tr>\n",
              "      <th>2</th>\n",
              "      <td>414</td>\n",
              "      <td>3</td>\n",
              "      <td>4.0</td>\n",
              "      <td>961439278</td>\n",
              "      <td>Grumpier Old Men (1995)</td>\n",
              "    </tr>\n",
              "    <tr>\n",
              "      <th>3</th>\n",
              "      <td>414</td>\n",
              "      <td>5</td>\n",
              "      <td>2.0</td>\n",
              "      <td>961437647</td>\n",
              "      <td>Father of the Bride Part II (1995)</td>\n",
              "    </tr>\n",
              "    <tr>\n",
              "      <th>4</th>\n",
              "      <td>414</td>\n",
              "      <td>6</td>\n",
              "      <td>3.0</td>\n",
              "      <td>961515642</td>\n",
              "      <td>Heat (1995)</td>\n",
              "    </tr>\n",
              "    <tr>\n",
              "      <th>...</th>\n",
              "      <td>...</td>\n",
              "      <td>...</td>\n",
              "      <td>...</td>\n",
              "      <td>...</td>\n",
              "      <td>...</td>\n",
              "    </tr>\n",
              "    <tr>\n",
              "      <th>2693</th>\n",
              "      <td>414</td>\n",
              "      <td>180045</td>\n",
              "      <td>4.0</td>\n",
              "      <td>1515207301</td>\n",
              "      <td>Molly's Game (2017)</td>\n",
              "    </tr>\n",
              "    <tr>\n",
              "      <th>2694</th>\n",
              "      <td>414</td>\n",
              "      <td>180497</td>\n",
              "      <td>4.0</td>\n",
              "      <td>1525548614</td>\n",
              "      <td>The Post (2017)</td>\n",
              "    </tr>\n",
              "    <tr>\n",
              "      <th>2695</th>\n",
              "      <td>414</td>\n",
              "      <td>180985</td>\n",
              "      <td>3.5</td>\n",
              "      <td>1527978072</td>\n",
              "      <td>The Greatest Showman (2017)</td>\n",
              "    </tr>\n",
              "    <tr>\n",
              "      <th>2696</th>\n",
              "      <td>414</td>\n",
              "      <td>184791</td>\n",
              "      <td>2.5</td>\n",
              "      <td>1519592410</td>\n",
              "      <td>Fred Armisen: Standup for Drummers (2018)</td>\n",
              "    </tr>\n",
              "    <tr>\n",
              "      <th>2697</th>\n",
              "      <td>414</td>\n",
              "      <td>187595</td>\n",
              "      <td>3.5</td>\n",
              "      <td>1527977920</td>\n",
              "      <td>Solo: A Star Wars Story (2018)</td>\n",
              "    </tr>\n",
              "  </tbody>\n",
              "</table>\n",
              "<p>2698 rows × 5 columns</p>\n",
              "</div>\n",
              "    <div class=\"colab-df-buttons\">\n",
              "\n",
              "  <div class=\"colab-df-container\">\n",
              "    <button class=\"colab-df-convert\" onclick=\"convertToInteractive('df-ccb8d873-e7d3-41ca-a1af-c3cdc15e4043')\"\n",
              "            title=\"Convert this dataframe to an interactive table.\"\n",
              "            style=\"display:none;\">\n",
              "\n",
              "  <svg xmlns=\"http://www.w3.org/2000/svg\" height=\"24px\" viewBox=\"0 -960 960 960\">\n",
              "    <path d=\"M120-120v-720h720v720H120Zm60-500h600v-160H180v160Zm220 220h160v-160H400v160Zm0 220h160v-160H400v160ZM180-400h160v-160H180v160Zm440 0h160v-160H620v160ZM180-180h160v-160H180v160Zm440 0h160v-160H620v160Z\"/>\n",
              "  </svg>\n",
              "    </button>\n",
              "\n",
              "  <style>\n",
              "    .colab-df-container {\n",
              "      display:flex;\n",
              "      gap: 12px;\n",
              "    }\n",
              "\n",
              "    .colab-df-convert {\n",
              "      background-color: #E8F0FE;\n",
              "      border: none;\n",
              "      border-radius: 50%;\n",
              "      cursor: pointer;\n",
              "      display: none;\n",
              "      fill: #1967D2;\n",
              "      height: 32px;\n",
              "      padding: 0 0 0 0;\n",
              "      width: 32px;\n",
              "    }\n",
              "\n",
              "    .colab-df-convert:hover {\n",
              "      background-color: #E2EBFA;\n",
              "      box-shadow: 0px 1px 2px rgba(60, 64, 67, 0.3), 0px 1px 3px 1px rgba(60, 64, 67, 0.15);\n",
              "      fill: #174EA6;\n",
              "    }\n",
              "\n",
              "    .colab-df-buttons div {\n",
              "      margin-bottom: 4px;\n",
              "    }\n",
              "\n",
              "    [theme=dark] .colab-df-convert {\n",
              "      background-color: #3B4455;\n",
              "      fill: #D2E3FC;\n",
              "    }\n",
              "\n",
              "    [theme=dark] .colab-df-convert:hover {\n",
              "      background-color: #434B5C;\n",
              "      box-shadow: 0px 1px 3px 1px rgba(0, 0, 0, 0.15);\n",
              "      filter: drop-shadow(0px 1px 2px rgba(0, 0, 0, 0.3));\n",
              "      fill: #FFFFFF;\n",
              "    }\n",
              "  </style>\n",
              "\n",
              "    <script>\n",
              "      const buttonEl =\n",
              "        document.querySelector('#df-ccb8d873-e7d3-41ca-a1af-c3cdc15e4043 button.colab-df-convert');\n",
              "      buttonEl.style.display =\n",
              "        google.colab.kernel.accessAllowed ? 'block' : 'none';\n",
              "\n",
              "      async function convertToInteractive(key) {\n",
              "        const element = document.querySelector('#df-ccb8d873-e7d3-41ca-a1af-c3cdc15e4043');\n",
              "        const dataTable =\n",
              "          await google.colab.kernel.invokeFunction('convertToInteractive',\n",
              "                                                    [key], {});\n",
              "        if (!dataTable) return;\n",
              "\n",
              "        const docLinkHtml = 'Like what you see? Visit the ' +\n",
              "          '<a target=\"_blank\" href=https://colab.research.google.com/notebooks/data_table.ipynb>data table notebook</a>'\n",
              "          + ' to learn more about interactive tables.';\n",
              "        element.innerHTML = '';\n",
              "        dataTable['output_type'] = 'display_data';\n",
              "        await google.colab.output.renderOutput(dataTable, element);\n",
              "        const docLink = document.createElement('div');\n",
              "        docLink.innerHTML = docLinkHtml;\n",
              "        element.appendChild(docLink);\n",
              "      }\n",
              "    </script>\n",
              "  </div>\n",
              "\n",
              "\n",
              "<div id=\"df-c0f6d2eb-6909-4350-86af-351d2482be58\">\n",
              "  <button class=\"colab-df-quickchart\" onclick=\"quickchart('df-c0f6d2eb-6909-4350-86af-351d2482be58')\"\n",
              "            title=\"Suggest charts.\"\n",
              "            style=\"display:none;\">\n",
              "\n",
              "<svg xmlns=\"http://www.w3.org/2000/svg\" height=\"24px\"viewBox=\"0 0 24 24\"\n",
              "     width=\"24px\">\n",
              "    <g>\n",
              "        <path d=\"M19 3H5c-1.1 0-2 .9-2 2v14c0 1.1.9 2 2 2h14c1.1 0 2-.9 2-2V5c0-1.1-.9-2-2-2zM9 17H7v-7h2v7zm4 0h-2V7h2v10zm4 0h-2v-4h2v4z\"/>\n",
              "    </g>\n",
              "</svg>\n",
              "  </button>\n",
              "\n",
              "<style>\n",
              "  .colab-df-quickchart {\n",
              "      --bg-color: #E8F0FE;\n",
              "      --fill-color: #1967D2;\n",
              "      --hover-bg-color: #E2EBFA;\n",
              "      --hover-fill-color: #174EA6;\n",
              "      --disabled-fill-color: #AAA;\n",
              "      --disabled-bg-color: #DDD;\n",
              "  }\n",
              "\n",
              "  [theme=dark] .colab-df-quickchart {\n",
              "      --bg-color: #3B4455;\n",
              "      --fill-color: #D2E3FC;\n",
              "      --hover-bg-color: #434B5C;\n",
              "      --hover-fill-color: #FFFFFF;\n",
              "      --disabled-bg-color: #3B4455;\n",
              "      --disabled-fill-color: #666;\n",
              "  }\n",
              "\n",
              "  .colab-df-quickchart {\n",
              "    background-color: var(--bg-color);\n",
              "    border: none;\n",
              "    border-radius: 50%;\n",
              "    cursor: pointer;\n",
              "    display: none;\n",
              "    fill: var(--fill-color);\n",
              "    height: 32px;\n",
              "    padding: 0;\n",
              "    width: 32px;\n",
              "  }\n",
              "\n",
              "  .colab-df-quickchart:hover {\n",
              "    background-color: var(--hover-bg-color);\n",
              "    box-shadow: 0 1px 2px rgba(60, 64, 67, 0.3), 0 1px 3px 1px rgba(60, 64, 67, 0.15);\n",
              "    fill: var(--button-hover-fill-color);\n",
              "  }\n",
              "\n",
              "  .colab-df-quickchart-complete:disabled,\n",
              "  .colab-df-quickchart-complete:disabled:hover {\n",
              "    background-color: var(--disabled-bg-color);\n",
              "    fill: var(--disabled-fill-color);\n",
              "    box-shadow: none;\n",
              "  }\n",
              "\n",
              "  .colab-df-spinner {\n",
              "    border: 2px solid var(--fill-color);\n",
              "    border-color: transparent;\n",
              "    border-bottom-color: var(--fill-color);\n",
              "    animation:\n",
              "      spin 1s steps(1) infinite;\n",
              "  }\n",
              "\n",
              "  @keyframes spin {\n",
              "    0% {\n",
              "      border-color: transparent;\n",
              "      border-bottom-color: var(--fill-color);\n",
              "      border-left-color: var(--fill-color);\n",
              "    }\n",
              "    20% {\n",
              "      border-color: transparent;\n",
              "      border-left-color: var(--fill-color);\n",
              "      border-top-color: var(--fill-color);\n",
              "    }\n",
              "    30% {\n",
              "      border-color: transparent;\n",
              "      border-left-color: var(--fill-color);\n",
              "      border-top-color: var(--fill-color);\n",
              "      border-right-color: var(--fill-color);\n",
              "    }\n",
              "    40% {\n",
              "      border-color: transparent;\n",
              "      border-right-color: var(--fill-color);\n",
              "      border-top-color: var(--fill-color);\n",
              "    }\n",
              "    60% {\n",
              "      border-color: transparent;\n",
              "      border-right-color: var(--fill-color);\n",
              "    }\n",
              "    80% {\n",
              "      border-color: transparent;\n",
              "      border-right-color: var(--fill-color);\n",
              "      border-bottom-color: var(--fill-color);\n",
              "    }\n",
              "    90% {\n",
              "      border-color: transparent;\n",
              "      border-bottom-color: var(--fill-color);\n",
              "    }\n",
              "  }\n",
              "</style>\n",
              "\n",
              "  <script>\n",
              "    async function quickchart(key) {\n",
              "      const quickchartButtonEl =\n",
              "        document.querySelector('#' + key + ' button');\n",
              "      quickchartButtonEl.disabled = true;  // To prevent multiple clicks.\n",
              "      quickchartButtonEl.classList.add('colab-df-spinner');\n",
              "      try {\n",
              "        const charts = await google.colab.kernel.invokeFunction(\n",
              "            'suggestCharts', [key], {});\n",
              "      } catch (error) {\n",
              "        console.error('Error during call to suggestCharts:', error);\n",
              "      }\n",
              "      quickchartButtonEl.classList.remove('colab-df-spinner');\n",
              "      quickchartButtonEl.classList.add('colab-df-quickchart-complete');\n",
              "    }\n",
              "    (() => {\n",
              "      let quickchartButtonEl =\n",
              "        document.querySelector('#df-c0f6d2eb-6909-4350-86af-351d2482be58 button');\n",
              "      quickchartButtonEl.style.display =\n",
              "        google.colab.kernel.accessAllowed ? 'block' : 'none';\n",
              "    })();\n",
              "  </script>\n",
              "</div>\n",
              "    </div>\n",
              "  </div>\n"
            ]
          },
          "metadata": {},
          "execution_count": 18
        }
      ],
      "source": [
        "# recommend for one user\n",
        "targetUserID = c.most_common()[0][0]\n",
        "userWatched = ratings.where(ratings.userId == targetUserID)\n",
        "userWatchedPD = userWatched.toPandas()\n",
        "userWatchedPD['title'] = userWatchedPD['movieId'].apply(lambda x: movies_pd.loc[x].title)\n",
        "userWatchedPD"
      ]
    },
    {
      "cell_type": "code",
      "execution_count": 19,
      "metadata": {
        "colab": {
          "base_uri": "https://localhost:8080/"
        },
        "id": "E5Li5bB5U2UB",
        "outputId": "c4b99803-3c1b-4f9f-f3ff-749e86ea5068"
      },
      "outputs": [
        {
          "output_type": "stream",
          "name": "stdout",
          "text": [
            "+------+-------+------+----------+\n",
            "|userId|movieId|rating| timestamp|\n",
            "+------+-------+------+----------+\n",
            "|   414|      1|   4.0| 961438127|\n",
            "|   414|      2|   3.0| 961594981|\n",
            "|   414|      3|   4.0| 961439278|\n",
            "|   414|      5|   2.0| 961437647|\n",
            "|   414|      6|   3.0| 961515642|\n",
            "|   414|      7|   3.0| 961439170|\n",
            "|   414|      8|   3.0| 961594849|\n",
            "|   414|     10|   3.0| 961515863|\n",
            "|   414|     11|   5.0|1052148205|\n",
            "|   414|     15|   2.0| 961514611|\n",
            "|   414|     16|   3.0| 961517557|\n",
            "|   414|     17|   4.0| 961513829|\n",
            "|   414|     18|   3.0| 961682128|\n",
            "|   414|     21|   4.0| 961438199|\n",
            "|   414|     22|   3.0| 961518227|\n",
            "|   414|     23|   2.0| 961682276|\n",
            "|   414|     24|   3.0| 961436964|\n",
            "|   414|     25|   3.0| 961517140|\n",
            "|   414|     27|   2.0| 961518812|\n",
            "|   414|     31|   3.0| 961518520|\n",
            "+------+-------+------+----------+\n",
            "only showing top 20 rows\n",
            "\n"
          ]
        }
      ],
      "source": [
        "userWatched.show()"
      ]
    },
    {
      "cell_type": "markdown",
      "source": [
        "\n",
        "# 새로운 사용자에게 영화 추천"
      ],
      "metadata": {
        "id": "-tWMaGYTmeHm"
      }
    },
    {
      "cell_type": "code",
      "execution_count": 20,
      "metadata": {
        "colab": {
          "base_uri": "https://localhost:8080/"
        },
        "id": "pSakii1EU2UB",
        "outputId": "4e0b2f94-c12e-4597-c132-edf50188c588"
      },
      "outputs": [
        {
          "output_type": "stream",
          "name": "stderr",
          "text": [
            "/content/spark-3.2.4-bin-hadoop3.2/python/pyspark/sql/context.py:125: FutureWarning: Deprecated in 3.0.0. Use SparkSession.builder.getOrCreate() instead.\n",
            "  warnings.warn(\n"
          ]
        },
        {
          "output_type": "stream",
          "name": "stdout",
          "text": [
            "['Neon Genesis Evangelion: Death & Rebirth (Shin seiki Evangelion Gekijô-ban: Shito shinsei) (1997)', 'On the Beach (1959)', 'Saving Face (2004)', 'Cherish (2002)', 'Rain (2001)', 'Belle époque (1992)', 'Topo, El (1970)', 'Pierrot le fou (1965)', 'Wild Parrots of Telegraph Hill, The (2003)', 'Chungking Express (Chung Hing sam lam) (1994)']\n"
          ]
        }
      ],
      "source": [
        "user = userWatched.distinct()\n",
        "userSubsetRecs = model.recommendForUserSubset(user, 10).toPandas()\n",
        "userSubsetRecs['title'] = userSubsetRecs['recommendations'].apply(lambda x: [movies_pd.loc[i[0]].title for i in x])\n",
        "for item in userSubsetRecs.title:\n",
        "    print(item)"
      ]
    },
    {
      "cell_type": "code",
      "execution_count": 21,
      "metadata": {
        "colab": {
          "base_uri": "https://localhost:8080/"
        },
        "id": "bWSVYeymU2UB",
        "outputId": "f4de753a-682d-46f8-fd74-5c219aa6615c"
      },
      "outputs": [
        {
          "output_type": "stream",
          "name": "stdout",
          "text": [
            "+------+\n",
            "|userId|\n",
            "+------+\n",
            "|   148|\n",
            "|   463|\n",
            "|   471|\n",
            "+------+\n",
            "\n"
          ]
        }
      ],
      "source": [
        "users = ratings.select(als.getUserCol()).distinct().limit(3)\n",
        "users.show()"
      ]
    },
    {
      "cell_type": "code",
      "execution_count": 22,
      "metadata": {
        "colab": {
          "base_uri": "https://localhost:8080/"
        },
        "id": "NCEHsJ0BU2UC",
        "outputId": "cc6d4c4a-a42d-4962-9c2c-ebe7025192e7"
      },
      "outputs": [
        {
          "output_type": "stream",
          "name": "stderr",
          "text": [
            "/content/spark-3.2.4-bin-hadoop3.2/python/pyspark/sql/context.py:125: FutureWarning: Deprecated in 3.0.0. Use SparkSession.builder.getOrCreate() instead.\n",
            "  warnings.warn(\n"
          ]
        },
        {
          "output_type": "stream",
          "name": "stdout",
          "text": [
            "+------+-----------------------------------------------------------------------------------------------+\n",
            "|userId|recommendations                                                                                |\n",
            "+------+-----------------------------------------------------------------------------------------------+\n",
            "|471   |[{89904, 4.9865155}, {1411, 4.9009767}, {68945, 4.808493}, {3379, 4.808493}, {49932, 4.625464}]|\n",
            "|463   |[{33649, 5.0806723}, {945, 4.935425}, {69524, 4.735538}, {78836, 4.7312837}, {7071, 4.72177}]  |\n",
            "|148   |[{720, 4.8241024}, {33649, 4.63185}, {98491, 4.4597573}, {160718, 4.385815}, {928, 4.3759665}] |\n",
            "+------+-----------------------------------------------------------------------------------------------+\n",
            "\n"
          ]
        }
      ],
      "source": [
        "# Generate top 5 movie recommendations for a set of users\n",
        "users = ratings.select(als.getUserCol()).distinct().limit(3)\n",
        "userSubsetRecs = model.recommendForUserSubset(users, 5)\n",
        "userSubsetRecs.show(truncate=False)"
      ]
    },
    {
      "cell_type": "code",
      "execution_count": 23,
      "metadata": {
        "colab": {
          "base_uri": "https://localhost:8080/"
        },
        "id": "1miIDiKlU2UC",
        "outputId": "e320d332-ecb0-4eb6-8fd5-f0bcb511f585"
      },
      "outputs": [
        {
          "output_type": "stream",
          "name": "stdout",
          "text": [
            "+-------+---------------------------------------------------------------------------------------+\n",
            "|movieId|recommendations                                                                        |\n",
            "+-------+---------------------------------------------------------------------------------------+\n",
            "|1580   |[{53, 4.917813}, {543, 4.8733044}, {276, 4.6668625}, {492, 4.612564}, {243, 4.5983534}]|\n",
            "|3175   |[{53, 4.89008}, {543, 4.502476}, {276, 4.4760995}, {452, 4.465859}, {93, 4.452167}]    |\n",
            "|2366   |[{423, 5.036814}, {35, 4.8221164}, {206, 4.7859344}, {43, 4.6917186}, {99, 4.636307}]  |\n",
            "+-------+---------------------------------------------------------------------------------------+\n",
            "\n"
          ]
        }
      ],
      "source": [
        "# Generate top 5 user recommendations for a set of movies\n",
        "movies = ratings.select(als.getItemCol()).distinct().limit(3)\n",
        "movieSubSetRecs = model.recommendForItemSubset(movies, 5)\n",
        "movieSubSetRecs.show(truncate=False)"
      ]
    },
    {
      "cell_type": "code",
      "execution_count": 24,
      "metadata": {
        "colab": {
          "base_uri": "https://localhost:8080/"
        },
        "id": "2uTSXXbiU2UC",
        "outputId": "9c574874-87ea-48c8-b67e-905677b446c9"
      },
      "outputs": [
        {
          "output_type": "stream",
          "name": "stdout",
          "text": [
            "+------+--------------------+\n",
            "|userId|     recommendations|\n",
            "+------+--------------------+\n",
            "|     1|[{68945, 5.763310...|\n",
            "|     3|[{70946, 5.116101...|\n",
            "|     5|[{3089, 5.1034756...|\n",
            "|     6|[{33649, 5.210644...|\n",
            "|     9|[{6380, 5.2470164...|\n",
            "|    12|[{77846, 6.226051...|\n",
            "|    13|[{161582, 5.36127...|\n",
            "|    15|[{3742, 4.8574586...|\n",
            "|    16|[{68945, 4.528044...|\n",
            "|    17|[{33649, 5.221736...|\n",
            "|    19|[{1949, 4.14611},...|\n",
            "|    20|[{1262, 5.42218},...|\n",
            "|    22|[{3223, 5.2736874...|\n",
            "|    26|[{68945, 4.57121}...|\n",
            "|    27|[{33649, 4.963053...|\n",
            "|    28|[{7842, 4.522045}...|\n",
            "|    31|[{3404, 5.308219}...|\n",
            "|    34|[{7842, 5.5971084...|\n",
            "|    35|[{3404, 5.5153317...|\n",
            "|    37|[{86345, 5.617925...|\n",
            "+------+--------------------+\n",
            "only showing top 20 rows\n",
            "\n",
            "CPU times: user 21.1 ms, sys: 979 µs, total: 22.1 ms\n",
            "Wall time: 3.87 s\n"
          ]
        }
      ],
      "source": [
        "%%time\n",
        "# Generate top 10 movie recommendations for each user\n",
        "userRecs = model.recommendForAllUsers(10)\n",
        "userRecs.show()"
      ]
    },
    {
      "cell_type": "code",
      "execution_count": 25,
      "metadata": {
        "scrolled": false,
        "colab": {
          "base_uri": "https://localhost:8080/"
        },
        "id": "625cbg7UU2UC",
        "outputId": "23e120ec-1cc3-4b76-dca5-5ef7d524155c"
      },
      "outputs": [
        {
          "output_type": "stream",
          "name": "stdout",
          "text": [
            "+-------+--------------------+\n",
            "|movieId|     recommendations|\n",
            "+-------+--------------------+\n",
            "|      1|[{53, 5.399724}, ...|\n",
            "|      3|[{53, 4.6850886},...|\n",
            "|      5|[{53, 4.3066616},...|\n",
            "|      6|[{53, 5.468882}, ...|\n",
            "|      9|[{543, 4.694057},...|\n",
            "|     12|[{543, 4.3111777}...|\n",
            "|     13|[{43, 4.038104}, ...|\n",
            "|     15|[{543, 5.1243367}...|\n",
            "|     16|[{53, 5.26572}, {...|\n",
            "|     17|[{206, 4.8083835}...|\n",
            "|     19|[{53, 4.247048}, ...|\n",
            "|     20|[{12, 4.047288}, ...|\n",
            "|     22|[{53, 4.677027}, ...|\n",
            "|     26|[{53, 4.638265}, ...|\n",
            "|     27|[{12, 4.287132}, ...|\n",
            "|     28|[{12, 5.417323}, ...|\n",
            "|     31|[{43, 4.913698}, ...|\n",
            "|     34|[{99, 4.884393}, ...|\n",
            "|     40|[{544, 4.926397},...|\n",
            "|     41|[{191, 4.6762753}...|\n",
            "+-------+--------------------+\n",
            "only showing top 20 rows\n",
            "\n",
            "CPU times: user 32.7 ms, sys: 9.5 ms, total: 42.2 ms\n",
            "Wall time: 9.07 s\n"
          ]
        }
      ],
      "source": [
        "%%time\n",
        "# Generate top 10 user recommendations for each movie\n",
        "movieRecs = model.recommendForAllItems(10)\n",
        "movieRecs.show()"
      ]
    },
    {
      "cell_type": "markdown",
      "source": [
        "### **도전**"
      ],
      "metadata": {
        "id": "OBhudefScmkN"
      }
    },
    {
      "cell_type": "code",
      "execution_count": 30,
      "metadata": {
        "id": "lur0pq7lU2UD"
      },
      "outputs": [],
      "source": [
        "from pyspark.sql import Row\n",
        "customUserData = sc.parallelize(\n",
        "    [Row(99999999, 59315, 5, 123456789),\n",
        "     Row(99999999, 77561, 4, 123456789),\n",
        "     Row(99999999, 102125, 4, 123456789),\n",
        "     Row(99999999, 190297, 1, 123456789),\n",
        "     Row(99999999, 155384, 2, 123456789),\n",
        "     Row(99999999, 170763, 1, 123456789),\n",
        "]\n",
        ").toDF([\"userId\", \"movieId\", \"rating\", \"timestamp\"])\n",
        "\n",
        "ratings_with_userData = ratings.union(customUserData)\n",
        "\n",
        "from pyspark.ml.recommendation import ALS\n",
        "\n",
        "als = ALS(rank=50, regParam=0.05, maxIter=10,\n",
        "          userCol=\"userId\", itemCol=\"movieId\", ratingCol=\"rating\", coldStartStrategy=\"drop\")\n",
        "model = als.fit(ratings_with_userData)"
      ]
    },
    {
      "cell_type": "code",
      "execution_count": 32,
      "metadata": {
        "colab": {
          "base_uri": "https://localhost:8080/",
          "height": 242
        },
        "id": "z30ypRO3U2UD",
        "outputId": "a807d39c-3706-47c6-cff9-631bbe5df641"
      },
      "outputs": [
        {
          "output_type": "stream",
          "name": "stderr",
          "text": [
            "/content/spark-3.2.4-bin-hadoop3.2/python/pyspark/sql/context.py:125: FutureWarning: Deprecated in 3.0.0. Use SparkSession.builder.getOrCreate() instead.\n",
            "  warnings.warn(\n"
          ]
        },
        {
          "output_type": "execute_result",
          "data": {
            "text/plain": [
              "     userId  \\\n",
              "0  99999999   \n",
              "\n",
              "                                                                                                                                                                                                                                                                      recommendations  \\\n",
              "0  [(59315, 4.878103256225586), (2571, 4.55980920791626), (58559, 4.5289716720581055), (34405, 4.464439392089844), (89745, 4.455581188201904), (1198, 4.381580352783203), (1210, 4.371745586395264), (1196, 4.364892959594727), (1291, 4.363119125366211), (57669, 4.33685827255249)]   \n",
              "\n",
              "                                                                                                                                                                                                                                                                                                                                                          title  \n",
              "0  [Iron Man (2008), Matrix, The (1999), Dark Knight, The (2008), Serenity (2005), Avengers, The (2012), Raiders of the Lost Ark (Indiana Jones and the Raiders of the Lost Ark) (1981), Star Wars: Episode VI - Return of the Jedi (1983), Star Wars: Episode V - The Empire Strikes Back (1980), Indiana Jones and the Last Crusade (1989), In Bruges (2008)]  "
            ],
            "text/html": [
              "\n",
              "  <div id=\"df-0fa8e79e-d84b-4c99-af1e-ccb482e77f89\" class=\"colab-df-container\">\n",
              "    <div>\n",
              "<style scoped>\n",
              "    .dataframe tbody tr th:only-of-type {\n",
              "        vertical-align: middle;\n",
              "    }\n",
              "\n",
              "    .dataframe tbody tr th {\n",
              "        vertical-align: top;\n",
              "    }\n",
              "\n",
              "    .dataframe thead th {\n",
              "        text-align: right;\n",
              "    }\n",
              "</style>\n",
              "<table border=\"1\" class=\"dataframe\">\n",
              "  <thead>\n",
              "    <tr style=\"text-align: right;\">\n",
              "      <th></th>\n",
              "      <th>userId</th>\n",
              "      <th>recommendations</th>\n",
              "      <th>title</th>\n",
              "    </tr>\n",
              "  </thead>\n",
              "  <tbody>\n",
              "    <tr>\n",
              "      <th>0</th>\n",
              "      <td>99999999</td>\n",
              "      <td>[(59315, 4.878103256225586), (2571, 4.55980920791626), (58559, 4.5289716720581055), (34405, 4.464439392089844), (89745, 4.455581188201904), (1198, 4.381580352783203), (1210, 4.371745586395264), (1196, 4.364892959594727), (1291, 4.363119125366211), (57669, 4.33685827255249)]</td>\n",
              "      <td>[Iron Man (2008), Matrix, The (1999), Dark Knight, The (2008), Serenity (2005), Avengers, The (2012), Raiders of the Lost Ark (Indiana Jones and the Raiders of the Lost Ark) (1981), Star Wars: Episode VI - Return of the Jedi (1983), Star Wars: Episode V - The Empire Strikes Back (1980), Indiana Jones and the Last Crusade (1989), In Bruges (2008)]</td>\n",
              "    </tr>\n",
              "  </tbody>\n",
              "</table>\n",
              "</div>\n",
              "    <div class=\"colab-df-buttons\">\n",
              "\n",
              "  <div class=\"colab-df-container\">\n",
              "    <button class=\"colab-df-convert\" onclick=\"convertToInteractive('df-0fa8e79e-d84b-4c99-af1e-ccb482e77f89')\"\n",
              "            title=\"Convert this dataframe to an interactive table.\"\n",
              "            style=\"display:none;\">\n",
              "\n",
              "  <svg xmlns=\"http://www.w3.org/2000/svg\" height=\"24px\" viewBox=\"0 -960 960 960\">\n",
              "    <path d=\"M120-120v-720h720v720H120Zm60-500h600v-160H180v160Zm220 220h160v-160H400v160Zm0 220h160v-160H400v160ZM180-400h160v-160H180v160Zm440 0h160v-160H620v160ZM180-180h160v-160H180v160Zm440 0h160v-160H620v160Z\"/>\n",
              "  </svg>\n",
              "    </button>\n",
              "\n",
              "  <style>\n",
              "    .colab-df-container {\n",
              "      display:flex;\n",
              "      gap: 12px;\n",
              "    }\n",
              "\n",
              "    .colab-df-convert {\n",
              "      background-color: #E8F0FE;\n",
              "      border: none;\n",
              "      border-radius: 50%;\n",
              "      cursor: pointer;\n",
              "      display: none;\n",
              "      fill: #1967D2;\n",
              "      height: 32px;\n",
              "      padding: 0 0 0 0;\n",
              "      width: 32px;\n",
              "    }\n",
              "\n",
              "    .colab-df-convert:hover {\n",
              "      background-color: #E2EBFA;\n",
              "      box-shadow: 0px 1px 2px rgba(60, 64, 67, 0.3), 0px 1px 3px 1px rgba(60, 64, 67, 0.15);\n",
              "      fill: #174EA6;\n",
              "    }\n",
              "\n",
              "    .colab-df-buttons div {\n",
              "      margin-bottom: 4px;\n",
              "    }\n",
              "\n",
              "    [theme=dark] .colab-df-convert {\n",
              "      background-color: #3B4455;\n",
              "      fill: #D2E3FC;\n",
              "    }\n",
              "\n",
              "    [theme=dark] .colab-df-convert:hover {\n",
              "      background-color: #434B5C;\n",
              "      box-shadow: 0px 1px 3px 1px rgba(0, 0, 0, 0.15);\n",
              "      filter: drop-shadow(0px 1px 2px rgba(0, 0, 0, 0.3));\n",
              "      fill: #FFFFFF;\n",
              "    }\n",
              "  </style>\n",
              "\n",
              "    <script>\n",
              "      const buttonEl =\n",
              "        document.querySelector('#df-0fa8e79e-d84b-4c99-af1e-ccb482e77f89 button.colab-df-convert');\n",
              "      buttonEl.style.display =\n",
              "        google.colab.kernel.accessAllowed ? 'block' : 'none';\n",
              "\n",
              "      async function convertToInteractive(key) {\n",
              "        const element = document.querySelector('#df-0fa8e79e-d84b-4c99-af1e-ccb482e77f89');\n",
              "        const dataTable =\n",
              "          await google.colab.kernel.invokeFunction('convertToInteractive',\n",
              "                                                    [key], {});\n",
              "        if (!dataTable) return;\n",
              "\n",
              "        const docLinkHtml = 'Like what you see? Visit the ' +\n",
              "          '<a target=\"_blank\" href=https://colab.research.google.com/notebooks/data_table.ipynb>data table notebook</a>'\n",
              "          + ' to learn more about interactive tables.';\n",
              "        element.innerHTML = '';\n",
              "        dataTable['output_type'] = 'display_data';\n",
              "        await google.colab.output.renderOutput(dataTable, element);\n",
              "        const docLink = document.createElement('div');\n",
              "        docLink.innerHTML = docLinkHtml;\n",
              "        element.appendChild(docLink);\n",
              "      }\n",
              "    </script>\n",
              "  </div>\n",
              "\n",
              "    </div>\n",
              "  </div>\n"
            ]
          },
          "metadata": {},
          "execution_count": 32
        }
      ],
      "source": [
        "import pandas as pd\n",
        "pd.set_option('display.max_colwidth', None)\n",
        "userSubsetRecs = model.recommendForUserSubset(customUserData.select(\"userId\").distinct(), 10).toPandas()\n",
        "userSubsetRecs['title'] = userSubsetRecs['recommendations'].apply(lambda x: [movies_pd.loc[i[0]].title for i in x])\n",
        "userSubsetRecs"
      ]
    },
    {
      "cell_type": "code",
      "source": [],
      "metadata": {
        "id": "DPyi79qHoiPl"
      },
      "execution_count": null,
      "outputs": []
    }
  ],
  "metadata": {
    "kernelspec": {
      "display_name": "Python 3",
      "language": "python",
      "name": "python3"
    },
    "language_info": {
      "codemirror_mode": {
        "name": "ipython",
        "version": 3
      },
      "file_extension": ".py",
      "mimetype": "text/x-python",
      "name": "python",
      "nbconvert_exporter": "python",
      "pygments_lexer": "ipython3",
      "version": "3.8.8"
    },
    "colab": {
      "provenance": [],
      "toc_visible": true,
      "include_colab_link": true
    }
  },
  "nbformat": 4,
  "nbformat_minor": 0
}