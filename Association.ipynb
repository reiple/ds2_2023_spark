{
  "nbformat": 4,
  "nbformat_minor": 0,
  "metadata": {
    "colab": {
      "provenance": []
    },
    "kernelspec": {
      "name": "python3",
      "display_name": "Python 3"
    },
    "language_info": {
      "name": "python"
    }
  },
  "cells": [
    {
      "cell_type": "markdown",
      "source": [
        "# Association Rule"
      ],
      "metadata": {
        "id": "9Lkl8-DjbHZv"
      }
    },
    {
      "cell_type": "markdown",
      "source": [
        "## Setting Pyspark in Colab"
      ],
      "metadata": {
        "id": "mr2F9kOgbEJb"
      }
    },
    {
      "cell_type": "code",
      "execution_count": null,
      "metadata": {
        "id": "PsIk1RM_amyU"
      },
      "outputs": [],
      "source": [
        "!wget -q https://archive.apache.org/dist/spark/spark-3.2.4/spark-3.2.4-bin-hadoop3.2.tgz\n",
        "!tar xf spark-3.2.4-bin-hadoop3.2.tgz\n",
        "!pip install -q findspark"
      ]
    },
    {
      "cell_type": "code",
      "source": [
        "import findspark\n",
        "findspark.init(\"/content/spark-3.2.4-bin-hadoop3.2\")"
      ],
      "metadata": {
        "id": "-Y_uTyiBbAnX"
      },
      "execution_count": null,
      "outputs": []
    },
    {
      "cell_type": "code",
      "source": [
        "from pyspark.sql import SparkSession\n",
        "spark = SparkSession.builder.getOrCreate()"
      ],
      "metadata": {
        "id": "HFRJpas_bBe4"
      },
      "execution_count": null,
      "outputs": []
    },
    {
      "cell_type": "markdown",
      "source": [
        "## Mount Google Drive"
      ],
      "metadata": {
        "id": "czvGKpatbmxE"
      }
    },
    {
      "cell_type": "code",
      "source": [
        "from google.colab import drive\n",
        "drive.mount('/gdrive')"
      ],
      "metadata": {
        "id": "gjyLbwFebCeY"
      },
      "execution_count": null,
      "outputs": []
    },
    {
      "cell_type": "code",
      "source": [
        "gpath = '/gdrive/MyDrive/data/'"
      ],
      "metadata": {
        "id": "KigMaazPbpZf"
      },
      "execution_count": null,
      "outputs": []
    },
    {
      "cell_type": "markdown",
      "source": [
        "## FPGrowth"
      ],
      "metadata": {
        "id": "619AoYWrsTsw"
      }
    },
    {
      "cell_type": "code",
      "source": [
        "from pyspark.ml.fpm import FPGrowth"
      ],
      "metadata": {
        "id": "X_PMQqF9sRbH"
      },
      "execution_count": null,
      "outputs": []
    },
    {
      "cell_type": "code",
      "source": [
        "# df 생성\n",
        "df = spark.createDataFrame([\n",
        "    (0, [1, 2, 5]),\n",
        "    (1, [1, 2, 3, 5]),\n",
        "    (2, [1, 2])\n",
        "], [\"id\", \"items\"])\n",
        "df.show()"
      ],
      "metadata": {
        "id": "K0XK0o8Pbpqa"
      },
      "execution_count": null,
      "outputs": []
    },
    {
      "cell_type": "code",
      "source": [
        "fpGrowth = FPGrowth(itemsCol=\"items\", minSupport=0.5, minConfidence=0.6)\n",
        "model = fpGrowth.fit(df)"
      ],
      "metadata": {
        "id": "HJaZBXPbsbA9"
      },
      "execution_count": null,
      "outputs": []
    },
    {
      "cell_type": "code",
      "source": [
        "# Display frequent itemsets.\n",
        "model.freqItemsets.show()"
      ],
      "metadata": {
        "id": "Ss8GYWhfseyX"
      },
      "execution_count": null,
      "outputs": []
    },
    {
      "cell_type": "code",
      "source": [
        "# Display generated association rules.\n",
        "model.associationRules.show()"
      ],
      "metadata": {
        "id": "qdCGB-BZs1T_"
      },
      "execution_count": null,
      "outputs": []
    },
    {
      "cell_type": "code",
      "source": [
        "# transform examines the input items against all the association rules and summarize the consequents as prediction\n",
        "model.transform(df).show()"
      ],
      "metadata": {
        "id": "zaZw6JUds7G2"
      },
      "execution_count": null,
      "outputs": []
    },
    {
      "cell_type": "markdown",
      "source": [
        "## 실습 : market_basket.csv"
      ],
      "metadata": {
        "id": "QojlylH_tyWJ"
      }
    },
    {
      "cell_type": "code",
      "source": [
        "raw_data = []\n",
        "import csv\n",
        "with open(\"association_rule_market_basket.csv\") as f:\n",
        "    reader = csv.reader(f)\n",
        "    for r in reader:\n",
        "        raw_data.append(r)"
      ],
      "metadata": {
        "id": "CnknbYOh0r28"
      },
      "execution_count": null,
      "outputs": []
    },
    {
      "cell_type": "code",
      "source": [
        "parsed_data = []\n",
        "header = raw_data[0]\n",
        "id_cnt = 0\n",
        "for d in raw_data[1:]:\n",
        "    id_cnt += 1\n",
        "    temp = []\n",
        "    for i in range(len(d)):\n",
        "        if not d[i] == \"\":\n",
        "            temp.append(i)\n",
        "    if len(temp) > 10:\n",
        "        parsed_data.append([id_cnt, temp])\n",
        "\n",
        "len(parsed_data)"
      ],
      "metadata": {
        "id": "k5A-GrxV0toR"
      },
      "execution_count": null,
      "outputs": []
    },
    {
      "cell_type": "code",
      "source": [
        "data_rdd = spark.sparkContext.parallelize(parsed_data)"
      ],
      "metadata": {
        "id": "tZvjsUAJ0uzL"
      },
      "execution_count": null,
      "outputs": []
    },
    {
      "cell_type": "code",
      "source": [
        "data_df = spark.createDataFrame(data_rdd, [\"id\", \"items\"])\n",
        "data_df.take(2)"
      ],
      "metadata": {
        "id": "pBcS0ZeL0xwg"
      },
      "execution_count": null,
      "outputs": []
    },
    {
      "cell_type": "code",
      "source": [
        "fpGrowth = FPGrowth(itemsCol=\"items\", minSupport=0.1, minConfidence=0.7)\n",
        "model = fpGrowth.fit(data_df)\n",
        "\n",
        "# Display frequent itemsets.\n",
        "model.freqItemsets.show()"
      ],
      "metadata": {
        "id": "usxu7z9s0zdO"
      },
      "execution_count": null,
      "outputs": []
    },
    {
      "cell_type": "code",
      "source": [
        "# read data\n",
        "import csv\n",
        "\n",
        "raw_data = []\n",
        "\n",
        "with open(\"association_rule_market_basket.csv\") as f:\n",
        "    reader = csv.reader(f)\n",
        "\n",
        "    for row in reader:\n",
        "        raw_data.append(row)"
      ],
      "metadata": {
        "id": "HNnKfPtUtBfs"
      },
      "execution_count": null,
      "outputs": []
    },
    {
      "cell_type": "code",
      "source": [
        "# format data\n",
        "header = raw_data[0]\n",
        "\n",
        "parsed_data = []\n",
        "for basket_id, items in enumerate(raw_data[1:], 1):\n",
        "    basket = []\n",
        "    for item_id, value in enumerate(items):\n",
        "        if not value == \"\":\n",
        "            basket.append(item_id)\n",
        "    if len(basket) > 10:\n",
        "        parsed_data.append([basket_id, basket])\n",
        "\n",
        "len(parsed_data)"
      ],
      "metadata": {
        "id": "pHL9kF0auJo2"
      },
      "execution_count": null,
      "outputs": []
    },
    {
      "cell_type": "code",
      "source": [
        "parsed_data[:3]"
      ],
      "metadata": {
        "id": "Fqs6YMOvxT0e"
      },
      "execution_count": null,
      "outputs": []
    },
    {
      "cell_type": "code",
      "source": [
        "# to spark df\n",
        "data_df = spark.createDataFrame(parsed_data, schema=[\"id\", \"items\"])\n",
        "data_df.show(3)"
      ],
      "metadata": {
        "id": "Wo5qmXThuNFk"
      },
      "execution_count": null,
      "outputs": []
    },
    {
      "cell_type": "code",
      "source": [
        "# build model\n",
        "fpGrowth = FPGrowth(itemsCol=\"items\", minSupport=0.1, minConfidence=0.7)\n",
        "model = fpGrowth.fit(data_df)"
      ],
      "metadata": {
        "id": "eq0pAgIcwL3S"
      },
      "execution_count": null,
      "outputs": []
    },
    {
      "cell_type": "code",
      "source": [
        "# Display frequent itemsets.\n",
        "model.freqItemsets.sort(\"freq\", ascending=False).show()"
      ],
      "metadata": {
        "id": "JQmQaM28x1xT"
      },
      "execution_count": null,
      "outputs": []
    },
    {
      "cell_type": "code",
      "source": [
        "# check item [141, 132]\n",
        "print(header[141])\n",
        "print(header[132])"
      ],
      "metadata": {
        "id": "xzOWLRwVx2X2"
      },
      "execution_count": null,
      "outputs": []
    },
    {
      "cell_type": "code",
      "source": [
        "# Display generated association rules.\n",
        "model.associationRules.sort(\"confidence\", ascending=False).show()"
      ],
      "metadata": {
        "id": "LaAc_VxyyBcZ"
      },
      "execution_count": null,
      "outputs": []
    },
    {
      "cell_type": "code",
      "source": [
        "# transform examines the input items against all the association rules and summarize the consequents as prediction\n",
        "model.transform(data_df).show()"
      ],
      "metadata": {
        "id": "1C8wZe6m1e5n"
      },
      "execution_count": null,
      "outputs": []
    },
    {
      "cell_type": "markdown",
      "source": [
        "## A Priori Algorithm (written in Pandas)"
      ],
      "metadata": {
        "id": "M6IuHquQ5dwq"
      }
    },
    {
      "cell_type": "code",
      "source": [
        "import pandas as pd\n",
        "from mlxtend.frequent_patterns import apriori\n",
        "from mlxtend.frequent_patterns import association_rules"
      ],
      "metadata": {
        "id": "3doR6Tje1s97"
      },
      "execution_count": null,
      "outputs": []
    },
    {
      "cell_type": "code",
      "source": [
        "# read data\n",
        "df = pd.read_csv(\"Online Retail.csv\")\n",
        "df.head()"
      ],
      "metadata": {
        "id": "K03tZEO65ohn"
      },
      "execution_count": null,
      "outputs": []
    },
    {
      "cell_type": "code",
      "source": [
        "# format data\n",
        "\n",
        "# Some of the descriptions have spaces that need to be removed\n",
        "df[\"Description\"] = df[\"Description\"].str.strip()\n",
        "\n",
        "# Drop the rows that don't have invoice numbers\n",
        "df.dropna(axis=0, subset=[\"InvoiceNo\"], inplace=True)\n",
        "\n",
        "# InvoiceNo를 string으로\n",
        "df[\"InvoiceNo\"] = df[\"InvoiceNo\"].astype(\"str\")\n",
        "\n",
        "# Remove the credit transactions (those with invoice numbers containing \"C\")\n",
        "df = df[~df[\"InvoiceNo\"].str.contains(\"C\")]"
      ],
      "metadata": {
        "id": "n6A8GA-55wsw"
      },
      "execution_count": null,
      "outputs": []
    },
    {
      "cell_type": "code",
      "source": [
        "df"
      ],
      "metadata": {
        "id": "GPlTeJrH61JJ"
      },
      "execution_count": null,
      "outputs": []
    },
    {
      "cell_type": "code",
      "source": [
        "# Consolidate the items into 1 transaction per row with each product 1 hot encoded.\n",
        "# For the sake of keeping the data set small, I'm only looking at sales for France\n",
        "basket = (df[df[\"Country\"] == \"France\"]\n",
        "          .groupby([\"InvoiceNo\", \"Description\"])[\"Quantity\"]\n",
        "          .sum().unstack().reset_index().fillna(0)\n",
        "          .set_index(\"InvoiceNo\")\n",
        "          )"
      ],
      "metadata": {
        "id": "dTUy-WHW67FJ"
      },
      "execution_count": null,
      "outputs": []
    },
    {
      "cell_type": "code",
      "source": [
        "basket"
      ],
      "metadata": {
        "id": "0mkEzlnw7d8B"
      },
      "execution_count": null,
      "outputs": []
    },
    {
      "cell_type": "code",
      "source": [
        "def encode_units(x):\n",
        "    if x <= 0:\n",
        "        return 0\n",
        "    if x >= 1:\n",
        "        return 1\n",
        "\n",
        "# Make sure any positive values are converted to \"1\" and anything less than 0 is set to \"0\"\n",
        "basket_sets = basket.applymap(encode_units)\n",
        "\n",
        "# Remove POSTAGE column\n",
        "basket_sets.drop(\"POSTAGE\", inplace=True, axis=1)"
      ],
      "metadata": {
        "id": "ADjywwfn7e93"
      },
      "execution_count": null,
      "outputs": []
    },
    {
      "cell_type": "code",
      "source": [
        "basket_sets"
      ],
      "metadata": {
        "id": "WgRLaf1_8NCu"
      },
      "execution_count": null,
      "outputs": []
    },
    {
      "cell_type": "code",
      "source": [
        "frequent_itemsets = apriori(basket_sets, min_support=0.07, use_colnames=True)"
      ],
      "metadata": {
        "id": "SD_rGBTN8OQx"
      },
      "execution_count": null,
      "outputs": []
    },
    {
      "cell_type": "code",
      "source": [
        "frequent_itemsets"
      ],
      "metadata": {
        "id": "_75zftIi8Vo7"
      },
      "execution_count": null,
      "outputs": []
    },
    {
      "cell_type": "code",
      "source": [
        "rules = association_rules(frequent_itemsets, metric=\"lift\", min_threshold=1)\n",
        "rules.head()"
      ],
      "metadata": {
        "id": "nnQx6H518ZFD"
      },
      "execution_count": null,
      "outputs": []
    },
    {
      "cell_type": "code",
      "source": [
        "rules[(rules[\"lift\"] >= 6) & (rules[\"confidence\"] >= 0.8)]"
      ],
      "metadata": {
        "id": "_H7CvtZp8iPb"
      },
      "execution_count": null,
      "outputs": []
    },
    {
      "cell_type": "code",
      "source": [
        "basket[\"SET/6 RED SPOTTY PAPER PLATES\"].sum()"
      ],
      "metadata": {
        "id": "ylufMgLG8r5X"
      },
      "execution_count": null,
      "outputs": []
    },
    {
      "cell_type": "code",
      "source": [],
      "metadata": {
        "id": "We8kkk0N8wk7"
      },
      "execution_count": null,
      "outputs": []
    }
  ]
}