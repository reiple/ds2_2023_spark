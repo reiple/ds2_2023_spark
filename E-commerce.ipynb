{
 "cells": [
  {
   "cell_type": "markdown",
   "id": "93bc1f75-790d-4212-965b-0f78bb9b01ca",
   "metadata": {},
   "source": [
    "# E-comm Dataset"
   ]
  },
  {
   "cell_type": "code",
   "execution_count": null,
   "id": "0dd94ac3-4f7c-42c1-b4e7-d8caebbb2e20",
   "metadata": {
    "tags": []
   },
   "outputs": [],
   "source": [
    "%%time\n",
    "import findspark\n",
    "findspark.init()"
   ]
  },
  {
   "cell_type": "code",
   "execution_count": null,
   "id": "f2add707-4097-4f36-83ff-99c8d5cee699",
   "metadata": {
    "tags": []
   },
   "outputs": [],
   "source": [
    "%%time\n",
    "from pyspark.sql import SparkSession\n",
    "from datetime import datetime\n",
    "user = \"Heekang Park\" # your name\n",
    "date = datetime.now().strftime(\"%Y-%m-%dT%H:%M:%S\")\n",
    "spark = SparkSession.builder.master(\"yarn\").appName(f\"{user}-{date}\").getOrCreate()\n",
    "spark"
   ]
  },
  {
   "cell_type": "markdown",
   "id": "e3558139-366d-4837-9f38-4ae62e094a14",
   "metadata": {},
   "source": [
    "## Read Dataset"
   ]
  },
  {
   "cell_type": "code",
   "execution_count": null,
   "id": "ae7ff565-666f-4a56-ac17-8a0ff8b1dbc4",
   "metadata": {
    "tags": []
   },
   "outputs": [],
   "source": [
    "%%time\n",
    "df = spark.read.option(\"header\", \"true\") \\\n",
    "                  .option(\"inferSchema\", \"true\") \\\n",
    "                  .csv([\n",
    "                        \"s3://ssds2-e-comm/2019-Dec.csv.gz\",\n",
    "                        # \"s3://ssds2-e-comm/2019-Nov.csv.gz\",\n",
    "                        # \"s3://ssds2-e-comm/2019-Oct.csv.gz\",\n",
    "                        # \"s3://ssds2-e-comm/2020-Apr.csv.gz\",\n",
    "                        # \"s3://ssds2-e-comm/2020-Feb.csv.gz\",\n",
    "                        # \"s3://ssds2-e-comm/2020-Jan.csv.gz\",\n",
    "                        # \"s3://ssds2-e-comm/2020-Mar.csv.gz\",\n",
    "                    ])\n",
    "\n",
    "print((df.count(), len(df.columns)))"
   ]
  },
  {
   "cell_type": "markdown",
   "id": "e62a532d-f596-4c57-87b4-03812e12617a",
   "metadata": {},
   "source": [
    "## Preprocess and Summarize Data"
   ]
  },
  {
   "cell_type": "code",
   "execution_count": null,
   "id": "05ac15ff-7eeb-4506-a586-14ec06ab2398",
   "metadata": {
    "tags": []
   },
   "outputs": [],
   "source": [
    "%%time\n",
    "df_smartphone = df.filter(df.category_code == 'electronics.smartphone')\n",
    "df_smartphone.summary().show()"
   ]
  },
  {
   "cell_type": "code",
   "execution_count": null,
   "id": "7539f2a5-9320-4547-983a-99a6a06c807f",
   "metadata": {
    "tags": []
   },
   "outputs": [],
   "source": [
    "%%time\n",
    "from pyspark.sql.functions import length, col, max, lpad\n",
    "\n",
    "print(df_smartphone.schema[\"product_id\"].dataType)\n",
    "print(df_smartphone.schema[\"category_id\"].dataType)\n",
    "print(df_smartphone.schema[\"user_id\"].dataType)\n",
    "\n",
    "df_smartphone = df_smartphone.withColumn(\"product_id\", df_smartphone.product_id.cast('string'))\n",
    "df_smartphone = df_smartphone.withColumn(\"category_id\", df_smartphone.category_id.cast('string'))\n",
    "df_smartphone = df_smartphone.withColumn(\"user_id\", df_smartphone.user_id.cast('string'))\n",
    "\n",
    "max_id_len = df_smartphone.withColumn(\"product_id_len\", length(col(\"product_id\")))\\\n",
    "                          .withColumn(\"category_id_len\",length(col(\"category_id\")))\\\n",
    "                          .withColumn(\"user_id_len\",length(col(\"user_id\")))\\\n",
    "                          .groupBy().agg(max(\"product_id_len\"), max(\"category_id_len\"), max(\"user_id_len\")).collect()\n",
    "\n",
    "len_pid, len_cid, len_uid = max_id_len[0]\n",
    "\n",
    "df_smartphone = df_smartphone.withColumn(\"product_id\", lpad(df_smartphone.product_id, len_pid, '0'))\\\n",
    "                             .withColumn(\"category_id\", lpad(df_smartphone.category_id, len_cid, '0'))\\\n",
    "                             .withColumn(\"user_id\", lpad(df_smartphone.user_id, len_uid, '0'))\n",
    "\n",
    "df_smartphone = df_smartphone.cache()\n",
    "df_smartphone.show()"
   ]
  },
  {
   "cell_type": "code",
   "execution_count": null,
   "id": "326b17e7-f595-4964-85d0-50d7c252b003",
   "metadata": {
    "tags": []
   },
   "outputs": [],
   "source": [
    "%%time\n",
    "from pyspark.sql.functions import col, when, count\n",
    "\n",
    "df_smartphone.select(*(count(when(col(c).isNull(), c)).alias(c) for c in df_smartphone.columns)).show()"
   ]
  },
  {
   "cell_type": "code",
   "execution_count": null,
   "id": "c45bd262-8f82-4fd4-8cf9-2e63a9f82297",
   "metadata": {
    "tags": []
   },
   "outputs": [],
   "source": [
    "%%time\n",
    "df_smartphone = df_smartphone.na.drop()\n",
    "print((df_smartphone.count(), len(df_smartphone.columns)))"
   ]
  },
  {
   "cell_type": "code",
   "execution_count": null,
   "id": "dc78b912-ff3d-4d93-b9a2-4e4c11f0d399",
   "metadata": {
    "tags": []
   },
   "outputs": [],
   "source": [
    "%%time\n",
    "item_by_brand = df_smartphone.groupby(\"brand\").agg(count(\"product_id\").alias('pid_count'))\n",
    "item_by_brand = item_by_brand.sort(item_by_brand.pid_count.desc())\n",
    "item_by_brand.head(10)"
   ]
  },
  {
   "cell_type": "code",
   "execution_count": null,
   "id": "fd99ee3f-1537-4716-a1c7-13128889a2e1",
   "metadata": {
    "tags": []
   },
   "outputs": [],
   "source": [
    "%%time\n",
    "from pyspark.sql.functions import countDistinct\n",
    "\n",
    "df_smartphone.select(countDistinct(\"user_id\")).show()\n",
    "df_smartphone.select(countDistinct(\"user_session\")).show()"
   ]
  },
  {
   "cell_type": "code",
   "execution_count": null,
   "id": "b5867d28-c349-4a52-a19d-f1b79d4373e6",
   "metadata": {
    "tags": []
   },
   "outputs": [],
   "source": [
    "%%time\n",
    "from pyspark.sql.functions import to_timestamp, date_format\n",
    "\n",
    "df_smartphone = df_smartphone.withColumn(\"dt\", to_timestamp(col(\"event_time\"),\"yyyy-MM-dd HH:mm:ss z\"))\n",
    "df_smartphone = df_smartphone.withColumn(\"date\", date_format('dt', 'yyyy-MM-dd'))\n",
    "df_smartphone = df_smartphone.withColumn(\"time\", date_format('dt', 'HH:mm:ss'))\n",
    "\n",
    "df_smartphone.head()"
   ]
  },
  {
   "cell_type": "code",
   "execution_count": null,
   "id": "329b771c-96fd-469c-945f-4b31525e63c3",
   "metadata": {
    "tags": []
   },
   "outputs": [],
   "source": [
    "%%time\n",
    "from pyspark.sql.functions import dayofweek\n",
    "\n",
    "df_smartphone = df_smartphone.withColumn(\"weekday\", dayofweek('dt'))\n",
    "df_smartphone.head()"
   ]
  },
  {
   "cell_type": "code",
   "execution_count": null,
   "id": "37d9093c-35fa-410d-9957-17022e4bb510",
   "metadata": {
    "tags": []
   },
   "outputs": [],
   "source": [
    "%%time\n",
    "from pyspark.sql.functions import udf\n",
    "\n",
    "def time_cut(h):\n",
    "    session_labels = ['0-3', '3-6', '6-9', '9-12', '12-15', '15-18', '18-21', '21-24']\n",
    "    return session_labels[h // 3]\n",
    "\n",
    "time_cut_udf = udf(time_cut)\n",
    "\n",
    "df_smartphone = df_smartphone.withColumn(\"hour\", date_format('dt', 'H').cast('int'))\n",
    "df_smartphone = df_smartphone.withColumn(\"time_session\", time_cut_udf(col(\"hour\")).cast('string'))\n",
    "df_smartphone.head(5)"
   ]
  },
  {
   "cell_type": "markdown",
   "id": "68d1cd6e-092a-4bb0-a842-1496ea1c0204",
   "metadata": {},
   "source": [
    "## Data Mining"
   ]
  },
  {
   "cell_type": "markdown",
   "id": "2c674953-05bd-4eef-bef8-ccbabf2f9ef0",
   "metadata": {},
   "source": [
    "1. Time distribution analysis\n",
    "\n",
    "Daily distribution of number of events, by hour"
   ]
  },
  {
   "cell_type": "code",
   "execution_count": null,
   "id": "00b0a8c6-c013-4f8f-9869-fe3fcda607b2",
   "metadata": {
    "tags": []
   },
   "outputs": [],
   "source": [
    "%%time\n",
    "view_by_hour = df_smartphone.filter(df_smartphone.event_type == 'view').groupby(\"hour\").agg(count(\"event_type\").alias('view'))\n",
    "cart_by_hour = df_smartphone.filter(df_smartphone.event_type == 'cart').groupby(\"hour\").agg(count(\"event_type\").alias('cart'))\n",
    "purchase_by_hour = df_smartphone.filter(df_smartphone.event_type == 'purchase').groupby(\"hour\").agg(count(\"event_type\").alias('purchase'))\n",
    "event_by_hour = view_by_hour.join(cart_by_hour, 'hour').join(purchase_by_hour, 'hour')\n",
    "\n",
    "event_by_hour_df = event_by_hour.toPandas()\n",
    "event_by_hour_df"
   ]
  },
  {
   "cell_type": "code",
   "execution_count": null,
   "id": "7430da9b-69b6-4c0a-af41-6194d0a00545",
   "metadata": {
    "tags": []
   },
   "outputs": [],
   "source": [
    "%%time\n",
    "import numpy as np\n",
    "import matplotlib.pyplot as plt\n",
    "\n",
    "# plot\n",
    "fig, (ax1, ax2) = plt.subplots(1,2, figsize=(10, 4))\n",
    "ind = np.arange(event_by_hour_df.index.min(), event_by_hour_df.index.max()+1)\n",
    "width = 0.5\n",
    "view_bar = ax1.bar(ind, event_by_hour_df.view, width=width, color='#A0E4F1')\n",
    "ax1.set_xticks(ind)\n",
    "ax1.set_xticks(ax1.get_xticks()[::2])\n",
    "ax1.set_xlabel(\"Hour in a day\")\n",
    "ax1.set_ylabel(\"Number of views\")\n",
    "ax1.set_title(\"Distribution of Views\")\n",
    "\n",
    "width = 0.4\n",
    "cart_bar = ax2.bar(ind, event_by_hour_df.cart, width=width, color='#7EA6F4')\n",
    "purchase_bar = ax2.bar(ind+width, event_by_hour_df.purchase, width=width, color='#4A4DE7')\n",
    "ax2.set_xticks(ind+width/2)\n",
    "ax2.set_xticks(ax2.get_xticks()[::2])\n",
    "ax2.set_xticklabels(ind[::2])\n",
    "ax2.set_xlabel(\"Hour in a day\")\n",
    "ax2.set_ylabel(\"Number of events\")\n",
    "ax2.set_title(\"Distribution of Add-to-Cart and Purchase\")\n",
    "ax2.legend((cart_bar, purchase_bar), ('Add to cart', 'Purchase'))\n",
    "fig.tight_layout()"
   ]
  },
  {
   "cell_type": "markdown",
   "id": "9818d82f-66c2-4339-9f6e-95f2dd2f5703",
   "metadata": {},
   "source": [
    "Daily distribution of number of events, by time session"
   ]
  },
  {
   "cell_type": "code",
   "execution_count": null,
   "id": "4e1dee99-259f-405a-af31-dbc77d15dcf4",
   "metadata": {
    "tags": []
   },
   "outputs": [],
   "source": [
    "%%time\n",
    "view_by_time_session = df_smartphone.filter(df_smartphone.event_type == 'view').groupby(\"time_session\").agg(count(\"event_type\").alias('view'))\n",
    "cart_by_time_session = df_smartphone.filter(df_smartphone.event_type == 'cart').groupby(\"time_session\").agg(count(\"event_type\").alias('cart'))\n",
    "purchase_by_time_session = df_smartphone.filter(df_smartphone.event_type == 'purchase').groupby(\"time_session\").agg(count(\"event_type\").alias('purchase'))\n",
    "event_by_time_session = view_by_time_session.join(cart_by_time_session, 'time_session').join(purchase_by_time_session, 'time_session')\n",
    "\n",
    "event_by_time_session_df = event_by_time_session.toPandas()\n",
    "event_by_time_session_df"
   ]
  },
  {
   "cell_type": "code",
   "execution_count": null,
   "id": "04574f87-5201-4718-a2cb-da9e3b8bbf58",
   "metadata": {
    "tags": []
   },
   "outputs": [],
   "source": [
    "%%time\n",
    "# plot\n",
    "session_labels = ['0-3', '3-6', '6-9', '9-12', '12-15', '15-18', '18-21', '21-24']\n",
    "\n",
    "fig, (ax1, ax2) = plt.subplots(1, 2, figsize=(10, 4))\n",
    "ind = np.arange(event_by_time_session_df.index.nunique())\n",
    "width = 0.5\n",
    "ax1.bar(ind, event_by_time_session_df.view, width=width, color='#A0E4F1')\n",
    "ax1.set_xticks(ind)\n",
    "ax1.set_xticklabels(session_labels)\n",
    "ax1.set_xlabel(\"Time session in a day\")\n",
    "ax1.set_ylabel(\"Number of views\")\n",
    "ax1.set_title(\"Distribution of Views\")\n",
    "\n",
    "width = 0.4\n",
    "cart_bar = ax2.bar(ind, event_by_time_session_df.cart, width=width, color='#7EA6F4')\n",
    "purchase_bar = ax2.bar(ind+width, event_by_time_session_df.purchase, width=width, color='#4A4DE7')\n",
    "ax2.set_xticks(ind+width/2)\n",
    "ax2.set_xticklabels(session_labels)\n",
    "ax2.set_xlabel(\"Time session in a day\")\n",
    "ax2.set_ylabel(\"Number of events\")\n",
    "ax2.set_title(\"Distribution of Add-to-Cart and Purchase\")\n",
    "ax2.legend((cart_bar, purchase_bar), ('Add to cart', 'Purchase'))\n",
    "fig.tight_layout()"
   ]
  },
  {
   "cell_type": "code",
   "execution_count": null,
   "id": "826ea172-ab91-4085-acb5-4a260ac9909b",
   "metadata": {
    "tags": []
   },
   "outputs": [],
   "source": [
    "%%time\n",
    "# combination showing ratio\n",
    "event_by_hour_df['view_pct'] = event_by_hour_df.view / sum(event_by_hour_df.view) * 100\n",
    "event_by_hour_df['cart_pct'] = event_by_hour_df.cart/ sum(event_by_hour_df.cart) * 100\n",
    "event_by_hour_df['purchase_pct'] = event_by_hour_df.purchase / sum(event_by_hour_df.purchase) * 100\n",
    "\n",
    "hours = np.arange(0, 24)\n",
    "view_pct_hr = plt.plot(event_by_hour_df.index, event_by_hour_df.view_pct, marker='.', color='#A0E4F1', label='View')\n",
    "cart_pct_hr = plt.plot(event_by_hour_df.index, event_by_hour_df.cart_pct, marker='.', color='#7EA6F4', label='Add-to-cart')\n",
    "purchase_pct_hr = plt.plot(event_by_hour_df.index, event_by_hour_df.purchase_pct, marker='.', color='#4A4DE7', label='Purchase')\n",
    "plt.xticks(hours)\n",
    "plt.ylim([0, 10])\n",
    "plt.xlabel(\"Hour in a day\")\n",
    "plt.ylabel(\"Percentage of event\")\n",
    "plt.title(\"Daily % Distribution of Events by Hour\")\n",
    "plt.legend()"
   ]
  },
  {
   "cell_type": "code",
   "execution_count": null,
   "id": "4dfbc7d5-0f75-4a99-af9e-112300df8e13",
   "metadata": {
    "tags": []
   },
   "outputs": [],
   "source": [
    "%%time\n",
    "# combination showing ratio\n",
    "event_by_time_session_df['view_pct'] = event_by_time_session_df.view / sum(event_by_time_session_df.view) * 100\n",
    "event_by_time_session_df['cart_pct'] = event_by_time_session_df.cart/ sum(event_by_time_session_df.cart) * 100\n",
    "event_by_time_session_df['purchase_pct'] = event_by_time_session_df.purchase / sum(event_by_time_session_df.purchase) * 100\n",
    "\n",
    "time_sessions = np.arange(0, len(session_labels))\n",
    "view_pct_ss = plt.plot(event_by_time_session_df.index, event_by_time_session_df.view_pct, marker='.', color='#A0E4F1', label='View')\n",
    "cart_pct_ss = plt.plot(event_by_time_session_df.index, event_by_time_session_df.cart_pct, marker='.', color='#7EA6F4', label='Add-to-cart')\n",
    "purchase_pct_ss = plt.plot(event_by_time_session_df.index, event_by_time_session_df.purchase_pct, marker='.', color='#4A4DE7', label='Purchase')\n",
    "plt.xticks(time_sessions, session_labels)\n",
    "plt.ylim([0, 30])\n",
    "plt.xlabel(\"Time session in a day\")\n",
    "plt.ylabel(\"Percentage of event\")\n",
    "plt.title(\"Percent Distribution of Events by Time Session\")\n",
    "plt.legend()"
   ]
  },
  {
   "cell_type": "markdown",
   "id": "45f30a0e-0808-44f0-ac8f-1463644373c6",
   "metadata": {},
   "source": [
    "Daily distribution of events, facet by weekday"
   ]
  },
  {
   "cell_type": "code",
   "execution_count": null,
   "id": "cdc77572-f551-45d1-82d7-8f093bcbd975",
   "metadata": {
    "tags": []
   },
   "outputs": [],
   "source": [
    "%%time\n",
    "import pandas as pd\n",
    "\n",
    "weekdays = ['Sunday', 'Monday', 'Tuesday', 'Wednesday', 'Thursday', 'Friday', 'Saturday']\n",
    "weekday_dict = dict(zip(weekdays, list(range(1,8))))\n",
    "\n",
    "view_by_ss_wkdy = df_smartphone.filter(df_smartphone.event_type == 'view').groupby(['weekday', 'time_session']).agg(count(\"event_type\").alias('num_view')).toPandas()\n",
    "view_by_ss_wkdy['weekday'] = view_by_ss_wkdy['weekday'].apply(lambda x: weekdays[x-1])\n",
    "view_by_ss_wkdy['weekday'] = pd.Categorical(view_by_ss_wkdy.weekday, categories=weekdays, ordered=True)\n",
    "view_by_ss_wkdy['time_session'] = pd.Categorical(view_by_ss_wkdy.time_session, categories=session_labels, ordered=True)\n",
    "view_by_ss_wkdy.sort_values(by=['weekday', 'time_session'], inplace=True)\n",
    "\n",
    "cart_by_ss_wkdy = df_smartphone.filter(df_smartphone.event_type == 'cart').groupby(['weekday', 'time_session']).agg(count(\"event_type\").alias('num_cart')).toPandas()\n",
    "cart_by_ss_wkdy['weekday'] = cart_by_ss_wkdy['weekday'].apply(lambda x: weekdays[x-1])\n",
    "cart_by_ss_wkdy['weekday'] = pd.Categorical(cart_by_ss_wkdy.weekday, categories=weekdays, ordered=True)\n",
    "cart_by_ss_wkdy['time_session'] = pd.Categorical(cart_by_ss_wkdy.time_session, categories=session_labels, ordered=True)\n",
    "cart_by_ss_wkdy.sort_values(by=['weekday', 'time_session'], inplace=True)\n",
    "\n",
    "purchase_by_ss_wkdy = df_smartphone.filter(df_smartphone.event_type == 'purchase').groupby(['weekday', 'time_session']).agg(count(\"event_type\").alias('num_purchase')).toPandas()\n",
    "purchase_by_ss_wkdy['weekday'] = purchase_by_ss_wkdy['weekday'].apply(lambda x: weekdays[x-1])\n",
    "purchase_by_ss_wkdy['weekday'] = pd.Categorical(purchase_by_ss_wkdy.weekday, categories=weekdays, ordered=True)\n",
    "purchase_by_ss_wkdy['time_session'] = pd.Categorical(purchase_by_ss_wkdy.time_session, categories=session_labels, ordered=True)\n",
    "purchase_by_ss_wkdy.sort_values(by=['weekday', 'time_session'], inplace=True)\n",
    "\n",
    "purchase_by_ss_wkdy.head(8)"
   ]
  },
  {
   "cell_type": "code",
   "execution_count": null,
   "id": "790551b6-8ada-4498-8754-bf23e93033b4",
   "metadata": {
    "tags": []
   },
   "outputs": [],
   "source": [
    "%%time\n",
    "# events per weekday\n",
    "view_per_wkdy = view_by_ss_wkdy.groupby(\"weekday\")['num_view'].sum().to_frame()\n",
    "cart_per_wkdy = cart_by_ss_wkdy.groupby(\"weekday\")['num_cart'].sum().to_frame()\n",
    "purchase_per_wkdy = purchase_by_ss_wkdy.groupby(\"weekday\")['num_purchase'].sum().to_frame()\n",
    "event_by_weekday = pd.concat([view_per_wkdy, cart_per_wkdy, purchase_per_wkdy], axis=1)\n",
    "event_by_weekday"
   ]
  },
  {
   "cell_type": "code",
   "execution_count": null,
   "id": "99c1fa6a-cd11-4935-9d9b-1097adfb0a65",
   "metadata": {
    "tags": []
   },
   "outputs": [],
   "source": [
    "%%time\n",
    "# plot events per weekday\n",
    "fig, ax1 = plt.subplots()\n",
    "\n",
    "width = 0.2\n",
    "xticks = np.arange(0, len(weekdays))\n",
    "\n",
    "view_wkdy_plot = ax1.bar(xticks, event_by_weekday.num_view, width=width, color='#A0E4F1')\n",
    "ax1.set_ylim([0, 20000])\n",
    "ax1.set_ylabel(\"Number of views\")\n",
    "\n",
    "ax2 = ax1.twinx()\n",
    "cart_wkdy_plot = ax2.bar(xticks+width, event_by_weekday.num_cart, width=width, color='#7EA6F4')\n",
    "purchase_wkdy_plot = ax2.bar(xticks+width*2, event_by_weekday.num_purchase, width=width, color='#4A4DE7')\n",
    "ax2.set_ylim([0, 1500])\n",
    "ax2.set_ylabel(\"Number of ATC & purchase\")\n",
    "\n",
    "plt.legend((view_wkdy_plot, cart_wkdy_plot, purchase_wkdy_plot), ('View (LHS)', 'Add-to-cart (RHS)', 'Purchase (RHS)'))\n",
    "plt.xticks(xticks+width*2, weekdays)\n",
    "fig.autofmt_xdate(rotation=45)\n",
    "plt.title('Weekly Distribution of Events')"
   ]
  },
  {
   "cell_type": "code",
   "execution_count": null,
   "id": "530d05c9-a83a-49ce-badc-c7a2dcea4b35",
   "metadata": {
    "tags": []
   },
   "outputs": [],
   "source": [
    "%%time\n",
    "# Daily split\n",
    "view_by_ss_wkdy_pvt = view_by_ss_wkdy.pivot(index='weekday', columns='time_session', values='num_view')\n",
    "view_by_ss_wkdy_pvt.T.plot.bar(\n",
    "    subplots=True,\n",
    "    layout=(3,3),\n",
    "    figsize=(10, 10),\n",
    "    color='#A0E4F1',\n",
    "    sharex=True,\n",
    "    sharey=True,\n",
    "    legend=False,\n",
    "    xlabel='Time session',\n",
    "    title='Daily Distribution of Views by Time Session in a Week',\n",
    "    grid=True\n",
    ")"
   ]
  },
  {
   "cell_type": "code",
   "execution_count": null,
   "id": "c91c2d42-ce8b-4398-a600-a888c319dabc",
   "metadata": {
    "tags": []
   },
   "outputs": [],
   "source": [
    "%%time\n",
    "# Daily split\n",
    "cart_by_ss_wkdy_pvt = cart_by_ss_wkdy.pivot(index='weekday', columns='time_session', values='num_cart')\n",
    "cart_by_ss_wkdy_pvt.T.plot.bar(\n",
    "    subplots=True,\n",
    "    layout=(3,3),\n",
    "    figsize=(10, 10),\n",
    "    color='#7EA6F4',\n",
    "    sharex=True,\n",
    "    sharey=True,\n",
    "    legend=False,\n",
    "    xlabel='Time session',\n",
    "    title='Daily Distribution of Add-to-Cart by Time Session in a Week',\n",
    "    grid=True\n",
    ")"
   ]
  },
  {
   "cell_type": "code",
   "execution_count": null,
   "id": "691d2839-cae9-44b6-84b5-fab30d939804",
   "metadata": {
    "tags": []
   },
   "outputs": [],
   "source": [
    "%%time\n",
    "# Daily split\n",
    "purchase_by_ss_wkdy_pvt = purchase_by_ss_wkdy.pivot(index='weekday', columns='time_session', values='num_purchase')\n",
    "purchase_by_ss_wkdy_pvt.T.plot.bar(\n",
    "    subplots=True,\n",
    "    layout=(3,3),\n",
    "    figsize=(10, 10),\n",
    "    color='#4A4DE7',\n",
    "    sharex=True,\n",
    "    sharey=True,\n",
    "    legend=False,\n",
    "    xlabel='Time session',\n",
    "    title='Daily Distribution of Purchase by Time Session in a Week',\n",
    "    grid=True\n",
    ")"
   ]
  },
  {
   "cell_type": "markdown",
   "id": "1bf82d1f-598d-45ec-9eec-f9fd0480a716",
   "metadata": {},
   "source": [
    "Hypo testing with Chi-square test\n",
    "\n",
    "H0 - shoppers have the time tendency for different events in a day"
   ]
  },
  {
   "cell_type": "code",
   "execution_count": null,
   "id": "2221a19f-a3b4-40bc-b889-f1f2a35508be",
   "metadata": {
    "tags": []
   },
   "outputs": [],
   "source": [
    "def chi2_test(obs, exp, main_cat: int = 0, alpha = 0.05):\n",
    "    from scipy.stats import chisquare\n",
    "\n",
    "    chi, pval = chisquare(f_obs=obs, f_exp=exp)\n",
    "    if pval < alpha:\n",
    "        print(f\"Statistically significant under level of sig={alpha} ({pval}). H0 rejected.\")\n",
    "    else:\n",
    "        print(f\"NOT statistically significant under level of sig={alpha} ({pval}). H0 not rejected.\")\n",
    "\n",
    "    return chi, pval"
   ]
  },
  {
   "cell_type": "code",
   "execution_count": null,
   "id": "c1b1b726-e693-435c-9820-f5ce90b853c8",
   "metadata": {
    "tags": []
   },
   "outputs": [],
   "source": [
    "%%time\n",
    "def half_of_day(x):\n",
    "    return 2 if x > 12 else 1\n",
    "\n",
    "half_of_day_udf = udf(half_of_day)\n",
    "\n",
    "df_smartphone = df_smartphone.withColumn(\"half_of_day\", half_of_day_udf(\"hour\"))\n",
    "\n",
    "def event_retype(x):\n",
    "    return 2 if x in ['cart', 'purchase'] else 1\n",
    "\n",
    "event_retype_udf = udf(event_retype)\n",
    "\n",
    "df_smartphone = df_smartphone.withColumn(\"event_retype\", event_retype_udf(\"event_type\"))"
   ]
  },
  {
   "cell_type": "code",
   "execution_count": null,
   "id": "e1622951-d7aa-4351-a18b-fd3c04984b1b",
   "metadata": {
    "tags": []
   },
   "outputs": [],
   "source": [
    "%%time\n",
    "data_test_psdf = df_smartphone[[\"half_of_day\", \"event_retype\"]]\n",
    "data_test_pd = data_test_psdf.toPandas()"
   ]
  },
  {
   "cell_type": "code",
   "execution_count": null,
   "id": "d2a24c13-9d73-47c3-96cb-20ca084a56eb",
   "metadata": {
    "tags": []
   },
   "outputs": [],
   "source": [
    "%%time\n",
    "chi_crosstab = pd.crosstab(data_test_pd.half_of_day, data_test_pd.event_retype, margins=True)\n",
    "chi_crosstab"
   ]
  },
  {
   "cell_type": "code",
   "execution_count": null,
   "id": "e7439f68-e9d6-4de6-8cd8-0393856f1b9b",
   "metadata": {
    "tags": []
   },
   "outputs": [],
   "source": [
    "%%time\n",
    "obs = chi_crosstab.iloc[0, :]\n",
    "exp = chi_crosstab.iloc[1, :]\n",
    "\n",
    "obs = obs*exp.sum()/obs.sum() # for matching counts\n",
    "\n",
    "pval, chi = chi2_test(obs, exp)"
   ]
  },
  {
   "cell_type": "code",
   "execution_count": null,
   "id": "23180db7-f942-442e-96ec-0e55e9e56a44",
   "metadata": {
    "tags": []
   },
   "outputs": [],
   "source": [
    "%%time\n",
    "data_test_psdf = df_smartphone[[\"weekday\", \"event_retype\"]]\n",
    "data_test_pd = data_test_psdf.toPandas()"
   ]
  },
  {
   "cell_type": "code",
   "execution_count": null,
   "id": "df4d7098-54b8-4113-81fc-68092ea14707",
   "metadata": {
    "tags": []
   },
   "outputs": [],
   "source": [
    "%%time\n",
    "chi_ctab_wk = pd.crosstab(data_test_pd.weekday, data_test_pd.event_retype, margins=True)\n",
    "chi_ctab_wk"
   ]
  },
  {
   "cell_type": "code",
   "execution_count": null,
   "id": "78791fab-dd66-4f55-868f-4c96c9ab04c0",
   "metadata": {
    "tags": []
   },
   "outputs": [],
   "source": [
    "%%time\n",
    "pval, chi = chi2_test(chi_ctab_wk.iloc[:-1, 0] * (chi_ctab_wk.iloc[:-1, 1].sum()/chi_ctab_wk.iloc[:-1, 0].sum()), chi_ctab_wk.iloc[:-1, 1])"
   ]
  },
  {
   "cell_type": "markdown",
   "id": "0577dbca-e49a-493b-93ce-9bee3a66342c",
   "metadata": {},
   "source": [
    "Conclusion: shoppers have different time preference for viewing vs. ATC & check-outs when shopping on e-comm platform."
   ]
  },
  {
   "cell_type": "markdown",
   "id": "cbe5cc5b-d0b3-457c-8fe2-2101b7a86923",
   "metadata": {},
   "source": [
    "## Funnel Analysis"
   ]
  },
  {
   "cell_type": "markdown",
   "id": "3d32e31b-f3e3-4947-9770-8e56514b6d41",
   "metadata": {},
   "source": [
    "Add-to-cart rate (ATCR) and cart abandonment rate\n",
    "\n",
    "now we're utilizing PySpark Pandas API"
   ]
  },
  {
   "cell_type": "code",
   "execution_count": null,
   "id": "932e5b58-5d4b-4894-9aea-c5ad60a05312",
   "metadata": {
    "tags": []
   },
   "outputs": [],
   "source": [
    "%%time\n",
    "import pyspark.pandas as ps\n",
    "\n",
    "data_test = df_smartphone.to_pandas_on_spark()\n",
    "\n",
    "user_session_by_time_session = data_test.drop_duplicates(subset=['user_session']).groupby(\"time_session\")['user_session'].count()\\\n",
    "    .to_frame().rename(columns={\"user_session\": \"num_user_session\"})\n",
    "user_session_by_time_session.head()"
   ]
  },
  {
   "cell_type": "code",
   "execution_count": null,
   "id": "97e638cf-638e-491a-9ecf-713b4d720d36",
   "metadata": {
    "tags": []
   },
   "outputs": [],
   "source": [
    "%%time\n",
    "cart_sessions = data_test[data_test.event_type == 'cart']\n",
    "user_session_cart_by_time_session = cart_sessions.groupby(\"time_session\")['user_session'].count()\\\n",
    "    .to_frame().rename(columns={\"user_session\": \"num_user_session_cart\"})\n",
    "user_session_cart_by_time_session.head()"
   ]
  },
  {
   "cell_type": "code",
   "execution_count": null,
   "id": "2c3b24a2-9aa0-4cc2-a37c-e834b4c3f5e9",
   "metadata": {
    "tags": []
   },
   "outputs": [],
   "source": [
    "%%time\n",
    "ps.set_option('compute.ops_on_diff_frames', True) # only needed for pyspark pandas\n",
    "\n",
    "atcr_by_time_session = ps.concat([user_session_by_time_session, user_session_cart_by_time_session], axis=1)\n",
    "atcr_by_time_session['atcr'] = atcr_by_time_session.num_user_session_cart / atcr_by_time_session.num_user_session * 100\n",
    "atcr_by_time_session.head()"
   ]
  },
  {
   "cell_type": "code",
   "execution_count": null,
   "id": "96928026-eaf3-49c8-ac3e-2dce405cad4d",
   "metadata": {
    "tags": []
   },
   "outputs": [],
   "source": [
    "%%time\n",
    "purchase_sessions = data_test[data_test.event_type == 'purchase']\n",
    "user_session_purchase_by_time_session = purchase_sessions.groupby(\"time_session\")['user_session'].count()\\\n",
    "    .to_frame().rename(columns={\"user_session\": \"num_user_session_purchase\"})\n",
    "user_session_purchase_by_time_session.head()"
   ]
  },
  {
   "cell_type": "code",
   "execution_count": null,
   "id": "f478f2eb-edc0-49fb-9e3f-3343e613576a",
   "metadata": {
    "tags": []
   },
   "outputs": [],
   "source": [
    "%%time\n",
    "ctcr_by_time_session = ps.concat([user_session_cart_by_time_session, user_session_purchase_by_time_session], axis=1)\n",
    "ctcr_by_time_session['ctcr'] = ctcr_by_time_session.num_user_session_purchase / ctcr_by_time_session.num_user_session_cart * 100\n",
    "ctcr_by_time_session.head()"
   ]
  },
  {
   "cell_type": "code",
   "execution_count": null,
   "id": "dfde9756-7754-4064-adbb-55fae0b5bc6f",
   "metadata": {
    "tags": []
   },
   "outputs": [],
   "source": [
    "%%time\n",
    "ctcr_by_time_session['car'] = 100 - ctcr_by_time_session.ctcr\n",
    "ctcr_by_time_session"
   ]
  },
  {
   "cell_type": "code",
   "execution_count": null,
   "id": "51c39f23-3fdf-43c0-a45e-7a12bc30aa63",
   "metadata": {
    "tags": []
   },
   "outputs": [],
   "source": [
    "%%time\n",
    "# visualization\n",
    "fig, ax1 = plt.subplots()\n",
    "\n",
    "avg_atcr = 4.5\n",
    "ax1.plot(atcr_by_time_session.index, atcr_by_time_session.atcr, marker='.', color='#A0E4F1', label='Add-to-cart rate (LHS)')\n",
    "ax1.axhline(y=avg_atcr, linestyle='--', color='#A0E4F1', linewidth=1.5, label=f'Baseline: {avg_atcr}%')\n",
    "ax1.set_ylim([0, 8])\n",
    "ax1.set_xlabel(\"Time session in a day\")\n",
    "ax1.set_ylabel(\"ATCR\")\n",
    "ax1.legend(loc=\"upper right\")\n",
    "\n",
    "ax2 = ax1.twinx()\n",
    "ax2.plot(ctcr_by_time_session.index, ctcr_by_time_session.car, marker='.', color='#7EA6F4', label='Cart abandonment rate (RHS)')\n",
    "ax2.axhline(y=70, linestyle='--', color='#7EA6F4', linewidth=1.5, label='Baseline: 70%')\n",
    "ax2.set_ylim([0, 90])\n",
    "ax2.set_ylabel(\"CAR\")\n",
    "ax2.legend(loc=\"lower right\")\n",
    "\n",
    "plt.title(\"ATCR and Cart Abandonment Rate\")\n",
    "plt.xticks(time_sessions, session_labels)"
   ]
  },
  {
   "cell_type": "markdown",
   "id": "04c63441-3553-48d0-9173-edfd4c48f6da",
   "metadata": {},
   "source": [
    "Time interval between each decision to act"
   ]
  },
  {
   "cell_type": "code",
   "execution_count": null,
   "id": "8f0fd9ed-96dc-447e-8360-8afa3e59c6f4",
   "metadata": {
    "tags": []
   },
   "outputs": [],
   "source": [
    "%%time\n",
    "from pyspark.sql.functions import concat\n",
    "\n",
    "df_test = df_smartphone.limit(10000).cache()\n",
    "\n",
    "df_test = df_test.withColumn(\"product_id\", df_test.product_id.cast('string'))\n",
    "df_test = df_test.withColumn(\"category_id\", df_test.category_id.cast('string'))\n",
    "df_test = df_test.withColumn(\"user_id\", df_test.user_id.cast('string'))\n",
    "\n",
    "max_id_len = df_test.withColumn(\"product_id_len\", length(col(\"product_id\")))\\\n",
    "                    .withColumn(\"category_id_len\", length(col(\"category_id\")))\\\n",
    "                    .withColumn(\"user_id_len\", length(col(\"user_id\")))\\\n",
    "                    .groupBy().agg(max(\"product_id_len\"), max(\"category_id_len\"), max(\"user_id_len\")).collect()\n",
    "\n",
    "len_pid, len_cid, len_uid = max_id_len[0]\n",
    "\n",
    "df_test = df_test.withColumn(\"product_id\", lpad(df_test.product_id, len_pid, '0'))\\\n",
    "                 .withColumn(\"category_id\", lpad(df_test.category_id, len_cid, '0'))\\\n",
    "                 .withColumn(\"user_id\", lpad(df_test.user_id, len_uid, '0'))\n",
    "\n",
    "df_test = df_test.withColumn(\"uid\", concat(col(\"user_id\"), col(\"brand\"), col(\"product_id\")))\n",
    "uid_view = df_test.filter(df_test.event_type == 'view').select(\"uid\").distinct()\n",
    "uid_cart = df_test.filter(df_test.event_type == 'cart').select(\"uid\").distinct()\n",
    "uid_purchase = df_test.filter(df_test.event_type == 'purchase').select(\"uid\").distinct()\n",
    "\n",
    "uid_common = uid_view.intersect(uid_cart).intersect(uid_purchase).collect()\n",
    "uid_common = [ u.uid for u in uid_common ]\n",
    "len(uid_common)"
   ]
  },
  {
   "cell_type": "markdown",
   "id": "7f380b7c-5bb1-4263-9eb9-2c684d2a4c3c",
   "metadata": {},
   "source": [
    "Filter userid+productid+brand with all three events (view-cart-purchase, with purchase being the end)\n",
    "\n",
    "Calculate number of sessions between first view to end purchase. What’s the average user session numbers before a customer place an order?\n",
    "\n",
    "Calculate the time gap between decisions: a) First view – ATC b) ATC – purchase What’s the average time interval between each decision? May use box plot\n",
    "\n",
    "Calculate the price change from first view, ATC and final payment. Is there any price changes that possibly affect consumer’s decision to buy?\n",
    "\n",
    "Brand analysis (simply)"
   ]
  },
  {
   "cell_type": "code",
   "execution_count": null,
   "id": "6db88e19-6f39-439d-961d-8974a0517b07",
   "metadata": {
    "tags": []
   },
   "outputs": [],
   "source": [
    "%%time\n",
    "data_filtered = df_test.filter(df_test.uid.isin(uid_common))\n",
    "print((data_filtered.count(), len(data_filtered.columns)))"
   ]
  },
  {
   "cell_type": "code",
   "execution_count": null,
   "id": "419e2246-9dab-4719-a63e-725c48bf15c4",
   "metadata": {
    "tags": []
   },
   "outputs": [],
   "source": [
    "%%time\n",
    "from datetime import datetime\n",
    "import timedelta\n",
    "\n",
    "def dt64_to_dt(datetime64):\n",
    "    return datetime.utcfromtimestamp(datetime64.tolist()/1e9)\n",
    "\n",
    "header = [\n",
    "            'uid',\n",
    "            'time_view_to_cart',\n",
    "            'cart_duration',\n",
    "            'time_cart_to_purchase',\n",
    "            'time_view_to_purchase',\n",
    "            'num_user_sessions',\n",
    "            'price_change_view_to_cart',\n",
    "            'price_change_cart_to_purchase'\n",
    "            ]\n",
    "\n",
    "interval_df = pd.DataFrame(columns=header)\n",
    "\n",
    "for i in uid_common:\n",
    "    data_selected = data_filtered.filter(data_filtered.uid == i).sort(\"event_time\").toPandas()\n",
    "    purchase_index = data_selected[data_selected.event_type == 'purchase'].index[-1]\n",
    "    data_selected = data_selected.loc[:purchase_index, :]\n",
    "\n",
    "    # time gap\n",
    "    try:\n",
    "        time_view = dt64_to_dt(data_selected[data_selected.event_type == 'view'].drop_duplicates(subset=['event_type'], keep='first')\\\n",
    "            .event_time.astype(np.datetime64).values[0])\n",
    "    except IndexError:\n",
    "        time_view = np.nan\n",
    "\n",
    "    try:\n",
    "        time_cart_first = dt64_to_dt(data_selected[data_selected.event_type == 'cart'].drop_duplicates(subset=['event_type'], keep='first')\\\n",
    "            .event_time.astype(np.datetime64).values[0])\n",
    "    except IndexError:\n",
    "        time_cart_first = np.nan\n",
    "\n",
    "    try:\n",
    "        time_cart_final = dt64_to_dt(data_selected[data_selected.event_type == 'cart'].drop_duplicates(subset=['event_type'], keep='last')\\\n",
    "            .event_time.astype(np.datetime64).values[0])\n",
    "    except IndexError:\n",
    "        time_cart_final = np.nan\n",
    "\n",
    "    try:\n",
    "        time_purchase = dt64_to_dt(data_selected[data_selected.event_type == 'purchase'].drop_duplicates(subset=['event_type'], keep='first')\\\n",
    "            .event_time.astype(np.datetime64).values[0])\n",
    "    except IndexError:\n",
    "        time_purchase = np.nan\n",
    "\n",
    "    try:\n",
    "        cart_duration = timedelta.Timedelta(time_cart_final - time_cart_first).total.seconds\n",
    "    except (AttributeError, TypeError):\n",
    "        cart_duration = np.nan\n",
    "\n",
    "    try:\n",
    "        view_to_cart = timedelta.Timedelta(time_cart_first - time_view).total.seconds\n",
    "    except (AttributeError, TypeError):\n",
    "        view_to_cart = np.nan\n",
    "\n",
    "    try:\n",
    "        cart_to_purchase = timedelta.Timedelta(time_purchase - time_cart_final).total.seconds\n",
    "    except (AttributeError, TypeError):\n",
    "        cart_to_purchase = np.nan\n",
    "\n",
    "    try:\n",
    "        view_to_purchase = timedelta.Timedelta(time_purchase - time_view).total.seconds\n",
    "    except (AttributeError, TypeError):\n",
    "        view_to_purchase = np.nan\n",
    "\n",
    "    # user session gap\n",
    "    user_session_gap = data_selected.user_session.nunique()\n",
    "\n",
    "    # price change\n",
    "    try:\n",
    "        price_view = data_selected[data_selected.event_type == 'view'].drop_duplicates(subset=['event_type'], keep='first').price.values[0]\n",
    "    except IndexError:\n",
    "        price_view = np.nan\n",
    "\n",
    "    try:\n",
    "        price_cart = data_selected[data_selected.event_type == 'cart'].drop_duplicates(subset=['event_type'], keep='first').price.values[0]\n",
    "    except IndexError:\n",
    "        price_cart = np.nan\n",
    "\n",
    "    try:\n",
    "        price_purchase = data_selected[data_selected.event_type == 'purchase'].drop_duplicates(subset=['event_type'], keep='first').price.values[0]\n",
    "    except IndexError:\n",
    "        price_purchase = np.nan\n",
    "\n",
    "    price_change_view_to_cart = price_cart / price_view - 1\n",
    "    price_change_cart_to_purchase = price_purchase / price_cart - 1\n",
    "\n",
    "    # combine and append\n",
    "    record = [\n",
    "                i,\n",
    "                view_to_cart,\n",
    "                cart_duration,\n",
    "                cart_to_purchase,\n",
    "                view_to_purchase,\n",
    "                user_session_gap,\n",
    "                price_change_view_to_cart,\n",
    "                price_change_cart_to_purchase\n",
    "                ]\n",
    "\n",
    "    interval_df.loc[interval_df.shape[0]] = record\n",
    "\n",
    "interval_df.head(10)"
   ]
  },
  {
   "cell_type": "code",
   "execution_count": null,
   "id": "883b1988-489a-4993-9cc2-e0ddf221a990",
   "metadata": {
    "tags": []
   },
   "outputs": [],
   "source": [
    "%%time\n",
    "interval_df = interval_df.reset_index()\n",
    "interval_df.set_index('uid', inplace=True)\n",
    "interval_df = interval_df.astype(float).dropna(how='any')\n",
    "interval_df.describe()"
   ]
  },
  {
   "cell_type": "code",
   "execution_count": null,
   "id": "0a363bb4-0aa9-47b5-9d9a-cd8a14970301",
   "metadata": {
    "tags": []
   },
   "outputs": [],
   "source": [
    "%%time\n",
    "interval_df_new = interval_df.copy()\n",
    "\n",
    "cols_to_winsor = ['time_view_to_cart', 'cart_duration', 'time_cart_to_purchase', 'time_view_to_purchase']\n",
    "time_bound = [300, 120, 300, 900]\n",
    "for i in range(len(cols_to_winsor)):\n",
    "    # interval_df_new[col] = mstats.winsorize(interval_df_new[col], limits=[0, 0.15])\n",
    "    col = cols_to_winsor[i]\n",
    "    timelim = time_bound[i]\n",
    "    interval_df_new.loc[interval_df_new[col] > timelim, col] = timelim\n",
    "    interval_df_new.loc[interval_df_new[col] < 0, col] = 0\n",
    "interval_df_new.describe()"
   ]
  },
  {
   "cell_type": "code",
   "execution_count": null,
   "id": "9d6c4540-5380-4a55-a68c-4e103d2151a7",
   "metadata": {
    "tags": []
   },
   "outputs": [],
   "source": [
    "%%time\n",
    "flierprops = dict(marker='+', markerfacecolor='g', markersize=15, linestyle='none', markeredgecolor='r')\n",
    "fig = plt.figure(figsize=(8, 6))\n",
    "\n",
    "ax1 = fig.add_subplot(221)\n",
    "ax1.boxplot(interval_df_new.time_view_to_cart, flierprops=flierprops)\n",
    "ax1.set_title('Time from view to add-to-cart')\n",
    "\n",
    "ax2 = fig.add_subplot(222)\n",
    "ax2.boxplot(interval_df_new.cart_duration, flierprops=flierprops)\n",
    "ax2.set_title('Time between first to last add-to-cart')\n",
    "\n",
    "ax3 = fig.add_subplot(223)\n",
    "ax3.boxplot(interval_df_new.time_cart_to_purchase, flierprops=flierprops)\n",
    "ax3.set_title('Time from add-to-cart to purchase')\n",
    "\n",
    "ax4 = fig.add_subplot(224)\n",
    "ax4.boxplot(interval_df_new.time_view_to_purchase, flierprops=flierprops)\n",
    "ax4.set_title('Time from view to purchase')\n",
    "\n",
    "fig.tight_layout()"
   ]
  },
  {
   "cell_type": "markdown",
   "id": "baaf70c7-3349-4706-aed4-b5676f23a946",
   "metadata": {},
   "source": [
    "Done!"
   ]
  },
  {
   "cell_type": "code",
   "execution_count": null,
   "id": "965ef5d6-fa60-498e-be54-d5e26a5b9670",
   "metadata": {},
   "outputs": [],
   "source": []
  }
 ],
 "metadata": {
  "kernelspec": {
   "display_name": "Python 3 (ipykernel)",
   "language": "python",
   "name": "python3"
  },
  "language_info": {
   "codemirror_mode": {
    "name": "ipython",
    "version": 3
   },
   "file_extension": ".py",
   "mimetype": "text/x-python",
   "name": "python",
   "nbconvert_exporter": "python",
   "pygments_lexer": "ipython3",
   "version": "3.7.16"
  }
 },
 "nbformat": 4,
 "nbformat_minor": 5
}
